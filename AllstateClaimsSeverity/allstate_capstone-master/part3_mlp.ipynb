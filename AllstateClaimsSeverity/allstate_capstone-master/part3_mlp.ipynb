{
 "cells": [
  {
   "cell_type": "markdown",
   "metadata": {},
   "source": [
    "# Part 3, Multilayer Perceptron Neural Network"
   ]
  },
  {
   "cell_type": "code",
<<<<<<< HEAD
   "execution_count": 1,
   "metadata": {},
=======
   "execution_count": 2,
   "metadata": {
    "scrolled": true
   },
>>>>>>> 8d3ec4ec5d4cd91c6b92aade672cc06441348277
   "outputs": [
    {
     "name": "stderr",
     "output_type": "stream",
     "text": [
<<<<<<< HEAD
      "/home/csc/anaconda3/lib/python3.6/site-packages/sklearn/cross_validation.py:41: DeprecationWarning: This module was deprecated in version 0.18 in favor of the model_selection module into which all the refactored classes and functions are moved. Also note that the interface of the new CV iterators are different from that of this module. This module will be removed in 0.20.\n",
      "  \"This module will be removed in 0.20.\", DeprecationWarning)\n",
      "/home/csc/anaconda3/lib/python3.6/site-packages/sklearn/grid_search.py:42: DeprecationWarning: This module was deprecated in version 0.18 in favor of the model_selection module into which all the refactored classes and functions are moved. This module will be removed in 0.20.\n",
      "  DeprecationWarning)\n",
=======
>>>>>>> 8d3ec4ec5d4cd91c6b92aade672cc06441348277
      "Using TensorFlow backend.\n"
     ]
    }
   ],
   "source": [
    "import tensorflow as tf\n",
    "import pandas as pd\n",
    "import numpy as np\n",
    "import sys\n",
    "import h5py\n",
    "import pickle\n",
    "import matplotlib.pyplot as plt\n",
    "from sklearn.linear_model import LinearRegression\n",
    "from sklearn.metrics import mean_absolute_error\n",
    "from sklearn.preprocessing import StandardScaler\n",
    "from sklearn.grid_search import GridSearchCV\n",
    "from hyperopt import fmin, tpe, hp, STATUS_OK, Trials\n",
    "from scipy.sparse import csr_matrix, hstack\n",
    "from sklearn.cross_validation import KFold, train_test_split\n",
    "from keras.models import Sequential\n",
    "from keras.models import save_model, load_model\n",
    "from keras.layers.advanced_activations import PReLU\n",
    "from keras.layers import Dense, Dropout, Activation, BatchNormalization\n",
    "from keras.callbacks import EarlyStopping\n",
    "import matplotlib.patches as mpatches\n",
    "\n",
    "\n",
    "%matplotlib inline"
   ]
  },
  {
   "cell_type": "code",
   "execution_count": 3,
   "metadata": {
    "collapsed": true
   },
   "outputs": [],
   "source": [
    "import time"
   ]
  },
  {
   "cell_type": "code",
   "execution_count": 4,
   "metadata": {
    "collapsed": true
   },
   "outputs": [],
   "source": [
    "import os\n",
    "os.environ[\"CUDA_VISIBLE_DEVICES\"]=\"0\"\n",
    "from keras import backend as K\n",
    "config = tf.ConfigProto()\n",
    "config.gpu_options.allow_growth=True\n",
    "sess = tf.Session(config=config)\n",
    "'''gpu_options = tf.GPUOptions(per_process_gpu_memory_fraction=0.5)\n",
    "sess = tf.Session(config=tf.ConfigProto(gpu_options=gpu_options))'''\n",
    "K.set_session(sess)"
   ]
  },
  {
   "cell_type": "code",
   "execution_count": 8,
   "metadata": {
    "collapsed": true
   },
   "outputs": [],
   "source": [
    "sess = tf.Session(config=tf.ConfigProto(log_device_placement=True))"
   ]
  },
  {
   "cell_type": "code",
   "execution_count": 3,
   "metadata": {},
   "outputs": [
    {
     "name": "stdout",
     "output_type": "stream",
     "text": [
      "[[5, 1], [16, 28], [41, 31], [18, 28], [5], [13], [47, 31], [21, 16], [47, 28], [22, 36, 1, 4]]\n",
      "[[ 5  1  0  0]\n",
      " [16 28  0  0]\n",
      " [41 31  0  0]\n",
      " [18 28  0  0]\n",
      " [ 5  0  0  0]\n",
      " [13  0  0  0]\n",
      " [47 31  0  0]\n",
      " [21 16  0  0]\n",
      " [47 28  0  0]\n",
      " [22 36  1  4]]\n",
      "____________________________________________________________________________________________________\n",
      "Layer (type)                     Output Shape          Param #     Connected to                     \n",
      "====================================================================================================\n",
      "embedding_1 (Embedding)          (None, 4, 8)          400         embedding_input_1[0][0]          \n",
      "____________________________________________________________________________________________________\n",
      "flatten_1 (Flatten)              (None, 32)            0           embedding_1[0][0]                \n",
      "____________________________________________________________________________________________________\n",
      "dense_1 (Dense)                  (None, 1)             33          flatten_1[0][0]                  \n",
      "====================================================================================================\n",
      "Total params: 433\n",
      "Trainable params: 433\n",
      "Non-trainable params: 0\n",
      "____________________________________________________________________________________________________\n",
      "None\n",
      "Accuracy: 89.999998\n"
     ]
    }
   ],
   "source": [
    "from keras.preprocessing.text import one_hot\n",
    "from keras.preprocessing.sequence import pad_sequences\n",
    "from keras.models import Sequential\n",
    "from keras.layers import Dense\n",
    "from keras.layers import Flatten\n",
    "from keras.layers.embeddings import Embedding\n",
    "# define documents\n",
    "docs = ['Well done!',\n",
    "\t\t'Good work',\n",
    "\t\t'Great effort',\n",
    "\t\t'nice work',\n",
    "\t\t'Excellent!',\n",
    "\t\t'Weak',\n",
    "\t\t'Poor effort!',\n",
    "\t\t'not good',\n",
    "\t\t'poor work',\n",
    "\t\t'Could have done better.']\n",
    "# define class labels\n",
    "labels = [1,1,1,1,1,0,0,0,0,0]\n",
    "# integer encode the documents\n",
    "vocab_size = 50\n",
    "encoded_docs = [one_hot(d, vocab_size) for d in docs]\n",
    "print(encoded_docs)\n",
    "# pad documents to a max length of 4 words\n",
    "max_length = 4\n",
    "padded_docs = pad_sequences(encoded_docs, maxlen=max_length, padding='post')\n",
    "print(padded_docs)\n",
    "# define the model\n",
    "model = Sequential()\n",
    "model.add(Embedding(vocab_size, 8, input_length=max_length))\n",
    "model.add(Flatten())\n",
    "model.add(Dense(1, activation='sigmoid'))\n",
    "# compile the model\n",
    "model.compile(optimizer='adam', loss='binary_crossentropy', metrics=['acc'])\n",
    "# summarize the model\n",
    "print(model.summary())\n",
    "# fit the model\n",
    "model.fit(padded_docs, labels,nb_epoch=50, verbose=0)\n",
    "# evaluate the model\n",
    "loss, accuracy = model.evaluate(padded_docs, labels, verbose=0)\n",
    "print('Accuracy: %f' % (accuracy*100))"
   ]
  },
  {
   "cell_type": "markdown",
   "metadata": {},
   "source": [
    "We'll build a conceptually simple [feedforward neuron network](https://en.wikipedia.org/wiki/Feedforward_neural_network), or a multilayer perceptron (MLP), a network wherein connections between the units do not form a cycle. In feedforward networks, information flows from the input function `x` through intermediate (hidden) layers of fully-connected units to the output `y`.\n",
    "\n",
    "**Terminology**. We use the terminology from Karpathy's [CS231n course](http://cs231n.github.io/neural-networks-1/). If a network consists of an input layer, a single hidden layer and an output layer, this is a **2-layer network** (we omit an input layer). If we add another hidden layer, we get a **3-layer network**, etc.\n",
    "\n",
    "To compute the hidden layer values and to yield nonlinear transformations, we need to choose activation functions for our network. We also need to design the overall architecture of the network which includes the following assumptions: how many hidden layers our MLP should contain, how many units there should be in each layer, whether we use regularization techniques (e.g. dropout), which gradient descent optimizer to choose and how to initialize weights for units."
   ]
  },
  {
   "cell_type": "markdown",
   "metadata": {},
   "source": [
    "## A note on computational complexity\n",
    "I had a hard time reducing the computational complexity of my MLPs. Finally, I decided to provide one of my production models (and methodology) I used at Kaggle, because it's somewhat unfair to compare the scores of different handicapped MLPs. Starting from Step 5, a special hardware (a modern GPU with enough memory) will be required to follow my computations. There are several ways to approach this issue:\n",
    "\n",
    "* (obvious) Use a good machine and follow through all the steps. An alternative would be to start up a EC2 AWS instance, specifically, p2.xlarge, a GPU-compute optimized instance. I wrote down a short guideline for AWS as well as the bash script which sets the system up. An Ireland-based spot instance will cost about \\$0.15-0.20 per compute-hour.\n",
    "\n",
    "* Run pretrained models (just like in the XGBoost part). There is a number of benefits for doing this. First, Hyperopt is not deterministic, thus, it won't provide the same results that I got. Second, it took me dozens of hours to test various combinations with Hyperopt (and the search is not over yet). Third, I'll provide a handicapped version of my final model which will be used in the ensemble. It won't be bagged (less stable), it will be trained on a small amount of epochs, but it should demonstrate some decent score.\n",
    "\n",
    "If you are not going to use pretrained models, change the following flag to `False`:"
   ]
  },
  {
   "cell_type": "code",
<<<<<<< HEAD
   "execution_count": 2,
=======
   "execution_count": 5,
>>>>>>> 8d3ec4ec5d4cd91c6b92aade672cc06441348277
   "metadata": {
    "collapsed": true
   },
   "outputs": [],
   "source": [
    "USE_PRETRAINED = False"
   ]
  },
  {
   "cell_type": "markdown",
   "metadata": {},
   "source": [
    "## Framework"
   ]
  },
  {
   "cell_type": "markdown",
   "metadata": {},
   "source": [
    "As with XGBoost, we start simple and train a basic MLP to set a baseline score for the next models. Then we determine which potential configurations may work better for us and run optimizations. Neural networks are known for having a large number of possible hyperparameters to tune. Having said that, we need to reduce the search space analytically and then start testing more prominent configurations.\n",
    "\n",
    "Even more, neural networks can be easily overfitted, thus, a bias-variance tradeoff should be revisited. We'll pay a special attention to the monitoring of MLP training. While searching for a better model, a k-fold cross-validation will be the required technique to obtain a reasonable score estimate. \n",
    "\n",
    "The dataset will be split into the training and the validation subsets to introduce early stopping which terminates learning when the validation error starts to increase consistenly.\n",
    "\n",
    "### Methodology\n",
    "Methodologically, our process will be divided in the following steps:\n",
    "\n",
    "* **Step 1.** Define a basic neural network configuration, train it, get a score which will be used as the lower margin of MLP performance.\n",
    "\n",
    "\n",
    "* **Step 2.** Discuss the performance of a 2-layer model in context of bias-variance tradeoff and common issues: overfitting, instability due to high variance. \n",
    "\n",
    "\n",
    "* **Step 3.** Define a 3-layer model. Show the potential overfitting issues. Introduce cross-validation to prevent overfitting.\n",
    "\n",
    "\n",
    "* **Step 4.** Experiment with hyperparameters manually, train several prominent configurations with decent scores, cross-validate models.\n",
    "\n",
    "\n",
    "* **Step 5.** Introduce Hyperopt to test hyperparameters space and find out which are more robust.\n",
    "\n",
    "\n",
    "* **Step 6.** After several rounds of Hyperopt, define and train the winning model, cross-validate the results.\n",
    "\n",
    "\n",
    "### The use of Keras (frontend) and TensorFlow (backend)\n",
    "To define and train neural networks, we'll use Keras, a _very_ straightforward and friendly library which works on top of TensorFlow (and Theano) with a minimum overhead. It's a great choice for experimentation and fast prototyping as it enables us to focus on the network configuration inself and not on the implementation of gradient descent, optimizers, backprop, details of weights initialization or activation functions. No doubt, we should have a solid understanding of how things work, but Keras is fine for our current purposes. \n",
    "\n",
    "Actually, Keras is so simple that it feels like cheating :)"
   ]
  },
  {
   "cell_type": "markdown",
   "metadata": {
    "collapsed": true
   },
   "source": [
    "We are going to approximate gradient over the batches of data since this method is more cost efficient (due to vectorized computations) and provides a faster convergence than to use a single training example at a time. Also, this is the default way to fit the model in Keras. We'll primarily use Adam gradient descent optimizer, though, any optimizer will be sufficient for our purposes (which is **not** true for Kaggle).\n",
    "\n",
    "\n",
    "## Basic data preprocessing\n",
    "We start with some data preprocessing. We need to convert categorical features with one-hot encoding and see how many dimensions we'll have afterwards."
   ]
  },
  {
   "cell_type": "code",
   "execution_count": 4,
   "metadata": {},
   "outputs": [
    {
     "name": "stdout",
     "output_type": "stream",
     "text": [
      "(188318, 1153)\n",
      "(188318,)\n"
     ]
    },
    {
     "data": {
      "text/plain": [
       "((188318, 1153), (188318,))"
      ]
     },
     "execution_count": 6,
     "metadata": {},
     "output_type": "execute_result"
    }
   ],
   "source": [
    "train = pd.read_csv('train.csv')\n",
    "\n",
    "cat_names = [c for c in train.columns if 'cat' in c]\n",
    "\n",
    "train = pd.get_dummies(data=train, columns=cat_names)\n",
    "\n",
    "features = [x for x in train.columns if x not in ['id','loss']]\n",
    "\n",
    "train_x = np.array(train[features])\n",
    "\n",
    "ntrain = train_x.shape[0]\n",
    "\n",
    "# np.log(train['loss'] + 200) provides\n",
    "# a better score, but let's keep it simple now\n",
    "train_y = np.array(train['loss'])\n",
    "\n",
    "print (train_x.shape)\n",
<<<<<<< HEAD
    "print (train_y.shape)"
=======
    "print (train_y.shape)\n",
    "train_x.shape, train_y.shape"
>>>>>>> 8d3ec4ec5d4cd91c6b92aade672cc06441348277
   ]
  },
  {
   "cell_type": "markdown",
   "metadata": {
    "collapsed": true
   },
   "source": [
    "## Step 1: 2-layer model definition and training"
   ]
  },
  {
   "cell_type": "markdown",
   "metadata": {
    "collapsed": true
   },
   "source": [
    "Let's outline the architecture of our basic model. As we are training our first model, we start with just a single hidden layer architecture. Such an approach is recommended from [multiple](http://stackoverflow.com/questions/10565868/multi-layer-perceptron-mlp-architecture-criteria-for-choosing-number-of-hidde) [sources](http://www.deeplearningbook.org/contents/guidelines.html). The beauty of training a simple model is that it's harder to overfit, it trains faster and we get the results quicker.\n",
    "> After choosing performance metrics and goals, the next step in any practical application is to establish a reasonable end-to-end system as soon as possible.\n",
    "\n",
    "> *Ian Goodfellow and Yoshua Bengio and Aaron Courville, Deep Learning Book*\n",
    "\n",
    "Here's our first architecture:\n",
    "\n",
    "<table>\n",
    "<tr><td>\n",
    "<img src=\"http://cdn.rawgit.com/dnkirill/allstate_capstone/master/images/mlp1.svg\"></td>\n",
    "<td width=\"40%\">\n",
    "<p>This network contains just a single hidden layer with ReLU activation, which is connected with a single-unit output layer. All layers are dense, we don't implement dropout yet.</p>\n",
    "\n",
    "<p><b>Input layer</b> consists of `train_x.shape[1] + 1` nodes: all our features and the bias term. Keras adds it automatically if we don't specifically set `bias=False` while initializing [Dense](https://github.com/fchollet/keras/blob/master/keras/layers/core.py) layer.</p>\n",
    "\n",
    "<p>A single <b>hidden layer</b> consists of 128 nodes with ReLU activation function.</p>\n",
    "\n",
    "<p><b>Output layer</b> is just a single unit (this is a regression problem) with `mean_absolute_error` objective we are trying to optimize. After computing the loss, the model starts calculating gradients and backpropagating them to input layer through the hidden layer.</p>\n",
    "</td>\n",
    "</tr></table>"
   ]
  },
  {
   "cell_type": "markdown",
   "metadata": {},
   "source": [
    "Now it's time to define our model and start training. **The purpose of this section is to revisit the bias-variance tradeoff, but not to train the optimal model.**\n",
    "\n",
    "Right now, we *won't* use cross-validation and just plot the learining curve using the validation subset taken from the training set. We'll return to CV later in this section.\n",
    "\n",
    "My first assumption is that the nonlinear relationships in dataset will require several hidden layers and a single hidden layer model will struggle to fit this data. This will result in underfitting. In other words, our model is supposed to be biased. \n",
    "\n",
    "To test this out, we train a model with a single hidden layer, observe its performance and only then we go deeper."
   ]
  },
  {
   "cell_type": "code",
   "execution_count": 5,
   "metadata": {
    "collapsed": true
   },
   "outputs": [],
   "source": [
    "def mlp_model():\n",
    "    model = Sequential()\n",
    "    model.add(Dense(128, input_dim=train_x.shape[1]))\n",
    "    model.add(Activation('relu'))\n",
    "    model.add(Dense(1))\n",
    "    model.compile(loss='mae', optimizer='adam')\n",
    "    return model"
   ]
  },
  {
   "cell_type": "markdown",
   "metadata": {},
   "source": [
    "If we set verbose flag to 1, Jupyter may get stuck (text cell overflow). Let's pipeline stdout to a file. An easy way to monitor the training would be to `tail -f mlp_v1_out.txt` from command line."
   ]
  },
  {
   "cell_type": "code",
   "execution_count": 6,
   "metadata": {
    "collapsed": true
   },
   "outputs": [],
   "source": [
    "_stdout = sys.stdout"
   ]
  },
  {
   "cell_type": "code",
<<<<<<< HEAD
   "execution_count": 7,
=======
   "execution_count": 9,
>>>>>>> 8d3ec4ec5d4cd91c6b92aade672cc06441348277
   "metadata": {},
   "outputs": [
    {
     "name": "stderr",
     "output_type": "stream",
     "text": [
<<<<<<< HEAD
      "/home/csc/anaconda3/lib/python3.6/site-packages/keras/models.py:874: UserWarning: The `nb_epoch` argument in `fit` has been renamed `epochs`.\n",
=======
      "/home/coder.chenshicheng/anaconda3/envs/python2/lib/python2.7/site-packages/keras/models.py:874: UserWarning: The `nb_epoch` argument in `fit` has been renamed `epochs`.\n",
>>>>>>> 8d3ec4ec5d4cd91c6b92aade672cc06441348277
      "  warnings.warn('The `nb_epoch` argument in `fit` '\n"
     ]
    },
    {
     "data": {
      "text/plain": [
       "342.32678985595703"
      ]
     },
     "execution_count": 9,
     "metadata": {},
     "output_type": "execute_result"
    }
   ],
   "source": [
    "time1 = time.time()\n",
    "# Model: mlp_v1\n",
    "\n",
    "mlp = mlp_model()    \n",
    "\n",
    "if USE_PRETRAINED: \n",
    "    \n",
    "    # These .h5 models contain all the weights of a MLP\n",
    "    # They are not really required for the project, but may\n",
    "    # be useful to glance how trained models are saved\n",
    "    mlp = load_model('pretrained/mlp_v1.h5')\n",
    "    with open('pretrained/mlp_v1_hist.pkl', 'rb') as f:\n",
    "        hist = pickle.load(f)\n",
    "else:\n",
    "    sys.stdout = open('mlp_v1_out.txt', 'w')\n",
    "    fit = mlp.fit(train_x, train_y, validation_split=0.2, \n",
    "                  batch_size=128, nb_epoch=40, verbose=1)\n",
    "    hist = fit.history\n",
    "time.time()-time1"
   ]
  },
  {
   "cell_type": "code",
<<<<<<< HEAD
   "execution_count": 8,
=======
   "execution_count": 10,
>>>>>>> 8d3ec4ec5d4cd91c6b92aade672cc06441348277
   "metadata": {},
   "outputs": [
    {
     "data": {
      "text/plain": [
<<<<<<< HEAD
       "('Validation loss by epoch 40:', 1177.2302737693819)"
      ]
     },
     "execution_count": 8,
=======
       "('Validation loss by epoch 40:', 1178.2093145974936)"
      ]
     },
     "execution_count": 10,
>>>>>>> 8d3ec4ec5d4cd91c6b92aade672cc06441348277
     "metadata": {},
     "output_type": "execute_result"
    }
   ],
   "source": [
    "\"Validation loss by epoch 40:\", hist['val_loss'][-1]"
   ]
  },
  {
   "cell_type": "code",
   "execution_count": 11,
   "metadata": {
    "collapsed": true
   },
   "outputs": [],
   "source": [
    "models_history = {}\n",
    "models_history['mlp_v1'] = hist"
   ]
  },
  {
   "cell_type": "markdown",
   "metadata": {},
   "source": [
    "Now we plot 1) the loss on training set throughout learning, 2) zoom in the last 20 epochs:"
   ]
  },
  {
   "cell_type": "code",
   "execution_count": 12,
   "metadata": {},
   "outputs": [
    {
     "data": {
      "image/png": "iVBORw0KGgoAAAANSUhEUgAAA7wAAAFNCAYAAAAjEmOiAAAABHNCSVQICAgIfAhkiAAAAAlwSFlz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\nSaNkwStJkiRJGqX/B+6nt626lwIsAAAAAElFTkSuQmCC\n",
      "text/plain": [
       "<matplotlib.figure.Figure at 0x7f64398616d0>"
      ]
     },
     "metadata": {},
     "output_type": "display_data"
    }
   ],
   "source": [
    "def plot_mlp_loss(history, title):\n",
    "    fig, (ax1, ax2) = plt.subplots(1,2)\n",
    "    fig.set_size_inches(16,5)\n",
    "\n",
    "    ax1.set_title('{} 40 epochs'.format(title))\n",
    "    ax1.set_xlabel('Epochs')\n",
    "    ax1.set_ylabel('Loss')\n",
    "    ax1.grid(True)\n",
    "    ax1.plot(history['loss'], label='Training Loss')\n",
    "    ax1.plot(history['val_loss'], label='Validation Loss')\n",
    "    ax1.legend()\n",
    "\n",
    "    ax2.set_title('{} last 20 epochs'.format(title))\n",
    "    ax2.set_xlabel('Epochs')\n",
    "    ax2.set_ylabel('Loss')\n",
    "    ax2.grid(True)\n",
    "    ax2.set_xticklabels(range(20,40,5))\n",
    "    ax2.plot(history['loss'][20:40], label='Training Loss')\n",
    "    ax2.plot(history['val_loss'][20:40], label='Validation Loss')\n",
    "    ax2.legend()\n",
    "    \n",
    "plot_mlp_loss(models_history['mlp_v1'], 'mlp_v1')"
   ]
  },
  {
   "cell_type": "markdown",
   "metadata": {},
   "source": [
    "## Step 2: Performance of a 2-layer MLP\n",
    "To my surprise, this model performed really well. From the plots we see that the validation error still decreases by the epoch 40. Such a model lacks extreme predictive power, but we still get many benefits:\n",
    "\n",
    "\n",
    "* There are no signs of overfitting. This model naturally avoids overfitting and the difference between training and validation errors is small, which is a good feature.\n",
    "\n",
    "\n",
    "* This model is quite stable (no excessive variance). I run it a number of times, and every time I got a predictable score.\n",
    "\n",
    "\n",
    "* It's been fit rapidly. In a prodution environment, this feature can be crucial, e.g., we may have to frequently retrain models or our hardware may be slow enough to force us exclude complex models.\n",
    "\n",
    "\n",
    "### Increasing the batch size\n",
    "To speed the training up, we can increase the `batch_size` which will effectively decrease the amount of iterations of loss calculations per epoch. There is a tradeoff: we win on training time, but (due to a rougher gradient approximation) we lose on model's predictive power. Also, the further we increase the batch size, the less we win on training time.\n",
    "\n",
    "Let's train the same model on `batch_size=256` and see the results."
   ]
  },
  {
   "cell_type": "code",
   "execution_count": 13,
   "metadata": {
    "collapsed": true
   },
   "outputs": [],
   "source": [
    "mlp = mlp_model()\n",
    "\n",
    "if USE_PRETRAINED:\n",
    "    mlp = load_model('pretrained/mlp_v2.h5')\n",
    "    with open('pretrained/mlp_v2_hist.pkl', 'rb') as f:\n",
    "        hist = pickle.load(f)\n",
    "else:\n",
    "    sys.stdout = open('mlp_v2_out.txt', 'w')\n",
    "    fit = mlp.fit(train_x, train_y, validation_split=0.2, \n",
    "                  batch_size=256, nb_epoch=40, verbose=1)\n",
    "    hist = fit.history"
   ]
  },
  {
   "cell_type": "code",
   "execution_count": 14,
   "metadata": {
    "collapsed": true
   },
   "outputs": [],
   "source": [
    "models_history['mlp_v2'] = hist"
   ]
  },
  {
   "cell_type": "code",
   "execution_count": 15,
   "metadata": {},
   "outputs": [
    {
     "data": {
      "text/plain": [
       "('Validation loss by epoch 40:', 1181.155456387399)"
      ]
     },
     "execution_count": 15,
     "metadata": {},
     "output_type": "execute_result"
    }
   ],
   "source": [
    "\"Validation loss by epoch 40:\", hist['val_loss'][-1]"
   ]
  },
  {
   "cell_type": "code",
   "execution_count": 16,
   "metadata": {
    "scrolled": true
   },
   "outputs": [
    {
     "data": {
      "image/png": "iVBORw0KGgoAAAANSUhEUgAAA7wAAAFNCAYAAAAjEmOiAAAABHNCSVQICAgIfAhkiAAAAAlwSFlz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\nRAAAAABJRU5ErkJggg==\n",
      "text/plain": [
       "<matplotlib.figure.Figure at 0x7f643e022f50>"
      ]
     },
     "metadata": {},
     "output_type": "display_data"
    }
   ],
   "source": [
    "plot_mlp_loss(models_history['mlp_v2'], 'mlp_v2')"
   ]
  },
  {
   "cell_type": "markdown",
   "metadata": {},
   "source": [
    "We see, we got a slight performance drop when we increased the batch size. Depending on your current machine, there may or may not be benefits in doing this (different machines showed different results). The final decision, of course, depends on the task we need to accomplish. In this capstone, I'll switch back to `batch_size=128`."
   ]
  },
  {
   "cell_type": "markdown",
   "metadata": {},
   "source": [
    "### Increasing the number of units in the hidden layer"
   ]
  },
  {
   "cell_type": "markdown",
   "metadata": {},
   "source": [
    "Next, we'll test a little stronger model by adding more units to the hidden layer (doubling the amount of units from 128 to 256). Do we get an improvement on the validation set?"
   ]
  },
  {
   "cell_type": "code",
   "execution_count": 17,
   "metadata": {
    "collapsed": true
   },
   "outputs": [],
   "source": [
    "def mlp_model():\n",
    "    model = Sequential()\n",
    "    model.add(Dense(256, input_dim=train_x.shape[1]))\n",
    "    model.add(Activation('relu'))\n",
    "    model.add(Dense(1))\n",
    "    model.compile(loss='mae', optimizer='adam')\n",
    "    return model"
   ]
  },
  {
   "cell_type": "code",
   "execution_count": 18,
   "metadata": {
    "collapsed": true
   },
   "outputs": [],
   "source": [
    "mlp = mlp_model()\n",
    "\n",
    "if USE_PRETRAINED:\n",
    "    mlp = load_model('pretrained/mlp_v3.h5')\n",
    "    with open('pretrained/mlp_v3_hist.pkl', 'rb') as f:\n",
    "        hist = pickle.load(f)\n",
    "else:\n",
    "    sys.stdout = open('mlp_v3_out.txt', 'w')\n",
    "    fit = mlp.fit(train_x, train_y, validation_split=0.2, \n",
    "                  batch_size=128, nb_epoch=40, verbose=1)\n",
    "    hist = fit.history"
   ]
  },
  {
   "cell_type": "code",
   "execution_count": 19,
   "metadata": {
    "collapsed": true
   },
   "outputs": [],
   "source": [
    "models_history['mlp_v3'] = hist"
   ]
  },
  {
   "cell_type": "code",
   "execution_count": 20,
   "metadata": {},
   "outputs": [
    {
     "data": {
      "text/plain": [
       "('Validation loss by epoch 40:', 1176.0608156993414)"
      ]
     },
     "execution_count": 20,
     "metadata": {},
     "output_type": "execute_result"
    }
   ],
   "source": [
    "\"Validation loss by epoch 40:\", hist['val_loss'][-1]"
   ]
  },
  {
   "cell_type": "code",
   "execution_count": 21,
   "metadata": {},
   "outputs": [
    {
     "data": {
      "image/png": "iVBORw0KGgoAAAANSUhEUgAAA7wAAAFNCAYAAAAjEmOiAAAABHNCSVQICAgIfAhkiAAAAAlwSFlz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\n",
      "text/plain": [
       "<matplotlib.figure.Figure at 0x7f6478579b90>"
      ]
     },
     "metadata": {},
     "output_type": "display_data"
    }
   ],
   "source": [
    "plot_mlp_loss(models_history['mlp_v3'], 'mlp_v3')"
   ]
  },
  {
   "cell_type": "markdown",
   "metadata": {},
   "source": [
    "We notice a small improvement both in training loss and in validation loss if we compare the plots of `mlp_v1` and `mlp_v3`. The improvement is not drastic, but it's visible.\n",
    "\n",
    "Moreover, I also trained the 1024-unit network and got peculiar results:\n",
    "\n",
    "* It can be overfitted, starting from epoch 115.\n",
    "\n",
    "\n",
    "* Validation loss reached 1145 at the lowest point.\n",
    "\n",
    "\n",
    "* 3-fold CV showed MAE = 1171 (by epoch 120). This is not the worst performance for a single unbagged model when we consider that this is a one-layer network with a limited nonlinearity.\n",
    "\n",
    "\n",
    "I haven't yet introduced CV, but I calculated a 3-fold CV (the function will be presented soon) for `mlp_v1` regardless this fact: MAE = 1190.73 (40 epochs), 1186.55 (120 epochs, no visible overfitting). As we expected, the predictive power of a 128-unit model is quite limited.\n",
    "\n",
    "We could increase the number of units even further, and, according to the [universal approximation theorem](https://en.wikipedia.org/wiki/Universal_approximation_theorem), we approximate any continuous function in Euclidean space. From the practical point of view, this is not the best option: the number of units should be exponentially larger."
   ]
  },
  {
   "cell_type": "markdown",
   "metadata": {},
   "source": [
    "To conclude this section and to move forward, I'd like to highlight the \"start with the simplest\" approach. As we've just seen, even a simple one hidden layer network shows a decent performance."
   ]
  },
  {
   "cell_type": "markdown",
   "metadata": {
    "collapsed": true
   },
   "source": [
    "## Step 3: 3-layer model: CV and overfitting demo"
   ]
  },
  {
   "cell_type": "markdown",
   "metadata": {},
   "source": [
    "<table>\n",
    "<tr><td>\n",
    "<img src=\"http://cdn.rawgit.com/dnkirill/allstate_capstone/master/images/mlp2.svg\"></td>\n",
    "<td width=\"35%\">\n",
    "<p>This network contains two hidden layers with ReLU activation. The second hidden layer is connected with a single-unit output layer. All layers are dense.</p>\n",
    "\n",
    "<p><b>Input layer</b> consists of `train_x.shape[1] + 1` nodes: all our features and the bias term.</p>\n",
    "\n",
    "<p><b>Both hidden layers</b> consist of units with ReLU activation function.</p>\n",
    "\n",
    "<p><b>Output layer</b> is just a single unit with `mean_absolute_error` objective we are trying to optimize.</p>\n",
    "\n",
    "<p><b>Cross-validation</b> becomes essential since we reach the point where the model becomes powerful enough to capture nonlinear relationships in training set and easily overfit. We should be able to detect it with CV.</p>\n",
    "\n",
    "<p>To prevent overfitting, we introduce <b>dropout</b> and randomly nullify activations of units in hidden layers.</p>\n",
    "</td>\n",
    "</tr></table>"
   ]
  },
  {
   "cell_type": "markdown",
   "metadata": {},
   "source": [
    "### Cross-validation\n",
    "First, we introduce cross-validation. We'll use a 3-fold CV which is just a rough estimate of a better 5-fold or 10-fold CV. On the other hand, we just need to capture trends and are not very interested in the maximum precision. On Kaggle, I use 5-fold CV.\n",
    "\n",
    "There are several points to be mentioned:\n",
    "\n",
    "* As usual, cross-validation is built on top of `cross_validation.KFold` class from `sklearn`.\n",
    "\n",
    "\n",
    "* To prevent errors, we require passing a _function_ of a model, not the object itself. Otherwise, we may find ourselves in an awkward position where we train the same model on different folds.\n",
    "\n",
    "\n",
    "* We add early stopping with a small value of patience. After a number of trials, `patience=5` was found quite a reasonable value (my production model uses `patience=8`, though)."
   ]
  },
  {
   "cell_type": "code",
   "execution_count": 22,
   "metadata": {
    "collapsed": true
   },
   "outputs": [],
   "source": [
    "def cross_validate_mlp(mlp_func, nfolds=3):\n",
    "    folds = KFold(len(train_y), n_folds=nfolds, shuffle=True, random_state = 31337)\n",
    "    val_scores = np.zeros((nfolds,))\n",
    "    for k,(train_index, test_index) in enumerate(folds):\n",
    "        xtr = train_x[train_index]\n",
    "        ytr = train_y[train_index]\n",
    "        xte = train_x[test_index]\n",
    "        yte = train_y[test_index]\n",
    "        mlp = mlp_func()\n",
    "        early_stopping = EarlyStopping(monitor='val_loss', patience=5)\n",
    "        fit = mlp.fit(xtr, ytr, validation_split=0.2, batch_size=128, \n",
    "                      nb_epoch=30, verbose=1, callbacks=[early_stopping])\n",
    "        pred = mlp.predict(xte, batch_size=256)\n",
    "        score = mean_absolute_error(yte, pred)\n",
    "        val_scores[k] += score\n",
    "        print ('Fold {}, MAE: {}'.format(k, score))\n",
    "    avg_score = np.sum(val_scores) / float(nfolds)\n",
    "    print ('{}-fold CV score: {}'.format(nfolds, avg_score))\n",
    "    return avg_score"
   ]
  },
  {
   "cell_type": "markdown",
   "metadata": {},
   "source": [
    "### Danger of overfitting\n",
    "Neural (especially deep) networks are known for their tendency to overfitting. The more nonlinear transformations we allow our network to make (by adding more hidden layers), the easier our model may get overfit.\n",
    "\n",
    "To show that overfitting is very real and easily achievable, we train a model without any regularization. Basically, we just add one more layer to our previous models. We increase the number of units to visualize overfitting better, but the same result can be obtained without such an increase.\n",
    "\n",
    "We split training set into training and validation. For now, I decided to use `train_test_split` from `sklearn`, though we could use `validation_split` parameter from `Sequential.fit` method again."
   ]
  },
  {
   "cell_type": "code",
   "execution_count": 23,
   "metadata": {
    "collapsed": true
   },
   "outputs": [],
   "source": [
    "xtr, xte, ytr, yte = train_test_split(train_x, train_y, test_size=0.25, random_state=31337)"
   ]
  },
  {
   "cell_type": "markdown",
   "metadata": {},
   "source": [
    "We initialize a wide3-layer model with 1024-512 units in hidden layers:"
   ]
  },
  {
   "cell_type": "code",
   "execution_count": 24,
   "metadata": {
    "collapsed": true
   },
   "outputs": [],
   "source": [
    "def mlp_model():\n",
    "    model = Sequential()\n",
    "    model.add(Dense(1024, input_dim=xtr.shape[1]))\n",
    "    model.add(Activation('relu'))\n",
    "    model.add(Dense(512))\n",
    "    model.add(Activation('relu'))\n",
    "    model.add(Dense(1))\n",
    "    model.compile(loss='mae', optimizer='adam')\n",
    "    return model"
   ]
  },
  {
   "cell_type": "markdown",
   "metadata": {},
   "source": [
    "We train the model and visualize the results:"
   ]
  },
  {
   "cell_type": "code",
   "execution_count": 25,
   "metadata": {
    "collapsed": true
   },
   "outputs": [],
   "source": [
    "mlp = mlp_model()\n",
    "\n",
    "if USE_PRETRAINED:\n",
    "    \n",
    "    # This model weights 20 MB and I decided to exclude it\n",
    "    # from the repository. If you still need it, you can download it from S3:\n",
    "    \n",
    "    # !wget https://s3-eu-west-1.amazonaws.com/kd-allstate/mlp_v4.h5 -d pretrained\n",
    "    # mlp = load_model('pretrained/mlp_v4.h5')\n",
    "    \n",
    "    with open('pretrained/mlp_v4_hist.pkl', 'rb') as f:\n",
    "        hist = pickle.load(f)\n",
    "else:\n",
    "    sys.stdout = open('mlp_v4_out.txt', 'w')\n",
    "    fit = mlp.fit(xtr, ytr, batch_size=128, validation_data=(xte,yte),\n",
    "                  nb_epoch=40, verbose=1)\n",
    "    hist = fit.history"
   ]
  },
  {
   "cell_type": "code",
   "execution_count": 26,
   "metadata": {
    "collapsed": true
   },
   "outputs": [],
   "source": [
    "models_history['mlp_v4'] = hist\n",
    "sys.stdout = _stdout"
   ]
  },
  {
   "cell_type": "markdown",
   "metadata": {},
   "source": [
    "If we print a training loss after 40 epoch, we'll see an alarmingly good score:"
   ]
  },
  {
   "cell_type": "code",
   "execution_count": 27,
   "metadata": {
    "scrolled": true
   },
   "outputs": [
    {
     "data": {
      "text/plain": [
       "('Training loss by epoch 40:', 820.3795021428881)"
      ]
     },
     "execution_count": 27,
     "metadata": {},
     "output_type": "execute_result"
    }
   ],
   "source": [
    "'Training loss by epoch 40:', models_history['mlp_v4']['loss'][-1]"
   ]
  },
  {
   "cell_type": "markdown",
   "metadata": {},
   "source": [
    "But the validation loss is out of sync with the training loss:"
   ]
  },
  {
   "cell_type": "code",
   "execution_count": 28,
   "metadata": {},
   "outputs": [
    {
     "data": {
      "text/plain": [
       "('Validation loss by epoch 40:', 1251.7137117008283)"
      ]
     },
     "execution_count": 28,
     "metadata": {},
     "output_type": "execute_result"
    }
   ],
   "source": [
    "\"Validation loss by epoch 40:\", hist['val_loss'][-1]"
   ]
  },
  {
   "cell_type": "markdown",
   "metadata": {},
   "source": [
    "We clearly see the overfitted model when we plot loss on training and validation sets. One of the effects of overfitting is the increasing gap between validation and training errors, as we see from the plots below:"
   ]
  },
  {
   "cell_type": "code",
   "execution_count": 29,
   "metadata": {
    "scrolled": false
   },
   "outputs": [
    {
     "data": {
      "image/png": "iVBORw0KGgoAAAANSUhEUgAAAjYAAAFNCAYAAAATuyWqAAAABHNCSVQICAgIfAhkiAAAAAlwSFlz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\npZTT0IqNUkoppZyGVmyUUkop5TT+P7UwT3Y2DqevAAAAAElFTkSuQmCC\n",
      "text/plain": [
       "<matplotlib.figure.Figure at 0x7f6370401fd0>"
      ]
     },
     "metadata": {},
     "output_type": "display_data"
    }
   ],
   "source": [
    "plt.figure(figsize=(9,5))\n",
    "plt.title('Overfitted model')\n",
    "plt.xlabel('Epochs')\n",
    "plt.ylabel('Loss')\n",
    "plt.grid(True)\n",
    "plt1, = plt.plot(models_history['mlp_v4']['loss'], label='Training Loss')\n",
    "plt2, = plt.plot(models_history['mlp_v4']['val_loss'], label='Validation Loss')\n",
    "fill = plt.fill_between(range(3,40,1),models_history['mlp_v4']['loss'][3:],\n",
    "                 models_history['mlp_v4']['val_loss'][3:], alpha=0.2, color='cyan')\n",
    "\n",
    "overfit_legend = mpatches.Patch(color='cyan', alpha=0.2, label='Overfitting')\n",
    "handles = [plt1, plt2, overfit_legend]\n",
    "plt.legend(handles, ['Training Loss','Validation Loss','Overfitting'])\n",
    "\n",
    "plt.show()"
   ]
  },
  {
   "cell_type": "markdown",
   "metadata": {},
   "source": [
    "Such models will fail to generalize. To cope with overfitting, we have several regularization techniques in our toolbox:\n",
    "\n",
    "* Dropout\n",
    "\n",
    "\n",
    "* Batch Normalization\n",
    "\n",
    "\n",
    "* Early Stopping\n",
    "\n",
    "\n",
    "* Running the model several times and bagging results."
   ]
  },
  {
   "cell_type": "markdown",
   "metadata": {},
   "source": [
    "## Step 4: List hyperparameters. Manually cross-validating models\n",
    "\n",
    "Let's now step back and reevaluate different hyperparameters we have to decide on:\n",
    "\n",
    "* **Number of hidden layers**: we now have two hidden layers, we pushed a single hidden layer model to its maximum, but we still have a possibility to train deeper models.\n",
    "\n",
    "\n",
    "* **Number of hidden units**: both in hidden layer #1 and hidden layer #2.\n",
    "\n",
    "\n",
    "* **Dropout rates**: both in hidden layer #1 and hidden layer #2.\n",
    "\n",
    "\n",
    "* **Activation function**. We will consistently use ReLU throughout the project. I tested both ReLU and [Parametric ReLU](https://arxiv.org/abs/1502.01852) (a generalization upon ReLU which beat ReLU score in ImageNet-2012 classification), but I didn't find any significant score increase with PReLU.\n",
    "\n",
    "\n",
    "* **Early stopping parameters**: number of epochs, value of patience. We'll limit the number of epochs to 30 to speed up training time. In my production model, I used 70 epochs with `patience=8`.\n",
    "\n",
    "\n",
    "* **Gradient descent optimizer**: we mostly use ADAM, but my final model uses [Adadelta](http://sebastianruder.com/optimizing-gradient-descent/index.html#adadelta).\n",
    "\n",
    "\n",
    "* **Weights initialization**. Glorot uniform is the default, but my final model uses glorot normal. This is the result of Hyperopt search. \n",
    "\n",
    "\n",
    "* **Learning rate, learning rate decay**. We'll keep them default.\n",
    "\n",
    "\n",
    "Actually, there are even more considerations we should take, but the point of listing hyperparameters is to show it's not enough to just add another layer, some dropout and think the work is done.\n",
    "\n",
    "Nevertheless, we start by doing just this: defining several 3-layer configurations, doing a manual CV over them and picking the one with the best CV score.\n",
    "\n",
    "**Configurations:**\n",
    "\n",
    "| Model Name | Hidden Layers | Hidden Layer #1 Units | Hidden Layer #2 Units | Hidden Layer #1 Dropout | Hidden Layer #2 Dropout |\n",
    "|------------|---------------|-----------------------|-----------------------|-------------------------|-------------------------|\n",
    "| mlp_v5     | 2             | 64                    | 16                    | 0.3                     | 0.2                     |\n",
    "| mlp_v6     | 2             | 128                   | 32                    | 0.4                     | 0.3                     |\n",
    "| mlp_v7     | 2             | 256                   | 64                    | 0.5                     | 0.4                     |"
   ]
  },
  {
   "cell_type": "code",
   "execution_count": 30,
   "metadata": {
    "collapsed": true
   },
   "outputs": [],
   "source": [
    "def mlp_v5():\n",
    "    model = Sequential()\n",
    "    model.add(Dense(64, input_dim=train_x.shape[1]))\n",
    "    model.add(Activation('relu'))\n",
    "    model.add(Dropout(0.3))\n",
    "    model.add(Dense(16))\n",
    "    model.add(Activation('relu'))\n",
    "    model.add(Dropout(0.2))\n",
    "    model.add(Dense(1))\n",
    "    model.compile(loss='mae', optimizer='adam')\n",
    "    return model\n",
    "\n",
    "def mlp_v6():\n",
    "    model = Sequential()\n",
    "    model.add(Dense(128, input_dim=train_x.shape[1]))\n",
    "    model.add(Activation('relu'))\n",
    "    model.add(Dropout(0.4))\n",
    "    model.add(Dense(32))\n",
    "    model.add(Activation('relu'))\n",
    "    model.add(Dropout(0.3))\n",
    "    model.add(Dense(1))\n",
    "    model.compile(loss='mae', optimizer='adam')\n",
    "    return model\n",
    "\n",
    "def mlp_v7():\n",
    "    model = Sequential()\n",
    "    model.add(Dense(256, input_dim=train_x.shape[1]))\n",
    "    model.add(Activation('relu'))\n",
    "    model.add(Dropout(0.5))\n",
    "    model.add(Dense(64))\n",
    "    model.add(Activation('relu'))\n",
    "    model.add(Dropout(0.4))\n",
    "    model.add(Dense(1))\n",
    "    model.compile(loss='mae', optimizer='adam')\n",
    "    return model"
   ]
  },
  {
   "cell_type": "code",
   "execution_count": 31,
   "metadata": {
    "collapsed": true
   },
   "outputs": [],
   "source": [
    "# Cross-validation and score evaluation\n",
    "scores = {}\n",
    "\n",
    "if USE_PRETRAINED:\n",
    "    with open('pretrained/mlp_v5_v6_v7_scores.pkl', 'rb') as f:\n",
    "        scores = pickle.load(f)\n",
    "else:\n",
    "    sys.stdout = open('mlp_v5_v6_v7_out.log', 'w')\n",
    "    for i, model_func in enumerate([mlp_v5, mlp_v6, mlp_v7]):\n",
    "        score = cross_validate_mlp(model_func)\n",
    "        scores[model_func.__name__] = score\n",
    "    sys.stdout = _stdout"
   ]
  },
  {
   "cell_type": "code",
   "execution_count": 32,
   "metadata": {},
   "outputs": [
    {
     "data": {
      "text/plain": [
       "{'mlp_v5': 1191.8326167266243,\n",
       " 'mlp_v6': 1185.1951894333947,\n",
       " 'mlp_v7': 1173.2363088218933}"
      ]
     },
     "execution_count": 32,
     "metadata": {},
     "output_type": "execute_result"
    }
   ],
   "source": [
    "scores"
   ]
  },
  {
   "cell_type": "markdown",
   "metadata": {},
   "source": [
    "Your performance may be different, but I got the following scores:\n",
    "\n",
    "`\n",
    "{'mlp_v5': 1193.1136604667843,\n",
    " 'mlp_v6': 1180.3518637720078,\n",
    " 'mlp_v7': 1174.283208544334}\n",
    "`\n",
    " \n",
    "The best model of these three (`mlp_v7`) shows a worse score (1174), than our single layer model with 1024 units (1171)! We now see that it takes **much** more effort to train a deeper model. Though, we shouldn't forget that we specifically limited our training to 30 epochs now (which we didn't for that single hidden layer model).\n",
    "\n",
    "After CV, we list two baseline configurations:\n",
    "\n",
    "* **2-layer model**. Hidden units: 1024. Epochs: 115.\n",
    "* **3-layer model**. Hidden units: 256, 64. Dropout: 0.5, 0.4. Epochs: 30."
   ]
  },
  {
   "cell_type": "markdown",
   "metadata": {},
   "source": [
    "## Step 5: Hyperopt MLP hyperparameters tuning"
   ]
  },
  {
   "cell_type": "markdown",
   "metadata": {},
   "source": [
    "After doing a CV over manually chosen models, we may want to automate this process and search over many more combinations. Unfortunately, there's no fast way to tune the hyperparameters of a neural network. \n",
    "\n",
    "To search over the space of hyperparameters, I introduce [Hyperopt](https://github.com/hyperopt/hyperopt), a model-agnostic library for advanced parallel hyperparams optimization. Hyperopt represents a Bayesian approach to optimization: the library uses the prior knowledge to make more intelligent assumptions what combination of parameters to try next.\n",
    "\n",
    "I'll just briefly touch upon it, because it may and will take an enormous amount of time to train and validate multiple combinations of hyperparams via Hyperopt. Anyway, it's a reliable and popular library which is heavily (ab)used on Kaggle.\n",
    "\n",
    "My methodology is based on [an post on fastml.com blog](http://fastml.com/optimizing-hyperparams-with-hyperopt/), which brings a 3-step process:\n",
    "\n",
    "1. Describe the search space: all hyperparameters and their possible values.\n",
    "\n",
    "2. Implement a function to minimize (our Keras model which minimizes the loss).\n",
    "\n",
    "3. Analyze and pick scores."
   ]
  },
  {
   "cell_type": "markdown",
   "metadata": {},
   "source": [
    "### 4 versions of Hyperopt search"
   ]
  },
  {
   "cell_type": "markdown",
   "metadata": {},
   "source": [
    "This Hyperopt code is for demo only. I commented out the code which actually starts Hyperopt.\n",
    "\n",
    "Running the following optimization will literally require **days** on any ordinary PC. To test that the code works, uncomment the lines with `fmin` function calls.  I'd recommend running it and seeing its output from a command-line: \n",
    "\n",
    "`$ tail -f hyperopt_v1.log`\n",
    "\n",
    "Then you should interrupt kernel and move on."
   ]
  },
  {
   "cell_type": "code",
   "execution_count": 30,
   "metadata": {
    "collapsed": true
   },
   "outputs": [],
   "source": [
    "# We need to define the search space for Hyperopt\n",
    "# Conditionals are used to maintain the structure of the network\n",
    "# Each hidden layer to the right has less units than the previous one\n",
    "\n",
    "# VERSION 1: two hidden layers, wide networks.\n",
    "\n",
    "# Describing the search space\n",
    "space = {'hidden1': hp.choice('hidden1', [\n",
    "            {\n",
    "                'hidden1_units': 256,\n",
    "                'hidden2': hp.choice('hidden2', [\n",
    "                        {\n",
    "                            'hidden2_units': 128\n",
    "                        }\n",
    "                    ]),\n",
    "                'hidden1_units': 512,\n",
    "                'hidden2': hp.choice('hidden2', [\n",
    "                        {\n",
    "                            'hidden2_units': hp.choice('hidden2_units', [128,256])\n",
    "                        }\n",
    "                    ]),\n",
    "                'hidden1_units': 768,\n",
    "                'hidden2': hp.choice('hidden2', [\n",
    "                        {\n",
    "                            'hidden2_units': hp.choice('hidden2_units', [128,256,512]),\n",
    "                        }\n",
    "                    ]),\n",
    "                'hidden1_units': 1024,\n",
    "                'hidden2': hp.choice('hidden2', [\n",
    "                        {\n",
    "                            'hidden2_units': hp.choice('hidden2_units', [128,256,512,768]),\n",
    "                        }\n",
    "                    ])\n",
    "            }]), \n",
    "        'hidden1_dropout': hp.uniform('hidden1_dropout', 0.1,0.6), \n",
    "        'hidden2_dropout': hp.uniform('hidden2_dropout', 0.1,0.5)}\n",
    "\n",
    "# Implementing a function to minimize\n",
    "def hyperopt_search(params):\n",
    "    print 'Model Testing:', params\n",
    "    def mlp_model():\n",
    "        model = Sequential()\n",
    "        model.add(Dense(params['hidden1']['hidden1_units'], input_dim=train_x.shape[1]))\n",
    "        model.add(Activation('relu'))\n",
    "        model.add(Dropout(params['hidden1_dropout']))\n",
    "        \n",
    "        model.add(Dense(params['hidden1']['hidden2']['hidden2_units']))\n",
    "        model.add(Activation('relu'))\n",
    "        model.add(Dropout(params['hidden2_dropout']))\n",
    "        \n",
    "        model.add(Dense(1))\n",
    "        model.compile(loss='mae', optimizer='adam', metrics = [\"mae\"])\n",
    "        return model\n",
    "    \n",
    "    cv_score = cross_validate_mlp(mlp_model)\n",
    "    return {'loss': cv_score, 'status': STATUS_OK}\n",
    "\n",
    "# Run the optimization and see the results\n",
    "sys.stdout = open('hyperopt_v1.log', 'w')\n",
    "trials = Trials()\n",
    "\n",
    "# UNCOMMENT THE NEXT LINE TO LAUNCH HYPEROPT:\n",
    "# best = fmin(hyperopt_search, space, algo=tpe.suggest, max_evals = 50, trials=trials)"
   ]
  },
  {
   "cell_type": "code",
   "execution_count": 31,
   "metadata": {
    "collapsed": true
   },
   "outputs": [],
   "source": [
    "# VERSION 2. Insights:\n",
    "# – increase the lower and upper bounds of dropout,\n",
    "# — the wider network doesn't seem to work well.\n",
    "\n",
    "# Describing the search space\n",
    "space = {'hidden1': hp.choice('hidden1', [\n",
    "            {\n",
    "                'hidden1_units': 128,\n",
    "                'hidden2': hp.choice('hidden2', [\n",
    "                        {\n",
    "                            'hidden2_units': 64\n",
    "                        }\n",
    "                    ]),\n",
    "                'hidden1_units': 256,\n",
    "                'hidden2': hp.choice('hidden2', [\n",
    "                        {\n",
    "                            'hidden2_units': hp.choice('hidden2_units', [32,64,128])\n",
    "                        }\n",
    "                    ]),\n",
    "\n",
    "                'hidden1_units': 512,\n",
    "                'hidden2': hp.choice('hidden2', [\n",
    "                        {\n",
    "                            'hidden2_units': hp.choice('hidden2_units', [32,64,128,256])\n",
    "                        }\n",
    "                    ])\n",
    "            }]), \n",
    "        'hidden1_dropout': hp.uniform('hidden1_dropout', 0.3,0.7), # Several rounds of hyperopt\n",
    "        'hidden2_dropout': hp.uniform('hidden2_dropout', 0.2,0.6)} # resulted in these values\n",
    "\n",
    "# Implementing a function to minimize\n",
    "def hyperopt_search(params):\n",
    "    print 'Model Testing:', params\n",
    "    def mlp_model():\n",
    "        model = Sequential()\n",
    "        model.add(Dense(params['hidden1']['hidden1_units'], input_dim=train_x.shape[1]))\n",
    "        model.add(Activation('relu'))\n",
    "        model.add(Dropout(params['hidden1_dropout']))\n",
    "        \n",
    "        model.add(Dense(params['hidden1']['hidden2']['hidden2_units']))\n",
    "        model.add(Activation('relu'))\n",
    "        model.add(Dropout(params['hidden2_dropout']))\n",
    "        \n",
    "        model.add(Dense(1))\n",
    "        model.compile(loss='mae', optimizer='adam', metrics = [\"mae\"])\n",
    "        return model\n",
    "    \n",
    "    cv_score = cross_validate_mlp(mlp_model)\n",
    "    return {'loss': cv_score, 'status': STATUS_OK}\n",
    "\n",
    "# Run the optimization and see the results\n",
    "sys.stdout = open('hyperopt_v2.log', 'w')\n",
    "trials = Trials()\n",
    "\n",
    "# UNCOMMENT THE NEXT LINE TO LAUNCH HYPEROPT:\n",
    "# best = fmin(hyperopt_search, space, algo=tpe.suggest, max_evals = 50, trials=trials)"
   ]
  },
  {
   "cell_type": "code",
   "execution_count": 32,
   "metadata": {
    "collapsed": true
   },
   "outputs": [],
   "source": [
    "# VERSION 3. Insights:\n",
    "# — models with two hidden layers and 256-128 units configuration work well\n",
    "# — let's optimize the number of units in layers with a more precise step\n",
    "\n",
    "# Describing the search space\n",
    "space = {'hidden1_dropout': hp.choice('hidden1_dropout', np.linspace(0.4,0.6,20)),\n",
    "        'hidden2_dropout': hp.choice('hidden2_dropout', np.linspace(0.2,0.5,10)),\n",
    "         'hidden1_units': hp.choice('hidden1_units', np.linspace(300,550,30,dtype='int16')),\n",
    "         'hidden2_units': hp.choice('hidden2_units', np.linspace(100,300,30,dtype='int16'))\n",
    "        }\n",
    "\n",
    "# Implementing a function to minimize\n",
    "def hyperopt_search(params):\n",
    "    print 'Model Testing:', params\n",
    "    def mlp_model():\n",
    "        model = Sequential()\n",
    "        model.add(Dense(params['hidden1_units'], input_dim=train_x.shape[1]))\n",
    "        model.add(Activation('relu'))\n",
    "        model.add(Dropout(params['hidden1_dropout']))\n",
    "        \n",
    "        model.add(Dense(params['hidden2_units']))\n",
    "        model.add(Activation('relu'))\n",
    "        model.add(Dropout(params['hidden2_dropout']))\n",
    "\n",
    "        model.add(Dense(1))\n",
    "        model.compile(loss='mae', optimizer='adam', metrics = [\"mae\"])\n",
    "        return model\n",
    "    \n",
    "    cv_score = cross_validate_mlp(mlp_model)\n",
    "    return {'loss': cv_score, 'status': STATUS_OK}\n",
    "\n",
    "# Run the optimization and see the results\n",
    "sys.stdout = open('hyperopt_v3.log', 'w')\n",
    "trials = Trials()\n",
    "\n",
    "# UNCOMMENT THE NEXT LINE TO LAUNCH HYPEROPT:\n",
    "# best = fmin(hyperopt_search, space, algo=tpe.suggest, max_evals = 50, trials=trials)"
   ]
  },
  {
   "cell_type": "code",
   "execution_count": 33,
   "metadata": {},
   "outputs": [
    {
     "ename": "TypeError",
     "evalue": "'generator' object has no attribute '__getitem__'",
     "output_type": "error",
     "traceback": [
      "\u001b[0;31m\u001b[0m",
      "\u001b[0;31mTypeError\u001b[0mTraceback (most recent call last)",
      "\u001b[0;32m<ipython-input-33-8bee14f6aaaa>\u001b[0m in \u001b[0;36m<module>\u001b[0;34m()\u001b[0m\n\u001b[1;32m     46\u001b[0m \u001b[0;34m\u001b[0m\u001b[0m\n\u001b[1;32m     47\u001b[0m \u001b[0;31m# UNCOMMENT THE NEXT LINE TO LAUNCH HYPEROPT:\u001b[0m\u001b[0;34m\u001b[0m\u001b[0;34m\u001b[0m\u001b[0m\n\u001b[0;32m---> 48\u001b[0;31m \u001b[0mbest\u001b[0m \u001b[0;34m=\u001b[0m \u001b[0mfmin\u001b[0m\u001b[0;34m(\u001b[0m\u001b[0mhyperopt_search\u001b[0m\u001b[0;34m,\u001b[0m \u001b[0mspace\u001b[0m\u001b[0;34m,\u001b[0m \u001b[0malgo\u001b[0m\u001b[0;34m=\u001b[0m\u001b[0mtpe\u001b[0m\u001b[0;34m.\u001b[0m\u001b[0msuggest\u001b[0m\u001b[0;34m,\u001b[0m \u001b[0mmax_evals\u001b[0m \u001b[0;34m=\u001b[0m \u001b[0;36m1\u001b[0m\u001b[0;34m,\u001b[0m \u001b[0mtrials\u001b[0m\u001b[0;34m=\u001b[0m\u001b[0mtrials\u001b[0m\u001b[0;34m)\u001b[0m\u001b[0;34m\u001b[0m\u001b[0m\n\u001b[0m",
      "\u001b[0;32m/home/coder.chenshicheng/anaconda3/envs/python2/lib/python2.7/site-packages/hyperopt/fmin.pyc\u001b[0m in \u001b[0;36mfmin\u001b[0;34m(fn, space, algo, max_evals, trials, rstate, allow_trials_fmin, pass_expr_memo_ctrl, catch_eval_exceptions, verbose, return_argmin)\u001b[0m\n\u001b[1;32m    305\u001b[0m             \u001b[0mverbose\u001b[0m\u001b[0;34m=\u001b[0m\u001b[0mverbose\u001b[0m\u001b[0;34m,\u001b[0m\u001b[0;34m\u001b[0m\u001b[0m\n\u001b[1;32m    306\u001b[0m             \u001b[0mcatch_eval_exceptions\u001b[0m\u001b[0;34m=\u001b[0m\u001b[0mcatch_eval_exceptions\u001b[0m\u001b[0;34m,\u001b[0m\u001b[0;34m\u001b[0m\u001b[0m\n\u001b[0;32m--> 307\u001b[0;31m             \u001b[0mreturn_argmin\u001b[0m\u001b[0;34m=\u001b[0m\u001b[0mreturn_argmin\u001b[0m\u001b[0;34m,\u001b[0m\u001b[0;34m\u001b[0m\u001b[0m\n\u001b[0m\u001b[1;32m    308\u001b[0m         )\n\u001b[1;32m    309\u001b[0m \u001b[0;34m\u001b[0m\u001b[0m\n",
      "\u001b[0;32m/home/coder.chenshicheng/anaconda3/envs/python2/lib/python2.7/site-packages/hyperopt/base.pyc\u001b[0m in \u001b[0;36mfmin\u001b[0;34m(self, fn, space, algo, max_evals, rstate, verbose, pass_expr_memo_ctrl, catch_eval_exceptions, return_argmin)\u001b[0m\n\u001b[1;32m    633\u001b[0m             \u001b[0mpass_expr_memo_ctrl\u001b[0m\u001b[0;34m=\u001b[0m\u001b[0mpass_expr_memo_ctrl\u001b[0m\u001b[0;34m,\u001b[0m\u001b[0;34m\u001b[0m\u001b[0m\n\u001b[1;32m    634\u001b[0m             \u001b[0mcatch_eval_exceptions\u001b[0m\u001b[0;34m=\u001b[0m\u001b[0mcatch_eval_exceptions\u001b[0m\u001b[0;34m,\u001b[0m\u001b[0;34m\u001b[0m\u001b[0m\n\u001b[0;32m--> 635\u001b[0;31m             return_argmin=return_argmin)\n\u001b[0m\u001b[1;32m    636\u001b[0m \u001b[0;34m\u001b[0m\u001b[0m\n\u001b[1;32m    637\u001b[0m \u001b[0;34m\u001b[0m\u001b[0m\n",
      "\u001b[0;32m/home/coder.chenshicheng/anaconda3/envs/python2/lib/python2.7/site-packages/hyperopt/fmin.pyc\u001b[0m in \u001b[0;36mfmin\u001b[0;34m(fn, space, algo, max_evals, trials, rstate, allow_trials_fmin, pass_expr_memo_ctrl, catch_eval_exceptions, verbose, return_argmin)\u001b[0m\n\u001b[1;32m    312\u001b[0m \u001b[0;34m\u001b[0m\u001b[0m\n\u001b[1;32m    313\u001b[0m     domain = base.Domain(fn, space,\n\u001b[0;32m--> 314\u001b[0;31m                          pass_expr_memo_ctrl=pass_expr_memo_ctrl)\n\u001b[0m\u001b[1;32m    315\u001b[0m \u001b[0;34m\u001b[0m\u001b[0m\n\u001b[1;32m    316\u001b[0m     rval = FMinIter(algo, domain, trials, max_evals=max_evals,\n",
      "\u001b[0;32m/home/coder.chenshicheng/anaconda3/envs/python2/lib/python2.7/site-packages/hyperopt/base.pyc\u001b[0m in \u001b[0;36m__init__\u001b[0;34m(self, fn, expr, workdir, pass_expr_memo_ctrl, name, loss_target)\u001b[0m\n\u001b[1;32m    784\u001b[0m         \u001b[0mbefore\u001b[0m \u001b[0;34m=\u001b[0m \u001b[0mpyll\u001b[0m\u001b[0;34m.\u001b[0m\u001b[0mdfs\u001b[0m\u001b[0;34m(\u001b[0m\u001b[0mself\u001b[0m\u001b[0;34m.\u001b[0m\u001b[0mexpr\u001b[0m\u001b[0;34m)\u001b[0m\u001b[0;34m\u001b[0m\u001b[0m\n\u001b[1;32m    785\u001b[0m         \u001b[0;31m# -- raises exception if expr contains cycles\u001b[0m\u001b[0;34m\u001b[0m\u001b[0;34m\u001b[0m\u001b[0m\n\u001b[0;32m--> 786\u001b[0;31m         \u001b[0mpyll\u001b[0m\u001b[0;34m.\u001b[0m\u001b[0mtoposort\u001b[0m\u001b[0;34m(\u001b[0m\u001b[0mself\u001b[0m\u001b[0;34m.\u001b[0m\u001b[0mexpr\u001b[0m\u001b[0;34m)\u001b[0m\u001b[0;34m\u001b[0m\u001b[0m\n\u001b[0m\u001b[1;32m    787\u001b[0m         \u001b[0mvh\u001b[0m \u001b[0;34m=\u001b[0m \u001b[0mself\u001b[0m\u001b[0;34m.\u001b[0m\u001b[0mvh\u001b[0m \u001b[0;34m=\u001b[0m \u001b[0mVectorizeHelper\u001b[0m\u001b[0;34m(\u001b[0m\u001b[0mself\u001b[0m\u001b[0;34m.\u001b[0m\u001b[0mexpr\u001b[0m\u001b[0;34m,\u001b[0m \u001b[0mself\u001b[0m\u001b[0;34m.\u001b[0m\u001b[0ms_new_ids\u001b[0m\u001b[0;34m)\u001b[0m\u001b[0;34m\u001b[0m\u001b[0m\n\u001b[1;32m    788\u001b[0m         \u001b[0;31m# -- raises exception if v_expr contains cycles\u001b[0m\u001b[0;34m\u001b[0m\u001b[0;34m\u001b[0m\u001b[0m\n",
      "\u001b[0;32m/home/coder.chenshicheng/anaconda3/envs/python2/lib/python2.7/site-packages/hyperopt/pyll/base.pyc\u001b[0m in \u001b[0;36mtoposort\u001b[0;34m(expr)\u001b[0m\n\u001b[1;32m    713\u001b[0m         \u001b[0mG\u001b[0m\u001b[0;34m.\u001b[0m\u001b[0madd_edges_from\u001b[0m\u001b[0;34m(\u001b[0m\u001b[0;34m[\u001b[0m\u001b[0;34m(\u001b[0m\u001b[0mn_in\u001b[0m\u001b[0;34m,\u001b[0m \u001b[0mnode\u001b[0m\u001b[0;34m)\u001b[0m \u001b[0;32mfor\u001b[0m \u001b[0mn_in\u001b[0m \u001b[0;32min\u001b[0m \u001b[0mnode\u001b[0m\u001b[0;34m.\u001b[0m\u001b[0minputs\u001b[0m\u001b[0;34m(\u001b[0m\u001b[0;34m)\u001b[0m\u001b[0;34m]\u001b[0m\u001b[0;34m)\u001b[0m\u001b[0;34m\u001b[0m\u001b[0m\n\u001b[1;32m    714\u001b[0m     \u001b[0morder\u001b[0m \u001b[0;34m=\u001b[0m \u001b[0mnx\u001b[0m\u001b[0;34m.\u001b[0m\u001b[0mtopological_sort\u001b[0m\u001b[0;34m(\u001b[0m\u001b[0mG\u001b[0m\u001b[0;34m)\u001b[0m\u001b[0;34m\u001b[0m\u001b[0m\n\u001b[0;32m--> 715\u001b[0;31m     \u001b[0;32massert\u001b[0m \u001b[0morder\u001b[0m\u001b[0;34m[\u001b[0m\u001b[0;34m-\u001b[0m\u001b[0;36m1\u001b[0m\u001b[0;34m]\u001b[0m \u001b[0;34m==\u001b[0m \u001b[0mexpr\u001b[0m\u001b[0;34m\u001b[0m\u001b[0m\n\u001b[0m\u001b[1;32m    716\u001b[0m     \u001b[0;32mreturn\u001b[0m \u001b[0morder\u001b[0m\u001b[0;34m\u001b[0m\u001b[0m\n\u001b[1;32m    717\u001b[0m \u001b[0;34m\u001b[0m\u001b[0m\n",
      "\u001b[0;31mTypeError\u001b[0m: 'generator' object has no attribute '__getitem__'"
     ]
    }
   ],
   "source": [
    "# VERSION 4. Insights:\n",
    "# – why not to test 4-layer architectures?\n",
    "# — we need to introduce new optimizers\n",
    "# — adding batch normalization (https://arxiv.org/abs/1502.03167)\n",
    "\n",
    "# Describing the search space\n",
    "space = {'hidden1_dropout': hp.choice('hidden1_dropout', np.linspace(0.4,0.6,20)),\n",
    "        'hidden2_dropout': hp.choice('hidden2_dropout', np.linspace(0.2,0.5,10)),\n",
    "        'hidden3_dropout': hp.choice('hidden3_dropout', np.linspace(0.1,0.5,10)),\n",
    "         'hidden1_units': hp.choice('hidden1_units', np.linspace(300,550,30,dtype='int16')),\n",
    "         'hidden2_units': hp.choice('hidden2_units', np.linspace(100,300,30,dtype='int16')),\n",
    "         'hidden3_units': hp.choice('hidden3_units', np.linspace(20,80,30,dtype='int16')),\n",
    "         'optimizer': hp.choice('optimizer', ['adam','nadam','adamax','adadelta'])\n",
    "        }\n",
    "\n",
    "# Implementing a function to minimize\n",
    "def hyperopt_search(params):\n",
    "    print ('Model Testing:', params)\n",
    "    def mlp_model():\n",
    "        model = Sequential()\n",
    "        model.add(Dense(params['hidden1_units'], input_dim=train_x.shape[1]))\n",
    "        model.add(BatchNormalization())\n",
    "        model.add(Activation('relu'))\n",
    "        model.add(Dropout(params['hidden1_dropout']))\n",
    "        \n",
    "        model.add(Dense(params['hidden2_units']))\n",
    "        model.add(BatchNormalization())\n",
    "        model.add(Activation('relu'))\n",
    "        model.add(Dropout(params['hidden2_dropout']))\n",
    "\n",
    "        model.add(Dense(params['hidden3_units'])) \n",
    "        model.add(BatchNormalization())\n",
    "        model.add(Activation('relu'))\n",
    "        model.add(Dropout(params['hidden3_dropout']))\n",
    "        \n",
    "        model.add(Dense(1))\n",
    "        model.compile(loss='mae', optimizer=params['optimizer'])\n",
    "        return model\n",
    "    \n",
    "    cv_score = cross_validate_mlp(mlp_model)\n",
    "    return {'loss': cv_score, 'status': STATUS_OK}\n",
    "\n",
    "# Run the optimization and see the results\n",
    "sys.stdout = open('hyperopt_v4.log', 'w')\n",
    "trials = Trials()\n",
    "\n",
    "# UNCOMMENT THE NEXT LINE TO LAUNCH HYPEROPT:\n",
    "best = fmin(hyperopt_search, space, algo=tpe.suggest, max_evals = 1, trials=trials)"
   ]
  },
  {
   "cell_type": "markdown",
   "metadata": {
    "collapsed": true
   },
   "source": [
    "## Step 6: The final model"
   ]
  },
  {
   "cell_type": "markdown",
   "metadata": {},
   "source": [
    "It took several rounds of optimization to narrow down the parameters of the model. Here are the results.\n",
    "\n",
    "First, the architecture. The final 4-layer model uses dropout as a regularization and a batch normalization prior to each hidden layer."
   ]
  },
  {
   "cell_type": "markdown",
   "metadata": {},
   "source": [
    "<img src=\"http://cdn.rawgit.com/dnkirill/allstate_capstone/master/images/mlp3.svg\"></td>"
   ]
  },
  {
   "cell_type": "markdown",
   "metadata": {},
   "source": [
    "And this is the model itself:"
   ]
  },
  {
   "cell_type": "code",
   "execution_count": 28,
   "metadata": {
    "collapsed": true
   },
   "outputs": [],
   "source": [
    "def hyper_model():\n",
    "    model = Sequential()\n",
    "    model.add(Dense(351, input_dim=train_x.shape[1], init='glorot_normal'))\n",
    "    model.add(BatchNormalization())\n",
    "    model.add(Activation('relu'))\n",
    "    model.add(Dropout(0.578947))\n",
    "    \n",
    "    model.add(Dense(293, init='glorot_normal'))\n",
    "    model.add(BatchNormalization())\n",
    "    model.add(Activation('relu'))\n",
    "    model.add(Dropout(0.26666))\n",
    "    \n",
    "    model.add(Dense(46, init='glorot_normal'))\n",
    "    model.add(BatchNormalization())\n",
    "    model.add(Activation('relu'))\n",
    "    model.add(Dropout(0.188888))\n",
    "    \n",
    "    model.add(Dense(1, init='glorot_normal'))\n",
    "    model.compile(loss='mae', optimizer='adadelta')\n",
    "    return model"
   ]
  },
  {
   "cell_type": "code",
   "execution_count": 29,
   "metadata": {
    "collapsed": true
   },
   "outputs": [],
   "source": [
    "if USE_PRETRAINED:\n",
    "    with open('pretrained/mlp_f_score.pkl', 'rb') as f:\n",
    "        cv_score = pickle.load(f)\n",
    "else:\n",
    "    sys.stdout = open('mlp_final_out.txt', 'w')\n",
    "    cv_score = cross_validate_mlp(hyper_model)"
   ]
  },
  {
   "cell_type": "code",
   "execution_count": 33,
   "metadata": {
    "collapsed": true
   },
   "outputs": [],
   "source": [
    "sys.stdout = _stdout"
   ]
  },
  {
   "cell_type": "code",
   "execution_count": 35,
   "metadata": {},
   "outputs": [
    {
     "data": {
      "text/plain": [
       "('CV score for the final model:', 1149.2403456099482)"
      ]
     },
     "execution_count": 35,
     "metadata": {},
     "output_type": "execute_result"
    }
   ],
   "source": [
    "(\"CV score for the final model:\", cv_score)"
   ]
  },
  {
   "cell_type": "markdown",
   "metadata": {},
   "source": [
    "Though this model is not adapted for mere 30 epochs of training, nor for 3-fold CV (I used 5-fold on Kaggle), even though this is a single unbagged model which has been cross-validated on three folds only, we see a very good score:\n",
    "`CV = 1150` (your score may vary a little).\n",
    "\n",
    "By the way, this single model, bagged, 5-fold CVed, scored 1116.28 on Kaggle LB.\n",
    "\n",
    "As we see, this model is considerably better than any other models we had so far. We now take it as the second part of our final ensemble."
   ]
  }
 ],
 "metadata": {
  "kernelspec": {
   "display_name": "Python 3",
   "language": "python",
   "name": "python3"
  },
  "language_info": {
   "codemirror_mode": {
    "name": "ipython",
    "version": 3
   },
   "file_extension": ".py",
   "mimetype": "text/x-python",
   "name": "python",
   "nbconvert_exporter": "python",
<<<<<<< HEAD
   "pygments_lexer": "ipython3",
   "version": "3.6.3"
=======
   "pygments_lexer": "ipython2",
   "version": "2.7.14"
>>>>>>> 8d3ec4ec5d4cd91c6b92aade672cc06441348277
  }
 },
 "nbformat": 4,
 "nbformat_minor": 1
}
