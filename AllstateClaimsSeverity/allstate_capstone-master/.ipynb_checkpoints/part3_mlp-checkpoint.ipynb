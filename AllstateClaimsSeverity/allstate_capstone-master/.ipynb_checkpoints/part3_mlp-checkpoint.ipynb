{
 "cells": [
  {
   "cell_type": "markdown",
   "metadata": {},
   "source": [
    "# Part 3, Multilayer Perceptron Neural Network"
   ]
  },
  {
   "cell_type": "code",
<<<<<<< HEAD
   "execution_count": 12,
   "metadata": {},
   "outputs": [
    {
     "ename": "ImportError",
     "evalue": "Traceback (most recent call last):\n  File \"/home/csc/anaconda3/lib/python3.6/site-packages/tensorflow/python/pywrap_tensorflow.py\", line 41, in <module>\n    from tensorflow.python.pywrap_tensorflow_internal import *\n  File \"/home/csc/anaconda3/lib/python3.6/site-packages/tensorflow/python/pywrap_tensorflow_internal.py\", line 28, in <module>\n    _pywrap_tensorflow_internal = swig_import_helper()\n  File \"/home/csc/anaconda3/lib/python3.6/site-packages/tensorflow/python/pywrap_tensorflow_internal.py\", line 24, in swig_import_helper\n    _mod = imp.load_module('_pywrap_tensorflow_internal', fp, pathname, description)\n  File \"/home/csc/anaconda3/lib/python3.6/imp.py\", line 243, in load_module\n    return load_dynamic(name, filename, file)\n  File \"/home/csc/anaconda3/lib/python3.6/imp.py\", line 343, in load_dynamic\n    return _load(spec)\nImportError: libcusolver.so.8.0: cannot open shared object file: No such file or directory\n\n\nFailed to load the native TensorFlow runtime.\n\nSee https://www.tensorflow.org/install/install_sources#common_installation_problems\n\nfor some common reasons and solutions.  Include the entire stack trace\nabove this error message when asking for help.",
     "output_type": "error",
     "traceback": [
      "\u001b[0;31m---------------------------------------------------------------------------\u001b[0m",
      "\u001b[0;31mImportError\u001b[0m                               Traceback (most recent call last)",
      "\u001b[0;32m~/anaconda3/lib/python3.6/site-packages/tensorflow/python/pywrap_tensorflow.py\u001b[0m in \u001b[0;36m<module>\u001b[0;34m()\u001b[0m\n\u001b[1;32m     40\u001b[0m     \u001b[0msys\u001b[0m\u001b[0;34m.\u001b[0m\u001b[0msetdlopenflags\u001b[0m\u001b[0;34m(\u001b[0m\u001b[0m_default_dlopen_flags\u001b[0m \u001b[0;34m|\u001b[0m \u001b[0mctypes\u001b[0m\u001b[0;34m.\u001b[0m\u001b[0mRTLD_GLOBAL\u001b[0m\u001b[0;34m)\u001b[0m\u001b[0;34m\u001b[0m\u001b[0m\n\u001b[0;32m---> 41\u001b[0;31m   \u001b[0;32mfrom\u001b[0m \u001b[0mtensorflow\u001b[0m\u001b[0;34m.\u001b[0m\u001b[0mpython\u001b[0m\u001b[0;34m.\u001b[0m\u001b[0mpywrap_tensorflow_internal\u001b[0m \u001b[0;32mimport\u001b[0m \u001b[0;34m*\u001b[0m\u001b[0;34m\u001b[0m\u001b[0m\n\u001b[0m\u001b[1;32m     42\u001b[0m   \u001b[0;32mfrom\u001b[0m \u001b[0mtensorflow\u001b[0m\u001b[0;34m.\u001b[0m\u001b[0mpython\u001b[0m\u001b[0;34m.\u001b[0m\u001b[0mpywrap_tensorflow_internal\u001b[0m \u001b[0;32mimport\u001b[0m \u001b[0m__version__\u001b[0m\u001b[0;34m\u001b[0m\u001b[0m\n",
      "\u001b[0;32m~/anaconda3/lib/python3.6/site-packages/tensorflow/python/pywrap_tensorflow_internal.py\u001b[0m in \u001b[0;36m<module>\u001b[0;34m()\u001b[0m\n\u001b[1;32m     27\u001b[0m             \u001b[0;32mreturn\u001b[0m \u001b[0m_mod\u001b[0m\u001b[0;34m\u001b[0m\u001b[0m\n\u001b[0;32m---> 28\u001b[0;31m     \u001b[0m_pywrap_tensorflow_internal\u001b[0m \u001b[0;34m=\u001b[0m \u001b[0mswig_import_helper\u001b[0m\u001b[0;34m(\u001b[0m\u001b[0;34m)\u001b[0m\u001b[0;34m\u001b[0m\u001b[0m\n\u001b[0m\u001b[1;32m     29\u001b[0m     \u001b[0;32mdel\u001b[0m \u001b[0mswig_import_helper\u001b[0m\u001b[0;34m\u001b[0m\u001b[0m\n",
      "\u001b[0;32m~/anaconda3/lib/python3.6/site-packages/tensorflow/python/pywrap_tensorflow_internal.py\u001b[0m in \u001b[0;36mswig_import_helper\u001b[0;34m()\u001b[0m\n\u001b[1;32m     23\u001b[0m             \u001b[0;32mtry\u001b[0m\u001b[0;34m:\u001b[0m\u001b[0;34m\u001b[0m\u001b[0m\n\u001b[0;32m---> 24\u001b[0;31m                 \u001b[0m_mod\u001b[0m \u001b[0;34m=\u001b[0m \u001b[0mimp\u001b[0m\u001b[0;34m.\u001b[0m\u001b[0mload_module\u001b[0m\u001b[0;34m(\u001b[0m\u001b[0;34m'_pywrap_tensorflow_internal'\u001b[0m\u001b[0;34m,\u001b[0m \u001b[0mfp\u001b[0m\u001b[0;34m,\u001b[0m \u001b[0mpathname\u001b[0m\u001b[0;34m,\u001b[0m \u001b[0mdescription\u001b[0m\u001b[0;34m)\u001b[0m\u001b[0;34m\u001b[0m\u001b[0m\n\u001b[0m\u001b[1;32m     25\u001b[0m             \u001b[0;32mfinally\u001b[0m\u001b[0;34m:\u001b[0m\u001b[0;34m\u001b[0m\u001b[0m\n",
      "\u001b[0;32m~/anaconda3/lib/python3.6/imp.py\u001b[0m in \u001b[0;36mload_module\u001b[0;34m(name, file, filename, details)\u001b[0m\n\u001b[1;32m    242\u001b[0m         \u001b[0;32melse\u001b[0m\u001b[0;34m:\u001b[0m\u001b[0;34m\u001b[0m\u001b[0m\n\u001b[0;32m--> 243\u001b[0;31m             \u001b[0;32mreturn\u001b[0m \u001b[0mload_dynamic\u001b[0m\u001b[0;34m(\u001b[0m\u001b[0mname\u001b[0m\u001b[0;34m,\u001b[0m \u001b[0mfilename\u001b[0m\u001b[0;34m,\u001b[0m \u001b[0mfile\u001b[0m\u001b[0;34m)\u001b[0m\u001b[0;34m\u001b[0m\u001b[0m\n\u001b[0m\u001b[1;32m    244\u001b[0m     \u001b[0;32melif\u001b[0m \u001b[0mtype_\u001b[0m \u001b[0;34m==\u001b[0m \u001b[0mPKG_DIRECTORY\u001b[0m\u001b[0;34m:\u001b[0m\u001b[0;34m\u001b[0m\u001b[0m\n",
      "\u001b[0;32m~/anaconda3/lib/python3.6/imp.py\u001b[0m in \u001b[0;36mload_dynamic\u001b[0;34m(name, path, file)\u001b[0m\n\u001b[1;32m    342\u001b[0m             name=name, loader=loader, origin=path)\n\u001b[0;32m--> 343\u001b[0;31m         \u001b[0;32mreturn\u001b[0m \u001b[0m_load\u001b[0m\u001b[0;34m(\u001b[0m\u001b[0mspec\u001b[0m\u001b[0;34m)\u001b[0m\u001b[0;34m\u001b[0m\u001b[0m\n\u001b[0m\u001b[1;32m    344\u001b[0m \u001b[0;34m\u001b[0m\u001b[0m\n",
      "\u001b[0;31mImportError\u001b[0m: libcusolver.so.8.0: cannot open shared object file: No such file or directory",
      "\nDuring handling of the above exception, another exception occurred:\n",
      "\u001b[0;31mImportError\u001b[0m                               Traceback (most recent call last)",
      "\u001b[0;32m<ipython-input-12-02d711f5eef1>\u001b[0m in \u001b[0;36m<module>\u001b[0;34m()\u001b[0m\n\u001b[0;32m----> 1\u001b[0;31m \u001b[0;32mimport\u001b[0m \u001b[0mtensorflow\u001b[0m \u001b[0;32mas\u001b[0m \u001b[0mtf\u001b[0m\u001b[0;34m\u001b[0m\u001b[0m\n\u001b[0m\u001b[1;32m      2\u001b[0m \u001b[0;32mimport\u001b[0m \u001b[0mpandas\u001b[0m \u001b[0;32mas\u001b[0m \u001b[0mpd\u001b[0m\u001b[0;34m\u001b[0m\u001b[0m\n\u001b[1;32m      3\u001b[0m \u001b[0;32mimport\u001b[0m \u001b[0mnumpy\u001b[0m \u001b[0;32mas\u001b[0m \u001b[0mnp\u001b[0m\u001b[0;34m\u001b[0m\u001b[0m\n\u001b[1;32m      4\u001b[0m \u001b[0;32mimport\u001b[0m \u001b[0msys\u001b[0m\u001b[0;34m\u001b[0m\u001b[0m\n\u001b[1;32m      5\u001b[0m \u001b[0;32mimport\u001b[0m \u001b[0mh5py\u001b[0m\u001b[0;34m\u001b[0m\u001b[0m\n",
      "\u001b[0;32m~/anaconda3/lib/python3.6/site-packages/tensorflow/__init__.py\u001b[0m in \u001b[0;36m<module>\u001b[0;34m()\u001b[0m\n\u001b[1;32m     22\u001b[0m \u001b[0;34m\u001b[0m\u001b[0m\n\u001b[1;32m     23\u001b[0m \u001b[0;31m# pylint: disable=wildcard-import\u001b[0m\u001b[0;34m\u001b[0m\u001b[0;34m\u001b[0m\u001b[0m\n\u001b[0;32m---> 24\u001b[0;31m \u001b[0;32mfrom\u001b[0m \u001b[0mtensorflow\u001b[0m\u001b[0;34m.\u001b[0m\u001b[0mpython\u001b[0m \u001b[0;32mimport\u001b[0m \u001b[0;34m*\u001b[0m\u001b[0;34m\u001b[0m\u001b[0m\n\u001b[0m\u001b[1;32m     25\u001b[0m \u001b[0;31m# pylint: enable=wildcard-import\u001b[0m\u001b[0;34m\u001b[0m\u001b[0;34m\u001b[0m\u001b[0m\n\u001b[1;32m     26\u001b[0m \u001b[0;34m\u001b[0m\u001b[0m\n",
      "\u001b[0;32m~/anaconda3/lib/python3.6/site-packages/tensorflow/python/__init__.py\u001b[0m in \u001b[0;36m<module>\u001b[0;34m()\u001b[0m\n\u001b[1;32m     47\u001b[0m \u001b[0;32mimport\u001b[0m \u001b[0mnumpy\u001b[0m \u001b[0;32mas\u001b[0m \u001b[0mnp\u001b[0m\u001b[0;34m\u001b[0m\u001b[0m\n\u001b[1;32m     48\u001b[0m \u001b[0;34m\u001b[0m\u001b[0m\n\u001b[0;32m---> 49\u001b[0;31m \u001b[0;32mfrom\u001b[0m \u001b[0mtensorflow\u001b[0m\u001b[0;34m.\u001b[0m\u001b[0mpython\u001b[0m \u001b[0;32mimport\u001b[0m \u001b[0mpywrap_tensorflow\u001b[0m\u001b[0;34m\u001b[0m\u001b[0m\n\u001b[0m\u001b[1;32m     50\u001b[0m \u001b[0;34m\u001b[0m\u001b[0m\n\u001b[1;32m     51\u001b[0m \u001b[0;31m# Protocol buffers\u001b[0m\u001b[0;34m\u001b[0m\u001b[0;34m\u001b[0m\u001b[0m\n",
      "\u001b[0;32m~/anaconda3/lib/python3.6/site-packages/tensorflow/python/pywrap_tensorflow.py\u001b[0m in \u001b[0;36m<module>\u001b[0;34m()\u001b[0m\n\u001b[1;32m     50\u001b[0m \u001b[0;32mfor\u001b[0m \u001b[0msome\u001b[0m \u001b[0mcommon\u001b[0m \u001b[0mreasons\u001b[0m \u001b[0;32mand\u001b[0m \u001b[0msolutions\u001b[0m\u001b[0;34m.\u001b[0m  \u001b[0mInclude\u001b[0m \u001b[0mthe\u001b[0m \u001b[0mentire\u001b[0m \u001b[0mstack\u001b[0m \u001b[0mtrace\u001b[0m\u001b[0;34m\u001b[0m\u001b[0m\n\u001b[1;32m     51\u001b[0m above this error message when asking for help.\"\"\" % traceback.format_exc()\n\u001b[0;32m---> 52\u001b[0;31m   \u001b[0;32mraise\u001b[0m \u001b[0mImportError\u001b[0m\u001b[0;34m(\u001b[0m\u001b[0mmsg\u001b[0m\u001b[0;34m)\u001b[0m\u001b[0;34m\u001b[0m\u001b[0m\n\u001b[0m\u001b[1;32m     53\u001b[0m \u001b[0;34m\u001b[0m\u001b[0m\n\u001b[1;32m     54\u001b[0m \u001b[0;31m# pylint: enable=wildcard-import,g-import-not-at-top,unused-import,line-too-long\u001b[0m\u001b[0;34m\u001b[0m\u001b[0;34m\u001b[0m\u001b[0m\n",
      "\u001b[0;31mImportError\u001b[0m: Traceback (most recent call last):\n  File \"/home/csc/anaconda3/lib/python3.6/site-packages/tensorflow/python/pywrap_tensorflow.py\", line 41, in <module>\n    from tensorflow.python.pywrap_tensorflow_internal import *\n  File \"/home/csc/anaconda3/lib/python3.6/site-packages/tensorflow/python/pywrap_tensorflow_internal.py\", line 28, in <module>\n    _pywrap_tensorflow_internal = swig_import_helper()\n  File \"/home/csc/anaconda3/lib/python3.6/site-packages/tensorflow/python/pywrap_tensorflow_internal.py\", line 24, in swig_import_helper\n    _mod = imp.load_module('_pywrap_tensorflow_internal', fp, pathname, description)\n  File \"/home/csc/anaconda3/lib/python3.6/imp.py\", line 243, in load_module\n    return load_dynamic(name, filename, file)\n  File \"/home/csc/anaconda3/lib/python3.6/imp.py\", line 343, in load_dynamic\n    return _load(spec)\nImportError: libcusolver.so.8.0: cannot open shared object file: No such file or directory\n\n\nFailed to load the native TensorFlow runtime.\n\nSee https://www.tensorflow.org/install/install_sources#common_installation_problems\n\nfor some common reasons and solutions.  Include the entire stack trace\nabove this error message when asking for help."
=======
   "execution_count": 2,
   "metadata": {
    "scrolled": true
   },
   "outputs": [
    {
     "name": "stderr",
     "output_type": "stream",
     "text": [
      "Using TensorFlow backend.\n"
>>>>>>> 8d3ec4ec5d4cd91c6b92aade672cc06441348277
     ]
    }
   ],
   "source": [
    "import tensorflow as tf\n",
    "import pandas as pd\n",
    "import numpy as np\n",
    "import sys\n",
    "import h5py\n",
    "import pickle\n",
    "import matplotlib.pyplot as plt\n",
    "from sklearn.linear_model import LinearRegression\n",
    "from sklearn.metrics import mean_absolute_error\n",
    "from sklearn.preprocessing import StandardScaler\n",
    "from sklearn.grid_search import GridSearchCV\n",
    "from hyperopt import fmin, tpe, hp, STATUS_OK, Trials\n",
    "from scipy.sparse import csr_matrix, hstack\n",
    "from sklearn.cross_validation import KFold, train_test_split\n",
    "from keras.models import Sequential\n",
    "from keras.models import save_model, load_model\n",
    "from keras.layers.advanced_activations import PReLU\n",
    "from keras.layers import Dense, Dropout, Activation, BatchNormalization\n",
    "from keras.callbacks import EarlyStopping\n",
    "import matplotlib.patches as mpatches\n",
    "\n",
    "\n",
    "%matplotlib inline"
   ]
  },
  {
   "cell_type": "code",
   "execution_count": 3,
   "metadata": {
    "collapsed": true
   },
   "outputs": [],
   "source": [
    "import time"
   ]
  },
  {
   "cell_type": "code",
   "execution_count": 4,
   "metadata": {
    "collapsed": true
   },
   "outputs": [],
   "source": [
    "import os\n",
    "os.environ[\"CUDA_VISIBLE_DEVICES\"]=\"0\"\n",
    "from keras import backend as K\n",
    "config = tf.ConfigProto()\n",
    "config.gpu_options.allow_growth=True\n",
    "sess = tf.Session(config=config)\n",
    "'''gpu_options = tf.GPUOptions(per_process_gpu_memory_fraction=0.5)\n",
    "sess = tf.Session(config=tf.ConfigProto(gpu_options=gpu_options))'''\n",
    "K.set_session(sess)"
   ]
  },
  {
   "cell_type": "code",
   "execution_count": 8,
   "metadata": {
    "collapsed": true
   },
   "outputs": [],
   "source": [
    "sess = tf.Session(config=tf.ConfigProto(log_device_placement=True))"
   ]
  },
  {
   "cell_type": "code",
   "execution_count": 3,
   "metadata": {},
   "outputs": [
    {
     "name": "stdout",
     "output_type": "stream",
     "text": [
      "[[5, 1], [16, 28], [41, 31], [18, 28], [5], [13], [47, 31], [21, 16], [47, 28], [22, 36, 1, 4]]\n",
      "[[ 5  1  0  0]\n",
      " [16 28  0  0]\n",
      " [41 31  0  0]\n",
      " [18 28  0  0]\n",
      " [ 5  0  0  0]\n",
      " [13  0  0  0]\n",
      " [47 31  0  0]\n",
      " [21 16  0  0]\n",
      " [47 28  0  0]\n",
      " [22 36  1  4]]\n",
      "____________________________________________________________________________________________________\n",
      "Layer (type)                     Output Shape          Param #     Connected to                     \n",
      "====================================================================================================\n",
      "embedding_1 (Embedding)          (None, 4, 8)          400         embedding_input_1[0][0]          \n",
      "____________________________________________________________________________________________________\n",
      "flatten_1 (Flatten)              (None, 32)            0           embedding_1[0][0]                \n",
      "____________________________________________________________________________________________________\n",
      "dense_1 (Dense)                  (None, 1)             33          flatten_1[0][0]                  \n",
      "====================================================================================================\n",
      "Total params: 433\n",
      "Trainable params: 433\n",
      "Non-trainable params: 0\n",
      "____________________________________________________________________________________________________\n",
      "None\n",
      "Accuracy: 89.999998\n"
     ]
    }
   ],
   "source": [
    "from keras.preprocessing.text import one_hot\n",
    "from keras.preprocessing.sequence import pad_sequences\n",
    "from keras.models import Sequential\n",
    "from keras.layers import Dense\n",
    "from keras.layers import Flatten\n",
    "from keras.layers.embeddings import Embedding\n",
    "# define documents\n",
    "docs = ['Well done!',\n",
    "\t\t'Good work',\n",
    "\t\t'Great effort',\n",
    "\t\t'nice work',\n",
    "\t\t'Excellent!',\n",
    "\t\t'Weak',\n",
    "\t\t'Poor effort!',\n",
    "\t\t'not good',\n",
    "\t\t'poor work',\n",
    "\t\t'Could have done better.']\n",
    "# define class labels\n",
    "labels = [1,1,1,1,1,0,0,0,0,0]\n",
    "# integer encode the documents\n",
    "vocab_size = 50\n",
    "encoded_docs = [one_hot(d, vocab_size) for d in docs]\n",
    "print(encoded_docs)\n",
    "# pad documents to a max length of 4 words\n",
    "max_length = 4\n",
    "padded_docs = pad_sequences(encoded_docs, maxlen=max_length, padding='post')\n",
    "print(padded_docs)\n",
    "# define the model\n",
    "model = Sequential()\n",
    "model.add(Embedding(vocab_size, 8, input_length=max_length))\n",
    "model.add(Flatten())\n",
    "model.add(Dense(1, activation='sigmoid'))\n",
    "# compile the model\n",
    "model.compile(optimizer='adam', loss='binary_crossentropy', metrics=['acc'])\n",
    "# summarize the model\n",
    "print(model.summary())\n",
    "# fit the model\n",
    "model.fit(padded_docs, labels,nb_epoch=50, verbose=0)\n",
    "# evaluate the model\n",
    "loss, accuracy = model.evaluate(padded_docs, labels, verbose=0)\n",
    "print('Accuracy: %f' % (accuracy*100))"
   ]
  },
  {
   "cell_type": "markdown",
   "metadata": {},
   "source": [
    "We'll build a conceptually simple [feedforward neuron network](https://en.wikipedia.org/wiki/Feedforward_neural_network), or a multilayer perceptron (MLP), a network wherein connections between the units do not form a cycle. In feedforward networks, information flows from the input function `x` through intermediate (hidden) layers of fully-connected units to the output `y`.\n",
    "\n",
    "**Terminology**. We use the terminology from Karpathy's [CS231n course](http://cs231n.github.io/neural-networks-1/). If a network consists of an input layer, a single hidden layer and an output layer, this is a **2-layer network** (we omit an input layer). If we add another hidden layer, we get a **3-layer network**, etc.\n",
    "\n",
    "To compute the hidden layer values and to yield nonlinear transformations, we need to choose activation functions for our network. We also need to design the overall architecture of the network which includes the following assumptions: how many hidden layers our MLP should contain, how many units there should be in each layer, whether we use regularization techniques (e.g. dropout), which gradient descent optimizer to choose and how to initialize weights for units."
   ]
  },
  {
   "cell_type": "markdown",
   "metadata": {},
   "source": [
    "## A note on computational complexity\n",
    "I had a hard time reducing the computational complexity of my MLPs. Finally, I decided to provide one of my production models (and methodology) I used at Kaggle, because it's somewhat unfair to compare the scores of different handicapped MLPs. Starting from Step 5, a special hardware (a modern GPU with enough memory) will be required to follow my computations. There are several ways to approach this issue:\n",
    "\n",
    "* (obvious) Use a good machine and follow through all the steps. An alternative would be to start up a EC2 AWS instance, specifically, p2.xlarge, a GPU-compute optimized instance. I wrote down a short guideline for AWS as well as the bash script which sets the system up. An Ireland-based spot instance will cost about \\$0.15-0.20 per compute-hour.\n",
    "\n",
    "* Run pretrained models (just like in the XGBoost part). There is a number of benefits for doing this. First, Hyperopt is not deterministic, thus, it won't provide the same results that I got. Second, it took me dozens of hours to test various combinations with Hyperopt (and the search is not over yet). Third, I'll provide a handicapped version of my final model which will be used in the ensemble. It won't be bagged (less stable), it will be trained on a small amount of epochs, but it should demonstrate some decent score.\n",
    "\n",
    "If you are not going to use pretrained models, change the following flag to `False`:"
   ]
  },
  {
   "cell_type": "code",
   "execution_count": 5,
   "metadata": {
    "collapsed": true
   },
   "outputs": [],
   "source": [
    "USE_PRETRAINED = False"
   ]
  },
  {
   "cell_type": "markdown",
   "metadata": {},
   "source": [
    "## Framework"
   ]
  },
  {
   "cell_type": "markdown",
   "metadata": {},
   "source": [
    "As with XGBoost, we start simple and train a basic MLP to set a baseline score for the next models. Then we determine which potential configurations may work better for us and run optimizations. Neural networks are known for having a large number of possible hyperparameters to tune. Having said that, we need to reduce the search space analytically and then start testing more prominent configurations.\n",
    "\n",
    "Even more, neural networks can be easily overfitted, thus, a bias-variance tradeoff should be revisited. We'll pay a special attention to the monitoring of MLP training. While searching for a better model, a k-fold cross-validation will be the required technique to obtain a reasonable score estimate. \n",
    "\n",
    "The dataset will be split into the training and the validation subsets to introduce early stopping which terminates learning when the validation error starts to increase consistenly.\n",
    "\n",
    "### Methodology\n",
    "Methodologically, our process will be divided in the following steps:\n",
    "\n",
    "* **Step 1.** Define a basic neural network configuration, train it, get a score which will be used as the lower margin of MLP performance.\n",
    "\n",
    "\n",
    "* **Step 2.** Discuss the performance of a 2-layer model in context of bias-variance tradeoff and common issues: overfitting, instability due to high variance. \n",
    "\n",
    "\n",
    "* **Step 3.** Define a 3-layer model. Show the potential overfitting issues. Introduce cross-validation to prevent overfitting.\n",
    "\n",
    "\n",
    "* **Step 4.** Experiment with hyperparameters manually, train several prominent configurations with decent scores, cross-validate models.\n",
    "\n",
    "\n",
    "* **Step 5.** Introduce Hyperopt to test hyperparameters space and find out which are more robust.\n",
    "\n",
    "\n",
    "* **Step 6.** After several rounds of Hyperopt, define and train the winning model, cross-validate the results.\n",
    "\n",
    "\n",
    "### The use of Keras (frontend) and TensorFlow (backend)\n",
    "To define and train neural networks, we'll use Keras, a _very_ straightforward and friendly library which works on top of TensorFlow (and Theano) with a minimum overhead. It's a great choice for experimentation and fast prototyping as it enables us to focus on the network configuration inself and not on the implementation of gradient descent, optimizers, backprop, details of weights initialization or activation functions. No doubt, we should have a solid understanding of how things work, but Keras is fine for our current purposes. \n",
    "\n",
    "Actually, Keras is so simple that it feels like cheating :)"
   ]
  },
  {
   "cell_type": "markdown",
   "metadata": {
    "collapsed": true
   },
   "source": [
    "We are going to approximate gradient over the batches of data since this method is more cost efficient (due to vectorized computations) and provides a faster convergence than to use a single training example at a time. Also, this is the default way to fit the model in Keras. We'll primarily use Adam gradient descent optimizer, though, any optimizer will be sufficient for our purposes (which is **not** true for Kaggle).\n",
    "\n",
    "\n",
    "## Basic data preprocessing\n",
    "We start with some data preprocessing. We need to convert categorical features with one-hot encoding and see how many dimensions we'll have afterwards."
   ]
  },
  {
   "cell_type": "code",
   "execution_count": 6,
   "metadata": {},
   "outputs": [
    {
     "name": "stdout",
     "output_type": "stream",
     "text": [
      "(188318, 1153)\n",
      "(188318,)\n"
     ]
    },
    {
     "data": {
      "text/plain": [
       "((188318, 1153), (188318,))"
      ]
     },
     "execution_count": 6,
     "metadata": {},
     "output_type": "execute_result"
    }
   ],
   "source": [
    "train = pd.read_csv('train.csv')\n",
    "\n",
    "cat_names = [c for c in train.columns if 'cat' in c]\n",
    "\n",
    "train = pd.get_dummies(data=train, columns=cat_names)\n",
    "\n",
    "features = [x for x in train.columns if x not in ['id','loss']]\n",
    "\n",
    "train_x = np.array(train[features])\n",
    "\n",
    "ntrain = train_x.shape[0]\n",
    "\n",
    "# np.log(train['loss'] + 200) provides\n",
    "# a better score, but let's keep it simple now\n",
    "train_y = np.array(train['loss'])\n",
    "\n",
    "print (train_x.shape)\n",
    "print (train_y.shape)\n",
    "train_x.shape, train_y.shape"
   ]
  },
  {
   "cell_type": "markdown",
   "metadata": {
    "collapsed": true
   },
   "source": [
    "## Step 1: 2-layer model definition and training"
   ]
  },
  {
   "cell_type": "markdown",
   "metadata": {
    "collapsed": true
   },
   "source": [
    "Let's outline the architecture of our basic model. As we are training our first model, we start with just a single hidden layer architecture. Such an approach is recommended from [multiple](http://stackoverflow.com/questions/10565868/multi-layer-perceptron-mlp-architecture-criteria-for-choosing-number-of-hidde) [sources](http://www.deeplearningbook.org/contents/guidelines.html). The beauty of training a simple model is that it's harder to overfit, it trains faster and we get the results quicker.\n",
    "> After choosing performance metrics and goals, the next step in any practical application is to establish a reasonable end-to-end system as soon as possible.\n",
    "\n",
    "> *Ian Goodfellow and Yoshua Bengio and Aaron Courville, Deep Learning Book*\n",
    "\n",
    "Here's our first architecture:\n",
    "\n",
    "<table>\n",
    "<tr><td>\n",
    "<img src=\"http://cdn.rawgit.com/dnkirill/allstate_capstone/master/images/mlp1.svg\"></td>\n",
    "<td width=\"40%\">\n",
    "<p>This network contains just a single hidden layer with ReLU activation, which is connected with a single-unit output layer. All layers are dense, we don't implement dropout yet.</p>\n",
    "\n",
    "<p><b>Input layer</b> consists of `train_x.shape[1] + 1` nodes: all our features and the bias term. Keras adds it automatically if we don't specifically set `bias=False` while initializing [Dense](https://github.com/fchollet/keras/blob/master/keras/layers/core.py) layer.</p>\n",
    "\n",
    "<p>A single <b>hidden layer</b> consists of 128 nodes with ReLU activation function.</p>\n",
    "\n",
    "<p><b>Output layer</b> is just a single unit (this is a regression problem) with `mean_absolute_error` objective we are trying to optimize. After computing the loss, the model starts calculating gradients and backpropagating them to input layer through the hidden layer.</p>\n",
    "</td>\n",
    "</tr></table>"
   ]
  },
  {
   "cell_type": "markdown",
   "metadata": {},
   "source": [
    "Now it's time to define our model and start training. **The purpose of this section is to revisit the bias-variance tradeoff, but not to train the optimal model.**\n",
    "\n",
    "Right now, we *won't* use cross-validation and just plot the learining curve using the validation subset taken from the training set. We'll return to CV later in this section.\n",
    "\n",
    "My first assumption is that the nonlinear relationships in dataset will require several hidden layers and a single hidden layer model will struggle to fit this data. This will result in underfitting. In other words, our model is supposed to be biased. \n",
    "\n",
    "To test this out, we train a model with a single hidden layer, observe its performance and only then we go deeper."
   ]
  },
  {
   "cell_type": "code",
   "execution_count": 7,
   "metadata": {
    "collapsed": true
   },
   "outputs": [],
   "source": [
    "def mlp_model():\n",
    "    model = Sequential()\n",
    "    model.add(Dense(128, input_dim=train_x.shape[1]))\n",
    "    model.add(Activation('relu'))\n",
    "    model.add(Dense(1))\n",
    "    model.compile(loss='mae', optimizer='adam')\n",
    "    return model"
   ]
  },
  {
   "cell_type": "markdown",
   "metadata": {},
   "source": [
    "If we set verbose flag to 1, Jupyter may get stuck (text cell overflow). Let's pipeline stdout to a file. An easy way to monitor the training would be to `tail -f mlp_v1_out.txt` from command line."
   ]
  },
  {
   "cell_type": "code",
   "execution_count": 8,
   "metadata": {
    "collapsed": true
   },
   "outputs": [],
   "source": [
    "_stdout = sys.stdout"
   ]
  },
  {
   "cell_type": "code",
   "execution_count": null,
   "metadata": {},
   "outputs": [
    {
     "name": "stderr",
     "output_type": "stream",
     "text": [
      "/home/coder.chenshicheng/anaconda3/envs/python2/lib/python2.7/site-packages/keras/models.py:874: UserWarning: The `nb_epoch` argument in `fit` has been renamed `epochs`.\n",
      "  warnings.warn('The `nb_epoch` argument in `fit` '\n"
     ]
    }
   ],
   "source": [
    "time1 = time.time()\n",
    "# Model: mlp_v1\n",
    "\n",
    "mlp = mlp_model()    \n",
    "\n",
    "if USE_PRETRAINED: \n",
    "    \n",
    "    # These .h5 models contain all the weights of a MLP\n",
    "    # They are not really required for the project, but may\n",
    "    # be useful to glance how trained models are saved\n",
    "    mlp = load_model('pretrained/mlp_v1.h5')\n",
    "    with open('pretrained/mlp_v1_hist.pkl', 'rb') as f:\n",
    "        hist = pickle.load(f)\n",
    "else:\n",
    "    sys.stdout = open('mlp_v1_out.txt', 'w')\n",
    "    fit = mlp.fit(train_x, train_y, validation_split=0.2, \n",
    "                  batch_size=128, nb_epoch=40, verbose=1)\n",
    "    hist = fit.history\n",
    "time.time()-time1"
   ]
  },
  {
   "cell_type": "code",
   "execution_count": 19,
   "metadata": {},
   "outputs": [
    {
     "data": {
      "text/plain": [
       "('Validation loss by epoch 40:', 1177.4220600241611)"
      ]
     },
     "execution_count": 19,
     "metadata": {},
     "output_type": "execute_result"
    }
   ],
   "source": [
    "\"Validation loss by epoch 40:\", hist['val_loss'][-1]"
   ]
  },
  {
   "cell_type": "code",
   "execution_count": 38,
   "metadata": {
    "collapsed": true
   },
   "outputs": [],
   "source": [
    "models_history = {}\n",
    "models_history['mlp_v1'] = hist"
   ]
  },
  {
   "cell_type": "markdown",
   "metadata": {},
   "source": [
    "Now we plot 1) the loss on training set throughout learning, 2) zoom in the last 20 epochs:"
   ]
  },
  {
   "cell_type": "code",
   "execution_count": 39,
   "metadata": {},
   "outputs": [
    {
     "data": {
      "image/png": "iVBORw0KGgoAAAANSUhEUgAAA7wAAAFNCAYAAAAjEmOiAAAABHNCSVQICAgIfAhkiAAAAAlwSFlz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\nkgbJgleSJEmSNEgWvJIkSZKkQfo/7g9sKg6PyKYAAAAASUVORK5CYII=\n",
      "text/plain": [
       "<matplotlib.figure.Figure at 0x7fdc702efd68>"
      ]
     },
     "metadata": {},
     "output_type": "display_data"
    }
   ],
   "source": [
    "def plot_mlp_loss(history, title):\n",
    "    fig, (ax1, ax2) = plt.subplots(1,2)\n",
    "    fig.set_size_inches(16,5)\n",
    "\n",
    "    ax1.set_title('{} 40 epochs'.format(title))\n",
    "    ax1.set_xlabel('Epochs')\n",
    "    ax1.set_ylabel('Loss')\n",
    "    ax1.grid(True)\n",
    "    ax1.plot(history['loss'], label='Training Loss')\n",
    "    ax1.plot(history['val_loss'], label='Validation Loss')\n",
    "    ax1.legend()\n",
    "\n",
    "    ax2.set_title('{} last 20 epochs'.format(title))\n",
    "    ax2.set_xlabel('Epochs')\n",
    "    ax2.set_ylabel('Loss')\n",
    "    ax2.grid(True)\n",
    "    ax2.set_xticklabels(range(20,40,5))\n",
    "    ax2.plot(history['loss'][20:40], label='Training Loss')\n",
    "    ax2.plot(history['val_loss'][20:40], label='Validation Loss')\n",
    "    ax2.legend()\n",
    "    \n",
    "plot_mlp_loss(models_history['mlp_v1'], 'mlp_v1')"
   ]
  },
  {
   "cell_type": "markdown",
   "metadata": {},
   "source": [
    "## Step 2: Performance of a 2-layer MLP\n",
    "To my surprise, this model performed really well. From the plots we see that the validation error still decreases by the epoch 40. Such a model lacks extreme predictive power, but we still get many benefits:\n",
    "\n",
    "\n",
    "* There are no signs of overfitting. This model naturally avoids overfitting and the difference between training and validation errors is small, which is a good feature.\n",
    "\n",
    "\n",
    "* This model is quite stable (no excessive variance). I run it a number of times, and every time I got a predictable score.\n",
    "\n",
    "\n",
    "* It's been fit rapidly. In a prodution environment, this feature can be crucial, e.g., we may have to frequently retrain models or our hardware may be slow enough to force us exclude complex models.\n",
    "\n",
    "\n",
    "### Increasing the batch size\n",
    "To speed the training up, we can increase the `batch_size` which will effectively decrease the amount of iterations of loss calculations per epoch. There is a tradeoff: we win on training time, but (due to a rougher gradient approximation) we lose on model's predictive power. Also, the further we increase the batch size, the less we win on training time.\n",
    "\n",
    "Let's train the same model on `batch_size=256` and see the results."
   ]
  },
  {
   "cell_type": "code",
   "execution_count": 36,
   "metadata": {
    "collapsed": true
   },
   "outputs": [],
   "source": [
    "mlp = mlp_model()\n",
    "\n",
    "if USE_PRETRAINED:\n",
    "    mlp = load_model('pretrained/mlp_v2.h5')\n",
    "    with open('pretrained/mlp_v2_hist.pkl', 'rb') as f:\n",
    "        hist = pickle.load(f)\n",
    "else:\n",
    "    sys.stdout = open('mlp_v2_out.txt', 'w')\n",
    "    fit = mlp.fit(train_x, train_y, validation_split=0.2, \n",
    "                  batch_size=256, nb_epoch=40, verbose=1)\n",
    "    hist = fit.history"
   ]
  },
  {
   "cell_type": "code",
   "execution_count": 40,
   "metadata": {
    "collapsed": true
   },
   "outputs": [],
   "source": [
    "models_history['mlp_v2'] = hist"
   ]
  },
  {
   "cell_type": "code",
   "execution_count": 41,
   "metadata": {},
   "outputs": [
    {
     "data": {
      "text/plain": [
       "('Validation loss by epoch 40:', 1180.9774677078908)"
      ]
     },
     "execution_count": 41,
     "metadata": {},
     "output_type": "execute_result"
    }
   ],
   "source": [
    "\"Validation loss by epoch 40:\", hist['val_loss'][-1]"
   ]
  },
  {
   "cell_type": "code",
   "execution_count": 42,
   "metadata": {
    "scrolled": true
   },
   "outputs": [
    {
     "data": {
      "image/png": "iVBORw0KGgoAAAANSUhEUgAAA7wAAAFNCAYAAAAjEmOiAAAABHNCSVQICAgIfAhkiAAAAAlwSFlz\nAAALEgAACxIB0t1+/AAAADl0RVh0U29mdHdhcmUAbWF0cGxvdGxpYiB2ZXJzaW9uIDIuMS4wLCBo\ndHRwOi8vbWF0cGxvdGxpYi5vcmcvpW3flQAAIABJREFUeJzs3Xl8FdX5x/HPkx2SsCXsqGyKsi8R\nQQRjFQQUUXBDRUWFulXUakXbX7VWW9uqddeigEsRXBC1CqJVIlBENtkEBGTRALIKJEAISc7vjzvB\nEG5CCLmZ3OT7fr3ui5szM+c+kwBPnjlnzphzDhEREREREZHKJsLvAERERERERERCQQWviIiIiIiI\nVEoqeEVERERERKRSUsErIiIiIiIilZIKXhEREREREamUVPCKiIiIiIhIpaSCVyQEzKypmTkzi/I7\nlsrAzNab2Xl+xyEiIhVDRcuzZvaQmf3b7zgqOuVz8YMKXpEwZGb1zGyCmW0ys91m9j8zO6OEx35R\n+JcE7xeH6Wa2z8xWKhmJiEhVdjx59jg+M9XM0o+yz71mtszMMsxsnZndW2i78rlIISp4RcJTAjAP\n6ALUAV4DPjazhOIOMrOrgWBXwycA3wBJwO+Bd82sbplGLCIiEj5KlWfLgQHXArWBvsDtZnZlge3K\n5yKFqOAVKSFvGs69ZrbEzPaa2Rgzq29mU70rrf81s9pFHJtmZn81s7neleIPzKzOUT7vEzO7vVDb\nYjMb5Jxb65x70jm32TmX65wbDcQArYrprybwIPC7Qu2nAJ2BB51z+51zk4ClwOAi+ok1s8fN7Acz\n22JmL5lZNW9bqpmlm9kDZrbd+55dXTAGM3vdzLaZ2QYz+4OZRRTYPtzMVnjfz+Vm1rnAR3f0vve7\nzewtM4vzjkk2s4/MbJeZ7TSzmQX7FBGR8BDuebZQP++Y2U9eLDPMrE2Bbf29HJdhZhvN7B4ziwem\nAo3MLNN7NSrcr3Pu7865hc65HOfcd8AHQA+vX+VzkSD0l0jk2AwGegOnAAMIJKcHgGQC/57uKObY\na4EbgEZADvDMUT7rTWBI/hdm1ho4Cfi48I5m1pFAIl5TTH9/AV4EfirU3gZY65zLKNC22GsP5m8E\nzr8j0BJoDPyxwPYGBL4fjYHrgNFmlv8LwrNATaA5cDaB78kw7xwuAx7y2moAFwE7CvR7OYGr2c2A\n9sD1XvtvgXSgLlCfwM/DFRG7iIhUbOGcZwuaCpwM1AMWAuMLbBsD/No5lwi0Bb5wzu0F+gGbnHMJ\n3mtTcR9gZgb0BL71mpTPRYJQwStybJ51zm1xzm0EZgJfO+e+cc4dACYDnYo59g3n3DIvqf0fcLmZ\nRRaz/2QCV0FP8r6+GnjP+6xDzKwG8AbwJ+fc7mAdmVkKgSvAzwbZnAAUPm43kBikHwOGA3c553Z6\nSfUvwJWFdv0/59wB59yXBH5xyD/XK4D7nXMZzrn1wBPAUO+Ym4C/O+fmuYA1zrkNBfp8xjm3yTm3\nE/gPgQQNcBBoCJzknDvonJvpnFOCFBEJT2GZZwtzzo31ct0BAsVfB2+mFQTyVmszq+Gc+9k5t7Ak\nfQbxEIHf5cd5XyufiwShglfk2Gwp8H5/kK+Lu7fnxwLvNwDRBK6cBuUln4/5JflcyeFXiPGmHv0H\nmOOc+2uwfrzpQC8AI51zOUF2ySRwBbagGkBGkH3rAtWBBd6Uo13AJ157vp+9XzbybSBwtT2ZwNXx\nDYW2NfbenwB8H+wcPAVHpvfxy/f6HwSuuH9qZmvNbFQxfYiISMUWdnm2MDOLNLPHzOx7M9sDrPc2\n5ccyGOgPbDCzL82se0n6LfQZtxMYQb2gQIGufC4ShApekfJzQoH3JxK4krn9KMdMAIZ4ybAaMD1/\ng5nFAu8DG4FfF9NHDSAFeMvMfiKwCAdAupnlT4VqbmYFrwB34JcpUgVtJ/ALRxvnXC3vVdM5V/AX\nkNrevUgFz3WTd+xBAtPFCm7b6L3/EWhRzHkE5V1d/q1zrjmB6W93m9m5x9qPiIiEPb/ybGFXAQOB\n8whM+22a3yWAN/I5kMB05/eBt73tJRrNNLMbgFHAuc65gqs6K5+LBKGCV6T8XGNmrc2sOvAw8K5z\nLvcox0whkFAeBt5yzuUBmFk08C6BZHVtfnsRdhO4ItvRe/X32rsQmCq2ClgEPGhmcWZ2CYF7aiYV\n7sj7nJeBf5pZPS+WxmZ2fqFd/2RmMV5BfSHwjneubwOPmlmiN4XsbiD/uYWvAPeYWRcLaFlgmlmR\nzOxCb18D9gC53ktERKoWv/JsYYnAAQL3rVYnMFUYr98YM7vazGo65w7yS96CwGh2UoGpz0fwFo76\nC9DbObe24Dblc5HgVPCKlJ83gFcJTOWJo/iFNwDwpim9R+Aq8ZsFNp1JIPH0AXbZLys69gzSh3PO\n/ZT/ArZ5m7Y457K991cSGAX+GXgMuNQ5t61wX577CEw5muNN1fovh69a+ZPXzyYCU8Nuds6t9Lb9\nBtgLrAVmeec01ovzHeBRry2DwFXvYlfY9JzsxZAJfAW84JxLK8FxIiJSufiSZ4N4ncAU343AcmBO\noe1DgfVeDr0ZuMaLZSWBEee13jTjI1ZpBh4h8MiheQVieqnAduVzkUJM94KLhJ6ZpQH/ds694ncs\noWRmqQTOs4nfsYiISNVRVfJseVE+l8pEI7wiIiIiIiJSKangFfGRdx9PZpBXsAUmRERE5Bgoz4qI\npjSLiIiIiIhIpaQRXhERkUrAzMaa2VYzW1ag7R9mttLMlpjZZDOrVWDb/Wa2xsy+K7gyq5n19drW\nFPUcTDOLNbO3vH2+NrOmoTw3ERGR0lLBKyIiUjm8CvQt1PYZ0NY51x5YBdwPYGatCazm2sY75gUz\nizSzSOB5oB/QmsDzSVsH+awbgZ+dcy2BfwJ/K/vTEREROX5RfgcQCsnJya5p06Zl0tfevXuJj48/\n+o4VkGL3TzjHr9j9E87xV/bYFyxYsN05V7ecQioV59yMwiOtzrlPC3w5B7jUez8QmOg9kmWdma0B\nunrb1uQ/39PMJnr7Li/0cQOBh7z37wLPmZm5Yu6TUm7+RbjHDzqHiiDc44fwP4dwjx/C+xxKmpsr\nZcHbtGlT5s+fXyZ9paWlkZqaWiZ9lTfF7p9wjl+x+yec46/ssZvZhvKJJqRuAN7y3jfm8GeDpntt\nAD8Waj8jSF+N8/dzzuWY2W4CzwbdXtSHKzf/ItzjB51DRRDu8UP4n0O4xw/hfQ4lzc2VsuAVERGR\nX5jZ74EcYHx+U5DdHMFvdQo2alvU8YU/dwQwAqB+/fqkpaWVJNyjyszMLLO+/BDu8YPOoSII9/gh\n/M8h3OOHynEORxOygtfMTgBeBxoAecBo59zTZvYPYACQDXwPDHPO7fKOuZ/AfUG5wB3OuWlee1/g\naSASeMU591io4hYREalMzOw64ELg3AJTjtOBEwrs1gTY5L0vqr2g/OPTzSwKqAnsLLyTc240MBog\nJSXFldUoQjiPSED4xw86h4og3OOH8D+HcI8fKsc5HE0oF63KAX7rnDsN6Abc5i18EaoFNERERKQA\n74LxfcBFzrl9BTZ9CFzprbbcDDgZmAvMA042s2ZmFkMgL38YpOsPgeu895cCXxR3/66IiIhfQjbC\n65zbDGz23meY2QqgcQgX0BARqTAOHjxIeno6WVlZJT6mZs2arFixIoRRhU5liT0uLo4mTZoQHR3t\nc1THzswmAKlAspmlAw8SuKgcC3xmZgBznHM3O+e+NbO3CeTSHOA251yu18/twDQCs6rGOue+9dof\nBuY75z4ExgBveLl6J4HCWESkQitNbi5OOOe+fOFwDsebm8vlHl5v1chOwNeFNpXlAhoiIhVGeno6\niYmJNG3aFK/QOKqMjAwSExNDHFloVIbYnXPs2LGD9PR0mjVr5ndYx8w5NyRI85hi9n8UeDRI+xRg\nSpD2PxZ4nwVcVrpIRUT8UZrcXJxwzn35Kvo5lEVuDnnBa2YJwCTgTufcngLtZbqAhhbGOJJi9084\nx6/Yy0bNmjVJSkoiMzOzxMfk5uaSkZERwqhCp7LEHhMTw65duyrM3yMRESk7WVlZZVbsSvkwM5KS\nkti2bVup+whpwWtm0QSK3fHOufcKtJf5AhpaGONIit0/4Ry/Yi8bK1asoEaNGsd0TEW/ylqcyhR7\nXFwcnTp18jEiEREJFRW74ed4f2YhW7TKApGNAVY4554s0B6qBTRERMSzY8cOOnbsSMeOHWnQoAGN\nGzc+9HV2dnaJ+hg2bBjfffddsfs8//zzjB8/vth9Suqss85i0aJFZdKXiIhIRaPc7I9QjvD2AIYC\nS80s/7v0APAMZbSAhoiIBJeUlHQoQT300EMkJCRwzz33HLaPcw7nHBERwa99jhs37qifc9tttwGE\n7XRmERGR8lLeuVkCQjbC65yb5Zwz51x751xH7zXFOdfSOXdCgbabCxzzqHOuhXOulXNuaoH2Kc65\nU7xtRyywESofLdnE8h255fVxIiIht2bNGtq2bcvNN99M586d2bx5MyNGjCAlJYU2bdrw8MMPH9o3\n/6puTk4OtWrVYtSoUXTo0IHu3buzdetWAP7whz/w1FNPHdp/1KhRdO3alVatWjF79mwA9u7dy+DB\ng+nQoQNDhgwhJSWlxFeL9+/fz3XXXUe7du3o3LkzM2bMAGDp0qWcfvrpdOzYkfbt27N27VoyMjLo\n168fHTp0oG3btrz77rtl+a2TCuKTZZv5YY9ys4hUHn7m5jPPPLPS5+ZQPoc37D352SrSfjzodxgi\nImVq+fLl3HjjjXzzzTc0btyYxx57jPnz57N48WI+++wzli8/8qlvu3fv5uyzz2bx4sV0796dsWPH\nBu3bOcfcuXP5xz/+cShBP/vsszRo0IDFixczatQovvnmmxLH+swzzxATE8PSpUt54403GDp0KNnZ\n2bzwwgvcc889LFq0iHnz5tGoUSOmTJlC06ZNWbx4McuWLaN3796l+wZJhZV1MJc/f7SCJxccYNOu\n/X6HIyJSZvzKzbNnz670ublcHksUrpLjY8nYo4QqIsfnT//5luWb9hx1v9zcXCIjI0vUZ+tGNXhw\nQJtSxdOiRQtOP/30Q19PmDCBMWPGkJOTw6ZNm1i+fDmtW7c+7Jhq1arRr18/ALp06cLMmTOD9j1o\n0KBD+6xfvx6AWbNmcd999wHQoUMH2rQpedyzZs3i3nvvBaBNmzY0atSINWvWcOaZZ/LII4+wYcMG\nBg0aRMuWLWnfvj2jRo1i1KhRDBgwgB49epT4cyQ8xEVHMub6FC55bibDxs3j7Zu7U7Na+D0zWUT8\nV9LcXJzCeVu5uWLmZo3wFqNOfAx7so94ApKISFiLj48/9H716tU8/fTTfPHFFyxZsoS+ffuSlZV1\nxDExMTGH3kdGRpKTkxO079jY2CP2+WUx/mNX1LFDhw5l8uTJxMbG0rt3b2bMmMFpp53G/PnzadOm\nDffeey9/+ctfSv25UnGd2qAGv+kUx9rtmdzy7wVk5+T5HZKIyHFTbg4djfAWIylBBa+IHL+SXu31\n49E+e/bsITExkRo1arB582amTZtG3759y/QzzjrrLN5++2169uzJ0qVLg07LKkqvXr0YP348vXr1\nYsWKFWzevJmWLVuydu1aWrZsyciRI1m9ejVLliyhRYsWJCcnM3ToUKpVq8bEiRPL9Dyk4midFMnf\nBrfn7rcXM2rSEp64vIMeNSIix6S0I7EFhSpvl2du7tixY6XPzSp4i5GUEEtmNuTmOSIjlEhFpPLp\n3LkzrVu3pm3btjRv3jwkU41+85vfcO2119K+fXs6d+5M27ZtqVmzZtB9zz//fKKjA1NUe/bsydix\nY/n1r39Nu3btiI6O5vXXXycmJoY333yTCRMmEB0dTaNGjXjkkUcO3YcUERFBTEwML730Upmfi1Qc\ngzo3YdOu/Tz+6Soa1arGPee38jskEZEyUZ65uXv37qSkpFTu3Jy/9HVlenXp0sWVhddmr3Mn3feR\n25aRVSb9lbfp06f7HUKphXPszoV3/Iq9bCxfvvyYj9mzZ08IIikfxcV+8OBBt3//fuecc6tWrXJN\nmzZ1Bw8eLK/Qjqpw7MF+dsB8VwHyWzi/yio3O/fLv/W8vDw3atJid9J9H7nxczaUWf+hVpH+ryot\nnYP/wj1+58r/HEqTm4sTznk7Pzfv2bOnQubmwo4nN2uEtxhJ8YH57jsys0lOiPU5GhGR8JSZmcm5\n555LTk4Ozjn+9a9/ERWl9CPHz8z488C2/LQ7i//7YBkNa8Zxzqn1/A5LRKTCy8/N2dnZmFmlzs2V\n86zKSFJC4EbwHZkHgPK9r05EpLKoVasWCxYs8DsMqaSiIiN47qrOXDl6Dre9uZC3RnSnXZPg0/JE\nRCQgPzf7sX5IedMqzcVI9gre7XuzfY5EREREihIfG8WY61OoXT2GYa/O48ed+/wOSUREKggVvMX4\nZUrzAZ8jERERkeLUS4zjtRtO52BuHteNm8uufbpYLSIiKniLVbNaNBEWuIdXREREKraW9RJ5+doU\n0nfuZ/jr88k6mOt3SCIi4jMVvMWIiDASY4wdezXCKyIiEg66NqvDE5d3YN76n/ntO4vJy3N+hyQi\nIj5SwXsUNWKM7RrhFZEwk5qayrRp0w5re+qpp7j11luLPS4hIQGATZs2cemllxbZ9/z584vt56mn\nnmLfvl/uo+zfvz+7du0qSejFeuihh3j88cePux+p3AZ0aMQD/U/l4yWb+evUFX6HIyICKDf7RQXv\nUdSIgZ1atEpEwsyQIUOYOHHiYW0TJ05kyJAhJTq+UaNGvPvuu6X+/MJJdcqUKdSqVavU/Ykcq+E9\nm3Nd95N4eeY6Xv3fOr/DERFRbvaJCt6jSIwxLVolImHn0ksv5aOPPuLAgcD/X+vXr2fTpk2cddZZ\nh56917lzZ9q1a8cHH3xwxPHr16+nbdu2AOzfv58rr7yS9u3bc8UVV7B///5D+91yyy2kpKTQtWtX\nHnzwQQCeeeYZNm3axDnnnMM555wDQNOmTdm+fTsATz75JG3btqVt27Y89dRThz7vtNNOY/jw4bRp\n04Y+ffoc9jlHE6zPvXv3csEFF9ChQwfatm3LW2+9BcCoUaNo3bo17du355577jmm76uEDzPjjwPa\n0Kd1ff700XI+WfaT3yGJSBVX3rm5TZs2R83NO3bsACp3btZzeI8iMcb4dqdGeEUkvCQlJdG1a1c+\n+eQTBg4cyMSJE7niiiswM+Li4pg8eTI1atRg+/btdOvWjYsuuggzC9rXiy++SPXq1VmyZAlLliyh\nc+fOh7Y9+uij1KlTh127dnHxxRezZMkS7rjjDp588kmmT59OcnLyYX0tWLCAcePG8fXXX+Oc44wz\nzuDss8+mdu3arF69mgkTJvDyyy9z+eWXM2nSJK655pqjnmtRfa5du5ZGjRrx8ccfA7B792527tzJ\n5MmTWblyJWZWJlO5pOKKjDCevrITV70yh5ETv+HN4d3oclJtv8MSkSqqvHNzbm4u5557bpXPzSp4\nj6JGjJFx4CBZB3OJi470OxwRCUdTR8FPS4+6W7XcHIgs4X/LDdpBv8eK3SV/6lR+Uh07diwAzjke\neOABZsyYQUREBBs3bmTLli00aNAgaD8zZszgjjvuAKB9+/a0b9/+0La3336b0aNHk52dzZYtW1i+\nfPlh2wubNWsWl1xyCfHx8QAMGjSImTNnctFFF9GsWTM6duwIQJcuXVi/fn2JvhVF9dm3b1/uuece\n7rvvPi688EJ69uxJTk4OcXFx3HTTTVxwwQVceOGFh660S+VULSaSV65NYfCLs7nptXm8d2sPmiXH\n+x2WiPithLm5OEfk7QqWm3Nycti8eXNY5uaypCnNR1EjJnBVRffxiki4ufjii/n8889ZuHAh+/fv\nP3T1d/z48Wzbto0FCxawaNEi6tevT1ZWVrF9BbvCvG7dOh5//HE+//xzvvrqKy644IKj9uNc0Svm\nxsbGHnofGRlJTk5OsX0drc9TTjmFBQsW0K5dO+6//34efvhhoqKimDt3LoMHD+b999+nb9++JfoM\nCW9JCbG8OqwrZsb14+ayXbcqiYhPyjM3L1myRLkZjfAeVY3YwF+kHZnZNKpVzedoRCQsHeVqb779\nGRkkJiaW2ccmJCSQmprKDTfccNiCGLt376ZevXpER0czffp0NmzYUGw/vXr1Yvz48ZxzzjksW7aM\nJUuWALBnzx7i4+OpWbMm69atY+rUqaSmpgKQmJhIRkbGEdOmevXqxfXXX8+oUaNwzjF58mTeeOON\n4zrPovrctGkTderU4ZprriEhIYFXX32VzMxM9u3bR//+/enWrRstW7Y8rs+W8NE0OZ5XrkthyOg5\n3PTafCYM70a1GM3cEqmySpibi1OavF2euXnLli3KzajgPapEb4R3u57FKyJhaMiQIQwaNOiwVSGv\nvvpqBgwYQEpKCh07duTUU08tto9bbrmFYcOG0b59ezp27EjXrl0B6NChA506daJNmzaceOKJ9OjR\n49AxI0aMoF+/fjRs2JDp06cfau/cuTPXX3/9oT5uuukmOnXqVOIpUgCPPPLIocUvANLT04P2OW3a\nNO69914iIiKIjo7mxRdfJCMjg4EDB5KVlYVzjn/+858l/lwJf51PrM3TV3bilvELuGPiN7x0TRci\nI4LfHyciEirllZubN2+u3AyB4ebK9urSpYsrK299/Lk76b6P3DvzfyyzPsvL9OnT/Q6h1MI5dufC\nO37FXjaWL19+zMfs2bMnBJGUj8oUe7CfHTDfVYD8VtQLGAtsBZYVaLsM+BbIA1IKtMcA44ClwGIg\n1WtPBBYVeG0HngryWU2B/QX2e6kkMZZlbj7ef+vjZq11J933kfvj+0tdXl5e2QR1DCrS/1WlpXPw\nX7jH71z5n0NpcnNxwjn35QuXczie3KwR3qPIv4dXjyYSEZEK7FXgOeD1Am3LgEHAvwrtOxzAOdfO\nzOoBU83sdOdcBtAxfyczWwC8V8Tnfe+c61jEtgrv+h7N2LhrPy/PXEejWtX49dkt/A5JRERCRAXv\nUcRGQlx0BDu0aJWIiFRQzrkZZta0UNsKCLqoSWvgc2+frWa2C0gB5ubvYGYnA/WAmSEL2mf39zuN\nTbuz+OvUlUSYMbxXc79DEhGRENAqzUdhZiTFx2pFRxERqSwWAwPNLMrMmgFdgBMK7TMEeMubMhZM\nMzP7xsy+NLOeoQw2VCIijH9e3pEL2jXk0Skr+Me0lcWuVCoiIuFJI7wlkJwQw45MjfCKyLFxzhX5\nwHipmKpIwTMWOA2YD2wAZgOFnzNxJTC0iOM3Ayc653aYWRfgfTNr45zbU3hHMxsBjACoX78+aWlp\nZXICmZmZZdbX4EaOzJ+jeH7696xYs4FrWscQEeJ/t2UZv190Dv4L9/ih/M+hZs2a7Nmzp8xyc25u\nLhkZGWXSl1/C4Rycc2RlZZX674oK3hJISohla0bxz68SESkoLi6OHTt2kJSUpKI3TDjn2LFjB3Fx\ncX6HElLOuRzgrvyvzWw2sLrA1x2AKOfcgiKOPwAc8N4vMLPvgVMIFNCF9x0NjAZISUlx+Y/GOF5p\naWmUVV8A56Q6HvtkJf/6ci0JderxxOUdiI4M3SS4so7fDzoH/4V7/FD+57Bu3Tqys7PLLDdnlPHj\nBP1Q0c8hPzfXqlWLTp06laoPFbwlkBQfw8rNR1y4FhEpUpMmTUhPT2fbtm0lPiYrKytsi63KEntc\nXBxNmjTxOaLQMrPqgDnn9ppZbyDHObe8wC5DgAnFHF8X2OmcyzWz5sDJwNqQBh1iZsb9/U6jVrUY\n/vbJSjKyDvLC1V30nF6RSqY0ubk44Zz78oXDORxvblbBWwJ1EmLYvjdb0xNFpMSio6Np1qzZMR2T\nlpZW6quXflPs/jKzCUAqkGxm6cCDwE7gWaAu8LGZLXLOnU9gMappZpYHbOTIqcuXA/0L9X8RgUcb\n/RHoBTxsZjlALnCzc25nyE6uHN2S2oJa1aN5YPJSrhs7l1euT6FGXLTfYYlIGSlNbi5OZcgfleEc\njkYFbwkkx8eSnZNH5oEcEpX4RESkgnHODSli0+Qg+64HWhXT1xHLFTvnPgQ+9N5PAiaVKtAwMKTr\niSTGRXHXW4u48l9zeP3GriQnxPodloiIlJJWaS6BpIQYAC1cJSIiUgVc2L4RL1+bwtrtmVz+0lds\n3LXf75BERKSUVPCWQJJ3ZXfHXj2aSEREpCpIbVWPf994BtsyD3Dpi7NZszXT75BERKQUVPCWQFJ8\nYIR3u0Z4RUREqoyUpnV4a0R3DuY6Lv/XVyxN3+13SCIicoxU8JZA/r07mtIsIiJStbRuVIN3bu5O\ntehIhrw8hzlrd/gdkoiIHAMVvCVQJz7/Hl5NaRYREalqmiXHM+mWM2lQM47rxs7l8xVb/A5JRERK\nSAVvCcRERVAjLoodezXCKyIiUhU1qBnH27/uzqkNEhnxxgLe/2aj3yGJiEgJqOAtoeSEWLZrhFdE\nRKTKqhMfw/jh3ejatA53vrWI179a73dIIiJyFCp4SygpIUb38IqIiFRxCbFRjBt2Or1b1+ePH3zL\ns5+vxjnnd1giIlIEFbwllBQfq8cSiYiICHHRkbx4dWcGdW7ME5+t4pGPV5CXp6JXRKQiivI7gHCR\nlBDD/A0a4RURERGIiozg8Us7UCMumjGz1rF7/0EeG9SOqEiNJYiIVCQqeEsoKSGWnXuzyc1zREaY\n3+GIiIiIzyIijAcHtKZ29Rj++d9V7Nl/kGeGdCIuOtLv0ERExKPLkCWUFB9DnoNd+zTKKyIiIgFm\nxsjzTubBAa35dPkWrh0zl5/1VAcRkQojZAWvmZ1gZtPNbIWZfWtmI732Omb2mZmt9v6s7bWbmT1j\nZmvMbImZdS7Q13Xe/qvN7LpQxVycpATvWbxKYiIiIlLIsB7NeHZIJxal7+KSF/7H2m2ZfockIiKE\ndoQ3B/itc+40oBtwm5m1BkYBnzvnTgY+974G6Aec7L1GAC9CoEAGHgTOALoCD+YXyeUpKT4WQI8m\nEhERkaAGdGjEhOHdyMjK4ZIXZjNn7Q6/QxIRqfJCVvA65zY75xZ67zOAFUBjYCDwmrfba8DF3vuB\nwOsuYA5Qy8waAucDnznndjoUHTrBAAAgAElEQVTnfgY+A/qGKu6iJOeP8OrRRCIiIlKELifVZvKt\nPUhOiGHomK+ZtCDd75BERKq0clm0ysyaAp2Ar4H6zrnNECiKzayet1tj4McCh6V7bUW1F/6MEQRG\nhqlfvz5paWllEntmZiZpaWlkZAceNzBn0bck/ryqTPoOtfzYw1E4xw7hHb9i9084x6/YRX5xYlJ1\n3ru1B7eOX8Bv31nM+h17ueu8U4jQopciIuUu5AWvmSUAk4A7nXN7zIr8zz7YBldM++ENzo0GRgOk\npKS41NTUUsVbWFpaGqmpqeTlOUZOn0KdhieSmtqqTPoOtfzYw1E4xw7hHb9i9084x6/YRQ5Xs1o0\nrw7ryh8mL+PZL9awbvteHr+sg1ZwFhEpZyFdpdnMogkUu+Odc+95zVu8qcp4f2712tOBEwoc3gTY\nVEx7uYqIMOrEx7JdU5pFRESkBKIjI3hscDtG9TuVj5Zs5qqX57BDa4GIiJSrUK7SbMAYYIVz7skC\nmz4E8ldavg74oED7td5qzd2A3d7U52lAHzOr7S1W1cdrK3fJCTFKVCIiIlJiZsbNZ7fgxas78+2m\nPVz8wv/YlJnnd1giIlVGKKc09wCGAkvNbJHX9gDwGPC2md0I/ABc5m2bAvQH1gD7gGEAzrmdZvZn\nYJ6338POuZ0hjLtISQkxeiyRiIiIHLN+7RrSsFY1bnptPn+ec4CTTt1Oj5bJfoclIlLphazgdc7N\nIvj9twDnBtnfAbcV0ddYYGzZRVc6SfGxLEnf5XcYIiIiEoY6nlCL9287kyueT+O6sXN59JK2XHH6\niX6HJSJSqYX0Ht7KJikhRo8lEhERkVJrUrs6vz+jGt1bJHHfpKU8NnUleXlHrMUpIiJlRAXvMUhO\niCXjQA4HcnL9DkVERETCVPVoY9z1p3PVGSfy0pffc9ubC9mfrd8tRERCQQXvMagTHwPATt3HKyIi\nIschKjKCRy9uyx8uOI1Pvv2JK1+ew9aMLL/DEhGpdFTwHoMkr+DVtGYRERE5XmbGTT2b89I1XVj1\nUwaXPD+b737K8DssEZFKRQXvMUhKiAVgux5NJCIiFYyZjTWzrWa2rEDbZWb2rZnlmVlKgfYYMxtn\nZkvNbLGZpRbYlmZm35nZIu9Vr4jPu9/M1nj7nh/Sk6vkzm/TgLd/3Z2DuXlc+uJsZqza5ndIIiKV\nhgreY5CcoBFeERGpsF4F+hZqWwYMAmYUah8O4JxrB/QGnjCzgr8TXO2c6+i9thb+IDNrDVwJtPE+\n8wUziyyTs6ii2jWpyfu39aBx7WoMe3Ue47/e4HdIIiKVggreY5A/wrtjr0Z4RUSkYnHOzQB2Fmpb\n4Zz7LsjurYHPvX22AruAlCD7FWUgMNE5d8A5tw5YA3QtVeBySKNa1Xj3ljPpeXIyv5+8jD9/tJyc\n3Dy/wxIRCWsqeI9BfEwksVERGuEVEZFwtxgYaGZRZtYM6AKcUGD7OG868/+ZmQU5vjHwY4Gv0702\nOU4JsVG8cm0K15/ZlDGz1jF0zFzdSiUichyi/A4gnJgZyQmxbFfBKyIi4W0scBowH9gAzAZyvG1X\nO+c2mlkiMAkYCrxe6PhgRfARD5M1sxHACID69euTlpZWJsFnZmaWWV9+KEn8qTUgql0Mr327gz6P\nf85tHWNpUavizBoP958BhP85hHv8EP7nEO7xQ+U4h6NRwXuMkhJiNKVZRETCmnMuB7gr/2szmw2s\n9rZt9P7MMLM3CUxVLlzwpnP4iHATYFOQzxkNjAZISUlxqampZRJ/WloaZdWXH0oafypw8cbd3Pzv\nBTw2L4sHB7Th6jNOJPige/kK958BhP85hHv8EP7nEO7xQ+U4h6PRlOZjlBQfoynNIiIS1sysupnF\ne+97AznOueXeFOdkrz0auJDAwleFfQhcaWax3pTok4G55RR+ldK2cU0++s1ZnNkimT+8v4x7311C\n1sFcv8MSEQkbKniPUVJCLDt0L42IiFQwZjYB+ApoZWbpZnajmV1iZulAd+BjM5vm7V4PWGhmK4D7\nCExbBogFppnZEmARsBF42ev/IjN7GMA59y3wNrAc+AS4zTmnKixEalWPYez1p3PHuSfz7oJ0Br84\nmx937vM7LBGRsKApzccoKSGG7Xuzcc5ViClFIiIiAM65IUVsmhxk3/VAqyDtewksYBWs/w8JjOzm\nf/0o8GhpYpVjFxlh3N37FDo0qcmdby1iwHOzePrKTpx9Sl2/QxMRqdA0wnuMkuNjyc7JY2+2LmSL\niIhI+Tr3tPr85/azaFAjjuvHzeXZz1eTl3fEemEiIuJRwXuMkhJiADStWURERHzRNDmeybf2YGCH\nRjzx2SpGvDGf3fsP+h2WiEiFpIL3GNWJDxS8ejSRiIiI+KVaTCT/vKIjDw1oTdp32xj43CxW/rTH\n77BERCocFbzHKDkhFtAIr4iIiPjLzLi+RzMmjujGvuxcLnl+Nh8s2uh3WCIiFYoK3mN0aErzXo3w\nioiIiP9SmtbhozvOol3jmoycuIiHPvyWg7l5foclIlIhqOA9RvlTmjXCKyIiIhVFvcQ4xg8/gxt6\nNOPV2eu56uU5bN2T5XdYIiK+U8F7jGKjIkmMi9I9vCIiIlKhREdG8McBrXlmSCeWbdzDBc/OYv76\nnX6HJSLiKxW8pZCcEKspzSIiIlIhXdShEe/f1oOE2CiuHD2Hcf9bh3N6dJGIVE0qeEshKT5GU5pF\nRESkwmrVIJEPbu9Baqt6/Ok/y7nzrUXsPZDjd1giIuVOBW8pJCXEsENTmkVERKQCqxEXzeihXbj3\n/FZ8uHgTFz47iyXpu/wOS0SkXKngLYWkhFh27NUIr4iIiFRsERHGbee0ZMLwbhw4mMugF2bzQtoa\ncvM0xVlEqgYVvKWQHB/Dzr3Z5ClZiIiISBjo1jyJqSN7cX7bBvz9k++4+pU5bN693++wRERCTgVv\nKSQlxJLnYNf+g36HIiIiIlIiNatH89yQTvzj0vYsSd9N36dmMnXpZr/DEhEJKRW8pZCUoGfxioiI\nSPgxMy5LOYEpd/SkaVJ1bhm/kN+9u1gLWolIpaWCtxSS4mMB9CxeERERCUtNk+N595Yzuf2clryz\nIJ0LnpnJ4h+1oJWIVD4qeEvh0AivFq4SERGRMBUdGcE957di4vBuZOfkMfjF2Tw/XQtaiUjlooK3\nFJLi86c0a4RXREREwtsZBRa0+se077jq5Tls2qUFrUSkclDBWwq1qscQYbqHV0RERCqH/AWtHr+s\nA8s27qbf0zOZogWtRKQSUMFbCpERRp34GLbv1QiviIiIVA5mxqVdmvDxHT1pmhzPreMXcu87WtBK\nRMKbCt5SSoqP1QiviIiIVDpNk+N59+bu3H5OS95dqAWtRCS8qeAtpaSEGN3DKyIiIpWSFrQSkcpC\nBW8pJSXEskNTmkVERKQS04JWIhLuVPCWUlJ8DNs1pVlEREQqucILWvV9agbzftJ9vSISHlTwllJy\nQgwZWTkcyMn1OxQRERGRkMpf0GrKyJ40q5vA84sO8MhHyzmYm+d3aCIixVLBW0pJCbEA7NS0ZhER\nEakiTkqK551fd+e8E6N4ZdY6rn75a7buyfI7LBGRIqngLaWk+BgALVwlIiK+M7OxZrbVzJYVaLvM\nzL41szwzSynQHmNm48xsqZktNrNUr726mX1sZiu94x4r4rOamtl+M1vkvV4K+QlKhRITFcE1rWN5\n+sqOLN24mwuencXcdTv9DktEJCgVvKWUP8KrhatERKQCeBXoW6htGTAImFGofTiAc64d0Bt4wszy\nfx943Dl3KtAJ6GFm/Yr4vO+dcx29181lcQISfgZ2bMz7t/UgMTaKIS/P4ZWZa3FOqziLSMUSsoK3\niKvNHc1sjndFeL6ZdfXazcyeMbM1ZrbEzDoXOOY6M1vtva4LVbzH6pcRXi1cJSIi/nLOzQB2Fmpb\n4Zz7LsjurYHPvX22AruAFOfcPufcdK89G1gINAlp4BL2WjVI5IPbe9D7tPo88vEKbntzIZkHtKCV\niFQcoRzhfZUjrzb/HfiTc64j8Efva4B+wMneawTwIoCZ1QEeBM4AugIPmlntEMZcYkkJmtIsIiJh\naTEw0MyizKwZ0AU4oeAOZlYLGIBXGAfRzMy+MbMvzaxnaMOVii4xLpoXr+nMA/1PZdq3W7jouVms\n3pLhd1giIgBEhapj59wMM2tauBmo4b2vCWzy3g8EXneBeTBzzKyWmTUEUoHPnHM7AczsMwJF9IRQ\nxV1SCbFRxERFsH2vRnhFRCSsjAVOA+YDG4DZwKEhOTOLIpBnn3HOrQ1y/GbgROfcDjPrArxvZm2c\nc3sK72hmIwhcyKZ+/fqkpaWVyQlkZmaWWV9+CPf4Ifg5nALcmxLLC4v2ceEzMxjWNpZuDUP2q+Zx\nC/efQ7jHD+F/DuEeP1SOczia8v5f6E5gmpk9TmB0+UyvvTHwY4H90r22otp9Z2Ykx8dohFdERMKK\ncy4HuCv/azObDawusMtoYLVz7qkijj8AHPDeLzCz7wnUOvOD7Dva64+UlBSXmppaJueQlpZGWfXl\nh3CPH4o+h1TgkvOyuG38Ql5a/DNZ8Q15oP9pxERVvGVjwv3nEO7xQ/ifQ7jHD5XjHI6mvAveW4C7\nnHOTzOxyYAxwHmBB9nXFtB/Bj6vIMS6bVT9sJi3t5zL5rLIWzldswjl2CO/4Fbt/wjl+xR4+zKw6\nYM65vWbWG8hxzi33tj1CYAbWTcUcXxfY6ZzLNbPmBG5HCjYSLFVU/RpxTBjRjb9OWcnY/61j6cbd\nPH9VZxrUjPM7NBGpgsq74L0OGOm9fwd4xXufzuH3DzUhMN05ncDFwoLtacE69uMqctN1c9m5N5vU\n1LPK5LPKWjhfsQnn2CG841fs/gnn+BW7v8xsAoF8mWxm6QTWv9gJPAvUBT42s0XOufOBegRmW+UB\nG4GhXh9NgN8DK4GFZgbwnHPuFTO7iMDCVn8EegEPm1kOkAvcnH/rkUi+6MgI/jigNZ1PqsXv3l3C\nhc/O5JkhnTizRbLfoYlIFVPeBe8m4GwCReuv+GUK1YfA7WY2kcACVbudc5vNbBrwlwILVfUB7i/f\nkIuWFB/L6i2ZfochIiJVnHNuSBGbJgfZdz3QKkh7OsFnVuGc+5BArsY5NwmYVNpYpWq5sH0jTm2Q\nyK/fWMA1r3zNveefys1nN8e7oCIiEnIhK3iLuNo8HHjaWxAjC28KMjAF6A+sAfYBwwCcczvN7M/A\nPG+/hyvSVeTkhBi2Zx7AOaf/uEVERESCaFkvkQ9uP4v7Ji3hb5+s5JsffubxyztQIy7a79BEpAoI\n5SrNRV1t7hJkXwfcVkQ/YwmsKFnhJCXEcCAnj73ZuSTEVtxVCEVERET8lBAbxXNDOtH5xNr8dcoK\nLnp2Fi9e04XTGtY4+sEiIseh4i2ZF0aS4mMB2JGpRxOJiIiIFMfMuPGsZkwY0Y192blc8sL/mPxN\nut9hiUglp4L3OCQlxACwY68eTSQiIiJSEqc3rcNHd5xFhya1uOutxfzh/aXsy845+oEiIqWggvc4\nJCfkj/Cq4BUREREpqXqJcYy/6QxG9GrOv+f8QJ9/zmD6d1v9DktEKiEVvMfh0AivpjSLiIiIHJOo\nyAge6H8ab43oRmxUBMPGzeP2NxeyNSPL79BEpBJRwVuUvFx490ZO3PBOkbvUideUZhERkXLjHHx0\nN/V/+sLvSKQMndE8iSkje3J371P4dPkWzn3iS8Z/vYG8POd3aCJSCajgLUpEJGTtpvHGKZB7MOgu\nsVGRJMZGsV0jvCIiIqGXcwB2fs9pK5+Gr573OxopQ7FRkdxx7sl8MrIn7RrX5PeTl3HZv77iu58y\n/A5NRMKcCt7inH4jsdk74bupRe6SlBCje3hFRETKQ3QcXPU2W+ueCdMegP/+KTDqK5VG87oJjL/p\nDJ64rANrt2VywTMz+fsnK8k6mOt3aCISplTwFufkPmTF1oX5Y4rcJSkhlh17NcIrIiJSLqJiWd76\nHki5AWY9Cf8ZGbgNSSoNM2NwlyZ8/ttULu7UmBfSvqfPP2cwc/U2v0MTkTCkgrc4EZFsatQH1qbB\nju+D7pIUrxFeERGRcmWRcMGT0Ot3sPA1eOc6OKiFjiqbOvExPH5ZByYM70ZUhDF0zFxGTvxGt5KJ\nyDFRwXsUPzXoDRFRMH9s0O1JCbFsV8ErIiJSvszgV7+Hvn+DFf+B8ZdC1h6/o5IQ6N4iial39mTk\nuSczdelPnPvEl0yc+4MWtRKRElHBexTZsbXhtAHwzb/h4P4jticnxLBz7wH9pysiIuKHbjfDoJfh\nh6/gtQshU9NeK6PYqEju6n0KU0b25NQGiYx6bylXjp7D6i1a1EpEiqeCtyRSboSsXfDt5CM2JcXH\nkOdgu+7jFRER8Uf7y2HIRNi2CsaeD7t+8DsiCZGW9RKYOKIbf7+0Pau2ZtD/mZk88el3WtRKRIqk\ngrckmp4FyafAvCMXr+pwQi0AZq3eXt5RiYiISL6Te8O1H8C+7TCmD2xd4XdEEiJmxuUpJ/D53Wcz\noH0jnv1iDf2ensn/1uh3MRE5kgrekjALrAa5cT5sXnzYpo4n1KJRzTimLN3sU3AiIiICwIlnwLCp\ngUcVje0LP871OyIJoaSEWJ68oiPjbzoD5xxXv/I1d7+9SItaichhVPCWVIchEFXtiFFeM6Nfu4bM\nWLWdjKyDPgUnIiIiANRvAzd+CtXrwOsDYfV//Y5IQqxHy2Q+ubMXv/lVS/6zeBO9/j6dJz9bpd/L\nRARQwVty1WpBu8Gw9B3I2n3Ypv7tGpCdm8fnK7b6FJyIiIgcUvskuOFTSGoJE66AJe/4HZGEWFx0\nJL/t04ppd/binFPr8cznq+n19+m8PGOt7u8VqeJKVPCaWQszi/Xep5rZHWZWK7ShVUApN8LBfbD4\nrcOaO51QmwY1NK1ZRESOn3JuGUmoC9d/DCd0g/dugq//5XdEUg6a103g+as685/bz6Jdk1o8OmUF\n5zyexsS5P5CTm+d3eCLig5KO8E4Ccs2sJTAGaAa8GbKoKqrGnaFRJ5g/JnB/kCciwujbtgFpq7aR\neSDHxwBFRKQSUM4tK3E14JpJcOqFMPV3MP0vh+VvqbzaNanJ6zd0ZcLwbjSoGceo95bS56kZTFm6\nGae/AyJVSkkL3jznXA5wCfCUc+4uoGHowqrAUm6EbSthw+zDmi9o35DsnDy+WKlpzSIiclyUc8tS\ndBxc9hp0Ggpf/g0+/i3kaYprVdG9RRLv3XImo4d2IdKMW8cv5KLn/seMVdtU+IpUESUteA+a2RDg\nOuAjry06NCFVcG0HQ1zNwChvAV1OrE29xFimalqziIgcH+XcshYZBRc9Cz3uDOTvSTdCjlbyrSrM\njD5tGvDJnb144rIO7NybzbVj5/L3eVl888PPfocnIiFW0oJ3GNAdeNQ5t87MmgH/Dl1YFVhMdehw\nFSz/EDJ/Gc3Nn9Y8/but7MvWtGYRESk15dxQMIPef4I+j8C3k+HNy+FApt9RSTmKjDAGd2nCF/ec\nzUMDWpOemcclL8xmxOvzWbUlw+/wRCRESlTwOueWO+fucM5NMLPaQKJz7rEQx1ZxpdwAeQfhmzcO\na+7friFZB/OYvnKbT4GJiEi4U84NsTN/AwNfgHUz4fWLYO8OvyOSchYbFcn1PZrx917Vubv3KXz1\n/Q76PjWD3769mB937vM7PBEpYyVdpTnNzGqYWR1gMTDOzJ4MbWgVWN1ToGlPmP/qYfcBnd60DskJ\nsUxZpmnNIiJSOsq55aDT1XDFv2HLtzC2D2z4yu+IxAfVoow7zj2ZL393Djee1Yz/LNnEr55I46EP\nv2V7pqa8i1QWJZ3SXNM5twcYBIxzznUBzgtdWGHg9Bth9w+w5pcH2kdGGH3b1ueLFVvZn60FMURE\npFRKlXPNbKyZbTWzZQXaLjOzb80sz8xSCrTHmNk4M1tqZovNLLXAti5e+xoze8bMLMhnmbdtjZkt\nMbPOx3vS5e7U/jB0cuBe3nF9YfItkKkZWlVRnfgYfn9Ba9LuSWVw5ya8MWcDvf4+nSc//Y49WQf9\nDk9EjlNJC94oM2sIXM4vC2hUbadeCAn1Yd7hi1f1b9uQ/Qdz+XKVVmsWEZFSKW3OfRXoW6htGYHC\neUah9uEAzrl2QG/gCTPL/53gRWAEcLL3KtwnQL8C20d4x4Sfk86E276Gs+6Gpe/Ac11g3itaxbmK\nalSrGo8Nbs+nd/XinFb1eOaLNfzq8TS+WLnF79BE5DiUtOB9GJgGfO+cm2dmzYHVoQsrDERGQ+dr\nYfWn8POGQ81dm9WhTnwMHy/9ycfgREQkjJUq5zrnZgA7C7WtcM59F2T31sDn3j5bgV1Aildo13DO\nfeUCz2x5Hbg4yPEDgdddwByglnds+ImJh/MehFtmQ8MOgccWvXIubFzod2TikxZ1E3j+6s58eHsP\nkhNiueHV+fzxg2VkHdSFEJFwFFWSnZxz7wDvFPh6LTA4VEGFjc7XwcwnYMGrgWQJREVGcH6bBny4\naCNZB3OJi470N0YREQkr5ZRzFwMDzWwicALQxfszD0gvsF860DjI8Y2BH4Psd9giFmY2gsAIMPXr\n1yctLa1Mgs/MzCyzvg5z4t3UizudFt+PJeblX7Gp0fmsazaUnOiEMv2YkMVfjqrKOdzdzjEpNorX\nv9rAf5f+wK/bx3JSjYrxu11V+RlUZOEeP1SOcziaEhW8ZtYEeBboAThgFjDSOZde7IGVXa0T4OTz\nA6s1p94PUTEA9G/XgAlzf2DGqm30adPA5yBFRCSclFPOHQucBswHNgCzgRzgiPt1vRiOCLMk+znn\nRgOjAVJSUlxqamopwz1cWloaZdXXkc6BrJEw/a80nvsvGu+aD70fho5XBR5tVAZCG3/5qErn0Odc\nmLFqG/e8s5hHv87md31bcUOPZkRElM3fh9KqSj+Diirc44fKcQ5HU9IpzeOAD4FGBK7g/sdrk05X\nw95tkD73UFO35knUrh7NlKVarVlERI5ZyHOucy7HOXeXc66jc24gUIvAtOl0oEmBXZsAm4J0kU5g\nRPho+4WnuJrQ7zEY8SXUaQ4f3Arj+gVWdZYqqdcpdfnkzl6c3aouj3y8gmvHzuWn3Vl+hyUiJVDS\ngreuc26clyBznHOvAnVDGFf4aHY2WCR8/8WhpujICPq0bsB/V2zlQI7u9xARkWMS8pxrZtXNLN57\n3xvI8Z7/uxnIMLNu3urM1wIfBOniQ+Bab7XmbsBu79jKpWF7uGEaXPQcbPsOXuoJ034PBzL8jkx8\nUCc+htFDu/DXQe1YsOFn+j49g0/0KEqRCq+kBe92M7vGzCK91zWAntQOEFcDTuh6WMEL0K9dAzIP\n5DBz1XafAhMRkTBVqpxrZhOAr4BWZpZuZjea2SVmlg50Bz42s2ne7vWAhWa2ArgPGFqgq1uAV4A1\nwPfAVK//m83sZm+fKcBab5+XgVuP85wrrogI6DwUfrMg8OdXz8Nzp8Oy98AFm+0tlZmZMaTriXx8\nx1mcULs6N/97Ife9u4S9B3L8Dk1EilCie3iBG4DngH8SuEdnNjAsVEGFnRa/gul/gX07oXodAHq0\nTKZmtWimLNvMea3r+xygiIiEkVLlXOfckCI2TQ6y73qgVRH9zAfaBml/qcB7B9x2tJgqlep1YMDT\n0GkofHQXvDsMFr4G/Z+A5JZ+RyflrHndBCbdciZP/XcVL375PV+v28HTV3aiwwm1/A5NRAop0Qiv\nc+4H59xFzrm6zrl6zrmLCTzXTwCanwM4WJt2qCk6MoLerevz2fItmtYsIiIlppxbwTVJgRFp0O8f\nsPEbeLE7fP5nyN7nd2RSzmKiIvhd31OZMLwb2Tl5DH5xNs9PX0Nunkb+RSqSkk5pDubuMosi3DXq\nFFjgotC05gvaNSQjK4fZazT7W0REjotybkUSEQlnjIDb50GbS2Dm4/DCGfDdVL8jEx90a57E1JG9\n6Nu2Af+Y9h1DRs8h/WddABGpKI6n4PV3LfaKJDIqsHjV99MPu5+nR8tkEuOitFqziIgcL+Xciiix\nPgwaDdd9BNHVYcKVMOkmyNrjd2RSzmpWj+bZIZ148vIOLN+8h35Pz+SDRRv9DktEOL6CV/M1Cmrx\nK9iTDttXH2qKiQpMa/50+RYO5ub5GJyIiIQ55dyKrFlPuHkWpD4AyybBv3rBxoV+RyXlzMwY1LkJ\nU0f25JT6iYycuIi73lrEnqyDfocmUqUVW/CaWYaZ7QnyyiDwfEDJ1+KcwJ+FpjX3b9uQ3fsPMvt7\nTWsWEZGiKeeGuchoSL0Prv8YcrNhTB/46gWt5FwFnVCnOm+N6MZd553Ch4s30e+pmcxbv9PvsESq\nrGILXudconOuRpBXonOupCs8Vw21mwYeTr92+mHNZ52cTEJsFFOWaFqziIgUTTm3kjjpzMBo78m9\nYdr9/8/efYdHVaUPHP+eqemdBBICgYTeIfQWQhFRsaKgsi7qYsFe17I/d9feGzZUQF0EbCgqRVro\n0kF67y30kJ6ZOb8/7gBpqGCSm0nez/OcZ+6ce+fOex3MzHtPM7o5Z8lN7+rGZrVwf58GfH1nZ6wW\nxQ0fLeaNXzaT75Ief0JUtL/SpVkUl5gKO+eDK/9slZ/dSp8m0UzfcEi6NQshhBDVQUAEDP4S+r9s\n9Pz6sBvsWmh2VMIEbeuEM+X+7lzTtjbvzN5G3zfnMnnNATwyk7MQFUYS3rKUmAoFWbBvaZHqS1vU\n4mR2AUt2SHcWIYQQolpQCjrdCbfNALsffHY5pL0MHlmqsLoJctp4bVArxg5rj7/dyn3jVzHwvQXM\n33rE7NCEqBYk4S1LCd1BWUuM4+3ZsAYBDivT1x8yKTAhhBBCmCK2NdwxD5pfB2kvwGcDceRJF+fq\nKKVRNFPu686bN7TiZHYBQz9dys2fLGHtvlNmhyZElVZuCa9SarRSKl0pta5Y/b1Kqc1KqfVKqVcK\n1T+hlNrm3XdJofr+3kVXR0cAACAASURBVLptSql/lle8ZcIvBOI7lEh4/exWOtaLYOH2oyYFJoQQ\nQgjTOION5YuufB8OrCR5+QOw5RezoxImsFgUV7epzayHe/J/lzdlw8EMrhi5gHu+XMmuo1lmhydE\nlVSeLbxjgf6FK5RSvYArgZZa62bAa976psBgoJn3Ne8rpaxKKSvwHnAp0BQY4j228kpMhQOrIbto\n9+WuSVHsOJLFoVO5JgUmhBBCCNMoBW1uguFzyXdEwJeDYPpTReb9ENWH02bl1m71mPtoCvelJjF7\nUzp93pjLv75fR/pp+a0oRFkqt4RXaz0PKD5o9S7gJa11nveYdG/9lcAErXWe1nonsA3o4C3btNY7\ntNb5wATvsZVX/V6Ahh1pRao7J0YCsEhaeYUQQojqq0ZDVrZ9BdrfDotHwuh+cHyH2VEJkwT72Xmo\nXyPSHk1hSIc6jF+6h5RX03jjl82clvV7hSgTFT2GtyHQXSm1RCk1VynV3lsfB+wtdNw+b9356iuv\n2DbgF1qiW3OTmiGEB9hZuE3G7QghhBDVmcfqhMteh+u/MJLdD3vAum/NDkuYKDrYj2evas7Mh3qS\n2jiad2Zvo+eraYxesJM8l0x0JsRfUdHr+tmAcKAT0B74SilVH1ClHKspPSEvdR53pdRwYDhATEwM\naWlpZREvmZmZF3yuZkFNCd4wlV9D5hhdmLwSgz3M2bCfOXOOo1Rpl1y2Lib2ysKXYwffjl9iN48v\nxy+xC3ERmg6EWq3g29vhm1uN3mH9XwZHgNmRCZMkRAUy8sa23NHjFC9P28R/f9rA6IU7ebhfQ65s\nFYfFUv6/H4Woaio64d0HfKe11sBSpZQHiPLWxxc6rjZwwLt9vvoitNajgFEAycnJOiUlpUwCTktL\n44LPFbQTfnqAlOZxUKPh2ep9frt5+vt1JLToQL2owDKJ7/dcVOyVhC/HDr4dv8RuHl+OX2IX4iKF\n14VhU2DO87DgTdi7FK4bAzGVe8oSUb5a1A7lf7d3ZP7WI7w8bRMPTlzDR3N38PiljUlpWKNCGk6E\nqCoqukvz90AqgFKqIeAAjgKTgcFKKadSqh7QAFgKLAMaKKXqKaUcGBNbTa7gmC9cYi/jsVi35i4y\njlcIIYQQxVnt0OffcPN3kH0MPu4FK8aCLrVTm6hGujeoweQR3XhnSBtyCtwMG7OMwaN+ZdWeE2aH\nJoTPKM9licYDi4FGSql9SqnbgNFAfe9SRROAW7RhPfAVsAGYBozQWru11i7gHmA6sBH4ynts5Rae\nABH1YcecItX1ogKpFerHIhnHK4QQQojiknrDnQuhTif48X6YcBMc3mB2VMJkFotiYKtYZjzYk/9e\n2YztRzK5+v1FvLMyV9bwFeJPKLcuzVrrIefZdfN5jn8eeL6U+inAlDIMrWIkpsLq8cZyAzYHAEop\nuiRGMWdzOh6PlnEYQgghhCgqOAZungSL3oF5r8IHP0PTK6HHY1CzudnRCRM5bBb+1jmBa9vW5pP5\nO/kobQtXjFxAj4Y1uKdXEh3qRZgdohCVUkV3aa4+ElOhIAv2LS1S3SUxkuNZ+Ww6dNqkwIQQQghR\nqVks0O0BeGAtdH8Ets2GD7saLb4HfzM7OmGyQKeN+/s04PWUAB7r34j1+09x/UeLuf6jxczbcgQt\nXeGFKEIS3vKS0B2UteQ43iQZxyuEEEKIPyEgAnr/Cx5cCz0fh53z4aPuMP5GOLDK7OiEyfxtirtT\nkljweCrPXNGUvcez+dvopVz53kKmrz+ExyOJrxAgCW/58QuB+A4lEt5aof7Ujwpk0XYZxyuEEEKI\nP8E/HHo9CQ/8BilPwu4FMCoFvrwB9q8wOzphMn+HlWFd65H2aAovXdOCk9kF3PHFCi59ez4/rN6P\nWxJfUc1Jwlue6veCA6sh+3iR6i5JkSzZcYwCt8ekwIQQQgjhc/zDIOVxeGAdpD4Ne5fAx6nwv+tg\n33KzoxMmc9qsDO5Qh9kP9+StG1rj0Zr7J6ym9+tpTFy2h3yX/O4U1ZMkvOUpMRXQxkLyhXRJjCIr\n381vMrOeEEIIIS6UXwj0eNQY49v7GaOV95Pe8MXVsGeJ2dEJk9msFq5qE8f0B3rw4c3tCPaz8/i3\na0l5dQ5jF+4kt8BtdohCVChJeMtTbBvwCy3Rrblzfe843m0yjlcIIYQQF8kZDN0fMhLfvv81JrQa\n3Q8+Gwi7F5kdnTCZxaLo37wmk+/pythh7YkL9+ffP26g28uz+XDudjLzXGaHKESFkIS3PFltUK8n\nbJ9TZPH48EAHTWuFyDheIYQQZUYpNVople5d6/5M3SCl1HqllEcplVyo3q6U+kwptVYptVEp9YS3\nvpFSanWhkqGUeqCU90pRSp0qdNz/VcxVilI5g6Dr/cYY337PQ/pGGHMpjL3cmOhKVGtKKVIaRfP1\nnV2YOLwTTWqF8NLUTXR9aTZvztjCyex8s0MUolxJwlveElMhYx8c3VqkumtSJCv2nJBuJUIIIcrK\nWKB/sbp1wDXAvGL1gwCn1roF0A64QymVoLXerLVurbVu7a3PBiad5/3mnzlWa/3fMrsKcfEcgdDl\nHrh/DVzyIhzdAp9dDmMGlBheJaqnjvUj+eK2jvwwoisd6kXw9qytdH1pNi9O2cixzDyzwxOiXEjC\nW94SexmPxZcnSowi3+Vhxe4TJgQlhBCiqtFazwOOF6vbqLXeXNrhQKBSygb4A/lARrFjegPbtda7\nyyNeUY4cAdD5biPxvfQVOL4DPr8SJt4Mpw+ZHZ2oBFrFh/Hx35KZ9kB3ejeJ4eP5O+j+yhxembZJ\nWnxFlSMJb3kLT4CI+rBjTpHqDvUisFkUC2UcrxBCiIr3DZAFHAT2AK9prY8XO2YwMP53ztFZKbVG\nKTVVKdWsnOIUf4XdHzreAfetNia32joDRnaAFZ8VGWolqq/GNUN4Z0gbfnmwJ72bxPDB3O10f3kO\nb87YQkZugdnhCVEmbGYHUC0kpsLq8eDKB5sDgECnjdbxYSyUcbxCCCEqXgfADcQC4cB8pdRMrfUO\nAKWUAxgIPHGe168E6mqtM5VSA4DvgQbFD1JKDQeGA8TExJCWllYmwWdmZpbZucxgTvxt8W/7Jo02\nv0fYj/dxYv7HbGk4gpyAWhd1Nl//DMD3r6Gs47+2FnQI8uf7bfm8PWsrn8zbSv8EO33r2vGzqTJ7\nn8LkMzBfVbiGPyIJb0VITIVln8C+pZDQ7Wx1l8RIRs7ZRkZuASF+dhMDFEIIUc3cCEzTWhcA6Uqp\nhUAysMO7/1Jgpdb6cGkv1lpnFNqeopR6XykVpbU+Wuy4UcAogOTkZJ2SklImwaelpVFW5zKDqfH3\nHwwrPyN8xv/RceWD0OtJ6HS3MdHmBfD1zwB8/xrKK/6hwLr9p3hjxha+3ZTOnAOKO3vWZ2inBPwd\n1jJ9L/kMzFcVruGPSJfmipDQHZQVts0qUt0lKQqPhiU7ivciE0IIIcrVHiBVGQKBTsCmQvuH8Dvd\nmZVSNZVSyrvdAeP3hHRZ8gUWCyQPgxFLjBvyM/5lrOF78DezIxOVSPO4UEb/vT3f3d2FZrEhvDBl\nEz1encMYWcdX+CBJeCuCXwjEd4TtRRPeNnXC8LNbWLRdxvEKIYT4a5RS44HFQCOl1D6l1G1KqauV\nUvuAzsDPSqnp3sPfA4IwZnFeBozRWv/mPU8A0Bf4rtj571RK3el9eh2wTim1BngHGKy1DAr1KSGx\nMHgcDBoLGfthVArM/A8U5JodmahE2tYJ54vbOvLVHZ2pHxXIf37cQK/X0hi3ZDf5Lo/Z4Qnxp0iX\n5oqS1BtmPwunD0NwDABOm5X2CREs2iY3xYUQQvw1Wush59lVYlkhrXUmxtJEpZ0nG4gspf7DQtsj\ngZEXF6moNJSCZldDvZ7wy9Ow4A3YOBkGvgt1u5gdnahEOtSLYMLwTizafozXf9nMU5PW8UHadu7r\n3YBr2sRhs0obmqi85F9nRWnQ13gstjxR58RINh8+zZHTsvaZEEIIIUwQEAFXvQ9DJ4E7H8ZcCj89\nCLnFV6oS1ZlSiq5JUXx7VxfGDGtPeICDx775jb5vzuP7Vftxe6STh6icJOGtKDEtIDAats0oUt01\nMQqAxTuklVcIIYQQJkpMhbt/hU4jYMVYeK8jbJ5qdlSiklFK0atRNJPv6cqooe1w2iw8MHE1/d+a\nx8+/HcQjia+oZCThrSgWCyT1MVp4PecG+zePCyXYz8ZiGccrhBBCCLM5AqH/C3DbTPAPg/GD4eth\nkHnE7MhEJaOUol+zmky5rzvv3dgWDYz4ciWXvbuAyWsOyBhfUWlIwluRknpDzgk4sOpsldWi6FQ/\nkoUyjlcIIYQQlUXtdjB8LvR6Gjb9BO+1h9XjQeYmE8VYLIrLWtZi+gM9eOuG1uQWuLlv/Co6vziL\nF6duZPexLLNDFNWcJLwVKTEVlAW2Fu3W3CUxkj3Hs9l7PNukwIQQQgghirE5oOejcOcCiGoI398J\n/7sWTuw2OzJRCVktiqvaxDHroZ6MHdaednXD+WT+Tnq+msbQT5cwde1BCtzS6isqnszSXJECIiCu\nHWybCb2eOFvdNck7jnf7MeIjAsyKTgghhBCipBqNYNg0WPYJzPoPvN+ZunEDIaMRhNQyOzpRyVgs\nipRG0aQ0iubQqVy+Wr6XCUv3cNe4ldQIdnJDcjyDO8RTO1x+84qKIS28FS2pD+xfAVnnujA3iA4i\nKsjJQhnHK4QQQojKyGKBjsONSa3q96TervHwZjOYcBNsnQkeabkTJdUM9eO+3g2Y/3gqn96STMu4\nUN5P20b3V+bw9zFLWXnYhUtafUU5kxbeipbUF9JehB1zoMV1gDHov0tiJIu2H0NrjVLK5CCFEEII\nIUoRFg9DxrNkypd0tG2E1eOMMb6hdaDd36D1zdLqK0qwWhS9m8TQu0kM+0/mMHHpHiYu30taRh5f\nbZ/DDe2NVt9aof5mhyqqIGnhrWixrcE/osQ43q5JkRw5nce29EyTAhNCCCGE+HNyAmKh37Pw0Ea4\nbjREJMDs56TVV/yhuDB/HurXiIWPp3JvGyeNagbzzuytdH1pNrd/tpw5m9JlTV9RpqSFt6JZrMZs\nzdtnGV8EFuOeQxfveryLth+jQUywmREKIYQQQvw5Nic0v9Yox7Yb6/dKq6/4E2xWC+1ibDyc0oG9\nx7MZv3QPXy3fx8yNh4kL82dw+3huaB9PdIif2aEKHyctvGZI6gNZR+DQmrNV8REBxEf4s3CbjOMV\nQgghhA+KTCzU6jvmPK2+brOjFJVQfEQAj/VvzKJ/pvL+TW2pFxXI6zO20OWl2dw9bgUbD2aYHaLw\nYdLCa4bE3sbjtpkQ2+ZsdZf6UUxddxCX24PNKvcihBBCCOGDbE5ofo1Rjm2HlZ/BKmn1FX/MYbMw\noEUtBrSoxa6jWYxfuocvl+5hytpDXN6yFg/2bUhijSCzwxQ+RrIqMwTVgFqtYdusItWpTaLJyHWx\nQFp5hRBCCFEVRCZC3//CQxuk1VdckISoQJ4Y0IQFj6VyT68kZm9Kp+8bc3nk6zXsPZ5tdnjCh0jC\na5YGfWHvUsg5ebYqpVENQv3tfL9qv4mBCSGEEEKUsTOtvrf8CPeuhC73wJ5fYdy18E4bowVYEl9R\nitAAO49c0oj5j/Xi1q71mLzmAKmvp/H092s5dCrX7PCED5CE1yxJfUC7YUfa2SqnzcplLWsxff1h\nsvJc5sUmhBBCCFFeirf6BkTAD3fDB11g44+gZYZeUVJkkJOnL2/KvEd7cUP7eCYu20vPV+fw3E8b\nOJqZZ3Z4ohKThNcsccngFwrbii5PdHWbOHIK3Pyy4ZBJgQkhhBBCVIAzrb7/mAPXfwHaAxNvhk96\nw855ZkcnKqmaoX48d1ULZj+cwhWtYhm9cCc9XpnDq9M3cSq7wOzwRCUkCa9ZrDao38sYx1voTma7\nOuHUDvdn0qoDJgYnhBBCCFFBlIKmA+GuxTBwJJw+DJ9dAZ9fBQdWmR2dqKTiIwJ4bVArZjzUk9TG\n0bw3ZzvdXpnNu7O2kik9JUUhkvCaKakPnD4Ih9efrbJYFFe3iWPB1iOkn5ZxCUIIIYSoJqw2aDsU\n7l0Bl7wAB9fAqBT46hY4utXs6EQllVgjiJE3tmXq/d3pWC+S12dsoccrc/h43g5yC2RcuJCE11xJ\nfYzHbTOLVF/ZOg6Phh/XHDQhKCGEEEIIE9n9oPMIuH8N9Hwcts6A9zrC5HvhlEzsKUrXpFYIn9yS\nzPcjutIsNoTnp2ykxytz+GLxLvJckvhWZ5LwmimkFsQ0L5HwJkUH0bJ2qMzWLIQQQojqyy8Eej1p\nJL4dhsOaCcaMztOfguzjZkcnKqnW8WF8cVtHJg7vRN3IAP71w3pSX5vLV8v24nJ7zA5PmEASXrMl\n9TGm5c87XaT6qtZxrN1/im3pp8/zQiGEEEKIaiCoBlz6EtyzHJpfC7++D2+3grmvQl6m2dGJSqpj\n/Ui+uqMzn93agcggB499+xt935zHV8v2SlfnakYSXrMl9QFPQYnZCK9oFYvVopgkrbxCCCGEEBBe\nF67+AO5aBPV6wJzn4J3WsOQjcMmyNKIkpRQ9G9bghxFdGTW0HX52K499+xvdXp7NWzO3yHJG1YQk\nvGaL7wiOYGN8SiE1gp10S4ri+1UH8HhkPTohhBBCCACim8DgcXDbTKjRGKY+BiOTjS7PHmm5EyUp\npejXrCZT7uvGuNs70iIulLdmbqXLS7N57Js1bD4kPSqrMkl4zWZzQP2eJZYnAmNN3v0nc1i++4RJ\nwQkhhBBCVFLx7eGWH+Hm78A/HCbdAR90hXXfgVuWpRElKaXomhTFmGEdmPlQTwa1q83kNQe45K15\nDP10CXM2p0tDUxUkCW9lkNQHTu2Bo1uKVPdrFkOAwyrdmoUQQgghSqMUJPWGf6TBoLHGMLFvhsG7\nbWDx+yXmSBHijKToIJ6/ugWL/9mbRy9pxOZDpxk2Zhl935zLuCW7ycmX3gJVRbklvEqp0UqpdKXU\nulL2PaKU0kqpKO9zpZR6Rym1TSn1m1KqbaFjb1FKbfWWW8orXlOdZ3miAIeNS5rV5OffDsh06kII\nIX5Xad+7SqlBSqn1SimPUiq5UL1dKfWZUmqtUmqjUuqJQvt2eetXK6WWn+e9zvu9LYQpLBZodjWM\nWAo3jIOQOJj+BLzRDH75lyxnJM4rPNDBiF5JLHg8lTdvaIW/w8pTk9bR5aVZvDZ9M+kZuWaHKP6i\n8mzhHQv0L16plIoH+gJ7ClVfCjTwluHAB95jI4BngI5AB+AZpVR4OcZsjrB4YwxKsYQX4Ko2cWTk\nupiz6YgJgQkhhPAhYyn5vbsOuAaYV6x+EODUWrcA2gF3KKUSCu3vpbVurbVOpnSlfm8LYTqLFZpc\nDrdOg9tnQ1IqLB4Jb7eE74bDwd/MjlBUUg6bhavb1ObHe7oxcXgnkhMieC9tG11fns1DE1ezbv8p\ns0MUF8lWXifWWs8r9uV5xpvAY8APhequBD7XWmvgV6VUmFKqFpACzNBaHwdQSs3A+DIfX15xmyap\nDyz9GPKzwRFwtrprYiRRQU6+X7Wf/s1rmhigEEKIyqy0712t9UYwxq0VPxwIVErZAH8gH8i4gLcr\n9Xtba33wIsMXouzVbmd0cz6xG5Z8CCs/h98mGjM8d74XdLn9DC5/OSew51/I/7Liz1JK0bF+JB3r\nR7LraBZjF+3iq+V7+W7VfjrVj+C2bvXp3Tgai6XE31VRSVXoGF6l1EBgv9Z6TbFdccDeQs/3eevO\nV1/1JPUBdx7sWlCk2ma1MLBVLLM3pXMqu8Ck4IQQQlQx3wBZwEGMHlevnbm5jJEM/6KUWqGUGn6e\n11ef72fh+8LrQv8X4cH10Oc/cHQbfDmI9svuNZLgAh/qsurxwPLR8HYr2i8bAQdWmx1RlZYQFci/\nBzZj8RO9eeLSxuw5ls0/Pl9O6utpfLZoF7kumeDKFyity++D8t5p/klr3VwpFQDMAfpprU8ppXYB\nyVrro0qpn4EXtdYLvK+bhdEKnIrR5eo5b/2/gGyt9eulvNdwjG5VxMTEtJswYUKZXENmZiZBQUFl\ncq7fY3Hn03XhzRys1YdtDYr+vth1ys2/F+fy92YOUuLtf/qcFRV7efDl2MG345fYzePL8Vf12Hv1\n6rXid7r3VhqFv3eL1acBj2itl3ufdwXuBv4OhAPzgUu11juUUrFa6wNKqWhgBnCv1npesfOV+r2t\ntV5R7Dif/m4uL74eP/j2NShPAdHpC4nd/R2hObvJt4eyP+4yDsReSoEjxOzwziswcycNt3xAaMZm\nToY2x5FzEIc7l99a/ouM0CZmh3dRfO3fkcujWXHYzfRdBew45cFh0TSLstEm2kqrGjZCnb7X6utr\nn0Fhf/a7uSL7ciQC9YA13q5VtYGVSqkOGHeG4wsdWxs44K1PKVafVtrJtdajgFEAycnJOiUlpbTD\nLlhaWhplda4/dCiF2kc3ULtnT2PWQS+tNV9sm8uGbCf/Tun8p09XobGXMV+OHXw7fondPL4cv8Tu\nc24EpmmtC4B0pdRCIBnYobU+AKC1TldKTcKYQ6P4GODzfW8XUSW+m8uBr8cPVeEa+pI2pycpdS04\nFo+k3tYvqbdvErQeAp1GQFSS2QGek5cJaS/Cig+M5Zeu/oiwljewePo3dN7yIm3X/ReGjIf6KWZH\nesF88d9RH+BxYMXuE7z/81I2nrIxel0uSuXTJj6MPk1j6NskhqTooNKGk1Q6vvgZXKgK69KstV6r\ntY7WWidorRMwvizbaq0PAZOBv3lnfewEnPKOA5oO9FNKhXsnq+rnrauaGl8GJ3bCzqK/K5RSXN0m\njqU7j7PvRLZJwQkhhKhC9gCp3u/dQKATsEkpFaiUCgbw1vfDmPiquPN9bwvhO5SC+j3hpq/h7iXQ\n4jpY9T8YmQzjh8CuhVCOPSH/kNaw8Ud4r4Mx8VbboXDPMmg1GJQiz68GDJsK4Qkw7nrYPNW8WKuh\ndnXDGdrUycJ/pvLzfd14oHdDCtyaV6Ztpu+b80h5LY1nf9rA4u3HcLk9ZodbrZXnskTjgcVAI6XU\nPqXUbb9z+BRgB7AN+BijmxXe8UTPAsu85b+FxhhVPS1vgOBaMPeVEruubG0MjfphdYkb6EIIIUSp\n37tKqauVUvuAzsDPSqkzN43fA4IwktllwBit9W9ADLBAKbUGWAr8rLWe5j3/nUqpO72vL/V7Wwif\nFd0YrhxpjPPt8Sjs+RXGDoBRKbB8DORW8ARRJ/fA+MEw8WbwC4Nbf4Er3oaAiKLHBcfA33+GmGbG\nseu+rdg4BUopmsWGcn+fBvx4bzcWP5HKc1c1p15UIF8s3s2Qj3+l3XMzeWDCKn767QAZuTInT0Ur\nz1mah/zB/oRC2xoYcZ7jRgOjyzS4ysruB13vh2n/NO4qJnQ9uys+IoD2CeFMWrWfu1MSfaKLhBBC\niIrzO9+7k0o5NhNjaaLi9TuAVuc5/4eFts/7vS2ETwuKhtSnoNuDsGY8LPsEfnoApj8Fza+GtrdA\n7fZFhp6VKXcBLH4P5r4MKOj3HHS8E6y/M4dLQAT87QcjQf7mNmPFj7ZDyyc+8Ydqhfpzc6e63Nyp\nLpl5LhZsPcKMDenM3nSY71cfwG5VdKofSZ8mMfRuEk3t8IA/Pqn4S3x4PvYqqu0tMP8NmPcKJPxQ\nZNdVbeJ4atI61h/IoHlcqEkBCiGEEEJUcY4AaH8bJN8K+1fAys9g7bdGl+caTaDt34yeeYGRZfee\nuxfDTw/CkY3Q+HLo/xKExf/x6wD8QuCmb4xW3sn3QH4WdLrzj18nylWQ00b/5rXo37wWbo9m5Z4T\nzNxwmBkbD/PM5PU8M3k9TWqF0LdJNH2axtAiLlQatcpBhS5LJP4ERwB0vQ92pMHepUV2XdaiFnar\n4vtV+82JTQghhBCiOlEKaifDwHfhkc1wxTvgCITpT8AbjeHrYcZvNs9fGKOZfRx+uAfG9If8TBg8\nHgaP+/PJ7hmOAGPyqsaXw7THYd5rFx+TKHNWi6J9QgRPDGjC7IdTmPVwT54c0Jhgp42Rc7YxcORC\nLn17PhOX7SG3wG12uFWKJLyVUfKtEBBZYixvWICDXo2i+WHNAdweWfdLCCGEEKLCOIOh3S3wj1lw\n1yJIvg22z4bPr4R3WsO8VyHjAuZa0RpWjYN32xndp7veDyOWQOMBFx+jzQmDPjNan2c/CzP/be7E\nW+K8EmsEMbxHIl/d2ZnlT/flhatbAPD4t2vp9OIsXpq6if0nc0yOsmqQhLcycgRC53tg2wyjG00h\nV7eJ48jpPBZuO2pScEIIIYQQ1VxMM7j0JXh4M1z7KYTXhdnPwZvN4MvBsGkKuF3nf336Jhh7Gfxw\nN0Q1gDvmQd//Gr8B/yqrDa760GhAWfAmTHn0r7VAi3IXEejgxo51mHp/d8b/oxMd60Uwat52ur88\nm7v+t4IlO46h5cbFRZMxvJVVh3/AwreN7ihDxp+t7tU4mhrBTl6YspGO9SNw2qwmBimEEEIIUY3Z\n/YzljFpcB8e2G2N8V4+DLVMhqCa0uQna3AwR9Y3j87ONluBF7xgtxgPfhdY3g6WM26AsFrjsDSOB\nXvQuFGQb3bGt8tO/MlNK0Tkxks6Jkew7kc0Xv+5mwtK9TF13iMY1gxnWNYErW8fhZ5ff/xdCWngr\nK2cwdB4Bm6fAwTVnq/3sVl66pgWbDp3mzRlbTQxQCCGEEEKcFZkIfZ6BBzcY43BjWxstrO+0gc+u\ngEUj4f1OsOANo8vxPcuNya/KOtk9Qyno+yykPGkk4d/eCq788nkvUeZqhwfwxKVN+PWJ3rx0TdHu\nzi9Pk+7OF0IS3sqsw3Bwhhh3Agvp3SSGwe3j+WjedpbtqrrLEgshhBBC+ByrzRiHe+NEY13f1Kfh\nxG745Smw+Rnr5l71PgRGlX8sSkHK49DvedjwA0y8CQokUfIl/g4rgzsU7e780Vzp7nwhpF9DZeYf\nZqy9Nu8VOLwB4oIbDgAAIABJREFUYpqe3fX05U1ZuP0oD321mqn39yDIKR+lEEIIIUSlEhILPR6F\nbg/D0c0QkQg2R8XH0eUeo3vzTw/CuEHGcDlncMXHIS6adHe+eNLCW9l1ugscQSVaeYOcNt64vjX7\nTuTw/M8bTApOCCGEEEL8IYsFopuYk+yekTwMrvkYdi+Cz6+CnBPmxSL+EunufGEk4a3sAiKMCazW\nT4IjW4rsap8QwR09Ehm/dC+zNh42KUAhhBBCCOETWg6C6z+HQ7/B2Csg84jZEYm/oHh35071IqW7\ncykk4fUFne8Buz/ML7mA+IN9G9C4ZjCPf7uWY5l5JgQnhBBCCCF8RpPLYcgEOLYNxlwKp/abHZH4\ni850d/5waDvmPdaLf/Soz+Idx7hh1K9c+vZ8JizdQ06+2+wwTSMJry8IjDLWUlv7tTHlfSFOm5W3\nBrcmI6eApyatk7s4QgghhBDi9yX1hqHfwelDMKY/HN9pdkSijJzp7rz4n715+Vqju/M/v1tL55dm\n8eLUjew7kW1yhBVPEl5f0eU+sDpg/hsldjWuGcLD/Roybf0hvlspd+mEEEIIIcQfqNsFbpkMeadh\ndH/YNAWk4aTK8HdYuaG90d154vBOdK4fySfzd9LjlTnc8cVyFm+vPt2dJeH1FcEx0O7vsGY8nNhV\nYvft3evTISGCf09eLwPVhRBCCCHEH4trC3+fAn4hMGGIsV7wwTVmRyXKkFKKjvUj+eDmdsx/rBd3\n9kxk6c7jDPn4V/q/NZ+0vQVVvruzJLy+pOv9YLEai5gXY7UoXr++FR6teeSrNXg81eOOjRBCCCGE\n+AtimsJdi2DAa3B4PXzUE74fARkHzY5MlLHYMH8e69+YxU/05pXrWmK1KMauz6fTi7N4YcpG9h6v\nmt2dJeH1JSGx0GYorBoHJ/eW2B0fEcD/XdGUxTuOMXqhjMUQQgghhBB/gtVurApy3yroci+s/Qre\nbQtpL0N+ltnRiTLmZ7dyfXI8P9/XjSc7+tGtQRSfLthJz1fn8I/Pl7Nw29Eq1d1ZEl5f0+1BUAq+\nGgpZx0rsvj45nj5Nonll+mb2n/aYEKAQQgghhPBJ/mHQ71kYsQQa9IW0F+DdZFg9Hjzyu7KqUUrR\nMNzKeze2ZcHjvbg7JYmVu09w0ydLuOStefzv191k57vMDvMvk4TX14TFw6DPIH0jjL6kREuvUooX\nr2lJsNPGe2ty2X1M7soJIYQQQogLEFHfWK932DQIrgnf3wkfp8CuBWZHJspJrVB/HrmkEQv/mcpr\ng1rhtFl5+vt1dHxhFs/+tIGNBzPMDvGiScLrixoPgJu/g8x0+LQfpG8qsrtGsJO3B7fhRK5mwNvz\n+WbFvirVLUEIIYQQQlSAup3h9llwzSdGz8Kxl8GEm0oskymqDj+7leva1WbyPV359q4upDSK5rNF\nu7j07fn0f2seH83dzqFTuWaHeUEk4fVVCV1h2M+g3cb6aXuXFdndrUEUz3X1p1lsKI98vYZ7x6/i\nVE6BScEKIYQQQgifZLFAy0Fw73JI/RfsSIP3OsC0JyD7uNnRiXKilKJd3XDeHdKGpU/14dkrm+Hv\nsPLi1E10fmkWN33yK9+s2EdmXuXv8iwJry+r2QJunQ5+YfD5QNg2s8juSH8L44d34tFLGjF13SEG\nvD2fpTvlD5MQQgghhLhAdn/o8QjcuxJa3wRLPoR32sCvH4Ar3+zoRDmKCHQwtHMCk+7uypxHUrgv\ntQH7TuTwyNdrSH5uBveNX8Wczem43JVznLckvL4uop6R9EYkwpc3wNpviuy2WhQjeiXx7V1dsFkV\ng0ct5vVfNlNQSf9BCiGEEEKISiw4Bga+A3fMh9jWMO2f8H4n2PQzyBC6Kq9eVCAP9m1I2iMpfHtX\nF65rV5t5W48wbMwyOr04i//8uJ7f9p2sVMMpJeGtCoJjjO7N8R3h29thyUclDmkdH8bP93Xnmra1\neXf2NgZ9uFgmtBJCCCGEEBenZnMY+j3c+DVYrDDhRvjsCjiw2uzIRAU40+X5uatasPTJPowa2o72\nCRGM+3UPA0cupM8bcxk5e2ulWNvXZnYAooz4hRoTWX1zK0x9DLKOgupS5JAgp43XBrWiZ8MaPDlp\nLQPens9/rmzOtW3jUEqZFLgQQgghhPBJSkHDfpDYC1aMhbQXYVQK1OsOdbtC3S4QlwyOALMjFeXI\nYbPQr1lN+jWryansAqasO8iklft57ZctvPbLFjokRHB12zgGtKhFqL+9wuOThLcqsfsZU8j/dD/M\ne4VGNftA57ZGMlzIFa1iaVs3nAcnrOaRr9fwzYq9PNyvEe0TIkwKXAghhBBC+CyrHTr8A1peD4ve\nhS3TIO0lQIPFbnR9rtPZSILrdAT/cLMjFuUkNMDOkA51GNKhDnuPZ/PD6v18t2o/T3y3lmd+WE/v\nJtHc3KkuXZOiKiwm6dJc1VhtMHAkdH+YmodmwTttjTtuHneRw+LC/Bk/vBP/GdiMbelZDPpwMX8b\nvZQ1e0+aE7cQQoi/RCk1WimVrpRaV6hukFJqvVLKo5RKLlRvV0p9ppRaq5TaqJR6wlsfr5Sa461b\nr5S6/zzvlaKUOqWUWu0t/1f+VyiEqPT8QiH1abhzATy+y+ju3OUeUBZjcqvxN8DL9eD9LvDzI9RI\nnw8ZB82OWpST+IgA7kltwKyHejL5nq7c1KkOy3YdZ8mOYxUah7TwVkVKQe//Y0V2LMlHvoEf74dl\nn0D/lyCh29nDrBbFLV0SuD45ns8X7+LDudu58r2F9GkSw0N9G9I0NsS8axBCCHGhxgIjgc8L1a0D\nrgGKT+4wCHBqrVsopQKADUqp8UAe8LDWeqVSKhhYoZSaobXeUMr7zddaX17mVyGEqBr8w4zuzg37\nGc8LcmD/Cti9yCirv6RZQRZseA3CE7ytv52NbtAR9Y3fs6JKUErRsnYYLWuH8eSAJuS7KnbyXEl4\nq7DM4CS4fCqs/w5mPGMsFt70Suj7LITXPXucv8PKHT0TualTXcYs2Mmo+TsY8M58LmtZiwf7NCAp\nOtjEqxBCCPFnaK3nKaUSitVtBEqbp0EDgUopG+AP5AMZWuvjwEHva08rpTYCcUBpCa8QQvx5dn+j\n4eVM44vbxYqfx9AuKg/2LIbNU2H1OGNfUAzU6WQkwfEdoUZjY+ie8Hl2qwW7tWI7GUvCW9UpBc2v\nhUYDjDEVC96EzdOM7iXdHgJn0NlDg5w27u3dgL91TuCTBTsYvWAnU9ce5KrWcYxITSKxRtDvvJEQ\nQggf8g1wJUZyGwA86E12z/Imz22AJec5R2el1BrgAPCI1np9uUUrhKh6rDZOhzSALinG71KPB45u\ngT3eFuDdi2HDD8axygqRiRDdBKKbQUxTiG5qtAxbrGZehfABkvBWF3Z/6PmYsVD4zH/D/Ndh1Tjo\n829jgoFCfyxCA+w83K8Rf++SwEfzdvDZol18t2o/rWqHckWrWC5vGUvNULnLJoQQPqwD4AZigXBg\nvlJqptZ6B4BSKgj4FnhAa51RyutXAnW11plKqQHA90CD4gcppYYDwwFiYmJIS0srk+AzMzPL7Fxm\n8PX4Qa6hMvD1+OF811AfIutD5M04c9MJydhMYNYegjJ3E7hjCX4bJqMw1nh1WxxkBdYhK7BukZLv\nCKuQLtFV9zOoWiThrW5C4+Daj6HDcJj2OHx/J6S9AO3+Dm2GQlD02UMjg5w8OaAJt3evx6SV+5m8\n5gDP/byR56dspENCBANbxzKgeS3CAx3mXY8QQoiLcSMwTWtdAKQrpRYCycAOpZQdI9kdp7X+rrQX\nF06CtdZTlFLvK6WitNZHix03ChgFkJycrFNSUsok+LS0NMrqXGbw9fhBrqEy8PX44SKvIT8L0jdB\n+gas6RsIObyekPS1cGjWuWP8IyCmmdEKfKY1OLoJOMt2mF61/Qx8jCS81VV8e7htJmycbExoNeu/\nMOcFaHw5JN8K9XqcvTMWHezHHT0TuaNnItuPZPLjmgNMXnOApyat45kf1tOtQRQDW8XSr1lNgpzy\nT0oIIXzAHiBVKfU/jC7NnYC3lDHY91Ngo9b6jfO9WClVEzistdZKqQ4Yqz5U7LSbQojqyREItdsZ\npbCso3B4PaRvhHTv4+pxkJ957piwOt7furdBVFLFxi1MI9lJdWaxQLOrjHJki7F80epxsOF7iEyC\ndsOg9Y0QcG593sQaQTzQpyH3927AhoMZTF5zgJ/WHOShr9bgsK2lfUI4XRKj6JwYScu4UGwVPChd\nCCGqK+8syylAlFJqH/AMcBx4F6gB/KyUWq21vgR4DxiDMYuzAsZorX9TSnUDhgJrlVKrvad+0tuK\neyeA1vpD4DrgLqWUC8gBBmutdUVdqxBClBAYBfV7GuUMjwdO7TGS38Pr4cAqWPox/Po+1O8F7W+H\nhv2NZT1FlSWfrjDUaAj9X4De/zImCFg+Gn55ymj5bXYVtLnZmCreageMGT+bxYbSLDaUxy9pzKq9\nJ5iy9hALtx3l1embAQh0WOlQL+JsAtykVghWi0wxL4QQ5UFrPeQ8uyaVcmwmxtJExesXYCTApZ3/\nw0LbIzGWQBJCiMrLYjEmtgpPgEaXGnWZ6bDyc1g+BibeBCFxRiNP279BcIyZ0YpyIgmvKMruD60G\nG+XweuOPwZoJ8NtEcIZA/RRo0A+S+kBILQAsFkW7uhG0q2u0BB/LzGPJzuMs2n6URduPMWfzRgBC\n/e10qh9B+4QImsaG0KxWKKEBdpMuVAghhBBCVDtB0dDjEej6AGydbgztm/MczH0Zmg40Wn3rdJZ1\ngKsQSXjF+cU0g8teg77/ge1zYOsvsHWGMe4XoGYLb/LbF2q3P9sdJDLIyYAWtRjQwkiID2fksnj7\nsbMJ8PT1h8++Re1wf5rFhnhbi43HmBBnhV+qEEIIIYSoRqw2aHyZUY5th2Wfwur/wbpvjUmu2t8G\nLW8o84muRMWThFf8MUcgNLncKFobLb/bZhjJ74K3jCWO/EIhMRXiO0FcOyMZ9i4QHhPix1Vt4riq\nTRwARzPzWH8gg/UHTrH+QAYbDmQUSYIjAx3U8nMz9/R6EmsEGSU6kBpBTpTcbRNCCCGEEGUpMtEY\n2pf6tJHwLvsYfn4YZjxj9Hpsf7sxy7PwSZLwigujFNRsbpRuD0LOSdgxB7bOhO2zYL13qJjFZrQQ\nx7Y1EuC4dlCjEVisRAU56dmwBj0b1jh72sw8FxsPZrB+v5EEL916gAlL95JT4D57TLDTRv3oIBJr\nBHoT4UASogKpExFAgEP+KQshhBBCiL/AEQBthxpz1+xfaSS+K78wuj3X7Wa0+ja+HGyyJKcvkSxB\n/DX+YdDsaqMAZByA/SuMPxL7V8C672DFGGOfPRBiWxutv1ENjQQ4qhEERhHktNE+wRjfC5CWdoIe\nPXpyKCOXHUey2H4k82xZtO0Y363cXySMqCAndSL8qRMRQJ2IAOK9j3UiA4gJ9sMik2UJIYQQQog/\nQ6lzSx/1e97o6rzsU/hmGATFQNtboN3fzY5S/EmS8IqyFRJrlCZXGM89Hji+/VwCvH+FMTNeQfa5\n1/iFeZPfBkYCXKMRfjnHsWgXsWH+xIb5061BVJG3ycxzseNIJruPZbPneDZ7jxuPy3efYPKaA3gK\nLY5htyqig/2oGepHTIiTmBA/aoacee539rm/w1oB/4GEEEIIIYTPCIyErvdD53uN3oxLP4Z5r8L8\n12kd0hiONTNmdw6qCcE1jUmxgmoadc4QmfyqEpCEV5Qvi8WbyDaAVjcYdR4PZOyHo1uMcmQzHN0K\nW6bDqv8B0Alg6d3GVPFhdSG8rvEYVgfC6xIUVpeWsbVoWTusxFsWuD0cOJnDnuNnkuEcDmfkcuhU\nLpsOnWbu5iNk5btLvC7YaSMyyEFUkNMowcZ2ZJCTGkHntiMCHYT42WQ8sRBCCCFEdWGxQIO+Rjmx\nC5aPQa2dCnt/hdOHwZ1X8jU2fyMBDq5ptAyfeSy8HVwTAiLBIg0v5aXcEl6l1GjgciBda93cW/cq\ncAWQD2wHhmmtT3r3PQHcBriB+7TW0731/YG3ASvwidb6pfKKWVQQiwXC4o2S1LvovuzjcHQrmxb+\nSOMYfzi5G07shu2z4fTBosdaHcYficBo7x+PGhAYjT0omrpB0dQNjIakaAiKA0dQkTtsp3MLvElw\nHocycjmckcuR03kczTTK9iOZLNmZx4nsglIvwWZRhAU4iAi0ExHoICLQQXjAucdDB1x4Nh0m1N9O\nqL/D+2jHYbOU9X9NIYQQQghRkcIToO9/WGXvRUpKijGpa+4pyDwMpw8Za/1mHvJue+uObIadc43j\nilNW47dsrVZQOxniOxjz4DiDKvrKqqTybOEdi7Eo/eeF6mYAT2itXUqpl4EngMeVUk2BwUAzIBaY\nqZRq6H3Ne0BfYB+wTCk1WWu9oRzjFmYKiIA6HTm0I4fGKSlF9xXkwql9cHKXkQSf3A0ZByEr3bjT\ntncJZB8DdMnz2vyNhDgoBgKjCQ4ySlKgt65GtHF3zT/G6GLtXWKpwO3hRFY+RzLzOJaZz9HMPI5n\n5XMiO5/jWQWcyMrneFY+Ww5ncsJbf6Y79ajflpe8PIf1bPIb4m8nxM9GiJ+dYD8bwd7HEP9iz/1s\nBDntBPnZCLBbZTyyEEIIIURlopQxr42/d5je7ynIMZLgzPSiCfGpfXBgJWyZ6j2nBaKbQXx7qN3B\nWAI0MlG6SF+Eckt4tdbzlFIJxep+KfT0V+A67/aVwAStdR6wUym1Dejg3bdNa70DQCk1wXusJLzV\nkd0PopKMcj5ul5H0ZqV7/5gcMR6zjnjvth2GEzt/PzkGcASDfzh2/zCi/cOI9g8H/3AjGfYPh6hw\niPfW+Xvr/MNxW/05levil7QFNG7ZlpPZ+ZzKKSAjp4CT2QWcyjHKSe/j/pO5bMo9zelcF6dzC4qM\nPS6NUhDksBHkZyPIWejRaSPAYSPIaSXAaSPQYSXQaSPQYSPQaSPAaSXQYSPAYcXfYcXfbj277bBa\npHu2EEIIIURFsPsbLcThCaXvzz5uzHmzbxnsXQprv4Hlo419/hFG4lu7vZEIx7YFv5CKitxnmTmG\n91Zgonc7DiMBPmOftw5gb7H6juUfmvBZVpsxSUBwDNDi9491uyD7qDcRToec48YySzknjJJbaDt9\n07ltT+ndnAGsVgcRfmEM9NgJ2B9jLFbuDDYmLXAGg38whAUbXVScIWAPMNY5doSh7QFk40emdnDK\n5STDZeN0npvTeS4yc11k5hWQmesq9Nwop3NdHDyVS06+m8w8F1l5Llx/lDkXjtmi8LcbyW+Aw4o7\nL4caGxYaCbHdSJLPJMfGtg1/uxU/uxU/u+Xco82Ks0idFT+bxaizWbBZpTu3EEIIIcTvCog4N1YY\njLlvjm42kt99y4yydbr3YAXRTb2twN6W4MgkY/igOMuUhFcp9RTgAsadqSrlMA2U9mmV+kteKTUc\nGA4QExNDWlraXw8UyMzMLLNzVTSJ/ULYgGhvAfy9JbzYYVpj8eRhLziNzZXpfcwq9jwTnZtBTm4B\ntsx0rO5d2Fw5WN3Z2FzZKDylRqCAQG+JATQKj8WJ22qUM9slHm1OPA4HHovdW2/HpRzkaTu5OMjD\nTo62k6Md3mInW9vJ9jjI0nYyPQ6yPA6y3Zo8j4ts7SE/K4PTGZDnhny3Js8Ned7HC8ili7AosFvO\nFIXdWmjbAnarMTa6yDEWsHm3bd56m3e7+HO7BQryctk6aVaJ+jPvZ7OATVFpW7Tl/1lz+HLsQggh\nqjiLBaKbGKXdLUZdzsmircDrJ8GKscY+vzBjHHDNFhBeDyLqGY8hsdV2YqwKT3iVUrdgTGbVW2t9\n5qfzPiC+0GG1gQPe7fPVF6G1HgWMAkhOTtYpxcd/XqS0tDTK6lwVTWI3z3nj19oYu5F32igFWZCf\nBfnZkJ9pLNeUb9Spgmys+VlYC7KN1xRkG+OYzz7PMF5XkGMUV27pMwT+WcoCNn8KtAV7QAg4/Yxu\nNzY/o9j90DY/PFY/XBYHbuXApWwUULTka+vZkoeNPI+dXGzkemzkeKzkahvZbhvZHivZbhtZbgu5\nHgs5Lgs5bkW2W3E6T5HtUuS4vIm2y0WB+89k2grI/cOjHFYLdqvCbrNgt1rOPbd6n9uM5zaLBZtV\n4bAajzarxUi+Sz3egtNmnMthO1fnsFlweI8t/Poi57UY51u+dAkd2nbCWug9rBaF3WKp9GO3ffn/\nWV+OXQghRDXkH2ZM/Hpm8lePB45tLdoKvGNu0V6JVod35ZOEc0lwRD0Cso4YvyPt/qZcSkWo0ITX\nO+Py40BPrXWhhViZDHyplHoDY9KqBsBSjF+vDZRS9YD9GBNb3ViRMQtRppQCR4BRgmPK/vwej5H4\nFi4FhbdzitXnlNifvns7cdGRxj5X3rnXZB9HuXKxFuRgdeWCu8Bb8o2iSy71VCasNrDb0VY7WB1o\nqx1tseOxONAWb8u2xYZH2TmZmUNASDhurLixGEVbcCkrLm3FhYUCjwUXVgow6vKxkq9tFGgL+dpK\ngbaS57KSn2+hQFvI01byPcq7bSHfY5RMj4U8j4U8tyLXo8hzW3CdeU+M93JrKy6Mu6l2XNiVCztu\nHLiM5966M88LsPH1/BXkage5OMjFTq52kIOTPOXAY3EaybLlTAJ9Llk+U1+4zmo5U4x9VovCZlFY\nvI9nkmnbmYTc4r0JUCgpt1ssxnHWYufxvs+Zc2444kJtOYJVKSwWsCrjOItFnd22Fnpfm8WC1aqK\nxHXmGs48r6wt8UIIIUSlYrEYk2XVaARthxp1HrcxEdaJnXB8Z6HHXcZcNnkZgHfSpGX3QnCsNxFO\nKNoyHFHPmKvGh7+Ty3NZovFAChCllNoHPIMxK7MTmOH9IfOr1vpOrfV6pdRXGJNRuYARWhu/npVS\n9wDTMZYlGq21Xl9eMQvh8yyWcwn1RdqalkbcxbR2eTzGnUR3vpEIu/LOJcOuPKP12ZXvbYnOP7ff\nled9XYHxx/nstsso7gLwFKDcLnDno7zntJ55nzPv4S5AZ+UQgsX7Wve5c3hc3vhcxvk9LmMMtzv/\nd8dk/ykWb6mg24cu5cCtbLix4fbYcHlsuN02XFhxKRsujO0zCb9HKzyoItsubTHqtFE8Gtwo3B6F\nG4w6jAIKlzbO58JKnvfxbFKPcZPAg2LJ6omAQqPQcPYR77YHhcZy9tweLN5yZp/C441No4zvVmXM\nTK6UBWWxYFEW73OjzmrBu628ybbCokB5j2vYqDlX9e9XMR+OEEIIUVlYrBBe1yj1U4ru09qYHOvE\nTjYs/JmmNf3PJcOlLQVqDzR+W9r8weY82/PP6AXoLNIb8Ox2iTrnuddHNTC6aFeQ8pyleUgp1Z/+\nzvHPA8+XUj8FmFKGoQkhyoPFAhan8YfMJCsvpmuq1iUTbW+SfTZxLpyAFy7u/2/vbmMtu+o6jn9/\n3JnWMlAL09o0TKGgTQARC1SiYEpDfEAgAgGBBhIwJFAioYYoFN+IRhIgKg2BYECLENGxESiEF4QG\nSoVoCh2YAm0BEUdtGTttmhEmtWUe/r7Y68ycuXPO7cx0evfD/X6Sk7P3unvO/Pa6WXef/9lr77O/\nO7O9tLhuD6qbSrRyGrQz1ccsP2wTO266kWf8wpOOPvu+/96jzs5vOnAfm+aL9aOW989lPwh1qNu/\nmi0fau0HjqxXdc/U4bZq7VWHun2pg0f3RXXLOXSAPFRn9hf+rtpj8WXwC916x2WABa8kSYclsGUr\nbNnKnnP38eTnXHr0z39yb/f1n7Mzw/97x7GzAg/c1520uPee7vmomYFtvZYcsH/lTfCbx5R9D5k+\n79IsSf1LumnTK5t6v37lx2fuhcdf0msGOHIXweOavFQFhw5www1f4jmXXNKtU0eeZ9scLqhrcSF+\nuBg/2LZf8O9WL89nODrU4aUnP3zrCe+/JEkb2mkPP3KjrAfj4P5jL687cF83RXodWfBKkk5eAu26\n6j7P7kuSpIFZ2dw9Tn9krzH8kiZJkiRJ0iRZ8EqSJEmSJsmCV5IkSZI0SRa8kiRJkqRJsuCVJEmS\nJE2SBa8kSZIkaZIseCVJkiRJk2TBK0mSJEmaJAteSZIkSdIkWfBKkiRJkiYpVdV3hlMuyV3Af56i\nlzsbuPsUvdZ6M3t/xpzf7P0Zc/6pZ39cVZ2zHmGmymPzUcaeH9yHIRh7fhj/Pow9P4x7H47r2DzJ\ngvdUSnJTVV3cd46TYfb+jDm/2fsz5vxm13oa++9s7PnBfRiCseeH8e/D2PPDNPbhgTilWZIkSZI0\nSRa8kiRJkqRJsuB9YB/qO8CDYPb+jDm/2fsz5vxm13oa++9s7PnBfRiCseeH8e/D2PPDNPZhTV7D\nK0mSJEmaJM/wSpIkSZImyYJ3iSTPS/LdJN9PcmXfeU5Ukl1JvpVkZ5Kb+s6zliRXJ9mT5NtzbY9O\ncl2Sf2vPj+oz41qW5H9Hkjta/+9M8vw+My6T5Pwk1ye5LcktSa5o7YPv/zWyD77vk/xUkq8mubll\n/5PW/vgkN7Z+/8ckp/WddbU1sv9tkv+Y6/eL+s66TJKVJN9I8tm2Pvh+36jGPM5nxjzeYRpjXtLG\n5pTmBZKsAN8Dfh24HfgacFlV3dprsBOQZBdwcVUN/nu1klwC7AM+VlVPaW3vAe6pqne1DxweVVVv\n6zPnMkvyvwPYV1V/3me2B5LkPOC8qvp6kkcCO4AXA69l4P2/RvaXM/C+TxJgS1XtS7IZ+ApwBfAW\n4JNVtT3JXwE3V9UH+8y62hrZLwc+W1X/1GvA45DkLcDFwJlV9cIk1zDwft+oxjzOZ8Y83mEaY17S\nxuYZ3sWeCXy/qn5QVT8BtgMv6jnTZFXVPwP3rGp+EfDRtvxRujc4g7Qk/yhU1e6q+npb/jFwG/AY\nRtD/a2QfvOrsa6ub26OA5wKzN49D7fdl2UchyTbgBcBft/Uwgn7fqMY8zmfGPN5h/GNekix4F3sM\n8N9z67eXT4n4AAAFBklEQVQzsgMs3cHo80l2JHl932FOwrlVtRu6NzzAz/Sc52S8Kck325TnwU0J\nXi3JBcDTgBsZWf+vyg4j6Ps2rXYnsAe4Dvh3YG9VHWibDPbvzursVTXr93e2fn9vktN7jLiWq4C3\nAofa+lZG0u8b3RjH+cyYxzuMfsxL2uAseBfLgraxfZr57Kp6OvBbwO+1abdaPx8Efha4CNgN/EW/\ncdaW5BHAJ4Dfr6of9Z3nRCzIPoq+r6qDVXURsI1uVsmTFm22vqmOz+rsSZ4CvB14IvBLwKOBQU2B\nB0jyQmBPVe2Yb16w6SD7fSMb6zifGfN4h/GOeUkCC95lbgfOn1vfBvywpywnpap+2J73AJ+iO8CO\nyZ3t2q3ZNVx7es5zQqrqzvYG4RDwYQbc/+2arE8AH6+qT7bmUfT/ouxj6nuAqtoLfAn4ZeCsJJva\njwb/d2cu+/Pa1NOqqvuBjzDMfn828NvtHgfb6aaUXsXI+n2jmcI4nxnzeIdRjnlJsuBd4mvAhe0O\niqcBrwQ+03Om45ZkS7u5B0m2AL8BfHvtfzU4nwFe05ZfA3y6xywnbFYsNi9hoP3frl/8G+C2qvrL\nuR8Nvv+XZR9D3yc5J8lZbfkM4Nfork28HnhZ22yo/b4o+3fmPiAJ3bWIg+v3qnp7VW2rqgvo/q5/\nsapexQj6faMa8zifGfN4h3GPeUkC79K8VLqvOLgKWAGurqp39hzpuCV5At1ZXYBNwN8POX+SfwAu\nBc4G7gT+GLgWuAZ4LPBfwO9U1SBvDLUk/6V0U+0K2AW8YXZN7JAk+VXgy8C3OHJN4x/RXSM36P5f\nI/tlDLzvkzyV7iY1K3QfPF5TVX/axu52uumB3wBe3c6eDMYa2b8InEM3RXgncPncjW4GJ8mlwB+0\nuzQPvt83qjGP85kxj3eYzpiXtHFZ8EqSJEmSJskpzZIkSZKkSbLglSRJkiRNkgWvJEmSJGmSLHgl\nSZIkSZNkwStJkiRJmiQLXmnEkhxMsnPuceUpfO0Lkvi9ipIknQCPzdKwbOo7gKQH5f+q6qK+Q0iS\npMM8NksD4hleaYKS7Ery7iRfbY+fa+2PS/KFJN9sz49t7ecm+VSSm9vjWe2lVpJ8OMktST6f5Iy2\n/ZuT3NpeZ3tPuylJ0mh4bJb6YcErjdsZq6ZNvWLuZz+qqmcC7weuam3vBz5WVU8FPg68r7W/D7ih\nqn4ReDpwS2u/EPhAVf08sBd4aWu/Enhae53LH6qdkyRphDw2SwOSquo7g6STlGRfVT1iQfsu4LlV\n9YMkm4H/qaqtSe4Gzquq/a19d1WdneQuYFtV3T/3GhcA11XVhW39bcDmqvqzJJ8D9gHXAtdW1b6H\neFclSRoFj83SsHiGV5quWrK8bJtF7p9bPsiR6/5fAHwAeAawI4n3A5Ak6YF5bJbWmQWvNF2vmHv+\n17b8L8Ar2/KrgK+05S8AbwRIspLkzGUvmuRhwPlVdT3wVuAs4JhPsiVJ0jE8NkvrzE9+pHE7I8nO\nufXPVdXs6w9OT3Ij3Qdbl7W2NwNXJ/lD4C7gd1v7FcCHkryO7tPiNwK7l/yfK8DfJflpIMB7q2rv\nKdsjSZLGzWOzNCBewytNULtO6OKqurvvLJIkyWOz1BenNEuSJEmSJskzvJIkSZKkSfIMryRJkiRp\nkix4JUmSJEmTZMErSZIkSZokC15JkiRJ0iRZ8EqSJEmSJsmCV5IkSZI0Sf8PzA2q0iUhcLkAAAAA\nSUVORK5CYII=\n",
      "text/plain": [
       "<matplotlib.figure.Figure at 0x7fdc702d4320>"
      ]
     },
     "metadata": {},
     "output_type": "display_data"
    }
   ],
   "source": [
    "plot_mlp_loss(models_history['mlp_v2'], 'mlp_v2')"
   ]
  },
  {
   "cell_type": "markdown",
   "metadata": {},
   "source": [
    "We see, we got a slight performance drop when we increased the batch size. Depending on your current machine, there may or may not be benefits in doing this (different machines showed different results). The final decision, of course, depends on the task we need to accomplish. In this capstone, I'll switch back to `batch_size=128`."
   ]
  },
  {
   "cell_type": "markdown",
   "metadata": {},
   "source": [
    "### Increasing the number of units in the hidden layer"
   ]
  },
  {
   "cell_type": "markdown",
   "metadata": {},
   "source": [
    "Next, we'll test a little stronger model by adding more units to the hidden layer (doubling the amount of units from 128 to 256). Do we get an improvement on the validation set?"
   ]
  },
  {
   "cell_type": "code",
   "execution_count": 43,
   "metadata": {
    "collapsed": true
   },
   "outputs": [],
   "source": [
    "def mlp_model():\n",
    "    model = Sequential()\n",
    "    model.add(Dense(256, input_dim=train_x.shape[1]))\n",
    "    model.add(Activation('relu'))\n",
    "    model.add(Dense(1))\n",
    "    model.compile(loss='mae', optimizer='adam')\n",
    "    return model"
   ]
  },
  {
   "cell_type": "code",
   "execution_count": 44,
   "metadata": {
    "collapsed": true
   },
   "outputs": [],
   "source": [
    "mlp = mlp_model()\n",
    "\n",
    "if USE_PRETRAINED:\n",
    "    mlp = load_model('pretrained/mlp_v3.h5')\n",
    "    with open('pretrained/mlp_v3_hist.pkl', 'rb') as f:\n",
    "        hist = pickle.load(f)\n",
    "else:\n",
    "    sys.stdout = open('mlp_v3_out.txt', 'w')\n",
    "    fit = mlp.fit(train_x, train_y, validation_split=0.2, \n",
    "                  batch_size=128, nb_epoch=40, verbose=1)\n",
    "    hist = fit.history"
   ]
  },
  {
   "cell_type": "code",
   "execution_count": 45,
   "metadata": {
    "collapsed": true
   },
   "outputs": [],
   "source": [
    "models_history['mlp_v3'] = hist"
   ]
  },
  {
   "cell_type": "code",
   "execution_count": 46,
   "metadata": {},
   "outputs": [
    {
     "data": {
      "text/plain": [
       "('Validation loss by epoch 40:', 1175.6575601038126)"
      ]
     },
     "execution_count": 46,
     "metadata": {},
     "output_type": "execute_result"
    }
   ],
   "source": [
    "\"Validation loss by epoch 40:\", hist['val_loss'][-1]"
   ]
  },
  {
   "cell_type": "code",
   "execution_count": 47,
   "metadata": {},
   "outputs": [
    {
     "data": {
      "image/png": "iVBORw0KGgoAAAANSUhEUgAAA7wAAAFNCAYAAAAjEmOiAAAABHNCSVQICAgIfAhkiAAAAAlwSFlz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\nSUVORK5CYII=\n",
      "text/plain": [
       "<matplotlib.figure.Figure at 0x7fdc48277f98>"
      ]
     },
     "metadata": {},
     "output_type": "display_data"
    }
   ],
   "source": [
    "plot_mlp_loss(models_history['mlp_v3'], 'mlp_v3')"
   ]
  },
  {
   "cell_type": "markdown",
   "metadata": {},
   "source": [
    "We notice a small improvement both in training loss and in validation loss if we compare the plots of `mlp_v1` and `mlp_v3`. The improvement is not drastic, but it's visible.\n",
    "\n",
    "Moreover, I also trained the 1024-unit network and got peculiar results:\n",
    "\n",
    "* It can be overfitted, starting from epoch 115.\n",
    "\n",
    "\n",
    "* Validation loss reached 1145 at the lowest point.\n",
    "\n",
    "\n",
    "* 3-fold CV showed MAE = 1171 (by epoch 120). This is not the worst performance for a single unbagged model when we consider that this is a one-layer network with a limited nonlinearity.\n",
    "\n",
    "\n",
    "I haven't yet introduced CV, but I calculated a 3-fold CV (the function will be presented soon) for `mlp_v1` regardless this fact: MAE = 1190.73 (40 epochs), 1186.55 (120 epochs, no visible overfitting). As we expected, the predictive power of a 128-unit model is quite limited.\n",
    "\n",
    "We could increase the number of units even further, and, according to the [universal approximation theorem](https://en.wikipedia.org/wiki/Universal_approximation_theorem), we approximate any continuous function in Euclidean space. From the practical point of view, this is not the best option: the number of units should be exponentially larger."
   ]
  },
  {
   "cell_type": "markdown",
   "metadata": {},
   "source": [
    "To conclude this section and to move forward, I'd like to highlight the \"start with the simplest\" approach. As we've just seen, even a simple one hidden layer network shows a decent performance."
   ]
  },
  {
   "cell_type": "markdown",
   "metadata": {
    "collapsed": true
   },
   "source": [
    "## Step 3: 3-layer model: CV and overfitting demo"
   ]
  },
  {
   "cell_type": "markdown",
   "metadata": {},
   "source": [
    "<table>\n",
    "<tr><td>\n",
    "<img src=\"http://cdn.rawgit.com/dnkirill/allstate_capstone/master/images/mlp2.svg\"></td>\n",
    "<td width=\"35%\">\n",
    "<p>This network contains two hidden layers with ReLU activation. The second hidden layer is connected with a single-unit output layer. All layers are dense.</p>\n",
    "\n",
    "<p><b>Input layer</b> consists of `train_x.shape[1] + 1` nodes: all our features and the bias term.</p>\n",
    "\n",
    "<p><b>Both hidden layers</b> consist of units with ReLU activation function.</p>\n",
    "\n",
    "<p><b>Output layer</b> is just a single unit with `mean_absolute_error` objective we are trying to optimize.</p>\n",
    "\n",
    "<p><b>Cross-validation</b> becomes essential since we reach the point where the model becomes powerful enough to capture nonlinear relationships in training set and easily overfit. We should be able to detect it with CV.</p>\n",
    "\n",
    "<p>To prevent overfitting, we introduce <b>dropout</b> and randomly nullify activations of units in hidden layers.</p>\n",
    "</td>\n",
    "</tr></table>"
   ]
  },
  {
   "cell_type": "markdown",
   "metadata": {},
   "source": [
    "### Cross-validation\n",
    "First, we introduce cross-validation. We'll use a 3-fold CV which is just a rough estimate of a better 5-fold or 10-fold CV. On the other hand, we just need to capture trends and are not very interested in the maximum precision. On Kaggle, I use 5-fold CV.\n",
    "\n",
    "There are several points to be mentioned:\n",
    "\n",
    "* As usual, cross-validation is built on top of `cross_validation.KFold` class from `sklearn`.\n",
    "\n",
    "\n",
    "* To prevent errors, we require passing a _function_ of a model, not the object itself. Otherwise, we may find ourselves in an awkward position where we train the same model on different folds.\n",
    "\n",
    "\n",
    "* We add early stopping with a small value of patience. After a number of trials, `patience=5` was found quite a reasonable value (my production model uses `patience=8`, though)."
   ]
  },
  {
   "cell_type": "code",
   "execution_count": 48,
   "metadata": {
    "collapsed": true
   },
   "outputs": [],
   "source": [
    "def cross_validate_mlp(mlp_func, nfolds=3):\n",
    "    folds = KFold(len(train_y), n_folds=nfolds, shuffle=True, random_state = 31337)\n",
    "    val_scores = np.zeros((nfolds,))\n",
    "    for k,(train_index, test_index) in enumerate(folds):\n",
    "        xtr = train_x[train_index]\n",
    "        ytr = train_y[train_index]\n",
    "        xte = train_x[test_index]\n",
    "        yte = train_y[test_index]\n",
    "        mlp = mlp_func()\n",
    "        early_stopping = EarlyStopping(monitor='val_loss', patience=5)\n",
    "        fit = mlp.fit(xtr, ytr, validation_split=0.2, batch_size=128, \n",
    "                      nb_epoch=30, verbose=1, callbacks=[early_stopping])\n",
    "        pred = mlp.predict(xte, batch_size=256)\n",
    "        score = mean_absolute_error(yte, pred)\n",
    "        val_scores[k] += score\n",
    "        print ('Fold {}, MAE: {}'.format(k, score))\n",
    "    avg_score = np.sum(val_scores) / float(nfolds)\n",
    "    print ('{}-fold CV score: {}'.format(nfolds, avg_score))\n",
    "    return avg_score"
   ]
  },
  {
   "cell_type": "markdown",
   "metadata": {},
   "source": [
    "### Danger of overfitting\n",
    "Neural (especially deep) networks are known for their tendency to overfitting. The more nonlinear transformations we allow our network to make (by adding more hidden layers), the easier our model may get overfit.\n",
    "\n",
    "To show that overfitting is very real and easily achievable, we train a model without any regularization. Basically, we just add one more layer to our previous models. We increase the number of units to visualize overfitting better, but the same result can be obtained without such an increase.\n",
    "\n",
    "We split training set into training and validation. For now, I decided to use `train_test_split` from `sklearn`, though we could use `validation_split` parameter from `Sequential.fit` method again."
   ]
  },
  {
   "cell_type": "code",
   "execution_count": 49,
   "metadata": {
    "collapsed": true
   },
   "outputs": [],
   "source": [
    "xtr, xte, ytr, yte = train_test_split(train_x, train_y, test_size=0.25, random_state=31337)"
   ]
  },
  {
   "cell_type": "markdown",
   "metadata": {},
   "source": [
    "We initialize a wide3-layer model with 1024-512 units in hidden layers:"
   ]
  },
  {
   "cell_type": "code",
   "execution_count": 50,
   "metadata": {
    "collapsed": true
   },
   "outputs": [],
   "source": [
    "def mlp_model():\n",
    "    model = Sequential()\n",
    "    model.add(Dense(1024, input_dim=xtr.shape[1]))\n",
    "    model.add(Activation('relu'))\n",
    "    model.add(Dense(512))\n",
    "    model.add(Activation('relu'))\n",
    "    model.add(Dense(1))\n",
    "    model.compile(loss='mae', optimizer='adam')\n",
    "    return model"
   ]
  },
  {
   "cell_type": "markdown",
   "metadata": {},
   "source": [
    "We train the model and visualize the results:"
   ]
  },
  {
   "cell_type": "code",
   "execution_count": 51,
   "metadata": {
    "collapsed": true
   },
   "outputs": [],
   "source": [
    "mlp = mlp_model()\n",
    "\n",
    "if USE_PRETRAINED:\n",
    "    \n",
    "    # This model weights 20 MB and I decided to exclude it\n",
    "    # from the repository. If you still need it, you can download it from S3:\n",
    "    \n",
    "    # !wget https://s3-eu-west-1.amazonaws.com/kd-allstate/mlp_v4.h5 -d pretrained\n",
    "    # mlp = load_model('pretrained/mlp_v4.h5')\n",
    "    \n",
    "    with open('pretrained/mlp_v4_hist.pkl', 'rb') as f:\n",
    "        hist = pickle.load(f)\n",
    "else:\n",
    "    sys.stdout = open('mlp_v4_out.txt', 'w')\n",
    "    fit = mlp.fit(xtr, ytr, batch_size=128, validation_data=(xte,yte),\n",
    "                  nb_epoch=40, verbose=1)\n",
    "    hist = fit.history"
   ]
  },
  {
   "cell_type": "code",
   "execution_count": 52,
   "metadata": {
    "collapsed": true
   },
   "outputs": [],
   "source": [
    "models_history['mlp_v4'] = hist\n",
    "sys.stdout = _stdout"
   ]
  },
  {
   "cell_type": "markdown",
   "metadata": {},
   "source": [
    "If we print a training loss after 40 epoch, we'll see an alarmingly good score:"
   ]
  },
  {
   "cell_type": "code",
   "execution_count": 54,
   "metadata": {
    "scrolled": true
   },
   "outputs": [
    {
     "data": {
      "text/plain": [
       "('Training loss by epoch 40:', 813.85515641704956)"
      ]
     },
     "execution_count": 54,
     "metadata": {},
     "output_type": "execute_result"
    }
   ],
   "source": [
    "'Training loss by epoch 40:', models_history['mlp_v4']['loss'][-1]"
   ]
  },
  {
   "cell_type": "markdown",
   "metadata": {},
   "source": [
    "But the validation loss is out of sync with the training loss:"
   ]
  },
  {
   "cell_type": "code",
   "execution_count": 56,
   "metadata": {},
   "outputs": [
    {
     "data": {
      "text/plain": [
       "('Validation loss by epoch 40:', 1244.2148807963174)"
      ]
     },
     "execution_count": 56,
     "metadata": {},
     "output_type": "execute_result"
    }
   ],
   "source": [
    "\"Validation loss by epoch 40:\", hist['val_loss'][-1]"
   ]
  },
  {
   "cell_type": "markdown",
   "metadata": {},
   "source": [
    "We clearly see the overfitted model when we plot loss on training and validation sets. One of the effects of overfitting is the increasing gap between validation and training errors, as we see from the plots below:"
   ]
  },
  {
   "cell_type": "code",
   "execution_count": 57,
   "metadata": {
    "scrolled": false
   },
   "outputs": [
    {
     "data": {
      "image/png": "iVBORw0KGgoAAAANSUhEUgAAAjYAAAFNCAYAAAATuyWqAAAABHNCSVQICAgIfAhkiAAAAAlwSFlz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\nA60qHmOg4cHSAAAAAElFTkSuQmCC\n",
      "text/plain": [
       "<matplotlib.figure.Figure at 0x7fdc302ee860>"
      ]
     },
     "metadata": {},
     "output_type": "display_data"
    }
   ],
   "source": [
    "plt.figure(figsize=(9,5))\n",
    "plt.title('Overfitted model')\n",
    "plt.xlabel('Epochs')\n",
    "plt.ylabel('Loss')\n",
    "plt.grid(True)\n",
    "plt1, = plt.plot(models_history['mlp_v4']['loss'], label='Training Loss')\n",
    "plt2, = plt.plot(models_history['mlp_v4']['val_loss'], label='Validation Loss')\n",
    "fill = plt.fill_between(range(3,40,1),models_history['mlp_v4']['loss'][3:],\n",
    "                 models_history['mlp_v4']['val_loss'][3:], alpha=0.2, color='cyan')\n",
    "\n",
    "overfit_legend = mpatches.Patch(color='cyan', alpha=0.2, label='Overfitting')\n",
    "handles = [plt1, plt2, overfit_legend]\n",
    "plt.legend(handles, ['Training Loss','Validation Loss','Overfitting'])\n",
    "\n",
    "plt.show()"
   ]
  },
  {
   "cell_type": "markdown",
   "metadata": {},
   "source": [
    "Such models will fail to generalize. To cope with overfitting, we have several regularization techniques in our toolbox:\n",
    "\n",
    "* Dropout\n",
    "\n",
    "\n",
    "* Batch Normalization\n",
    "\n",
    "\n",
    "* Early Stopping\n",
    "\n",
    "\n",
    "* Running the model several times and bagging results."
   ]
  },
  {
   "cell_type": "markdown",
   "metadata": {},
   "source": [
    "## Step 4: List hyperparameters. Manually cross-validating models\n",
    "\n",
    "Let's now step back and reevaluate different hyperparameters we have to decide on:\n",
    "\n",
    "* **Number of hidden layers**: we now have two hidden layers, we pushed a single hidden layer model to its maximum, but we still have a possibility to train deeper models.\n",
    "\n",
    "\n",
    "* **Number of hidden units**: both in hidden layer #1 and hidden layer #2.\n",
    "\n",
    "\n",
    "* **Dropout rates**: both in hidden layer #1 and hidden layer #2.\n",
    "\n",
    "\n",
    "* **Activation function**. We will consistently use ReLU throughout the project. I tested both ReLU and [Parametric ReLU](https://arxiv.org/abs/1502.01852) (a generalization upon ReLU which beat ReLU score in ImageNet-2012 classification), but I didn't find any significant score increase with PReLU.\n",
    "\n",
    "\n",
    "* **Early stopping parameters**: number of epochs, value of patience. We'll limit the number of epochs to 30 to speed up training time. In my production model, I used 70 epochs with `patience=8`.\n",
    "\n",
    "\n",
    "* **Gradient descent optimizer**: we mostly use ADAM, but my final model uses [Adadelta](http://sebastianruder.com/optimizing-gradient-descent/index.html#adadelta).\n",
    "\n",
    "\n",
    "* **Weights initialization**. Glorot uniform is the default, but my final model uses glorot normal. This is the result of Hyperopt search. \n",
    "\n",
    "\n",
    "* **Learning rate, learning rate decay**. We'll keep them default.\n",
    "\n",
    "\n",
    "Actually, there are even more considerations we should take, but the point of listing hyperparameters is to show it's not enough to just add another layer, some dropout and think the work is done.\n",
    "\n",
    "Nevertheless, we start by doing just this: defining several 3-layer configurations, doing a manual CV over them and picking the one with the best CV score.\n",
    "\n",
    "**Configurations:**\n",
    "\n",
    "| Model Name | Hidden Layers | Hidden Layer #1 Units | Hidden Layer #2 Units | Hidden Layer #1 Dropout | Hidden Layer #2 Dropout |\n",
    "|------------|---------------|-----------------------|-----------------------|-------------------------|-------------------------|\n",
    "| mlp_v5     | 2             | 64                    | 16                    | 0.3                     | 0.2                     |\n",
    "| mlp_v6     | 2             | 128                   | 32                    | 0.4                     | 0.3                     |\n",
    "| mlp_v7     | 2             | 256                   | 64                    | 0.5                     | 0.4                     |"
   ]
  },
  {
   "cell_type": "code",
   "execution_count": 58,
   "metadata": {
    "collapsed": true
   },
   "outputs": [],
   "source": [
    "def mlp_v5():\n",
    "    model = Sequential()\n",
    "    model.add(Dense(64, input_dim=train_x.shape[1]))\n",
    "    model.add(Activation('relu'))\n",
    "    model.add(Dropout(0.3))\n",
    "    model.add(Dense(16))\n",
    "    model.add(Activation('relu'))\n",
    "    model.add(Dropout(0.2))\n",
    "    model.add(Dense(1))\n",
    "    model.compile(loss='mae', optimizer='adam')\n",
    "    return model\n",
    "\n",
    "def mlp_v6():\n",
    "    model = Sequential()\n",
    "    model.add(Dense(128, input_dim=train_x.shape[1]))\n",
    "    model.add(Activation('relu'))\n",
    "    model.add(Dropout(0.4))\n",
    "    model.add(Dense(32))\n",
    "    model.add(Activation('relu'))\n",
    "    model.add(Dropout(0.3))\n",
    "    model.add(Dense(1))\n",
    "    model.compile(loss='mae', optimizer='adam')\n",
    "    return model\n",
    "\n",
    "def mlp_v7():\n",
    "    model = Sequential()\n",
    "    model.add(Dense(256, input_dim=train_x.shape[1]))\n",
    "    model.add(Activation('relu'))\n",
    "    model.add(Dropout(0.5))\n",
    "    model.add(Dense(64))\n",
    "    model.add(Activation('relu'))\n",
    "    model.add(Dropout(0.4))\n",
    "    model.add(Dense(1))\n",
    "    model.compile(loss='mae', optimizer='adam')\n",
    "    return model"
   ]
  },
  {
   "cell_type": "code",
   "execution_count": 59,
   "metadata": {
    "collapsed": true
   },
   "outputs": [],
   "source": [
    "# Cross-validation and score evaluation\n",
    "scores = {}\n",
    "\n",
    "if USE_PRETRAINED:\n",
    "    with open('pretrained/mlp_v5_v6_v7_scores.pkl', 'rb') as f:\n",
    "        scores = pickle.load(f)\n",
    "else:\n",
    "    sys.stdout = open('mlp_v5_v6_v7_out.log', 'w')\n",
    "    for i, model_func in enumerate([mlp_v5, mlp_v6, mlp_v7]):\n",
    "        score = cross_validate_mlp(model_func)\n",
    "        scores[model_func.__name__] = score\n",
    "    sys.stdout = _stdout"
   ]
  },
  {
   "cell_type": "code",
   "execution_count": 60,
   "metadata": {},
   "outputs": [
    {
     "data": {
      "text/plain": [
       "{'mlp_v5': 1192.1258616832017,\n",
       " 'mlp_v6': 1182.8902283169753,\n",
       " 'mlp_v7': 1172.2726315286293}"
      ]
     },
     "execution_count": 60,
     "metadata": {},
     "output_type": "execute_result"
    }
   ],
   "source": [
    "scores"
   ]
  },
  {
   "cell_type": "markdown",
   "metadata": {},
   "source": [
    "Your performance may be different, but I got the following scores:\n",
    "\n",
    "`\n",
    "{'mlp_v5': 1193.1136604667843,\n",
    " 'mlp_v6': 1180.3518637720078,\n",
    " 'mlp_v7': 1174.283208544334}\n",
    "`\n",
    " \n",
    "The best model of these three (`mlp_v7`) shows a worse score (1174), than our single layer model with 1024 units (1171)! We now see that it takes **much** more effort to train a deeper model. Though, we shouldn't forget that we specifically limited our training to 30 epochs now (which we didn't for that single hidden layer model).\n",
    "\n",
    "After CV, we list two baseline configurations:\n",
    "\n",
    "* **2-layer model**. Hidden units: 1024. Epochs: 115.\n",
    "* **3-layer model**. Hidden units: 256, 64. Dropout: 0.5, 0.4. Epochs: 30."
   ]
  },
  {
   "cell_type": "markdown",
   "metadata": {},
   "source": [
    "## Step 5: Hyperopt MLP hyperparameters tuning"
   ]
  },
  {
   "cell_type": "markdown",
   "metadata": {},
   "source": [
    "After doing a CV over manually chosen models, we may want to automate this process and search over many more combinations. Unfortunately, there's no fast way to tune the hyperparameters of a neural network. \n",
    "\n",
    "To search over the space of hyperparameters, I introduce [Hyperopt](https://github.com/hyperopt/hyperopt), a model-agnostic library for advanced parallel hyperparams optimization. Hyperopt represents a Bayesian approach to optimization: the library uses the prior knowledge to make more intelligent assumptions what combination of parameters to try next.\n",
    "\n",
    "I'll just briefly touch upon it, because it may and will take an enormous amount of time to train and validate multiple combinations of hyperparams via Hyperopt. Anyway, it's a reliable and popular library which is heavily (ab)used on Kaggle.\n",
    "\n",
    "My methodology is based on [an post on fastml.com blog](http://fastml.com/optimizing-hyperparams-with-hyperopt/), which brings a 3-step process:\n",
    "\n",
    "1. Describe the search space: all hyperparameters and their possible values.\n",
    "\n",
    "2. Implement a function to minimize (our Keras model which minimizes the loss).\n",
    "\n",
    "3. Analyze and pick scores."
   ]
  },
  {
   "cell_type": "markdown",
   "metadata": {},
   "source": [
    "### 4 versions of Hyperopt search"
   ]
  },
  {
   "cell_type": "markdown",
   "metadata": {},
   "source": [
    "This Hyperopt code is for demo only. I commented out the code which actually starts Hyperopt.\n",
    "\n",
    "Running the following optimization will literally require **days** on any ordinary PC. To test that the code works, uncomment the lines with `fmin` function calls.  I'd recommend running it and seeing its output from a command-line: \n",
    "\n",
    "`$ tail -f hyperopt_v1.log`\n",
    "\n",
    "Then you should interrupt kernel and move on."
   ]
  },
  {
   "cell_type": "code",
   "execution_count": 30,
   "metadata": {
    "collapsed": true
   },
   "outputs": [],
   "source": [
    "# We need to define the search space for Hyperopt\n",
    "# Conditionals are used to maintain the structure of the network\n",
    "# Each hidden layer to the right has less units than the previous one\n",
    "\n",
    "# VERSION 1: two hidden layers, wide networks.\n",
    "\n",
    "# Describing the search space\n",
    "space = {'hidden1': hp.choice('hidden1', [\n",
    "            {\n",
    "                'hidden1_units': 256,\n",
    "                'hidden2': hp.choice('hidden2', [\n",
    "                        {\n",
    "                            'hidden2_units': 128\n",
    "                        }\n",
    "                    ]),\n",
    "                'hidden1_units': 512,\n",
    "                'hidden2': hp.choice('hidden2', [\n",
    "                        {\n",
    "                            'hidden2_units': hp.choice('hidden2_units', [128,256])\n",
    "                        }\n",
    "                    ]),\n",
    "                'hidden1_units': 768,\n",
    "                'hidden2': hp.choice('hidden2', [\n",
    "                        {\n",
    "                            'hidden2_units': hp.choice('hidden2_units', [128,256,512]),\n",
    "                        }\n",
    "                    ]),\n",
    "                'hidden1_units': 1024,\n",
    "                'hidden2': hp.choice('hidden2', [\n",
    "                        {\n",
    "                            'hidden2_units': hp.choice('hidden2_units', [128,256,512,768]),\n",
    "                        }\n",
    "                    ])\n",
    "            }]), \n",
    "        'hidden1_dropout': hp.uniform('hidden1_dropout', 0.1,0.6), \n",
    "        'hidden2_dropout': hp.uniform('hidden2_dropout', 0.1,0.5)}\n",
    "\n",
    "# Implementing a function to minimize\n",
    "def hyperopt_search(params):\n",
    "    print 'Model Testing:', params\n",
    "    def mlp_model():\n",
    "        model = Sequential()\n",
    "        model.add(Dense(params['hidden1']['hidden1_units'], input_dim=train_x.shape[1]))\n",
    "        model.add(Activation('relu'))\n",
    "        model.add(Dropout(params['hidden1_dropout']))\n",
    "        \n",
    "        model.add(Dense(params['hidden1']['hidden2']['hidden2_units']))\n",
    "        model.add(Activation('relu'))\n",
    "        model.add(Dropout(params['hidden2_dropout']))\n",
    "        \n",
    "        model.add(Dense(1))\n",
    "        model.compile(loss='mae', optimizer='adam', metrics = [\"mae\"])\n",
    "        return model\n",
    "    \n",
    "    cv_score = cross_validate_mlp(mlp_model)\n",
    "    return {'loss': cv_score, 'status': STATUS_OK}\n",
    "\n",
    "# Run the optimization and see the results\n",
    "sys.stdout = open('hyperopt_v1.log', 'w')\n",
    "trials = Trials()\n",
    "\n",
    "# UNCOMMENT THE NEXT LINE TO LAUNCH HYPEROPT:\n",
    "# best = fmin(hyperopt_search, space, algo=tpe.suggest, max_evals = 50, trials=trials)"
   ]
  },
  {
   "cell_type": "code",
   "execution_count": 31,
   "metadata": {
    "collapsed": true
   },
   "outputs": [],
   "source": [
    "# VERSION 2. Insights:\n",
    "# – increase the lower and upper bounds of dropout,\n",
    "# — the wider network doesn't seem to work well.\n",
    "\n",
    "# Describing the search space\n",
    "space = {'hidden1': hp.choice('hidden1', [\n",
    "            {\n",
    "                'hidden1_units': 128,\n",
    "                'hidden2': hp.choice('hidden2', [\n",
    "                        {\n",
    "                            'hidden2_units': 64\n",
    "                        }\n",
    "                    ]),\n",
    "                'hidden1_units': 256,\n",
    "                'hidden2': hp.choice('hidden2', [\n",
    "                        {\n",
    "                            'hidden2_units': hp.choice('hidden2_units', [32,64,128])\n",
    "                        }\n",
    "                    ]),\n",
    "\n",
    "                'hidden1_units': 512,\n",
    "                'hidden2': hp.choice('hidden2', [\n",
    "                        {\n",
    "                            'hidden2_units': hp.choice('hidden2_units', [32,64,128,256])\n",
    "                        }\n",
    "                    ])\n",
    "            }]), \n",
    "        'hidden1_dropout': hp.uniform('hidden1_dropout', 0.3,0.7), # Several rounds of hyperopt\n",
    "        'hidden2_dropout': hp.uniform('hidden2_dropout', 0.2,0.6)} # resulted in these values\n",
    "\n",
    "# Implementing a function to minimize\n",
    "def hyperopt_search(params):\n",
    "    print 'Model Testing:', params\n",
    "    def mlp_model():\n",
    "        model = Sequential()\n",
    "        model.add(Dense(params['hidden1']['hidden1_units'], input_dim=train_x.shape[1]))\n",
    "        model.add(Activation('relu'))\n",
    "        model.add(Dropout(params['hidden1_dropout']))\n",
    "        \n",
    "        model.add(Dense(params['hidden1']['hidden2']['hidden2_units']))\n",
    "        model.add(Activation('relu'))\n",
    "        model.add(Dropout(params['hidden2_dropout']))\n",
    "        \n",
    "        model.add(Dense(1))\n",
    "        model.compile(loss='mae', optimizer='adam', metrics = [\"mae\"])\n",
    "        return model\n",
    "    \n",
    "    cv_score = cross_validate_mlp(mlp_model)\n",
    "    return {'loss': cv_score, 'status': STATUS_OK}\n",
    "\n",
    "# Run the optimization and see the results\n",
    "sys.stdout = open('hyperopt_v2.log', 'w')\n",
    "trials = Trials()\n",
    "\n",
    "# UNCOMMENT THE NEXT LINE TO LAUNCH HYPEROPT:\n",
    "# best = fmin(hyperopt_search, space, algo=tpe.suggest, max_evals = 50, trials=trials)"
   ]
  },
  {
   "cell_type": "code",
   "execution_count": 32,
   "metadata": {
    "collapsed": true
   },
   "outputs": [],
   "source": [
    "# VERSION 3. Insights:\n",
    "# — models with two hidden layers and 256-128 units configuration work well\n",
    "# — let's optimize the number of units in layers with a more precise step\n",
    "\n",
    "# Describing the search space\n",
    "space = {'hidden1_dropout': hp.choice('hidden1_dropout', np.linspace(0.4,0.6,20)),\n",
    "        'hidden2_dropout': hp.choice('hidden2_dropout', np.linspace(0.2,0.5,10)),\n",
    "         'hidden1_units': hp.choice('hidden1_units', np.linspace(300,550,30,dtype='int16')),\n",
    "         'hidden2_units': hp.choice('hidden2_units', np.linspace(100,300,30,dtype='int16'))\n",
    "        }\n",
    "\n",
    "# Implementing a function to minimize\n",
    "def hyperopt_search(params):\n",
    "    print 'Model Testing:', params\n",
    "    def mlp_model():\n",
    "        model = Sequential()\n",
    "        model.add(Dense(params['hidden1_units'], input_dim=train_x.shape[1]))\n",
    "        model.add(Activation('relu'))\n",
    "        model.add(Dropout(params['hidden1_dropout']))\n",
    "        \n",
    "        model.add(Dense(params['hidden2_units']))\n",
    "        model.add(Activation('relu'))\n",
    "        model.add(Dropout(params['hidden2_dropout']))\n",
    "\n",
    "        model.add(Dense(1))\n",
    "        model.compile(loss='mae', optimizer='adam', metrics = [\"mae\"])\n",
    "        return model\n",
    "    \n",
    "    cv_score = cross_validate_mlp(mlp_model)\n",
    "    return {'loss': cv_score, 'status': STATUS_OK}\n",
    "\n",
    "# Run the optimization and see the results\n",
    "sys.stdout = open('hyperopt_v3.log', 'w')\n",
    "trials = Trials()\n",
    "\n",
    "# UNCOMMENT THE NEXT LINE TO LAUNCH HYPEROPT:\n",
    "# best = fmin(hyperopt_search, space, algo=tpe.suggest, max_evals = 50, trials=trials)"
   ]
  },
  {
   "cell_type": "code",
   "execution_count": 64,
   "metadata": {},
   "outputs": [
    {
     "ename": "TypeError",
     "evalue": "'generator' object is not subscriptable",
     "output_type": "error",
     "traceback": [
      "\u001b[0;31m---------------------------------------------------------------------------\u001b[0m",
      "\u001b[0;31mTypeError\u001b[0m                                 Traceback (most recent call last)",
      "\u001b[0;32m<ipython-input-64-7c3c9cddb642>\u001b[0m in \u001b[0;36m<module>\u001b[0;34m()\u001b[0m\n\u001b[1;32m     46\u001b[0m \u001b[0;34m\u001b[0m\u001b[0m\n\u001b[1;32m     47\u001b[0m \u001b[0;31m# UNCOMMENT THE NEXT LINE TO LAUNCH HYPEROPT:\u001b[0m\u001b[0;34m\u001b[0m\u001b[0;34m\u001b[0m\u001b[0m\n\u001b[0;32m---> 48\u001b[0;31m \u001b[0mbest\u001b[0m \u001b[0;34m=\u001b[0m \u001b[0mfmin\u001b[0m\u001b[0;34m(\u001b[0m\u001b[0mhyperopt_search\u001b[0m\u001b[0;34m,\u001b[0m \u001b[0mspace\u001b[0m\u001b[0;34m,\u001b[0m \u001b[0malgo\u001b[0m\u001b[0;34m=\u001b[0m\u001b[0mtpe\u001b[0m\u001b[0;34m.\u001b[0m\u001b[0msuggest\u001b[0m\u001b[0;34m,\u001b[0m \u001b[0mmax_evals\u001b[0m \u001b[0;34m=\u001b[0m \u001b[0;36m50\u001b[0m\u001b[0;34m,\u001b[0m \u001b[0mtrials\u001b[0m\u001b[0;34m=\u001b[0m\u001b[0mtrials\u001b[0m\u001b[0;34m)\u001b[0m\u001b[0;34m\u001b[0m\u001b[0m\n\u001b[0m",
      "\u001b[0;32m~/anaconda3/lib/python3.6/site-packages/hyperopt/fmin.py\u001b[0m in \u001b[0;36mfmin\u001b[0;34m(fn, space, algo, max_evals, trials, rstate, allow_trials_fmin, pass_expr_memo_ctrl, catch_eval_exceptions, verbose, return_argmin)\u001b[0m\n\u001b[1;32m    305\u001b[0m             \u001b[0mverbose\u001b[0m\u001b[0;34m=\u001b[0m\u001b[0mverbose\u001b[0m\u001b[0;34m,\u001b[0m\u001b[0;34m\u001b[0m\u001b[0m\n\u001b[1;32m    306\u001b[0m             \u001b[0mcatch_eval_exceptions\u001b[0m\u001b[0;34m=\u001b[0m\u001b[0mcatch_eval_exceptions\u001b[0m\u001b[0;34m,\u001b[0m\u001b[0;34m\u001b[0m\u001b[0m\n\u001b[0;32m--> 307\u001b[0;31m             \u001b[0mreturn_argmin\u001b[0m\u001b[0;34m=\u001b[0m\u001b[0mreturn_argmin\u001b[0m\u001b[0;34m,\u001b[0m\u001b[0;34m\u001b[0m\u001b[0m\n\u001b[0m\u001b[1;32m    308\u001b[0m         )\n\u001b[1;32m    309\u001b[0m \u001b[0;34m\u001b[0m\u001b[0m\n",
      "\u001b[0;32m~/anaconda3/lib/python3.6/site-packages/hyperopt/base.py\u001b[0m in \u001b[0;36mfmin\u001b[0;34m(self, fn, space, algo, max_evals, rstate, verbose, pass_expr_memo_ctrl, catch_eval_exceptions, return_argmin)\u001b[0m\n\u001b[1;32m    633\u001b[0m             \u001b[0mpass_expr_memo_ctrl\u001b[0m\u001b[0;34m=\u001b[0m\u001b[0mpass_expr_memo_ctrl\u001b[0m\u001b[0;34m,\u001b[0m\u001b[0;34m\u001b[0m\u001b[0m\n\u001b[1;32m    634\u001b[0m             \u001b[0mcatch_eval_exceptions\u001b[0m\u001b[0;34m=\u001b[0m\u001b[0mcatch_eval_exceptions\u001b[0m\u001b[0;34m,\u001b[0m\u001b[0;34m\u001b[0m\u001b[0m\n\u001b[0;32m--> 635\u001b[0;31m             return_argmin=return_argmin)\n\u001b[0m\u001b[1;32m    636\u001b[0m \u001b[0;34m\u001b[0m\u001b[0m\n\u001b[1;32m    637\u001b[0m \u001b[0;34m\u001b[0m\u001b[0m\n",
      "\u001b[0;32m~/anaconda3/lib/python3.6/site-packages/hyperopt/fmin.py\u001b[0m in \u001b[0;36mfmin\u001b[0;34m(fn, space, algo, max_evals, trials, rstate, allow_trials_fmin, pass_expr_memo_ctrl, catch_eval_exceptions, verbose, return_argmin)\u001b[0m\n\u001b[1;32m    312\u001b[0m \u001b[0;34m\u001b[0m\u001b[0m\n\u001b[1;32m    313\u001b[0m     domain = base.Domain(fn, space,\n\u001b[0;32m--> 314\u001b[0;31m                          pass_expr_memo_ctrl=pass_expr_memo_ctrl)\n\u001b[0m\u001b[1;32m    315\u001b[0m \u001b[0;34m\u001b[0m\u001b[0m\n\u001b[1;32m    316\u001b[0m     rval = FMinIter(algo, domain, trials, max_evals=max_evals,\n",
      "\u001b[0;32m~/anaconda3/lib/python3.6/site-packages/hyperopt/base.py\u001b[0m in \u001b[0;36m__init__\u001b[0;34m(self, fn, expr, workdir, pass_expr_memo_ctrl, name, loss_target)\u001b[0m\n\u001b[1;32m    784\u001b[0m         \u001b[0mbefore\u001b[0m \u001b[0;34m=\u001b[0m \u001b[0mpyll\u001b[0m\u001b[0;34m.\u001b[0m\u001b[0mdfs\u001b[0m\u001b[0;34m(\u001b[0m\u001b[0mself\u001b[0m\u001b[0;34m.\u001b[0m\u001b[0mexpr\u001b[0m\u001b[0;34m)\u001b[0m\u001b[0;34m\u001b[0m\u001b[0m\n\u001b[1;32m    785\u001b[0m         \u001b[0;31m# -- raises exception if expr contains cycles\u001b[0m\u001b[0;34m\u001b[0m\u001b[0;34m\u001b[0m\u001b[0m\n\u001b[0;32m--> 786\u001b[0;31m         \u001b[0mpyll\u001b[0m\u001b[0;34m.\u001b[0m\u001b[0mtoposort\u001b[0m\u001b[0;34m(\u001b[0m\u001b[0mself\u001b[0m\u001b[0;34m.\u001b[0m\u001b[0mexpr\u001b[0m\u001b[0;34m)\u001b[0m\u001b[0;34m\u001b[0m\u001b[0m\n\u001b[0m\u001b[1;32m    787\u001b[0m         \u001b[0mvh\u001b[0m \u001b[0;34m=\u001b[0m \u001b[0mself\u001b[0m\u001b[0;34m.\u001b[0m\u001b[0mvh\u001b[0m \u001b[0;34m=\u001b[0m \u001b[0mVectorizeHelper\u001b[0m\u001b[0;34m(\u001b[0m\u001b[0mself\u001b[0m\u001b[0;34m.\u001b[0m\u001b[0mexpr\u001b[0m\u001b[0;34m,\u001b[0m \u001b[0mself\u001b[0m\u001b[0;34m.\u001b[0m\u001b[0ms_new_ids\u001b[0m\u001b[0;34m)\u001b[0m\u001b[0;34m\u001b[0m\u001b[0m\n\u001b[1;32m    788\u001b[0m         \u001b[0;31m# -- raises exception if v_expr contains cycles\u001b[0m\u001b[0;34m\u001b[0m\u001b[0;34m\u001b[0m\u001b[0m\n",
      "\u001b[0;32m~/anaconda3/lib/python3.6/site-packages/hyperopt/pyll/base.py\u001b[0m in \u001b[0;36mtoposort\u001b[0;34m(expr)\u001b[0m\n\u001b[1;32m    713\u001b[0m         \u001b[0mG\u001b[0m\u001b[0;34m.\u001b[0m\u001b[0madd_edges_from\u001b[0m\u001b[0;34m(\u001b[0m\u001b[0;34m[\u001b[0m\u001b[0;34m(\u001b[0m\u001b[0mn_in\u001b[0m\u001b[0;34m,\u001b[0m \u001b[0mnode\u001b[0m\u001b[0;34m)\u001b[0m \u001b[0;32mfor\u001b[0m \u001b[0mn_in\u001b[0m \u001b[0;32min\u001b[0m \u001b[0mnode\u001b[0m\u001b[0;34m.\u001b[0m\u001b[0minputs\u001b[0m\u001b[0;34m(\u001b[0m\u001b[0;34m)\u001b[0m\u001b[0;34m]\u001b[0m\u001b[0;34m)\u001b[0m\u001b[0;34m\u001b[0m\u001b[0m\n\u001b[1;32m    714\u001b[0m     \u001b[0morder\u001b[0m \u001b[0;34m=\u001b[0m \u001b[0mnx\u001b[0m\u001b[0;34m.\u001b[0m\u001b[0mtopological_sort\u001b[0m\u001b[0;34m(\u001b[0m\u001b[0mG\u001b[0m\u001b[0;34m)\u001b[0m\u001b[0;34m\u001b[0m\u001b[0m\n\u001b[0;32m--> 715\u001b[0;31m     \u001b[0;32massert\u001b[0m \u001b[0morder\u001b[0m\u001b[0;34m[\u001b[0m\u001b[0;34m-\u001b[0m\u001b[0;36m1\u001b[0m\u001b[0;34m]\u001b[0m \u001b[0;34m==\u001b[0m \u001b[0mexpr\u001b[0m\u001b[0;34m\u001b[0m\u001b[0m\n\u001b[0m\u001b[1;32m    716\u001b[0m     \u001b[0;32mreturn\u001b[0m \u001b[0morder\u001b[0m\u001b[0;34m\u001b[0m\u001b[0m\n\u001b[1;32m    717\u001b[0m \u001b[0;34m\u001b[0m\u001b[0m\n",
      "\u001b[0;31mTypeError\u001b[0m: 'generator' object is not subscriptable"
     ]
    }
   ],
   "source": [
    "# VERSION 4. Insights:\n",
    "# – why not to test 4-layer architectures?\n",
    "# — we need to introduce new optimizers\n",
    "# — adding batch normalization (https://arxiv.org/abs/1502.03167)\n",
    "\n",
    "# Describing the search space\n",
    "space = {'hidden1_dropout': hp.choice('hidden1_dropout', np.linspace(0.4,0.6,20)),\n",
    "        'hidden2_dropout': hp.choice('hidden2_dropout', np.linspace(0.2,0.5,10)),\n",
    "        'hidden3_dropout': hp.choice('hidden3_dropout', np.linspace(0.1,0.5,10)),\n",
    "         'hidden1_units': hp.choice('hidden1_units', np.linspace(300,550,30,dtype='int16')),\n",
    "         'hidden2_units': hp.choice('hidden2_units', np.linspace(100,300,30,dtype='int16')),\n",
    "         'hidden3_units': hp.choice('hidden3_units', np.linspace(20,80,30,dtype='int16')),\n",
    "         'optimizer': hp.choice('optimizer', ['adam','nadam','adamax','adadelta'])\n",
    "        }\n",
    "\n",
    "# Implementing a function to minimize\n",
    "def hyperopt_search(params):\n",
    "    print ('Model Testing:', params)\n",
    "    def mlp_model():\n",
    "        model = Sequential()\n",
    "        model.add(Dense(params['hidden1_units'], input_dim=train_x.shape[1]))\n",
    "        model.add(BatchNormalization())\n",
    "        model.add(Activation('relu'))\n",
    "        model.add(Dropout(params['hidden1_dropout']))\n",
    "        \n",
    "        model.add(Dense(params['hidden2_units']))\n",
    "        model.add(BatchNormalization())\n",
    "        model.add(Activation('relu'))\n",
    "        model.add(Dropout(params['hidden2_dropout']))\n",
    "\n",
    "        model.add(Dense(params['hidden3_units'])) \n",
    "        model.add(BatchNormalization())\n",
    "        model.add(Activation('relu'))\n",
    "        model.add(Dropout(params['hidden3_dropout']))\n",
    "        \n",
    "        model.add(Dense(1))\n",
    "        model.compile(loss='mae', optimizer=params['optimizer'])\n",
    "        return model\n",
    "    \n",
    "    cv_score = cross_validate_mlp(mlp_model)\n",
    "    return {'loss': cv_score, 'status': STATUS_OK}\n",
    "\n",
    "# Run the optimization and see the results\n",
    "sys.stdout = open('hyperopt_v4.log', 'w')\n",
    "trials = Trials()\n",
    "\n",
    "# UNCOMMENT THE NEXT LINE TO LAUNCH HYPEROPT:\n",
    "best = fmin(hyperopt_search, space, algo=tpe.suggest, max_evals = 50, trials=trials)"
   ]
  },
  {
   "cell_type": "markdown",
   "metadata": {
    "collapsed": true
   },
   "source": [
    "## Step 6: The final model"
   ]
  },
  {
   "cell_type": "markdown",
   "metadata": {},
   "source": [
    "It took several rounds of optimization to narrow down the parameters of the model. Here are the results.\n",
    "\n",
    "First, the architecture. The final 4-layer model uses dropout as a regularization and a batch normalization prior to each hidden layer."
   ]
  },
  {
   "cell_type": "markdown",
   "metadata": {},
   "source": [
    "<img src=\"http://cdn.rawgit.com/dnkirill/allstate_capstone/master/images/mlp3.svg\"></td>"
   ]
  },
  {
   "cell_type": "markdown",
   "metadata": {},
   "source": [
    "And this is the model itself:"
   ]
  },
  {
   "cell_type": "code",
   "execution_count": 28,
   "metadata": {
    "collapsed": true
   },
   "outputs": [],
   "source": [
    "def hyper_model():\n",
    "    model = Sequential()\n",
    "    model.add(Dense(351, input_dim=train_x.shape[1], init='glorot_normal'))\n",
    "    model.add(BatchNormalization())\n",
    "    model.add(Activation('relu'))\n",
    "    model.add(Dropout(0.578947))\n",
    "    \n",
    "    model.add(Dense(293, init='glorot_normal'))\n",
    "    model.add(BatchNormalization())\n",
    "    model.add(Activation('relu'))\n",
    "    model.add(Dropout(0.26666))\n",
    "    \n",
    "    model.add(Dense(46, init='glorot_normal'))\n",
    "    model.add(BatchNormalization())\n",
    "    model.add(Activation('relu'))\n",
    "    model.add(Dropout(0.188888))\n",
    "    \n",
    "    model.add(Dense(1, init='glorot_normal'))\n",
    "    model.compile(loss='mae', optimizer='adadelta')\n",
    "    return model"
   ]
  },
  {
   "cell_type": "code",
   "execution_count": 29,
   "metadata": {
    "collapsed": true
   },
   "outputs": [],
   "source": [
    "if USE_PRETRAINED:\n",
    "    with open('pretrained/mlp_f_score.pkl', 'rb') as f:\n",
    "        cv_score = pickle.load(f)\n",
    "else:\n",
    "    sys.stdout = open('mlp_final_out.txt', 'w')\n",
    "    cv_score = cross_validate_mlp(hyper_model)"
   ]
  },
  {
   "cell_type": "code",
   "execution_count": 33,
   "metadata": {
    "collapsed": true
   },
   "outputs": [],
   "source": [
    "sys.stdout = _stdout"
   ]
  },
  {
   "cell_type": "code",
   "execution_count": 35,
   "metadata": {},
   "outputs": [
    {
     "data": {
      "text/plain": [
       "('CV score for the final model:', 1149.2403456099482)"
      ]
     },
     "execution_count": 35,
     "metadata": {},
     "output_type": "execute_result"
    }
   ],
   "source": [
    "(\"CV score for the final model:\", cv_score)"
   ]
  },
  {
   "cell_type": "markdown",
   "metadata": {},
   "source": [
    "Though this model is not adapted for mere 30 epochs of training, nor for 3-fold CV (I used 5-fold on Kaggle), even though this is a single unbagged model which has been cross-validated on three folds only, we see a very good score:\n",
    "`CV = 1150` (your score may vary a little).\n",
    "\n",
    "By the way, this single model, bagged, 5-fold CVed, scored 1116.28 on Kaggle LB.\n",
    "\n",
    "As we see, this model is considerably better than any other models we had so far. We now take it as the second part of our final ensemble."
   ]
  }
 ],
 "metadata": {
  "kernelspec": {
   "display_name": "Python 3",
   "language": "python",
   "name": "python3"
  },
  "language_info": {
   "codemirror_mode": {
    "name": "ipython",
    "version": 3
   },
   "file_extension": ".py",
   "mimetype": "text/x-python",
   "name": "python",
   "nbconvert_exporter": "python",
<<<<<<< HEAD
   "pygments_lexer": "ipython3",
   "version": "3.6.3"
=======
   "pygments_lexer": "ipython2",
   "version": "2.7.14"
>>>>>>> 8d3ec4ec5d4cd91c6b92aade672cc06441348277
  }
 },
 "nbformat": 4,
 "nbformat_minor": 1
}
