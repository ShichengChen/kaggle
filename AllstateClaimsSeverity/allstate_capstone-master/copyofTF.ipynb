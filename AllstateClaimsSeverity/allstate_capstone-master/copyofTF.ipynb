{
 "cells": [
  {
   "cell_type": "code",
   "execution_count": 1,
   "metadata": {},
   "outputs": [
    {
     "name": "stderr",
     "output_type": "stream",
     "text": [
      "/home/coder.chenshicheng/anaconda3/lib/python3.6/importlib/_bootstrap.py:219: RuntimeWarning: compiletime version 3.5 of module 'tensorflow.python.framework.fast_tensor_util' does not match runtime version 3.6\n",
      "  return f(*args, **kwds)\n",
      "/home/coder.chenshicheng/anaconda3/lib/python3.6/site-packages/sklearn/cross_validation.py:41: DeprecationWarning: This module was deprecated in version 0.18 in favor of the model_selection module into which all the refactored classes and functions are moved. Also note that the interface of the new CV iterators are different from that of this module. This module will be removed in 0.20.\n",
      "  \"This module will be removed in 0.20.\", DeprecationWarning)\n",
      "/home/coder.chenshicheng/anaconda3/lib/python3.6/site-packages/sklearn/grid_search.py:42: DeprecationWarning: This module was deprecated in version 0.18 in favor of the model_selection module into which all the refactored classes and functions are moved. This module will be removed in 0.20.\n",
      "  DeprecationWarning)\n",
      "Using TensorFlow backend.\n"
     ]
    }
   ],
   "source": [
    "import tensorflow as tf\n",
    "\n",
    "config = tf.ConfigProto()\n",
    "config.gpu_options.allow_growth = True\n",
    "session = tf.Session(config=config)\n",
    "\n",
    "import pandas as pd\n",
    "import numpy as np\n",
    "import sys\n",
    "import h5py\n",
    "import pickle\n",
    "import matplotlib.pyplot as plt\n",
    "from sklearn.linear_model import LinearRegression\n",
    "from sklearn.metrics import mean_absolute_error\n",
    "from sklearn.preprocessing import StandardScaler\n",
    "from sklearn.grid_search import GridSearchCV\n",
    "from hyperopt import fmin, tpe, hp, STATUS_OK, Trials\n",
    "from scipy.sparse import csr_matrix, hstack\n",
    "from sklearn.cross_validation import KFold, train_test_split\n",
    "from keras.layers.advanced_activations import PReLU\n",
    "from keras.models import Sequential\n",
    "from keras.models import save_model, load_model\n",
    "from keras.layers import Dense, Dropout, Activation, BatchNormalization\n",
    "from keras.callbacks import EarlyStopping\n",
    "import matplotlib.patches as mpatches\n",
    "\n",
    "\n",
    "%matplotlib inline"
   ]
  },
  {
   "cell_type": "code",
   "execution_count": 2,
   "metadata": {},
   "outputs": [
    {
     "name": "stdout",
     "output_type": "stream",
     "text": [
      "[[ 0.  0.]]\n",
      "[[ 0.  0.]]\n",
      "[[ 1.  1.]]\n",
      "[[ 1.  1.]]\n",
      "[[ 2.  3.]]\n",
      "[[ 2.  3.]]\n",
      "[[ 1.  1.]]\n",
      "[[ 1.  1.]]\n"
     ]
    }
   ],
   "source": [
    "from keras import backend as K\n",
    "var = K.variable(value=np.zeros((1,2)))\n",
    "var2 = K.variable(value=np.ones((1,2)))\n",
    "vl = [var,var2]\n",
    "cl = vl\n",
    "print (K.get_value(cl[0]))\n",
    "print (K.get_value(vl[0]))\n",
    "print (K.get_value(cl[1]))\n",
    "print (K.get_value(vl[1]))\n",
    "K.set_value(cl[0],np.array([[2,3]]))\n",
    "\n",
    "print (K.get_value(cl[0]))\n",
    "print (K.get_value(vl[0]))\n",
    "print (K.get_value(cl[1]))\n",
    "print (K.get_value(vl[1]))"
   ]
  },
  {
   "cell_type": "code",
   "execution_count": 3,
   "metadata": {},
   "outputs": [
    {
     "name": "stdout",
     "output_type": "stream",
     "text": [
      "[[ 0.  0.]]\n",
      "[[ 0.  0.]]\n",
      "[[ 1.  1.]]\n",
      "[[ 1.  1.]]\n",
      "[[ 2.  3.]]\n",
      "[[ 2.  3.]]\n",
      "[[ 2.  3.]]\n",
      "[[ 2.  3.]]\n"
     ]
    }
   ],
   "source": [
    "from keras import backend as K\n",
    "var = K.variable(value=np.zeros((1,2)))\n",
    "var2 = K.variable(value=np.ones((1,2)))\n",
    "vl = [var,var2]\n",
    "cl = vl\n",
    "\n",
    "print (K.get_value(cl[0]))\n",
    "print (K.get_value(vl[0]))\n",
    "print (K.get_value(cl[1]))\n",
    "print (K.get_value(vl[1]))\n",
    "\n",
    "for i in cl:\n",
    "    K.set_value(i,np.array([[2,3]]))\n",
    "\n",
    "print (K.get_value(cl[0]))\n",
    "print (K.get_value(vl[0]))\n",
    "print (K.get_value(cl[1]))\n",
    "print (K.get_value(vl[1]))"
   ]
  },
  {
   "cell_type": "code",
   "execution_count": 4,
   "metadata": {},
   "outputs": [
    {
     "name": "stdout",
     "output_type": "stream",
     "text": [
      "[[ 0.  0.]]\n",
      "[[ 0.  0.]]\n",
      "[[ 2.  3.]]\n",
      "[[ 2.  3.]]\n"
     ]
    }
   ],
   "source": [
    "var = K.variable(value=np.zeros((1,2)))\n",
    "var2 = var\n",
    "print (K.get_value(var))\n",
    "print (K.get_value(var2))\n",
    "K.set_value(var,np.array([[2,3]]))\n",
    "print (K.get_value(var))\n",
    "print (K.get_value(var2))"
   ]
  },
  {
   "cell_type": "code",
   "execution_count": null,
   "metadata": {
    "collapsed": true
   },
   "outputs": [],
   "source": []
  }
 ],
 "metadata": {
  "kernelspec": {
   "display_name": "Python 3",
   "language": "python",
   "name": "python3"
  },
  "language_info": {
   "codemirror_mode": {
    "name": "ipython",
    "version": 3
   },
   "file_extension": ".py",
   "mimetype": "text/x-python",
   "name": "python",
   "nbconvert_exporter": "python",
   "pygments_lexer": "ipython3",
   "version": "3.6.3"
  }
 },
 "nbformat": 4,
 "nbformat_minor": 2
}
