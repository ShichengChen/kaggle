{
 "cells": [
  {
   "cell_type": "markdown",
   "metadata": {},
   "source": [
    "# Part 3, Multilayer Perceptron Neural Network"
   ]
  },
  {
   "cell_type": "code",
   "execution_count": 1,
   "metadata": {
    "scrolled": true
   },
   "outputs": [
    {
     "name": "stderr",
     "output_type": "stream",
     "text": [
      "/home/csc/anaconda3/lib/python3.6/site-packages/sklearn/cross_validation.py:41: DeprecationWarning: This module was deprecated in version 0.18 in favor of the model_selection module into which all the refactored classes and functions are moved. Also note that the interface of the new CV iterators are different from that of this module. This module will be removed in 0.20.\n",
      "  \"This module will be removed in 0.20.\", DeprecationWarning)\n",
      "/home/csc/anaconda3/lib/python3.6/site-packages/sklearn/grid_search.py:42: DeprecationWarning: This module was deprecated in version 0.18 in favor of the model_selection module into which all the refactored classes and functions are moved. This module will be removed in 0.20.\n",
      "  DeprecationWarning)\n",
      "Using TensorFlow backend.\n"
     ]
    }
   ],
   "source": [
    "import tensorflow as tf\n",
    "import pandas as pd\n",
    "import numpy as np\n",
    "import sys\n",
    "import h5py\n",
    "import pickle\n",
    "import matplotlib.pyplot as plt\n",
    "from sklearn.linear_model import LinearRegression\n",
    "from sklearn.metrics import mean_absolute_error\n",
    "from sklearn.preprocessing import StandardScaler\n",
    "from sklearn.grid_search import GridSearchCV\n",
    "from hyperopt import fmin, tpe, hp, STATUS_OK, Trials\n",
    "from scipy.sparse import csr_matrix, hstack\n",
    "from sklearn.cross_validation import KFold, train_test_split\n",
    "from keras.models import Sequential\n",
    "from keras.models import save_model, load_model\n",
    "from keras.layers.advanced_activations import PReLU\n",
    "from keras.layers import Dense, Dropout, Activation, BatchNormalization\n",
    "from keras.callbacks import EarlyStopping\n",
    "import matplotlib.patches as mpatches\n",
    "import time\n",
    "\n",
    "%matplotlib inline"
   ]
  },
  {
   "cell_type": "code",
   "execution_count": 4,
   "metadata": {
    "collapsed": true
   },
   "outputs": [],
   "source": [
    "import os\n",
    "os.environ[\"CUDA_VISIBLE_DEVICES\"]=\"0\"\n",
    "from keras import backend as K\n",
    "config = tf.ConfigProto()\n",
    "config.gpu_options.allow_growth=True\n",
    "sess = tf.Session(config=config)\n",
    "'''gpu_options = tf.GPUOptions(per_process_gpu_memory_fraction=0.5)\n",
    "sess = tf.Session(config=tf.ConfigProto(gpu_options=gpu_options))'''\n",
    "K.set_session(sess)"
   ]
  },
  {
   "cell_type": "code",
   "execution_count": 5,
   "metadata": {
    "collapsed": true
   },
   "outputs": [],
   "source": [
    "sess = tf.Session(config=tf.ConfigProto(log_device_placement=True))"
   ]
  },
  {
   "cell_type": "code",
   "execution_count": 6,
   "metadata": {},
   "outputs": [
    {
     "name": "stdout",
     "output_type": "stream",
     "text": [
      "(188318, 1153)\n",
      "(188318,)\n"
     ]
    },
    {
     "data": {
      "text/plain": [
       "((188318, 1153), (188318,))"
      ]
     },
     "execution_count": 6,
     "metadata": {},
     "output_type": "execute_result"
    }
   ],
   "source": [
    "train = pd.read_csv('train.csv')\n",
    "\n",
    "cat_names = [c for c in train.columns if 'cat' in c]\n",
    "\n",
    "train = pd.get_dummies(data=train, columns=cat_names)\n",
    "\n",
    "features = [x for x in train.columns if x not in ['id','loss']]\n",
    "\n",
    "train_x = np.array(train[features])\n",
    "\n",
    "ntrain = train_x.shape[0]\n",
    "\n",
    "train_y = np.log(train['loss'] + 200)\n",
    "\n",
    "print (train_x.shape)\n",
    "print (train_y.shape)\n",
    "train_x.shape, train_y.shape"
   ]
  },
  {
   "cell_type": "code",
   "execution_count": 7,
   "metadata": {
    "collapsed": true
   },
   "outputs": [],
   "source": [
    "def cross_validate_mlp(mlp_func, nfolds=3):\n",
    "    folds = KFold(len(train_y), n_folds=nfolds, shuffle=True, random_state = 31337)\n",
    "    val_scores = np.zeros((nfolds,))\n",
    "    for k,(train_index, test_index) in enumerate(folds):\n",
    "        xtr = train_x[train_index]\n",
    "        ytr = train_y[train_index]\n",
    "        xte = train_x[test_index]\n",
    "        yte = train_y[test_index]\n",
    "        mlp = mlp_func()\n",
    "        early_stopping = EarlyStopping(monitor='val_loss', patience=5)\n",
    "        fit = mlp.fit(xtr, ytr, validation_split=0.2, batch_size=128, \n",
    "                      nb_epoch=30, verbose=1, callbacks=[early_stopping])\n",
    "        pred = mlp.predict(xte, batch_size=256)\n",
    "        score = mean_absolute_error(yte, pred)\n",
    "        val_scores[k] += score\n",
    "        print ('Fold {}, MAE: {}'.format(k, score))\n",
    "    avg_score = np.sum(val_scores) / float(nfolds)\n",
    "    print ('{}-fold CV score: {}'.format(nfolds, avg_score))\n",
    "    return avg_score"
   ]
  },
  {
   "cell_type": "code",
   "execution_count": 8,
   "metadata": {
    "collapsed": true
   },
   "outputs": [],
   "source": [
    "xtr, xte, ytr, yte = train_test_split(train_x, train_y, test_size=0.25, random_state=31337)"
   ]
  },
  {
   "cell_type": "markdown",
   "metadata": {},
   "source": [
    "<img src=\"http://cdn.rawgit.com/dnkirill/allstate_capstone/master/images/mlp3.svg\"></td>"
   ]
  },
  {
   "cell_type": "code",
   "execution_count": 9,
   "metadata": {
    "collapsed": true
   },
   "outputs": [],
   "source": [
    "import keras.backend as K\n",
    "from sklearn.metrics import mean_absolute_error, make_scorer\n",
    "\n",
    "def evalerror(preds, dtrain):\n",
    "    labels = dtrain.get_label()\n",
    "    return 'mae', mean_absolute_error(np.exp(preds), np.exp(labels))\n",
    "\n",
    "def xg_eval_mae(yhat, dtrain):\n",
    "    y = dtrain.get_label()\n",
    "    return 'mae', mean_absolute_error(np.exp(y), np.exp(yhat))\n",
    "\n",
    "def mae_score(y_true, y_pred):\n",
    "    return mean_absolute_error(np.exp(y_true), np.exp(y_pred))\n",
    "\n",
    "mae_scorer = make_scorer(mae_score, greater_is_better=False)\n",
    "\n",
    "\n",
    "def mean_pred(y_true, y_pred):\n",
    "    return K.mean(K.abs(K.exp(y_true) - K.exp(y_pred)))\n",
    "\n",
    "def mean_pred_metrics(y_true, y_pred):\n",
    "    return K.mean(K.abs(K.exp(y_true) - K.exp(y_pred)))\n"
   ]
  },
  {
   "cell_type": "code",
   "execution_count": 10,
   "metadata": {
    "collapsed": true
   },
   "outputs": [],
   "source": [
    "def hyper_model():\n",
    "    model = Sequential()\n",
    "    model.add(Dense(351, input_dim=train_x.shape[1], init='he_normal'))\n",
    "    model.add(BatchNormalization())\n",
    "    model.add(Activation('relu'))\n",
    "    model.add(Dropout(0.578947))\n",
    "    \n",
    "    model.add(Dense(293, init='he_normal'))\n",
    "    model.add(BatchNormalization())\n",
    "    model.add(Activation('relu'))\n",
    "    model.add(Dropout(0.26666))\n",
    "    \n",
    "    model.add(Dense(46, init='he_normal'))\n",
    "    model.add(BatchNormalization())\n",
    "    model.add(Activation('relu'))\n",
    "    model.add(Dropout(0.188888))\n",
    "    \n",
    "    model.add(Dense(1, init='he_normal'))\n",
    "    model.compile(optimizer='adam',\n",
    "              loss=mean_pred,metrics=['mae', mean_pred_metrics])\n",
    "    return model"
   ]
  },
  {
   "cell_type": "code",
   "execution_count": 11,
   "metadata": {},
   "outputs": [
    {
     "name": "stderr",
     "output_type": "stream",
     "text": [
      "/home/csc/anaconda3/lib/python3.6/site-packages/ipykernel_launcher.py:3: UserWarning: Update your `Dense` call to the Keras 2 API: `Dense(351, input_dim=1153, kernel_initializer=\"he_normal\")`\n",
      "  This is separate from the ipykernel package so we can avoid doing imports until\n",
      "/home/csc/anaconda3/lib/python3.6/site-packages/ipykernel_launcher.py:8: UserWarning: Update your `Dense` call to the Keras 2 API: `Dense(293, kernel_initializer=\"he_normal\")`\n",
      "  \n",
      "/home/csc/anaconda3/lib/python3.6/site-packages/ipykernel_launcher.py:13: UserWarning: Update your `Dense` call to the Keras 2 API: `Dense(46, kernel_initializer=\"he_normal\")`\n",
      "  del sys.path[0]\n",
      "/home/csc/anaconda3/lib/python3.6/site-packages/ipykernel_launcher.py:18: UserWarning: Update your `Dense` call to the Keras 2 API: `Dense(1, kernel_initializer=\"he_normal\")`\n",
      "/home/csc/anaconda3/lib/python3.6/site-packages/keras/models.py:874: UserWarning: The `nb_epoch` argument in `fit` has been renamed `epochs`.\n",
      "  warnings.warn('The `nb_epoch` argument in `fit` '\n"
     ]
    },
    {
     "name": "stdout",
     "output_type": "stream",
     "text": [
      "Train on 100436 samples, validate on 25109 samples\n",
      "Epoch 1/30\n",
      "100436/100436 [==============================] - 19s 185us/step - loss: 3225.7151 - mean_absolute_error: 7.0840 - mean_pred_metrics: 3225.7151 - val_loss: 3180.2746 - val_mean_absolute_error: 6.7966 - val_mean_pred_metrics: 3180.2746\n",
      "Epoch 2/30\n",
      "100436/100436 [==============================] - 10s 97us/step - loss: 2816.3621 - mean_absolute_error: 4.2023 - mean_pred_metrics: 2816.3621 - val_loss: 2037.0752 - val_mean_absolute_error: 1.1061 - val_mean_pred_metrics: 2037.0752\n",
      "Epoch 3/30\n",
      "100436/100436 [==============================] - 10s 99us/step - loss: 2085.1639 - mean_absolute_error: 0.9580 - mean_pred_metrics: 2085.1639 - val_loss: 1654.8122 - val_mean_absolute_error: 0.5962 - val_mean_pred_metrics: 1654.8122\n",
      "Epoch 4/30\n",
      "100436/100436 [==============================] - 10s 101us/step - loss: 1967.2538 - mean_absolute_error: 0.8401 - mean_pred_metrics: 1967.2538 - val_loss: 1621.5311 - val_mean_absolute_error: 0.6085 - val_mean_pred_metrics: 1621.5311\n",
      "Epoch 5/30\n",
      "100436/100436 [==============================] - 10s 100us/step - loss: 1896.8837 - mean_absolute_error: 0.7810 - mean_pred_metrics: 1896.8837 - val_loss: 1462.3234 - val_mean_absolute_error: 0.5410 - val_mean_pred_metrics: 1462.3234\n",
      "Epoch 6/30\n",
      "100436/100436 [==============================] - 10s 98us/step - loss: 1841.4296 - mean_absolute_error: 0.7426 - mean_pred_metrics: 1841.4296 - val_loss: 1420.6821 - val_mean_absolute_error: 0.4822 - val_mean_pred_metrics: 1420.6821\n",
      "Epoch 7/30\n",
      "100436/100436 [==============================] - 10s 98us/step - loss: 1780.0215 - mean_absolute_error: 0.7031 - mean_pred_metrics: 1780.0215 - val_loss: 1366.0216 - val_mean_absolute_error: 0.4960 - val_mean_pred_metrics: 1366.0216\n",
      "Epoch 8/30\n",
      "100436/100436 [==============================] - 9s 93us/step - loss: 1742.1456 - mean_absolute_error: 0.6783 - mean_pred_metrics: 1742.1456 - val_loss: 1281.0043 - val_mean_absolute_error: 0.4619 - val_mean_pred_metrics: 1281.0043\n",
      "Epoch 9/30\n",
      "100436/100436 [==============================] - 9s 94us/step - loss: 1698.3276 - mean_absolute_error: 0.6490 - mean_pred_metrics: 1698.3276 - val_loss: 1421.3704 - val_mean_absolute_error: 0.4727 - val_mean_pred_metrics: 1421.3704\n",
      "Epoch 10/30\n",
      "100436/100436 [==============================] - 9s 92us/step - loss: 1668.5058 - mean_absolute_error: 0.6291 - mean_pred_metrics: 1668.5058 - val_loss: 1466.0231 - val_mean_absolute_error: 0.4916 - val_mean_pred_metrics: 1466.0231\n",
      "Epoch 11/30\n",
      "100436/100436 [==============================] - 9s 93us/step - loss: 1634.1041 - mean_absolute_error: 0.6059 - mean_pred_metrics: 1634.1041 - val_loss: 1377.0999 - val_mean_absolute_error: 0.4715 - val_mean_pred_metrics: 1377.0999\n",
      "Epoch 12/30\n",
      "100436/100436 [==============================] - 9s 92us/step - loss: 1600.4670 - mean_absolute_error: 0.5854 - mean_pred_metrics: 1600.4670 - val_loss: 1289.9137 - val_mean_absolute_error: 0.4295 - val_mean_pred_metrics: 1289.9137\n",
      "Epoch 13/30\n",
      "100436/100436 [==============================] - 9s 92us/step - loss: 1578.5898 - mean_absolute_error: 0.5707 - mean_pred_metrics: 1578.5898 - val_loss: 1235.6598 - val_mean_absolute_error: 0.4079 - val_mean_pred_metrics: 1235.6598\n",
      "Epoch 14/30\n",
      "100436/100436 [==============================] - 9s 92us/step - loss: 1557.2660 - mean_absolute_error: 0.5558 - mean_pred_metrics: 1557.2660 - val_loss: 1300.6645 - val_mean_absolute_error: 0.4307 - val_mean_pred_metrics: 1300.6645\n",
      "Epoch 15/30\n",
      "100436/100436 [==============================] - 9s 92us/step - loss: 1525.7913 - mean_absolute_error: 0.5403 - mean_pred_metrics: 1525.7913 - val_loss: 1310.1213 - val_mean_absolute_error: 0.4299 - val_mean_pred_metrics: 1310.1213\n",
      "Epoch 16/30\n",
      "100436/100436 [==============================] - 9s 92us/step - loss: 1502.6640 - mean_absolute_error: 0.5235 - mean_pred_metrics: 1502.6640 - val_loss: 1228.8090 - val_mean_absolute_error: 0.3979 - val_mean_pred_metrics: 1228.8090\n",
      "Epoch 17/30\n",
      "100436/100436 [==============================] - 9s 92us/step - loss: 1481.1512 - mean_absolute_error: 0.5133 - mean_pred_metrics: 1481.1512 - val_loss: 1209.6038 - val_mean_absolute_error: 0.3950 - val_mean_pred_metrics: 1209.6038\n",
      "Epoch 18/30\n",
      "100436/100436 [==============================] - 9s 92us/step - loss: 1458.5969 - mean_absolute_error: 0.5002 - mean_pred_metrics: 1458.5969 - val_loss: 1227.8175 - val_mean_absolute_error: 0.3990 - val_mean_pred_metrics: 1227.8175\n",
      "Epoch 19/30\n",
      "100436/100436 [==============================] - 9s 92us/step - loss: 1439.6998 - mean_absolute_error: 0.4905 - mean_pred_metrics: 1439.6998 - val_loss: 1198.6220 - val_mean_absolute_error: 0.3914 - val_mean_pred_metrics: 1198.6220\n",
      "Epoch 20/30\n",
      "100436/100436 [==============================] - 9s 92us/step - loss: 1419.5396 - mean_absolute_error: 0.4797 - mean_pred_metrics: 1419.5396 - val_loss: 1183.8292 - val_mean_absolute_error: 0.3850 - val_mean_pred_metrics: 1183.8292\n",
      "Epoch 21/30\n",
      "100436/100436 [==============================] - 9s 92us/step - loss: 1401.6004 - mean_absolute_error: 0.4721 - mean_pred_metrics: 1401.6004 - val_loss: 1236.2229 - val_mean_absolute_error: 0.3991 - val_mean_pred_metrics: 1236.2229\n",
      "Epoch 22/30\n",
      "100436/100436 [==============================] - 9s 92us/step - loss: 1381.0307 - mean_absolute_error: 0.4631 - mean_pred_metrics: 1381.0307 - val_loss: 1172.6044 - val_mean_absolute_error: 0.3814 - val_mean_pred_metrics: 1172.6044\n",
      "Epoch 23/30\n",
      "100436/100436 [==============================] - 9s 92us/step - loss: 1362.4176 - mean_absolute_error: 0.4546 - mean_pred_metrics: 1362.4176 - val_loss: 1166.8301 - val_mean_absolute_error: 0.3808 - val_mean_pred_metrics: 1166.8301\n",
      "Epoch 24/30\n",
      "100436/100436 [==============================] - 9s 92us/step - loss: 1344.8619 - mean_absolute_error: 0.4466 - mean_pred_metrics: 1344.8619 - val_loss: 1183.6780 - val_mean_absolute_error: 0.3859 - val_mean_pred_metrics: 1183.6780\n",
      "Epoch 25/30\n",
      "100436/100436 [==============================] - 9s 92us/step - loss: 1328.8521 - mean_absolute_error: 0.4401 - mean_pred_metrics: 1328.8521 - val_loss: 1178.7331 - val_mean_absolute_error: 0.3840 - val_mean_pred_metrics: 1178.7331\n",
      "Epoch 26/30\n",
      "100436/100436 [==============================] - 9s 92us/step - loss: 1313.3579 - mean_absolute_error: 0.4333 - mean_pred_metrics: 1313.3579 - val_loss: 1186.9510 - val_mean_absolute_error: 0.3846 - val_mean_pred_metrics: 1186.9510\n",
      "Epoch 27/30\n",
      "100436/100436 [==============================] - 9s 92us/step - loss: 1294.6866 - mean_absolute_error: 0.4256 - mean_pred_metrics: 1294.6866 - val_loss: 1145.7572 - val_mean_absolute_error: 0.3747 - val_mean_pred_metrics: 1145.7572\n",
      "Epoch 28/30\n",
      "100436/100436 [==============================] - 9s 91us/step - loss: 1285.1687 - mean_absolute_error: 0.4221 - mean_pred_metrics: 1285.1687 - val_loss: 1204.8454 - val_mean_absolute_error: 0.3874 - val_mean_pred_metrics: 1204.8454\n",
      "Epoch 29/30\n",
      "100436/100436 [==============================] - 9s 92us/step - loss: 1272.3220 - mean_absolute_error: 0.4157 - mean_pred_metrics: 1272.3220 - val_loss: 1152.9344 - val_mean_absolute_error: 0.3767 - val_mean_pred_metrics: 1152.9344\n",
      "Epoch 30/30\n",
      "100436/100436 [==============================] - 9s 92us/step - loss: 1257.9494 - mean_absolute_error: 0.4117 - mean_pred_metrics: 1257.9494 - val_loss: 1173.9713 - val_mean_absolute_error: 0.3812 - val_mean_pred_metrics: 1173.9713\n",
      "Fold 0, MAE: 0.382326654651738\n",
      "Train on 100436 samples, validate on 25109 samples\n",
      "Epoch 1/30\n",
      "100436/100436 [==============================] - 9s 95us/step - loss: 3080.9145 - mean_absolute_error: 6.3088 - mean_pred_metrics: 3080.9145 - val_loss: 2867.0915 - val_mean_absolute_error: 5.7247 - val_mean_pred_metrics: 2867.0915\n",
      "Epoch 2/30\n",
      "100436/100436 [==============================] - 9s 92us/step - loss: 2440.7502 - mean_absolute_error: 3.0312 - mean_pred_metrics: 2440.7502 - val_loss: 2048.1291 - val_mean_absolute_error: 1.2670 - val_mean_pred_metrics: 2048.1291\n",
      "Epoch 3/30\n",
      "100436/100436 [==============================] - 9s 92us/step - loss: 2058.7136 - mean_absolute_error: 0.9637 - mean_pred_metrics: 2058.7136 - val_loss: 1629.6158 - val_mean_absolute_error: 0.5893 - val_mean_pred_metrics: 1629.6158\n",
      "Epoch 4/30\n"
     ]
    },
    {
     "name": "stdout",
     "output_type": "stream",
     "text": [
      "100436/100436 [==============================] - 9s 92us/step - loss: 1969.1457 - mean_absolute_error: 0.8450 - mean_pred_metrics: 1969.1457 - val_loss: 1578.8081 - val_mean_absolute_error: 0.5782 - val_mean_pred_metrics: 1578.8081\n",
      "Epoch 5/30\n",
      "100436/100436 [==============================] - 9s 93us/step - loss: 1904.3249 - mean_absolute_error: 0.7939 - mean_pred_metrics: 1904.3249 - val_loss: 1572.2104 - val_mean_absolute_error: 0.5620 - val_mean_pred_metrics: 1572.2104\n",
      "Epoch 6/30\n",
      "100436/100436 [==============================] - 10s 100us/step - loss: 1868.3429 - mean_absolute_error: 0.7580 - mean_pred_metrics: 1868.3429 - val_loss: 1605.6478 - val_mean_absolute_error: 0.5616 - val_mean_pred_metrics: 1605.6478\n",
      "Epoch 7/30\n",
      "100436/100436 [==============================] - 10s 97us/step - loss: 1830.5336 - mean_absolute_error: 0.7296 - mean_pred_metrics: 1830.5336 - val_loss: 1467.8644 - val_mean_absolute_error: 0.5176 - val_mean_pred_metrics: 1467.8644\n",
      "Epoch 8/30\n",
      "100436/100436 [==============================] - 10s 97us/step - loss: 1790.3655 - mean_absolute_error: 0.6988 - mean_pred_metrics: 1790.3655 - val_loss: 1445.0242 - val_mean_absolute_error: 0.5061 - val_mean_pred_metrics: 1445.0242\n",
      "Epoch 9/30\n",
      "100436/100436 [==============================] - 10s 101us/step - loss: 1765.1532 - mean_absolute_error: 0.6793 - mean_pred_metrics: 1765.1532 - val_loss: 1387.5749 - val_mean_absolute_error: 0.4657 - val_mean_pred_metrics: 1387.5749\n",
      "Epoch 10/30\n",
      "100436/100436 [==============================] - 10s 99us/step - loss: 1729.2739 - mean_absolute_error: 0.6532 - mean_pred_metrics: 1729.2739 - val_loss: 1373.5861 - val_mean_absolute_error: 0.4668 - val_mean_pred_metrics: 1373.5861\n",
      "Epoch 11/30\n",
      "100436/100436 [==============================] - 10s 101us/step - loss: 1684.5067 - mean_absolute_error: 0.6275 - mean_pred_metrics: 1684.5067 - val_loss: 1313.1172 - val_mean_absolute_error: 0.4495 - val_mean_pred_metrics: 1313.1172\n",
      "Epoch 12/30\n",
      "100436/100436 [==============================] - 9s 93us/step - loss: 1648.8197 - mean_absolute_error: 0.6048 - mean_pred_metrics: 1648.8197 - val_loss: 1254.1643 - val_mean_absolute_error: 0.4106 - val_mean_pred_metrics: 1254.1643\n",
      "Epoch 13/30\n",
      "100436/100436 [==============================] - 9s 93us/step - loss: 1614.4531 - mean_absolute_error: 0.5864 - mean_pred_metrics: 1614.4531 - val_loss: 1228.7458 - val_mean_absolute_error: 0.4096 - val_mean_pred_metrics: 1228.7458\n",
      "Epoch 14/30\n",
      "100436/100436 [==============================] - 10s 95us/step - loss: 1590.2515 - mean_absolute_error: 0.5683 - mean_pred_metrics: 1590.2515 - val_loss: 1272.8373 - val_mean_absolute_error: 0.4173 - val_mean_pred_metrics: 1272.8373\n",
      "Epoch 15/30\n",
      "100436/100436 [==============================] - 9s 94us/step - loss: 1566.4109 - mean_absolute_error: 0.5552 - mean_pred_metrics: 1566.4109 - val_loss: 1255.1324 - val_mean_absolute_error: 0.4113 - val_mean_pred_metrics: 1255.1324\n",
      "Epoch 16/30\n",
      "100436/100436 [==============================] - 9s 92us/step - loss: 1528.4041 - mean_absolute_error: 0.5355 - mean_pred_metrics: 1528.4041 - val_loss: 1178.0726 - val_mean_absolute_error: 0.3901 - val_mean_pred_metrics: 1178.0726\n",
      "Epoch 17/30\n",
      "100436/100436 [==============================] - 9s 92us/step - loss: 1502.5504 - mean_absolute_error: 0.5229 - mean_pred_metrics: 1502.5504 - val_loss: 1252.1554 - val_mean_absolute_error: 0.4130 - val_mean_pred_metrics: 1252.1554\n",
      "Epoch 18/30\n",
      "100436/100436 [==============================] - 9s 94us/step - loss: 1486.0183 - mean_absolute_error: 0.5118 - mean_pred_metrics: 1486.0183 - val_loss: 1240.2024 - val_mean_absolute_error: 0.4066 - val_mean_pred_metrics: 1240.2024\n",
      "Epoch 19/30\n",
      "100436/100436 [==============================] - 9s 94us/step - loss: 1451.6278 - mean_absolute_error: 0.4970 - mean_pred_metrics: 1451.6278 - val_loss: 1163.6224 - val_mean_absolute_error: 0.3843 - val_mean_pred_metrics: 1163.6224\n",
      "Epoch 20/30\n",
      "100436/100436 [==============================] - 10s 96us/step - loss: 1440.3419 - mean_absolute_error: 0.4882 - mean_pred_metrics: 1440.3419 - val_loss: 1211.7694 - val_mean_absolute_error: 0.3914 - val_mean_pred_metrics: 1211.7694\n",
      "Epoch 21/30\n",
      "100436/100436 [==============================] - 10s 97us/step - loss: 1414.3519 - mean_absolute_error: 0.4749 - mean_pred_metrics: 1414.3519 - val_loss: 1176.6111 - val_mean_absolute_error: 0.3847 - val_mean_pred_metrics: 1176.6111\n",
      "Epoch 22/30\n",
      "100436/100436 [==============================] - 10s 104us/step - loss: 1396.7660 - mean_absolute_error: 0.4673 - mean_pred_metrics: 1396.7660 - val_loss: 1159.7447 - val_mean_absolute_error: 0.3771 - val_mean_pred_metrics: 1159.7447\n",
      "Epoch 23/30\n",
      "100436/100436 [==============================] - 10s 95us/step - loss: 1382.2535 - mean_absolute_error: 0.4592 - mean_pred_metrics: 1382.2535 - val_loss: 1213.4982 - val_mean_absolute_error: 0.3917 - val_mean_pred_metrics: 1213.4982\n",
      "Epoch 24/30\n",
      "100436/100436 [==============================] - 9s 93us/step - loss: 1360.0148 - mean_absolute_error: 0.4508 - mean_pred_metrics: 1360.0148 - val_loss: 1162.9807 - val_mean_absolute_error: 0.3801 - val_mean_pred_metrics: 1162.9807\n",
      "Epoch 25/30\n",
      "100436/100436 [==============================] - 9s 93us/step - loss: 1340.7826 - mean_absolute_error: 0.4414 - mean_pred_metrics: 1340.7826 - val_loss: 1190.3354 - val_mean_absolute_error: 0.3847 - val_mean_pred_metrics: 1190.3354\n",
      "Epoch 26/30\n",
      "100436/100436 [==============================] - 10s 96us/step - loss: 1326.2578 - mean_absolute_error: 0.4360 - mean_pred_metrics: 1326.2578 - val_loss: 1155.6241 - val_mean_absolute_error: 0.3756 - val_mean_pred_metrics: 1155.6241\n",
      "Epoch 27/30\n",
      "100436/100436 [==============================] - 9s 93us/step - loss: 1310.7670 - mean_absolute_error: 0.4287 - mean_pred_metrics: 1310.7670 - val_loss: 1139.3800 - val_mean_absolute_error: 0.3747 - val_mean_pred_metrics: 1139.3800\n",
      "Epoch 28/30\n",
      "100436/100436 [==============================] - 10s 96us/step - loss: 1295.1779 - mean_absolute_error: 0.4241 - mean_pred_metrics: 1295.1779 - val_loss: 1165.8912 - val_mean_absolute_error: 0.3785 - val_mean_pred_metrics: 1165.8912\n",
      "Epoch 29/30\n",
      "100436/100436 [==============================] - 9s 92us/step - loss: 1280.5611 - mean_absolute_error: 0.4182 - mean_pred_metrics: 1280.5611 - val_loss: 1152.6403 - val_mean_absolute_error: 0.3752 - val_mean_pred_metrics: 1152.6403\n",
      "Epoch 30/30\n",
      "100436/100436 [==============================] - 9s 92us/step - loss: 1265.2016 - mean_absolute_error: 0.4129 - mean_pred_metrics: 1265.2016 - val_loss: 1159.3377 - val_mean_absolute_error: 0.3762 - val_mean_pred_metrics: 1159.3377\n",
      "Fold 1, MAE: 0.3798251808969431\n",
      "Train on 100436 samples, validate on 25110 samples\n",
      "Epoch 1/30\n",
      "100436/100436 [==============================] - 10s 100us/step - loss: 3000.9452 - mean_absolute_error: 5.0477 - mean_pred_metrics: 3000.9452 - val_loss: 2459.1464 - val_mean_absolute_error: 2.4933 - val_mean_pred_metrics: 2459.1464\n",
      "Epoch 2/30\n",
      "100436/100436 [==============================] - 10s 96us/step - loss: 2179.0740 - mean_absolute_error: 1.1944 - mean_pred_metrics: 2179.0740 - val_loss: 1595.6270 - val_mean_absolute_error: 0.6762 - val_mean_pred_metrics: 1595.6270\n",
      "Epoch 3/30\n",
      "100436/100436 [==============================] - 9s 95us/step - loss: 1944.9927 - mean_absolute_error: 0.8208 - mean_pred_metrics: 1944.9927 - val_loss: 1675.8707 - val_mean_absolute_error: 0.6017 - val_mean_pred_metrics: 1675.8707\n",
      "Epoch 4/30\n",
      "100436/100436 [==============================] - 9s 92us/step - loss: 1852.9051 - mean_absolute_error: 0.7489 - mean_pred_metrics: 1852.9051 - val_loss: 1504.5061 - val_mean_absolute_error: 0.5648 - val_mean_pred_metrics: 1504.5061\n",
      "Epoch 5/30\n",
      "100436/100436 [==============================] - 9s 93us/step - loss: 1797.0752 - mean_absolute_error: 0.7101 - mean_pred_metrics: 1797.0752 - val_loss: 1485.2883 - val_mean_absolute_error: 0.5012 - val_mean_pred_metrics: 1485.2883\n",
      "Epoch 6/30\n",
      "100436/100436 [==============================] - 9s 93us/step - loss: 1757.6097 - mean_absolute_error: 0.6829 - mean_pred_metrics: 1757.6097 - val_loss: 1332.5663 - val_mean_absolute_error: 0.4629 - val_mean_pred_metrics: 1332.5663\n",
      "Epoch 7/30\n"
     ]
    },
    {
     "name": "stdout",
     "output_type": "stream",
     "text": [
      "100436/100436 [==============================] - 9s 94us/step - loss: 1732.2703 - mean_absolute_error: 0.6607 - mean_pred_metrics: 1732.2703 - val_loss: 1339.6569 - val_mean_absolute_error: 0.4383 - val_mean_pred_metrics: 1339.6569\n",
      "Epoch 8/30\n",
      "100436/100436 [==============================] - 10s 96us/step - loss: 1690.5047 - mean_absolute_error: 0.6324 - mean_pred_metrics: 1690.5047 - val_loss: 1295.5609 - val_mean_absolute_error: 0.4446 - val_mean_pred_metrics: 1295.5609\n",
      "Epoch 9/30\n",
      "100436/100436 [==============================] - 10s 101us/step - loss: 1657.3362 - mean_absolute_error: 0.6106 - mean_pred_metrics: 1657.3362 - val_loss: 1259.1574 - val_mean_absolute_error: 0.4141 - val_mean_pred_metrics: 1259.1574\n",
      "Epoch 10/30\n",
      "100436/100436 [==============================] - 10s 101us/step - loss: 1634.9820 - mean_absolute_error: 0.5939 - mean_pred_metrics: 1634.9820 - val_loss: 1315.4953 - val_mean_absolute_error: 0.4390 - val_mean_pred_metrics: 1315.4953\n",
      "Epoch 11/30\n",
      "100436/100436 [==============================] - 10s 97us/step - loss: 1606.8590 - mean_absolute_error: 0.5769 - mean_pred_metrics: 1606.8590 - val_loss: 1234.8398 - val_mean_absolute_error: 0.4117 - val_mean_pred_metrics: 1234.8398\n",
      "Epoch 12/30\n",
      "100436/100436 [==============================] - 10s 97us/step - loss: 1574.8844 - mean_absolute_error: 0.5582 - mean_pred_metrics: 1574.8844 - val_loss: 1304.6121 - val_mean_absolute_error: 0.4231 - val_mean_pred_metrics: 1304.6121\n",
      "Epoch 13/30\n",
      "100436/100436 [==============================] - 10s 97us/step - loss: 1558.9244 - mean_absolute_error: 0.5442 - mean_pred_metrics: 1558.9244 - val_loss: 1261.2292 - val_mean_absolute_error: 0.4075 - val_mean_pred_metrics: 1261.2292\n",
      "Epoch 14/30\n",
      "100436/100436 [==============================] - 10s 97us/step - loss: 1521.2963 - mean_absolute_error: 0.5282 - mean_pred_metrics: 1521.2963 - val_loss: 1205.0296 - val_mean_absolute_error: 0.3936 - val_mean_pred_metrics: 1205.0296\n",
      "Epoch 15/30\n",
      "100436/100436 [==============================] - 10s 100us/step - loss: 1505.8795 - mean_absolute_error: 0.5174 - mean_pred_metrics: 1505.8795 - val_loss: 1264.6362 - val_mean_absolute_error: 0.4061 - val_mean_pred_metrics: 1264.6362\n",
      "Epoch 16/30\n",
      "100436/100436 [==============================] - 10s 97us/step - loss: 1475.3269 - mean_absolute_error: 0.5041 - mean_pred_metrics: 1475.3269 - val_loss: 1177.3532 - val_mean_absolute_error: 0.3823 - val_mean_pred_metrics: 1177.3532\n",
      "Epoch 17/30\n",
      "100436/100436 [==============================] - 10s 97us/step - loss: 1460.0264 - mean_absolute_error: 0.4960 - mean_pred_metrics: 1460.0264 - val_loss: 1191.1394 - val_mean_absolute_error: 0.3893 - val_mean_pred_metrics: 1191.1394\n",
      "Epoch 18/30\n",
      "100436/100436 [==============================] - 10s 97us/step - loss: 1439.7954 - mean_absolute_error: 0.4843 - mean_pred_metrics: 1439.7954 - val_loss: 1252.2655 - val_mean_absolute_error: 0.4063 - val_mean_pred_metrics: 1252.2655\n",
      "Epoch 19/30\n",
      "100436/100436 [==============================] - 10s 101us/step - loss: 1419.1505 - mean_absolute_error: 0.4747 - mean_pred_metrics: 1419.1505 - val_loss: 1186.2000 - val_mean_absolute_error: 0.3855 - val_mean_pred_metrics: 1186.2000\n",
      "Epoch 20/30\n",
      "100436/100436 [==============================] - 10s 95us/step - loss: 1394.9898 - mean_absolute_error: 0.4648 - mean_pred_metrics: 1394.9898 - val_loss: 1205.7036 - val_mean_absolute_error: 0.3880 - val_mean_pred_metrics: 1205.7036\n",
      "Epoch 21/30\n",
      "100436/100436 [==============================] - 10s 95us/step - loss: 1380.1194 - mean_absolute_error: 0.4575 - mean_pred_metrics: 1380.1194 - val_loss: 1203.4310 - val_mean_absolute_error: 0.3943 - val_mean_pred_metrics: 1203.4310\n",
      "Fold 2, MAE: 0.39608245792484953\n",
      "3-fold CV score: 0.3860780978245102\n"
     ]
    },
    {
     "data": {
      "text/plain": [
       "('CV score for the final model:', 0.38607809782451019)"
      ]
     },
     "execution_count": 11,
     "metadata": {},
     "output_type": "execute_result"
    }
   ],
   "source": [
    "cv_score = cross_validate_mlp(hyper_model)\n",
    "(\"CV score for the final model:\", cv_score)"
   ]
  },
  {
   "cell_type": "code",
   "execution_count": null,
   "metadata": {
    "collapsed": true
   },
   "outputs": [],
   "source": [
    "class NN_with_EntityEmbedding(Model):\n",
    "\n",
    "    def __init__(self, X_train, y_train, X_val, y_val):\n",
    "        super().__init__()\n",
    "        self.nb_epoch = 10\n",
    "        self.checkpointer = ModelCheckpoint(filepath=\"best_model_weights.hdf5\", verbose=1, save_best_only=True)\n",
    "        self.max_log_y = max(numpy.max(numpy.log(y_train)), numpy.max(numpy.log(y_val)))\n",
    "        self.__build_keras_model()\n",
    "        self.fit(X_train, y_train, X_val, y_val)\n",
    "\n",
    "    def preprocessing(self, X):\n",
    "        X_list = split_features(X)\n",
    "        return X_list\n",
    "\n",
    "    def __build_keras_model(self):\n",
    "        models = []\n",
    "\n",
    "        model_store = Sequential()\n",
    "        model_store.add(Embedding(1115, 10, input_length=1))\n",
    "        model_store.add(Reshape(target_shape=(10,)))\n",
    "        models.append(model_store)\n",
    "\n",
    "        model_dow = Sequential()\n",
    "        model_dow.add(Embedding(7, 6, input_length=1))\n",
    "        model_dow.add(Reshape(target_shape=(6,)))\n",
    "        models.append(model_dow)\n",
    "\n",
    "        model_promo = Sequential()\n",
    "        model_promo.add(Dense(1, input_dim=1))\n",
    "        models.append(model_promo)\n",
    "\n",
    "        model_year = Sequential()\n",
    "        model_year.add(Embedding(3, 2, input_length=1))\n",
    "        model_year.add(Reshape(target_shape=(2,)))\n",
    "        models.append(model_year)\n",
    "\n",
    "        model_month = Sequential()\n",
    "        model_month.add(Embedding(12, 6, input_length=1))\n",
    "        model_month.add(Reshape(target_shape=(6,)))\n",
    "        models.append(model_month)\n",
    "\n",
    "        model_day = Sequential()\n",
    "        model_day.add(Embedding(31, 10, input_length=1))\n",
    "        model_day.add(Reshape(target_shape=(10,)))\n",
    "        models.append(model_day)\n",
    "\n",
    "        model_germanstate = Sequential()\n",
    "        model_germanstate.add(Embedding(12, 6, input_length=1))\n",
    "        model_germanstate.add(Reshape(target_shape=(6,)))\n",
    "        models.append(model_germanstate)\n",
    "\n",
    "        self.model = Sequential()\n",
    "        self.model.add(Merge(models, mode='concat'))\n",
    "        self.model.add(Dense(1000, init='uniform'))\n",
    "        self.model.add(Activation('relu'))\n",
    "        self.model.add(Dense(500, init='uniform'))\n",
    "        self.model.add(Activation('relu'))\n",
    "        self.model.add(Dense(1))\n",
    "        self.model.add(Activation('sigmoid'))\n",
    "\n",
    "        self.model.compile(loss='mean_absolute_error', optimizer='adam')\n",
    "\n",
    "    def _val_for_fit(self, val):\n",
    "        val = numpy.log(val) / self.max_log_y\n",
    "        return val\n",
    "\n",
    "    def _val_for_pred(self, val):\n",
    "        return numpy.exp(val * self.max_log_y)\n",
    "\n",
    "    def fit(self, X_train, y_train, X_val, y_val):\n",
    "        self.model.fit(self.preprocessing(X_train), self._val_for_fit(y_train),\n",
    "                       validation_data=(self.preprocessing(X_val), self._val_for_fit(y_val)),\n",
    "                       nb_epoch=self.nb_epoch, batch_size=128,\n",
    "                       # callbacks=[self.checkpointer],\n",
    "                       )\n",
    "        # self.model.load_weights('best_model_weights.hdf5')\n",
    "        print(\"Result on validation data: \", self.evaluate(X_val, y_val))\n",
    "\n",
    "    def guess(self, features):\n",
    "        features = self.preprocessing(features)\n",
    "        result = self.model.predict(features).flatten()\n",
    "        return self._val_for_pred(result)\n"
   ]
  },
  {
   "cell_type": "markdown",
   "metadata": {},
   "source": [
    "Though this model is not adapted for mere 30 epochs of training, nor for 3-fold CV (I used 5-fold on Kaggle), even though this is a single unbagged model which has been cross-validated on three folds only, we see a very good score:\n",
    "`CV = 1150` (your score may vary a little).\n",
    "\n",
    "By the way, this single model, bagged, 5-fold CVed, scored 1116.28 on Kaggle LB.\n",
    "\n",
    "As we see, this model is considerably better than any other models we had so far. We now take it as the second part of our final ensemble."
   ]
  }
 ],
 "metadata": {
  "kernelspec": {
   "display_name": "Python 3",
   "language": "python",
   "name": "python3"
  },
  "language_info": {
   "codemirror_mode": {
    "name": "ipython",
    "version": 3
   },
   "file_extension": ".py",
   "mimetype": "text/x-python",
   "name": "python",
   "nbconvert_exporter": "python",
   "pygments_lexer": "ipython3",
   "version": "3.6.3"
  }
 },
 "nbformat": 4,
 "nbformat_minor": 1
}
