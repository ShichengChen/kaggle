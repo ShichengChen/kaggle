{
 "cells": [
  {
   "cell_type": "markdown",
   "metadata": {},
   "source": [
    "# Part 2, XGBoost"
   ]
  },
  {
   "cell_type": "code",
   "execution_count": 1,
   "metadata": {
    "collapsed": false
   },
   "outputs": [],
   "source": [
    "import xgboost as xgb\n",
    "import pandas as pd\n",
    "import numpy as np\n",
    "import pickle\n",
    "import sys\n",
    "import matplotlib.pyplot as plt\n",
    "from sklearn.metrics import mean_absolute_error, make_scorer\n",
    "from sklearn.preprocessing import StandardScaler\n",
    "from sklearn.grid_search import GridSearchCV\n",
    "from scipy.sparse import csr_matrix, hstack\n",
    "from sklearn.cross_validation import KFold, train_test_split\n",
    "from xgboost import XGBRegressor\n",
    "\n",
    "import warnings\n",
    "warnings.filterwarnings('ignore')\n",
    "\n",
    "%matplotlib inline\n",
    "\n",
    "# This may raise an exception in earlier versions of Jupyter\n",
    "%config InlineBackend.figure_format = 'retina'"
   ]
  },
  {
   "cell_type": "markdown",
   "metadata": {},
   "source": [
    "In this part, we are going to train, tune and validate an XGBoost model. We are not going to use the test set from Kaggle: it is unlabeled and is designed for Kaggle score evaluation.\n",
    "\n",
    "We start with the initial data preprocessing, then train a simple XGBoost model to set a baseline score and, finally, iterate over the ways to improve the baseline score."
   ]
  },
  {
   "cell_type": "markdown",
   "metadata": {},
   "source": [
    "## A note on computational complexity\n",
    "Though I tried to reduce the complexity of the following models, we should understand that there is no silver bullet and a number of heavy computations like a grid search is required. \n",
    "\n",
    "These computations are essential for the project and cannot be simply ignored or reduced. If you feel that these calculations take way more time than you have (sometimes they do), you can simply use precalculated pickled models.\n",
    "\n",
    "If you are not going to use pretrained models, change the following flag to `False`:"
   ]
  },
  {
   "cell_type": "code",
   "execution_count": 2,
   "metadata": {
    "collapsed": true
   },
   "outputs": [],
   "source": [
    "USE_PRETRAINED = True"
   ]
  },
  {
   "cell_type": "markdown",
   "metadata": {},
   "source": [
    "## Data preprocessing"
   ]
  },
  {
   "cell_type": "markdown",
   "metadata": {},
   "source": [
    "Simple data loading and transformations:"
   ]
  },
  {
   "cell_type": "code",
   "execution_count": 3,
   "metadata": {
    "collapsed": true
   },
   "outputs": [],
   "source": [
    "train = pd.read_csv('train.csv')"
   ]
  },
  {
   "cell_type": "markdown",
   "metadata": {},
   "source": [
    "We log-transform the target variable, as discussed earlier."
   ]
  },
  {
   "cell_type": "code",
   "execution_count": 4,
   "metadata": {
    "collapsed": true
   },
   "outputs": [],
   "source": [
    "train['log_loss'] = np.log(train['loss'])"
   ]
  },
  {
   "cell_type": "markdown",
   "metadata": {},
   "source": [
    "Divide categorical and numerical features:"
   ]
  },
  {
   "cell_type": "code",
   "execution_count": 5,
   "metadata": {
    "collapsed": false
   },
   "outputs": [
    {
     "name": "stdout",
     "output_type": "stream",
     "text": [
      "Categorical features: 116\n",
      "Numerical features: 14\n"
     ]
    }
   ],
   "source": [
    "features = [x for x in train.columns if x not in ['id','loss', 'log_loss']]\n",
    "\n",
    "cat_features = [x for x in train.select_dtypes(\n",
    "        include=['object']).columns if x not in ['id','loss', 'log_loss']]\n",
    "num_features = [x for x in train.select_dtypes(\n",
    "        exclude=['object']).columns if x not in ['id','loss', 'log_loss']]\n",
    "\n",
    "print \"Categorical features:\", len(cat_features)\n",
    "print \"Numerical features:\", len(num_features)"
   ]
  },
  {
   "cell_type": "markdown",
   "metadata": {},
   "source": [
    "And use a label encoder for categorical features:"
   ]
  },
  {
   "cell_type": "code",
   "execution_count": 6,
   "metadata": {
    "collapsed": false
   },
   "outputs": [
    {
     "name": "stdout",
     "output_type": "stream",
     "text": [
      "Xtrain: (188318, 130)\n",
      "ytrain: (188318,)\n"
     ]
    }
   ],
   "source": [
    "ntrain = train.shape[0]\n",
    "\n",
    "train_x = train[features]\n",
    "train_y = train['log_loss']\n",
    "\n",
    "for c in range(len(cat_features)):\n",
    "    train_x[cat_features[c]] = train_x[cat_features[c]].astype('category').cat.codes\n",
    "    \n",
    "print \"Xtrain:\", train_x.shape\n",
    "print \"ytrain:\", train_y.shape"
   ]
  },
  {
   "cell_type": "markdown",
   "metadata": {},
   "source": [
    "## Simple XGBoost Model"
   ]
  },
  {
   "cell_type": "markdown",
   "metadata": {},
   "source": [
    "To start with, we train a baseline XGBoost model just to understand how well the whole training goes. As we aren't going to submit the results to Kaggle, we should cross validate them locally. Again, to make sure that an average PC can handle this, we now limit ourselves to 3-fold CV (we'll increase it to 5-fold CV later), 50 trees and stop if a CV error hasn't decreased in 10 rounds.\n",
    "\n",
    "We use a custom evaluation function `xg_eval_mae` which calculates MAE, but works with our log-transformed data and uses XGBoost's `DMatrix`:"
   ]
  },
  {
   "cell_type": "code",
   "execution_count": 7,
   "metadata": {
    "collapsed": true
   },
   "outputs": [],
   "source": [
    "def xg_eval_mae(yhat, dtrain):\n",
    "    y = dtrain.get_label()\n",
    "    return 'mae', mean_absolute_error(np.exp(y), np.exp(yhat))"
   ]
  },
  {
   "cell_type": "markdown",
   "metadata": {},
   "source": [
    "### Model"
   ]
  },
  {
   "cell_type": "markdown",
   "metadata": {},
   "source": [
    "We need to transform the initial dataset into the DMatrix, the native format of XGBoost."
   ]
  },
  {
   "cell_type": "code",
   "execution_count": 8,
   "metadata": {
    "collapsed": false
   },
   "outputs": [],
   "source": [
    "dtrain = xgb.DMatrix(train_x, train['log_loss'])"
   ]
  },
  {
   "cell_type": "markdown",
   "metadata": {},
   "source": [
    "We use some average set of parameters to make XGBoost work:"
   ]
  },
  {
   "cell_type": "code",
   "execution_count": 9,
   "metadata": {
    "collapsed": true
   },
   "outputs": [],
   "source": [
    "xgb_params = {\n",
    "    'seed': 0,\n",
    "    'eta': 0.1,\n",
    "    'colsample_bytree': 0.5,\n",
    "    'silent': 1,\n",
    "    'subsample': 0.5,\n",
    "    'objective': 'reg:linear',\n",
    "    'max_depth': 5,\n",
    "    'min_child_weight': 3\n",
    "}"
   ]
  },
  {
   "cell_type": "markdown",
   "metadata": {},
   "source": [
    "Now we run XGBoost and cross validate the results via the built-in `xgb.cv` function. We use our `xg_eval_mae` function for calculating the loss (MAE)."
   ]
  },
  {
   "cell_type": "code",
   "execution_count": 10,
   "metadata": {
    "collapsed": false
   },
   "outputs": [
    {
     "name": "stdout",
     "output_type": "stream",
     "text": [
      "CV score: 1219.572998\n",
      "CPU times: user 0 ns, sys: 3.06 ms, total: 3.06 ms\n",
      "Wall time: 2.08 ms\n"
     ]
    }
   ],
   "source": [
    "%%time\n",
    "\n",
    "if USE_PRETRAINED: \n",
    "    with open('pretrained/xgb_bst_cv1.pkl', 'rb') as f:\n",
    "        bst_cv1 = pickle.load(f)\n",
    "        \n",
    "else:\n",
    "    bst_cv1 = xgb.cv(xgb_params, dtrain, num_boost_round=50, nfold=3, seed=0, \n",
    "                    feval=xg_eval_mae, maximize=False, early_stopping_rounds=10)\n",
    "\n",
    "print 'CV score:', bst_cv1.iloc[-1,:]['test-mae-mean']"
   ]
  },
  {
   "cell_type": "markdown",
   "metadata": {},
   "source": [
    "We got the first baseline result: `MAE=1219.57`. Since our calculations fluctuate from time to time, I'm providing the score for pretrained models. Your score may differ slightly if you choose to run all computations.\n",
    "\n",
    "We can plot the training and test errors:"
   ]
  },
  {
   "cell_type": "code",
   "execution_count": 11,
   "metadata": {
    "collapsed": false
   },
   "outputs": [
    {
     "data": {
      "text/plain": [
       "<matplotlib.axes._subplots.AxesSubplot at 0x7f5d716ee690>"
      ]
     },
     "execution_count": 11,
     "metadata": {},
     "output_type": "execute_result"
    },
    {
     "data": {
      "text/plain": [
       "<matplotlib.figure.Figure at 0x7f5d926c5a90>"
      ]
     },
     "metadata": {},
     "output_type": "display_data"
    },
    {
     "data": {
      "image/png": "[encoded data removed]",
      "text/plain": [
       "<matplotlib.figure.Figure at 0x7f5d71690890>"
      ]
     },
     "metadata": {},
     "output_type": "display_data"
    }
   ],
   "source": [
    "plt.figure()\n",
    "bst_cv1[['train-mae-mean', 'test-mae-mean']].plot()"
   ]
  },
  {
   "cell_type": "markdown",
   "metadata": {},
   "source": [
    "Our first insights from XGBoost:\n",
    "\n",
    "\n",
    "* There is no overfitting, the training and test losses are very close to each other\n",
    "\n",
    "\n",
    "* By the round \\#50 the loss is still decreasing.\n",
    "\n",
    "\n",
    "We may safely proceed and train a bit more complex model with 100 trees."
   ]
  },
  {
   "cell_type": "code",
   "execution_count": 12,
   "metadata": {
    "collapsed": false,
    "scrolled": true
   },
   "outputs": [
    {
     "name": "stdout",
     "output_type": "stream",
     "text": [
      "CV score: 1171.77067033\n",
      "CPU times: user 1.16 ms, sys: 225 µs, total: 1.38 ms\n",
      "Wall time: 1.42 ms\n"
     ]
    }
   ],
   "source": [
    "%%time\n",
    "if USE_PRETRAINED:\n",
    "     with open('pretrained/xgb_bst_cv2.pkl', 'rb') as f:\n",
    "        bst_cv2 = pickle.load(f)\n",
    "else:\n",
    "    bst_cv2 = xgb.cv(xgb_params, dtrain, num_boost_round=100, \n",
    "                    nfold=3, seed=0, feval=xg_eval_mae, maximize=False, \n",
    "                    early_stopping_rounds=10)\n",
    "\n",
    "print 'CV score:', bst_cv2.iloc[-1,:]['test-mae-mean']"
   ]
  },
  {
   "cell_type": "code",
   "execution_count": 13,
   "metadata": {
    "collapsed": false
   },
   "outputs": [
    {
     "data": {
      "text/plain": [
       "<matplotlib.legend.Legend at 0x7f5d7140eed0>"
      ]
     },
     "execution_count": 13,
     "metadata": {},
     "output_type": "execute_result"
    },
    {
     "data": {
      "image/png": "[encoded data removed]",
      "text/plain": [
       "<matplotlib.figure.Figure at 0x7f5d926c5950>"
      ]
     },
     "metadata": {},
     "output_type": "display_data"
    }
   ],
   "source": [
    "fig, (ax1, ax2) = plt.subplots(1,2)\n",
    "fig.set_size_inches(16,4)\n",
    "\n",
    "ax1.set_title('100 rounds of training')\n",
    "ax1.set_xlabel('Rounds')\n",
    "ax1.set_ylabel('Loss')\n",
    "ax1.grid(True)\n",
    "ax1.plot(bst_cv2[['train-mae-mean', 'test-mae-mean']])\n",
    "ax1.legend(['Training Loss', 'Test Loss'])\n",
    "\n",
    "ax2.set_title('60 last rounds of training')\n",
    "ax2.set_xlabel('Rounds')\n",
    "ax2.set_ylabel('Loss')\n",
    "ax2.grid(True)\n",
    "ax2.plot(bst_cv2.iloc[40:][['train-mae-mean', 'test-mae-mean']])\n",
    "ax2.legend(['Training Loss', 'Test Loss'])"
   ]
  },
  {
   "cell_type": "markdown",
   "metadata": {},
   "source": [
    "As we see, the gap between training and test loss widens with each new round. While this might not be the best performing model, we are still on the safe side. There is no overfitting, the test loss monotonically decreases with each nwe round.\n",
    "\n",
    "Now we get a CV score **MAE = 1171.77** (`CV score: 1171.77067033`) which is much better than the score we got first (1219.57). We are now doing better than a baseline model (random forest). Of course, we can increase the number of estimators even further, but we should now concentrate on other hyperparameters and fix `num_boost_round` till the end of tuning.\n",
    "\n",
    "When we compete on Kaggle, we usually train complex models (one of my models was an ensemble of 8K trees, another one allowed boosting a very large number of trees, but with early stopping turned on). Outside of competition, we can and should look for a tradeoff between the predictive power and computational complexity of our models."
   ]
  },
  {
   "cell_type": "markdown",
   "metadata": {},
   "source": [
    "## XGBoost Tuning"
   ]
  },
  {
   "cell_type": "markdown",
   "metadata": {},
   "source": [
    "### Methodology"
   ]
  },
  {
   "cell_type": "markdown",
   "metadata": {},
   "source": [
    "Now we have two models: `bst_cv1` (basic) and `bst_cv2` (with more trees). Again, to simplify and accelerate learning, we go on with the basic model, tune and memorize the hyperparameters and implement a new learner with those hyperparameters based on `bst_cv2`.\n",
    "\n",
    "The final model will get additional base estimators."
   ]
  },
  {
   "cell_type": "markdown",
   "metadata": {},
   "source": [
    "Though we limit our tuning to a grid search, there are much more powerful optimization techniques. One of my favorite is Bayesian global optimization implemented in [BayesianOptimization](https://github.com/fmfn/BayesianOptimization) package. This is a smarter and efficient way to find a global extremum (in our case, optimize the hyperparameters space to get the minimum possible MAE) as this algorithm makes intelligent guesses based on past information instead of just exhaustively iterating through the grid.\n",
    "\n",
    "I suppose that using `BayesianOptimization` is beyond the scope of this Capstone, so we focus on a grid search approach (which does provide good results). From methodological point of view, we'll use [Analytics Vidhya](https://www.analyticsvidhya.com/blog/2016/03/complete-guide-parameter-tuning-xgboost-with-codes-python/) as a reference."
   ]
  },
  {
   "cell_type": "markdown",
   "metadata": {},
   "source": [
    "* Step 1: Set reasonable initial learining rate and a number of estimators.\n",
    "\n",
    "\n",
    "* Step 2: Tuning `max_depth` and `min_child_weight`.\n",
    "\n",
    "\n",
    "* Step 3: Tuning `gamma` to reduce overfitting.\n",
    "\n",
    "\n",
    "* Step 4: Tuning `subsample` and `colsample_bytree`.\n",
    "\n",
    "\n",
    "* Step 5: Reducing learning rate `eta`, adding more estimators."
   ]
  },
  {
   "cell_type": "markdown",
   "metadata": {},
   "source": [
    "As we use the built-in `GridSearchCV` routine, the simplest way to train XGBoost on it would be to call it via its scikit-learn wrapper interface `xgboost.XGBRegressor`. Unfortunately, it's missing several important properties and functions (e.g. custom eval function or the option to minimize this function instead of maximizing) so we have to write our own wrapper."
   ]
  },
  {
   "cell_type": "code",
   "execution_count": 14,
   "metadata": {
    "collapsed": true
   },
   "outputs": [],
   "source": [
    "# To follow conventional function names in sklearn, we implement fit and predict functions\n",
    "class XGBoostRegressor(object):\n",
    "    def __init__(self, **kwargs):\n",
    "        self.params = kwargs\n",
    "        if 'num_boost_round' in self.params:\n",
    "            self.num_boost_round = self.params['num_boost_round']\n",
    "        self.params.update({'silent': 1, 'objective': 'reg:linear', 'seed': 0})\n",
    "        \n",
    "    def fit(self, x_train, y_train):\n",
    "        dtrain = xgb.DMatrix(x_train, y_train)\n",
    "        self.bst = xgb.train(params=self.params, dtrain=dtrain, num_boost_round=self.num_boost_round,\n",
    "                             feval=xg_eval_mae, maximize=False)\n",
    "        \n",
    "    def predict(self, x_pred):\n",
    "        dpred = xgb.DMatrix(x_pred)\n",
    "        return self.bst.predict(dpred)\n",
    "    \n",
    "    def kfold(self, x_train, y_train, nfold=5):\n",
    "        dtrain = xgb.DMatrix(x_train, y_train)\n",
    "        cv_rounds = xgb.cv(params=self.params, dtrain=dtrain, num_boost_round=self.num_boost_round,\n",
    "                           nfold=nfold, feval=xg_eval_mae, maximize=False, early_stopping_rounds=10)\n",
    "        return cv_rounds.iloc[-1,:]\n",
    "    \n",
    "    def plot_feature_importances(self):\n",
    "        feat_imp = pd.Series(self.bst.get_fscore()).sort_values(ascending=False)\n",
    "        feat_imp.plot(title='Feature Importances')\n",
    "        plt.ylabel('Feature Importance Score')\n",
    "        \n",
    "    def get_params(self, deep=True):\n",
    "        return self.params\n",
    " \n",
    "    def set_params(self, **params):\n",
    "        self.params.update(params)\n",
    "        return self"
   ]
  },
  {
   "cell_type": "markdown",
   "metadata": {},
   "source": [
    "We'll also use a custom scorer which works with log-transformed values:"
   ]
  },
  {
   "cell_type": "code",
   "execution_count": 15,
   "metadata": {
    "collapsed": true
   },
   "outputs": [],
   "source": [
    "def mae_score(y_true, y_pred):\n",
    "    return mean_absolute_error(np.exp(y_true), np.exp(y_pred))\n",
    "\n",
    "mae_scorer = make_scorer(mae_score, greater_is_better=False)"
   ]
  },
  {
   "cell_type": "markdown",
   "metadata": {},
   "source": [
    "Now we can test our new class:"
   ]
  },
  {
   "cell_type": "code",
   "execution_count": 16,
   "metadata": {
    "collapsed": true
   },
   "outputs": [],
   "source": [
    "bst = XGBoostRegressor(eta=0.1, colsample_bytree=0.5, subsample=0.5, \n",
    "                       max_depth=5, min_child_weight=3, num_boost_round=50)"
   ]
  },
  {
   "cell_type": "code",
   "execution_count": 17,
   "metadata": {
    "collapsed": false
   },
   "outputs": [
    {
     "name": "stderr",
     "output_type": "stream",
     "text": [
      "Will train until cv error hasn't decreased in 10 rounds.\n"
     ]
    },
    {
     "data": {
      "text/plain": [
       "test-mae-mean     1217.451123\n",
       "test-mae-std         8.307884\n",
       "train-mae-mean    1208.330518\n",
       "train-mae-std        3.280566\n",
       "Name: 49, dtype: float64"
      ]
     },
     "execution_count": 17,
     "metadata": {},
     "output_type": "execute_result"
    }
   ],
   "source": [
    "bst.kfold(train_x, train_y, nfold=5)"
   ]
  },
  {
   "cell_type": "markdown",
   "metadata": {},
   "source": [
    "This looks similar to what we got earlier with 50 trees, so that we are safe to continue."
   ]
  },
  {
   "cell_type": "markdown",
   "metadata": {},
   "source": [
    "### Step 1: Fixing learning rate and number of estimators"
   ]
  },
  {
   "cell_type": "markdown",
   "metadata": {},
   "source": [
    "We've seen from the message above that the CV error hasn't decreased in 10 rounds. This allows us increase the number of `num_boost_round`, as well as decrease `eta`, but we now fix these parameters to 50 and 0.1 respectively to reduce training time.\n",
    "\n",
    "Further on, we return to the discussion of `num_boost_round` and `eta`."
   ]
  },
  {
   "cell_type": "markdown",
   "metadata": {},
   "source": [
    "### Step 2: Tuning max_depth and min_child_weight"
   ]
  },
  {
   "cell_type": "markdown",
   "metadata": {},
   "source": [
    "These parameters have the highest impact on the performance of XGBoost, thus, they should be tuned first. We briefly overview them:\n",
    "\n",
    "\n",
    "* `max_depth`: maximum depth of a tree. Increasing this value will make the model more complex and also prone to overfitting. [Recommended](https://www.analyticsvidhya.com/blog/2016/03/complete-guide-parameter-tuning-xgboost-with-codes-python/) depth is between 3-10 which is reasonable: a tree with few levels won't likely to capture non-linear features. On the other hand, too complex tree will probably overfit.\n",
    "\n",
    "\n",
    "* `min_child_weight`: a regularization parameter. Stops the tree building process if the tree partition results in a leaf node with the sum of instance weight less than defined in `min_child_weight`. If set too large, a tree may get underfitted."
   ]
  },
  {
   "cell_type": "code",
   "execution_count": 18,
   "metadata": {
    "collapsed": true
   },
   "outputs": [],
   "source": [
    "xgb_param_grid = {'max_depth': range(4,9), 'min_child_weight': (1,3,6)}"
   ]
  },
  {
   "cell_type": "code",
   "execution_count": 19,
   "metadata": {
    "collapsed": false
   },
   "outputs": [
    {
     "name": "stdout",
     "output_type": "stream",
     "text": [
      "CPU times: user 3.22 ms, sys: 3.99 ms, total: 7.22 ms\n",
      "Wall time: 7.67 ms\n"
     ]
    }
   ],
   "source": [
    "%%time\n",
    "\n",
    "if USE_PRETRAINED:\n",
    "    with open('pretrained/xgb_grid_max_depth.pkl', 'rb') as f: \n",
    "        grid = pickle.load(f)\n",
    "else:    \n",
    "    grid = GridSearchCV(XGBoostRegressor(eta=0.1, num_boost_round=50, colsample_bytree=0.5, subsample=0.5),\n",
    "                    param_grid=xgb_param_grid, cv=5, scoring=mae_scorer)\n",
    "\n",
    "    grid.fit(train_x, train_y.values)"
   ]
  },
  {
   "cell_type": "code",
   "execution_count": 20,
   "metadata": {
    "collapsed": false
   },
   "outputs": [
    {
     "data": {
      "text/plain": [
       "([mean: -1243.28221, std: 7.10850, params: {'max_depth': 4, 'min_child_weight': 1},\n",
       "  mean: -1243.09817, std: 7.15875, params: {'max_depth': 4, 'min_child_weight': 3},\n",
       "  mean: -1243.29907, std: 7.16987, params: {'max_depth': 4, 'min_child_weight': 6},\n",
       "  mean: -1218.44087, std: 7.89849, params: {'max_depth': 5, 'min_child_weight': 1},\n",
       "  mean: -1218.05072, std: 6.85799, params: {'max_depth': 5, 'min_child_weight': 3},\n",
       "  mean: -1218.14628, std: 6.62355, params: {'max_depth': 5, 'min_child_weight': 6},\n",
       "  mean: -1203.41002, std: 6.20229, params: {'max_depth': 6, 'min_child_weight': 1},\n",
       "  mean: -1202.19347, std: 6.36582, params: {'max_depth': 6, 'min_child_weight': 3},\n",
       "  mean: -1202.31329, std: 6.00106, params: {'max_depth': 6, 'min_child_weight': 6},\n",
       "  mean: -1193.42716, std: 6.23152, params: {'max_depth': 7, 'min_child_weight': 1},\n",
       "  mean: -1192.91919, std: 6.15560, params: {'max_depth': 7, 'min_child_weight': 3},\n",
       "  mean: -1191.97026, std: 6.31372, params: {'max_depth': 7, 'min_child_weight': 6},\n",
       "  mean: -1188.23015, std: 6.00968, params: {'max_depth': 8, 'min_child_weight': 1},\n",
       "  mean: -1186.84198, std: 5.35425, params: {'max_depth': 8, 'min_child_weight': 3},\n",
       "  mean: -1186.59638, std: 4.79068, params: {'max_depth': 8, 'min_child_weight': 6}],\n",
       " {'max_depth': 8, 'min_child_weight': 6},\n",
       " -1186.5963814064248)"
      ]
     },
     "execution_count": 20,
     "metadata": {},
     "output_type": "execute_result"
    }
   ],
   "source": [
    "grid.grid_scores_, grid.best_params_, grid.best_score_"
   ]
  },
  {
   "cell_type": "markdown",
   "metadata": {},
   "source": [
    "The best result found by this grid search:\n",
    "\n",
    "`{'max_depth': 8, 'min_child_weight': 6},\n",
    " -1186.5963814064248)`\n",
    " \n",
    "A negative value is a convention of `GridSearchCV` (always search for a maximum).\n",
    "\n",
    "To understand the relationship between `max_depth` and `min_child_weight`, we draw a contour plot. First, we facilitate retrieving data from `grid.grid_scores_`:"
   ]
  },
  {
   "cell_type": "code",
   "execution_count": 21,
   "metadata": {
    "collapsed": true
   },
   "outputs": [],
   "source": [
    "def convert_grid_scores(scores):\n",
    "    _params = []\n",
    "    _params_mae = []    \n",
    "    for i in scores:\n",
    "        _params.append(i[0].values())\n",
    "        _params_mae.append(i[1])\n",
    "    params = np.array(_params)\n",
    "    grid_res = np.column_stack((_params,_params_mae))\n",
    "    return [grid_res[:,i] for i in range(grid_res.shape[1])]"
   ]
  },
  {
   "cell_type": "code",
   "execution_count": 22,
   "metadata": {
    "collapsed": false
   },
   "outputs": [],
   "source": [
    "_, _, scores =  convert_grid_scores(grid.grid_scores_)\n",
    "scores = scores.reshape(5,3)"
   ]
  },
  {
   "cell_type": "markdown",
   "metadata": {},
   "source": [
    "Now we plot the chart:"
   ]
  },
  {
   "cell_type": "code",
   "execution_count": 23,
   "metadata": {
    "collapsed": false
   },
   "outputs": [
    {
     "data": {
      "image/png": "[encoded data removed]",
      "text/plain": [
       "<matplotlib.figure.Figure at 0x7f5d713534d0>"
      ]
     },
     "metadata": {},
     "output_type": "display_data"
    }
   ],
   "source": [
    "plt.figure(figsize=(10,5))\n",
    "cp = plt.contourf(xgb_param_grid['min_child_weight'], xgb_param_grid['max_depth'], scores, cmap='BrBG')\n",
    "plt.colorbar(cp)\n",
    "plt.title('Depth / min_child_weight optimization')\n",
    "plt.annotate('We use this', xy=(5.95, 7.95), xytext=(4, 7.5), arrowprops=dict(facecolor='white'), color='white')\n",
    "plt.annotate('Good for depth=7', xy=(5.98, 7.05), \n",
    "             xytext=(4, 6.5), arrowprops=dict(facecolor='white'), color='white')\n",
    "plt.xlabel('min_child_weight')\n",
    "plt.ylabel('max_depth')\n",
    "plt.grid(True)\n",
    "plt.show()"
   ]
  },
  {
   "cell_type": "markdown",
   "metadata": {},
   "source": [
    "As we see from the results of grid search, the improvement of score is mostly based on the increase of `max_depth` (the bars on the contour plot are mostly horizontal). `min_child_weight` only slightly influence the score, though, we see that `min_child_weight=6` usually works good. \n",
    "\n",
    "One more peculiar observation we may have is that the increase of `min_child_weight` starts to make sense when `max_depth` grows. We can compensate a smaller value of `max_depth` (8 -> 7) by setting `min_child_weight=6` and still get a good score. Thus we optimize the speed of our regressor for production use."
   ]
  },
  {
   "cell_type": "markdown",
   "metadata": {},
   "source": [
    "### Step 3: Tuning gamma to reduce overfitting"
   ]
  },
  {
   "cell_type": "markdown",
   "metadata": {},
   "source": [
    "Now we continue our grid search and start tuning `gamma`. We also take the parameters already tuned above. Adding gamma means that the model now requires a minimum amount of loss reduction to make a further partition.\n",
    "\n",
    "Let's make a grid search to find an optimal `gamma`. Though our model doesn't seem to suffer from overfitting, tuning `gamma` is [very important](https://www.kaggle.com/c/santander-customer-satisfaction/forums/t/20662/overtuning-hyper-parameters-especially-re-xgboost/118487#post118487) and it's a requirement for more complicated models."
   ]
  },
  {
   "cell_type": "code",
   "execution_count": 24,
   "metadata": {
    "collapsed": false
   },
   "outputs": [
    {
     "name": "stdout",
     "output_type": "stream",
     "text": [
      "CPU times: user 2.47 ms, sys: 3.98 ms, total: 6.45 ms\n",
      "Wall time: 6.19 ms\n"
     ]
    }
   ],
   "source": [
    "%%time\n",
    "\n",
    "if USE_PRETRAINED:\n",
    "    with open('pretrained/xgb_grid_gamma.pkl', 'rb') as f: \n",
    "        grid = pickle.load(f)\n",
    "    \n",
    "else:\n",
    "    xgb_param_grid = {'gamma':[ 0.1 * i for i in range(0,5)]}\n",
    "\n",
    "    grid = GridSearchCV(XGBoostRegressor(eta=0.1, num_boost_round=50, max_depth=8, min_child_weight=6,\n",
    "                                         colsample_bytree=0.5, subsample=0.5),\n",
    "                        param_grid=xgb_param_grid, cv=5, scoring=mae_scorer)\n",
    "\n",
    "    grid.fit(train_x, train_y.values)"
   ]
  },
  {
   "cell_type": "code",
   "execution_count": 25,
   "metadata": {
    "collapsed": false
   },
   "outputs": [
    {
     "data": {
      "text/plain": [
       "([mean: -1188.23015, std: 6.00968, params: {'gamma': 0.0},\n",
       "  mean: -1188.10265, std: 5.71099, params: {'gamma': 0.1},\n",
       "  mean: -1187.58593, std: 6.75543, params: {'gamma': 0.2},\n",
       "  mean: -1187.87424, std: 6.63791, params: {'gamma': 0.30000000000000004},\n",
       "  mean: -1188.27311, std: 6.07224, params: {'gamma': 0.4}],\n",
       " {'gamma': 0.2},\n",
       " -1187.585928158378)"
      ]
     },
     "execution_count": 25,
     "metadata": {},
     "output_type": "execute_result"
    }
   ],
   "source": [
    "grid.grid_scores_, grid.best_params_, grid.best_score_"
   ]
  },
  {
   "cell_type": "markdown",
   "metadata": {},
   "source": [
    "In our pretrained model, the optimal value of `gamma=0.2`. Actually, I got different results on different machines (mostly, I got optimal `gamma=0.1`), so that it's really hard to say whether we should pick one or the other.\n",
    "\n",
    "The conclusion here is to always check your model for overfitting. Further on, we'll use `gamma=0.2`."
   ]
  },
  {
   "cell_type": "markdown",
   "metadata": {},
   "source": [
    "### Step 4: Tuning subsample and colsample_bytree"
   ]
  },
  {
   "cell_type": "markdown",
   "metadata": {},
   "source": [
    "Each single tree in XGBoost is usually trained on a subset of data. `subsample` defines a subsample ratio of training examples per tree, `colsample_bytree` — a subsample ratio of columns when constructing each tree.\n",
    "\n",
    "Though Kaggle competitors prefer using a small value of `colsample_bytree`, we are going to abide by our methodology and test larger values of `colsample_bytree`. Of course, we may test smaller values, find another local optima and stack several prominent XGBoost models with different `colsample_bytree` or `subsample` values into one ensemble."
   ]
  },
  {
   "cell_type": "code",
   "execution_count": 26,
   "metadata": {
    "collapsed": false,
    "scrolled": false
   },
   "outputs": [
    {
     "name": "stdout",
     "output_type": "stream",
     "text": [
      "CPU times: user 7.27 ms, sys: 0 ns, total: 7.27 ms\n",
      "Wall time: 7.2 ms\n"
     ]
    }
   ],
   "source": [
    "%%time\n",
    "\n",
    "xgb_param_grid = {'subsample':[ 0.1 * i for i in range(5,10)],\n",
    "                      'colsample_bytree':[ 0.1 * i for i in range(5,10)]}\n",
    "\n",
    "if USE_PRETRAINED: \n",
    "    with open('pretrained/xgb_grid_search_sampling.pkl', 'rb') as f:\n",
    "        grid = pickle.load(f)\n",
    "else:\n",
    "    grid = GridSearchCV(XGBoostRegressor(eta=0.1, gamma=0.2, num_boost_round=50, max_depth=8, min_child_weight=6),\n",
    "                        param_grid=xgb_param_grid, cv=5, scoring=mae_scorer)\n",
    "    grid.fit(train_x, train_y.values)"
   ]
  },
  {
   "cell_type": "code",
   "execution_count": 27,
   "metadata": {
    "collapsed": false
   },
   "outputs": [
    {
     "data": {
      "text/plain": [
       "([mean: -1187.58593, std: 6.75543, params: {'subsample': 0.5, 'colsample_bytree': 0.5},\n",
       "  mean: -1186.74525, std: 6.69236, params: {'subsample': 0.6000000000000001, 'colsample_bytree': 0.5},\n",
       "  mean: -1185.24453, std: 7.39779, params: {'subsample': 0.7000000000000001, 'colsample_bytree': 0.5},\n",
       "  mean: -1184.50228, std: 6.77915, params: {'subsample': 0.8, 'colsample_bytree': 0.5},\n",
       "  mean: -1184.74597, std: 6.14386, params: {'subsample': 0.9, 'colsample_bytree': 0.5},\n",
       "  mean: -1186.91061, std: 7.07211, params: {'subsample': 0.5, 'colsample_bytree': 0.6000000000000001},\n",
       "  mean: -1185.85182, std: 5.91820, params: {'subsample': 0.6000000000000001, 'colsample_bytree': 0.6000000000000001},\n",
       "  mean: -1184.13195, std: 5.73775, params: {'subsample': 0.7000000000000001, 'colsample_bytree': 0.6000000000000001},\n",
       "  mean: -1183.89625, std: 6.68322, params: {'subsample': 0.8, 'colsample_bytree': 0.6000000000000001},\n",
       "  mean: -1183.66720, std: 6.69439, params: {'subsample': 0.9, 'colsample_bytree': 0.6000000000000001},\n",
       "  mean: -1186.01296, std: 6.74586, params: {'subsample': 0.5, 'colsample_bytree': 0.7000000000000001},\n",
       "  mean: -1185.54100, std: 6.60682, params: {'subsample': 0.6000000000000001, 'colsample_bytree': 0.7000000000000001},\n",
       "  mean: -1186.07559, std: 5.76091, params: {'subsample': 0.7000000000000001, 'colsample_bytree': 0.7000000000000001},\n",
       "  mean: -1185.03607, std: 6.10934, params: {'subsample': 0.8, 'colsample_bytree': 0.7000000000000001},\n",
       "  mean: -1183.73122, std: 5.84502, params: {'subsample': 0.9, 'colsample_bytree': 0.7000000000000001},\n",
       "  mean: -1186.55347, std: 6.33316, params: {'subsample': 0.5, 'colsample_bytree': 0.8},\n",
       "  mean: -1185.39428, std: 7.01815, params: {'subsample': 0.6000000000000001, 'colsample_bytree': 0.8},\n",
       "  mean: -1185.73258, std: 6.38339, params: {'subsample': 0.7000000000000001, 'colsample_bytree': 0.8},\n",
       "  mean: -1184.15092, std: 6.67912, params: {'subsample': 0.8, 'colsample_bytree': 0.8},\n",
       "  mean: -1184.29880, std: 5.95248, params: {'subsample': 0.9, 'colsample_bytree': 0.8},\n",
       "  mean: -1185.95719, std: 7.35982, params: {'subsample': 0.5, 'colsample_bytree': 0.9},\n",
       "  mean: -1185.97248, std: 6.39782, params: {'subsample': 0.6000000000000001, 'colsample_bytree': 0.9},\n",
       "  mean: -1184.62568, std: 5.87627, params: {'subsample': 0.7000000000000001, 'colsample_bytree': 0.9},\n",
       "  mean: -1184.64947, std: 6.74837, params: {'subsample': 0.8, 'colsample_bytree': 0.9},\n",
       "  mean: -1184.31277, std: 6.29553, params: {'subsample': 0.9, 'colsample_bytree': 0.9}],\n",
       " {'colsample_bytree': 0.6000000000000001, 'subsample': 0.9},\n",
       " -1183.6672029537717)"
      ]
     },
     "execution_count": 27,
     "metadata": {},
     "output_type": "execute_result"
    }
   ],
   "source": [
    "grid.grid_scores_, grid.best_params_, grid.best_score_"
   ]
  },
  {
   "cell_type": "code",
   "execution_count": 28,
   "metadata": {
    "collapsed": false
   },
   "outputs": [
    {
     "data": {
      "image/png": "[encoded data removed]",
      "text/plain": [
       "<matplotlib.figure.Figure at 0x7f5d71714410>"
      ]
     },
     "metadata": {},
     "output_type": "display_data"
    }
   ],
   "source": [
    "_, _, scores =  convert_grid_scores(grid.grid_scores_)\n",
    "scores = scores.reshape(5,5)\n",
    "\n",
    "plt.figure(figsize=(10,5))\n",
    "cp = plt.contourf(xgb_param_grid['subsample'], xgb_param_grid['colsample_bytree'], scores, cmap='BrBG')\n",
    "plt.colorbar(cp)\n",
    "plt.title('Subsampling params tuning')\n",
    "plt.annotate('Optimum', xy=(0.895, 0.6), xytext=(0.8, 0.695), arrowprops=dict(facecolor='black'))\n",
    "plt.xlabel('subsample')\n",
    "plt.ylabel('colsample_bytree')\n",
    "plt.grid(True)\n",
    "plt.show()"
   ]
  },
  {
   "cell_type": "markdown",
   "metadata": {},
   "source": [
    "In the specific case of current pretrained model, I got the following results:\n",
    "\n",
    "`{'colsample_bytree': 0.6, 'subsample': 0.9},\n",
    " -1183.6672029537717)`\n",
    "\n",
    "This set of hyper-parameters is unstable and I got a number of other combinations: `{'colsample_bytree': 0.7, 'subsample': 0.9}` or `{'colsample_bytree': 0.9, 'subsample': 0.9}`. I suppose this happens due to the low amount of estimators which doesn't allow the model be more solid. Ideally, we should add more estimators and try again)."
   ]
  },
  {
   "cell_type": "markdown",
   "metadata": {},
   "source": [
    "### Step 5: Reducing learning rate and adding more trees"
   ]
  },
  {
   "cell_type": "markdown",
   "metadata": {},
   "source": [
    "The final step in our parameters optimization will be to reduce learning rate and add more estimators at the same time. There is a very good [discussion](https://www.kaggle.com/c/santander-customer-satisfaction/forums/t/20208/is-there-an-easy-way-to-understand-the-learning-rate-in-xgboost/115553) on Kaggle regarding interpretation of learning rate and its relation to the amount of training rounds (which is basically the number of trees we throw at the problem).\n",
    "\n",
    "What `eta` and `num_boost_round` should we choose? A trivial answer would be to pick several desired learning rates possible and do grid search with several possible values of `num_boost_round`. This is very costly in practice. Alternatively, we can test a few `num_boost_round` candidates and understand when and how the shrinkage of `eta` starts to affect the score. Thus, we can generalize a rule of thumb: what `eta` should be set for the current `num_boost_round`.\n",
    "\n",
    "We have two options for `num_boost_round` (as we discussed at the start of this analysis): 50 and 100 trees: `num_boost_round=[50, 100]`. We choose several `eta` for each of them: `eta=[0.2,0.1,0.075,0.05,0.04,0.03,0.02,0.01]`."
   ]
  },
  {
   "cell_type": "markdown",
   "metadata": {},
   "source": [
    "First, we plot different learning rates for a simpler model (50 trees):"
   ]
  },
  {
   "cell_type": "code",
   "execution_count": 29,
   "metadata": {
    "collapsed": false
   },
   "outputs": [
    {
     "name": "stdout",
     "output_type": "stream",
     "text": [
      "CPU times: user 6.69 ms, sys: 0 ns, total: 6.69 ms\n",
      "Wall time: 6.55 ms\n"
     ]
    }
   ],
   "source": [
    "%%time\n",
    "\n",
    "if USE_PRETRAINED:\n",
    "    with open('pretrained/xgb_grid_search_eta_50.pkl', 'rb') as f:\n",
    "        grid = pickle.load(f)\n",
    "else:      \n",
    "    xgb_param_grid = {'eta':[0.5,0.4,0.3,0.2,0.1,0.075,0.05,0.04,0.03]}\n",
    "    grid = GridSearchCV(XGBoostRegressor(num_boost_round=50, gamma=0.2, max_depth=8, min_child_weight=6,\n",
    "                                         colsample_bytree=0.6, subsample=0.9),\n",
    "                        param_grid=xgb_param_grid, cv=5, scoring=mae_scorer)\n",
    "\n",
    "    grid.fit(train_x, train_y.values)"
   ]
  },
  {
   "cell_type": "code",
   "execution_count": 30,
   "metadata": {
    "collapsed": false
   },
   "outputs": [
    {
     "data": {
      "text/plain": [
       "([mean: -1205.85372, std: 3.46146, params: {'eta': 0.5},\n",
       "  mean: -1185.32847, std: 4.87321, params: {'eta': 0.4},\n",
       "  mean: -1170.00284, std: 4.76399, params: {'eta': 0.3},\n",
       "  mean: -1160.97363, std: 6.05830, params: {'eta': 0.2},\n",
       "  mean: -1183.66720, std: 6.69439, params: {'eta': 0.1},\n",
       "  mean: -1266.12628, std: 7.26130, params: {'eta': 0.075},\n",
       "  mean: -1709.15130, std: 8.19994, params: {'eta': 0.05},\n",
       "  mean: -2104.42708, std: 8.02827, params: {'eta': 0.04},\n",
       "  mean: -2545.97334, std: 7.76440, params: {'eta': 0.03}],\n",
       " {'eta': 0.2},\n",
       " -1160.9736284869114)"
      ]
     },
     "execution_count": 30,
     "metadata": {},
     "output_type": "execute_result"
    }
   ],
   "source": [
    "grid.grid_scores_, grid.best_params_, grid.best_score_"
   ]
  },
  {
   "cell_type": "code",
   "execution_count": 31,
   "metadata": {
    "collapsed": false
   },
   "outputs": [
    {
     "data": {
      "image/png": "[encoded data removed]",
      "text/plain": [
       "<matplotlib.figure.Figure at 0x7f5d71520b50>"
      ]
     },
     "metadata": {},
     "output_type": "display_data"
    }
   ],
   "source": [
    "eta, y = convert_grid_scores(grid.grid_scores_)\n",
    "plt.figure(figsize=(10,4))\n",
    "plt.title('MAE and ETA, 50 trees')\n",
    "plt.xlabel('eta')\n",
    "plt.ylabel('score')\n",
    "plt.plot(eta, -y)\n",
    "plt.grid(True)\n",
    "plt.show()"
   ]
  },
  {
   "cell_type": "markdown",
   "metadata": {},
   "source": [
    "Observing the curve, we understand that `eta < 0.1` doesn't allow the model reach a decent score. In this case, the step would be too small for only 50 trees we have at this time.\n",
    "\n",
    "We also see that we missed the correct `eta`: instead of 0.1 it should be near 0.2. We won't finetune it further, though. Instead, let's memorize that for `num_boost_round=50` we found `eta=0.2`. As we see, \n",
    "`{'eta': 0.2}, -1160.9736284869114` improved our score for the same small amount of trees."
   ]
  },
  {
   "cell_type": "markdown",
   "metadata": {},
   "source": [
    "Now, replicate the process for `num_boost_round=100`. We effectively double the amount of trees, let's see how `eta` should be changed."
   ]
  },
  {
   "cell_type": "code",
   "execution_count": 32,
   "metadata": {
    "collapsed": false
   },
   "outputs": [
    {
     "name": "stdout",
     "output_type": "stream",
     "text": [
      "CPU times: user 11.5 ms, sys: 0 ns, total: 11.5 ms\n",
      "Wall time: 11.4 ms\n"
     ]
    }
   ],
   "source": [
    "%%time\n",
    "\n",
    "if USE_PRETRAINED:\n",
    "    with open('pretrained/xgb_grid_search_eta_100.pkl', 'rb') as f:\n",
    "        grid = pickle.load(f)\n",
    "else:\n",
    "    xgb_param_grid = {'eta':[0.5,0.4,0.3,0.2,0.1,0.075,0.05,0.04,0.03]}\n",
    "    grid = GridSearchCV(XGBoostRegressor(num_boost_round=100, gamma=0.2, max_depth=8, min_child_weight=6,\n",
    "                                         colsample_bytree=0.6, subsample=0.9),\n",
    "                        param_grid=xgb_param_grid, cv=5, scoring=mae_scorer)\n",
    "\n",
    "    grid.fit(train_x, train_y.values)"
   ]
  },
  {
   "cell_type": "code",
   "execution_count": 33,
   "metadata": {
    "collapsed": false
   },
   "outputs": [
    {
     "data": {
      "text/plain": [
       "([mean: -1231.04517, std: 5.41136, params: {'eta': 0.5},\n",
       "  mean: -1201.31398, std: 4.75456, params: {'eta': 0.4},\n",
       "  mean: -1177.86344, std: 3.67324, params: {'eta': 0.3},\n",
       "  mean: -1160.48853, std: 5.65336, params: {'eta': 0.2},\n",
       "  mean: -1152.24715, std: 5.85286, params: {'eta': 0.1},\n",
       "  mean: -1156.75829, std: 5.30250, params: {'eta': 0.075},\n",
       "  mean: -1184.88913, std: 6.08852, params: {'eta': 0.05},\n",
       "  mean: -1243.60808, std: 7.40326, params: {'eta': 0.04},\n",
       "  mean: -1467.04736, std: 8.70704, params: {'eta': 0.03}],\n",
       " {'eta': 0.1},\n",
       " -1152.2471498726127)"
      ]
     },
     "execution_count": 33,
     "metadata": {},
     "output_type": "execute_result"
    }
   ],
   "source": [
    "grid.grid_scores_, grid.best_params_, grid.best_score_"
   ]
  },
  {
   "cell_type": "code",
   "execution_count": 34,
   "metadata": {
    "collapsed": false
   },
   "outputs": [
    {
     "data": {
      "image/png": "[encoded data removed]",
      "text/plain": [
       "<matplotlib.figure.Figure at 0x7f5d715c7410>"
      ]
     },
     "metadata": {},
     "output_type": "display_data"
    }
   ],
   "source": [
    "eta, y = convert_grid_scores(grid.grid_scores_)\n",
    "plt.figure(figsize=(10,4))\n",
    "plt.title('MAE and ETA, 100 trees')\n",
    "plt.xlabel('eta')\n",
    "plt.ylabel('score')\n",
    "plt.plot(eta, -y)\n",
    "plt.grid(True)\n",
    "plt.show()"
   ]
  },
  {
   "cell_type": "markdown",
   "metadata": {},
   "source": [
    "We now see that the optimal `eta=0.1` and we conclude that doubling the amount of estimators should come with cutting `eta` in half. Of course, this is just a rule of thumb and the real dependency is not a linear one (and not that trivial), but such a rule can work as an educated guess for future models.\n",
    "\n",
    "Let's train one more XGBoost with just a few `eta` values to confirm this assumption."
   ]
  },
  {
   "cell_type": "code",
   "execution_count": 35,
   "metadata": {
    "collapsed": false
   },
   "outputs": [
    {
     "name": "stdout",
     "output_type": "stream",
     "text": [
      "CPU times: user 21.9 ms, sys: 34 µs, total: 22 ms\n",
      "Wall time: 22 ms\n"
     ]
    }
   ],
   "source": [
    "%%time\n",
    "\n",
    "if USE_PRETRAINED:\n",
    "    with open('pretrained/xgb_grid_search_eta_200.pkl', 'rb') as f:\n",
    "        grid = pickle.load(f)\n",
    "else:\n",
    "    xgb_param_grid = {'eta':[0.09,0.08,0.07,0.06,0.05,0.04]}\n",
    "    grid = GridSearchCV(XGBoostRegressor(num_boost_round=200, gamma=0.2, max_depth=8, min_child_weight=6,\n",
    "                                         colsample_bytree=0.6, subsample=0.9),\n",
    "                        param_grid=xgb_param_grid, cv=5, scoring=mae_scorer)\n",
    "\n",
    "    grid.fit(train_x, train_y.values)"
   ]
  },
  {
   "cell_type": "code",
   "execution_count": 36,
   "metadata": {
    "collapsed": false
   },
   "outputs": [
    {
     "data": {
      "text/plain": [
       "([mean: -1148.37246, std: 6.51203, params: {'eta': 0.09},\n",
       "  mean: -1146.67343, std: 6.13261, params: {'eta': 0.08},\n",
       "  mean: -1145.92359, std: 5.68531, params: {'eta': 0.07},\n",
       "  mean: -1147.44050, std: 6.33336, params: {'eta': 0.06},\n",
       "  mean: -1147.98062, std: 6.39481, params: {'eta': 0.05},\n",
       "  mean: -1153.17886, std: 5.74059, params: {'eta': 0.04}],\n",
       " {'eta': 0.07},\n",
       " -1145.9235944370419)"
      ]
     },
     "execution_count": 36,
     "metadata": {},
     "output_type": "execute_result"
    }
   ],
   "source": [
    "grid.grid_scores_, grid.best_params_, grid.best_score_"
   ]
  },
  {
   "cell_type": "code",
   "execution_count": 37,
   "metadata": {
    "collapsed": false,
    "scrolled": true
   },
   "outputs": [
    {
     "data": {
      "image/png": "[encoded data removed]",
      "text/plain": [
       "<matplotlib.figure.Figure at 0x7f5d7127ca50>"
      ]
     },
     "metadata": {},
     "output_type": "display_data"
    }
   ],
   "source": [
    "eta, y = convert_grid_scores(grid.grid_scores_)\n",
    "plt.figure(figsize=(10,4))\n",
    "plt.title('MAE and ETA, 200 trees')\n",
    "plt.xlabel('eta')\n",
    "plt.ylabel('score')\n",
    "plt.plot(eta, -y)\n",
    "plt.grid(True)\n",
    "plt.show()"
   ]
  },
  {
   "cell_type": "code",
   "execution_count": 38,
   "metadata": {
    "collapsed": false,
    "scrolled": true
   },
   "outputs": [
    {
     "name": "stdout",
     "output_type": "stream",
     "text": [
      "CPU times: user 1.26 ms, sys: 22 µs, total: 1.28 ms\n",
      "Wall time: 1.07 ms\n"
     ]
    }
   ],
   "source": [
    "%%time\n",
    "\n",
    "# Final XGBoost model\n",
    "\n",
    "if USE_PRETRAINED:\n",
    "    with open('pretrained/xgb_cv_eta_200.pkl', 'rb') as f:\n",
    "        cv = pickle.load(f)\n",
    "else:\n",
    "    bst = XGBoostRegressor(num_boost_round=200, eta=0.07, gamma=0.2, max_depth=8, min_child_weight=6,\n",
    "                                         colsample_bytree=0.6, subsample=0.9)\n",
    "    cv = bst.kfold(train_x, train_y, nfold=5)"
   ]
  },
  {
   "cell_type": "code",
   "execution_count": 39,
   "metadata": {
    "collapsed": false
   },
   "outputs": [
    {
     "data": {
      "text/plain": [
       "test-mae-mean     1146.997852\n",
       "test-mae-std         9.541592\n",
       "train-mae-mean    1036.557251\n",
       "train-mae-std        0.974437\n",
       "Name: 199, dtype: float64"
      ]
     },
     "execution_count": 39,
     "metadata": {},
     "output_type": "execute_result"
    }
   ],
   "source": [
    "cv"
   ]
  },
  {
   "cell_type": "markdown",
   "metadata": {
    "collapsed": true
   },
   "source": [
    "We see that the best `eta` for 200 trees is 0.07. As we expected, dependency between `eta` and `num_boost_round` is not linear.\n",
    "\n",
    "It took us quite a while to optimize XGBoost. Let's recall the initial score: **1219.57**. After doing grid search, this model (with fixed `eta` and `num_boost_round`) scored **MAE=1171.77**.\n",
    "\n",
    "We also found out the relationship between `eta` and `num_boost_round` and progressively trained two more models:\n",
    "\n",
    "* 100 trees, `eta=0.1`: **MAE=1152.247**\n",
    "* 200 trees, `eta=0.07`: **MAE=1145.92**\n",
    "\n",
    "We now found our first model we can use in the final ensemble. Here it is:\n",
    "`XGBoostRegressor(num_boost_round=200, gamma=0.2, max_depth=8, min_child_weight=6, colsample_bytree=0.6, subsample=0.9, eta=0.07).\n",
    "`  CV score for the final run of this model: **MAE=1146.998**. As we see, results may fluctuate quite a bit.\n",
    "\n",
    "## Room for Improvement\n",
    "Though we improved our score, there is still a great potential to get even better results. I'll just list some of them:\n",
    "\n",
    "\n",
    "* Fit a more complex XGBoost model by adding even more estimators and reducing `eta` at the same time.\n",
    "\n",
    "\n",
    "* Use `early_stopping_rounds` instead of `num_boost_round` to limit the training. In this case, we set `eta` to the a small number and make `num_boost_round` very large (up to 100K).\n",
    "\n",
    "\n",
    "* Run Grid Search on different values of hyperparameters. Say, we could test `0 < colsample_bytree < 0.5` which often fruits good results. The idea is that there is a number of local optima in the hyperparameters space and we should find several of these optima.\n",
    "\n",
    "\n",
    "* Ensemble several XGBoost models, trained with different hyperparameters. This can be done by bagging (averaging the score of the models), blending and stacking."
   ]
  },
  {
   "cell_type": "code",
   "execution_count": null,
   "metadata": {
    "collapsed": true
   },
   "outputs": [],
   "source": []
  }
 ],
 "metadata": {
  "kernelspec": {
   "display_name": "Python 2",
   "language": "python",
   "name": "python2"
  },
  "language_info": {
   "codemirror_mode": {
    "name": "ipython",
    "version": 2
   },
   "file_extension": ".py",
   "mimetype": "text/x-python",
   "name": "python",
   "nbconvert_exporter": "python",
   "pygments_lexer": "ipython2",
   "version": "2.7.12"
  }
 },
 "nbformat": 4,
 "nbformat_minor": 0
}
