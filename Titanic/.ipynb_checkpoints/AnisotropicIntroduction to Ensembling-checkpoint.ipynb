{
 "cells": [
  {
   "cell_type": "markdown",
   "metadata": {
    "_cell_guid": "bc64948f-5d6a-078d-085d-1beb58687bd3",
    "_uuid": "e919d1161f20999e599ba1fd66a5a45b9c82f229"
   },
   "source": [
    "# Introduction\n",
    "\n",
    "This notebook is a very basic and simple introductory primer to the method of ensembling models, in particular the variant of ensembling known as Stacking. In a nutshell stacking uses as a first-level (base), the predictions of a few basic machine learning models (classifiers) and then uses another model at the second-level to predict the output from the earlier first-level predictions.\n",
    "\n",
    "The Titanic dataset is a prime candidate for introducing this concept as many newcomers to Kaggle start out here. Furthermore even though stacking has been responsible for many a team winning Kaggle competitions there seems to be a dearth of kernels on this topic so I hope this notebook can fill somewhat of that void.\n",
    "\n",
    "I myself am quite a newcomer to the Kaggle scene as well and the first proper ensembling/stacking script that I managed to chance upon and study was one written in the AllState Severity Claims competition by the great Faron. The material in this notebook borrows heavily from Faron's script although ported to factor in ensembles of classifiers whilst his was ensembles of regressors. Anyway please check out his script here:\n",
    "\n",
    "[Stacking Starter][1] : by Faron \n",
    "\n",
    "\n",
    "Now onto the notebook at hand and I hope that it manages to do justice and convey the concept of ensembling in an intuitive and concise manner.  My other standalone Kaggle [script][2] which implements exactly the same ensembling steps (albeit with different parameters) discussed below gives a Public LB score of 0.808 which is good enough to get to the top 9% and runs just under 4 minutes. Therefore I am pretty sure there is a lot of room to improve and add on to that script. Anyways please feel free to leave me any comments with regards to how I can improve\n",
    "\n",
    "\n",
    "  [1]: https://www.kaggle.com/mmueller/allstate-claims-severity/stacking-starter/run/390867\n",
    "  [2]: https://www.kaggle.com/arthurtok/titanic/simple-stacking-with-xgboost-0-808"
   ]
  },
  {
   "cell_type": "code",
   "execution_count": 59,
   "metadata": {
    "_cell_guid": "14630296-b1aa-759e-bafa-b6a73f3896ed",
    "_execution_state": "idle",
    "_uuid": "2e37a274400cfeb472b6405d524325245588dd66"
   },
   "outputs": [
    {
     "data": {
      "text/html": [
       "<script>requirejs.config({paths: { 'plotly': ['https://cdn.plot.ly/plotly-latest.min']},});if(!window.Plotly) {{require(['plotly'],function(plotly) {window.Plotly=plotly;});}}</script>"
      ],
      "text/vnd.plotly.v1+html": [
       "<script>requirejs.config({paths: { 'plotly': ['https://cdn.plot.ly/plotly-latest.min']},});if(!window.Plotly) {{require(['plotly'],function(plotly) {window.Plotly=plotly;});}}</script>"
      ]
     },
     "metadata": {},
     "output_type": "display_data"
    }
   ],
   "source": [
    "# Load in our libraries\n",
    "import pandas as pd\n",
    "import numpy as np\n",
    "import re\n",
    "import sklearn\n",
    "import xgboost as xgb\n",
    "import seaborn as sns\n",
    "import matplotlib.pyplot as plt\n",
    "%matplotlib inline\n",
    "\n",
    "import plotly.offline as py\n",
    "py.init_notebook_mode(connected=True)\n",
    "import plotly.graph_objs as go\n",
    "import plotly.tools as tls\n",
    "\n",
    "import warnings\n",
    "warnings.filterwarnings('ignore')\n",
    "\n",
    "# Going to use these 5 base models for the stacking\n",
    "from sklearn.ensemble import RandomForestClassifier, AdaBoostClassifier, GradientBoostingClassifier, ExtraTreesClassifier\n",
    "from sklearn.svm import SVC\n",
    "from sklearn.cross_validation import KFold;"
   ]
  },
  {
   "cell_type": "markdown",
   "metadata": {
    "_cell_guid": "d647b74c-099b-851a-dcd2-3a58c9e8f10c",
    "_uuid": "8b590aafe06a2ac55daae9d2456155e457914f5f"
   },
   "source": [
    "# Feature Exploration, Engineering and Cleaning \n",
    "\n",
    "Now we will proceed much like how most kernels in general are structured, and that is to first explore the data on hand, identify possible feature engineering opportunities as well as numerically encode any categorical features."
   ]
  },
  {
   "cell_type": "code",
   "execution_count": 60,
   "metadata": {
    "_cell_guid": "5937fd72-d1ad-f678-cc82-f08a96e4cad0",
    "_execution_state": "idle",
    "_uuid": "b2ad78041b69ce13d1f41bd9bc8c93cafaf7b8ac",
    "collapsed": true
   },
   "outputs": [],
   "source": [
    "# Load in the train and test datasets\n",
    "train = pd.read_csv('train.csv')\n",
    "test = pd.read_csv('test.csv')\n",
    "\n",
    "# Store our passenger ID for easy access\n",
    "PassengerId = test['PassengerId']"
   ]
  },
  {
   "cell_type": "code",
   "execution_count": 61,
   "metadata": {
    "_cell_guid": "fa97ecae-bcb4-cf7d-9675-d2d8998eaffa",
    "_execution_state": "idle",
    "_uuid": "5c4db06b1991bc9220b834a23bafd82f085e1fdc"
   },
   "outputs": [
    {
     "data": {
      "text/html": [
       "<div>\n",
       "<style>\n",
       "    .dataframe thead tr:only-child th {\n",
       "        text-align: right;\n",
       "    }\n",
       "\n",
       "    .dataframe thead th {\n",
       "        text-align: left;\n",
       "    }\n",
       "\n",
       "    .dataframe tbody tr th {\n",
       "        vertical-align: top;\n",
       "    }\n",
       "</style>\n",
       "<table border=\"1\" class=\"dataframe\">\n",
       "  <thead>\n",
       "    <tr style=\"text-align: right;\">\n",
       "      <th></th>\n",
       "      <th>PassengerId</th>\n",
       "      <th>Survived</th>\n",
       "      <th>Pclass</th>\n",
       "      <th>Name</th>\n",
       "      <th>Sex</th>\n",
       "      <th>Age</th>\n",
       "      <th>SibSp</th>\n",
       "      <th>Parch</th>\n",
       "      <th>Ticket</th>\n",
       "      <th>Fare</th>\n",
       "      <th>Cabin</th>\n",
       "      <th>Embarked</th>\n",
       "    </tr>\n",
       "  </thead>\n",
       "  <tbody>\n",
       "    <tr>\n",
       "      <th>0</th>\n",
       "      <td>1</td>\n",
       "      <td>0</td>\n",
       "      <td>3</td>\n",
       "      <td>Braund, Mr. Owen Harris</td>\n",
       "      <td>male</td>\n",
       "      <td>22.0</td>\n",
       "      <td>1</td>\n",
       "      <td>0</td>\n",
       "      <td>A/5 21171</td>\n",
       "      <td>7.2500</td>\n",
       "      <td>NaN</td>\n",
       "      <td>S</td>\n",
       "    </tr>\n",
       "    <tr>\n",
       "      <th>1</th>\n",
       "      <td>2</td>\n",
       "      <td>1</td>\n",
       "      <td>1</td>\n",
       "      <td>Cumings, Mrs. John Bradley (Florence Briggs Th...</td>\n",
       "      <td>female</td>\n",
       "      <td>38.0</td>\n",
       "      <td>1</td>\n",
       "      <td>0</td>\n",
       "      <td>PC 17599</td>\n",
       "      <td>71.2833</td>\n",
       "      <td>C85</td>\n",
       "      <td>C</td>\n",
       "    </tr>\n",
       "    <tr>\n",
       "      <th>2</th>\n",
       "      <td>3</td>\n",
       "      <td>1</td>\n",
       "      <td>3</td>\n",
       "      <td>Heikkinen, Miss. Laina</td>\n",
       "      <td>female</td>\n",
       "      <td>26.0</td>\n",
       "      <td>0</td>\n",
       "      <td>0</td>\n",
       "      <td>STON/O2. 3101282</td>\n",
       "      <td>7.9250</td>\n",
       "      <td>NaN</td>\n",
       "      <td>S</td>\n",
       "    </tr>\n",
       "  </tbody>\n",
       "</table>\n",
       "</div>"
      ],
      "text/plain": [
       "   PassengerId  Survived  Pclass  \\\n",
       "0            1         0       3   \n",
       "1            2         1       1   \n",
       "2            3         1       3   \n",
       "\n",
       "                                                Name     Sex   Age  SibSp  \\\n",
       "0                            Braund, Mr. Owen Harris    male  22.0      1   \n",
       "1  Cumings, Mrs. John Bradley (Florence Briggs Th...  female  38.0      1   \n",
       "2                             Heikkinen, Miss. Laina  female  26.0      0   \n",
       "\n",
       "   Parch            Ticket     Fare Cabin Embarked  \n",
       "0      0         A/5 21171   7.2500   NaN        S  \n",
       "1      0          PC 17599  71.2833   C85        C  \n",
       "2      0  STON/O2. 3101282   7.9250   NaN        S  "
      ]
     },
     "execution_count": 61,
     "metadata": {},
     "output_type": "execute_result"
    }
   ],
   "source": [
    "train.head(3)"
   ]
  },
  {
   "cell_type": "markdown",
   "metadata": {
    "_cell_guid": "dff1c1dd-1e59-3907-88fa-1a1d699122be",
    "_uuid": "81378834770e55c76751347588322fe32acf5737"
   },
   "source": [
    "Well it is no surprise that our task is to somehow extract the information out of the categorical variables \n",
    "\n",
    "**Feature Engineering**\n",
    "\n",
    "Here, credit must be extended to Sina's very comprehensive and well-thought out notebook for the feature engineering ideas so please check out his work \n",
    "\n",
    "[Titanic Best Working Classfier][1] : by Sina\n",
    "\n",
    "\n",
    "  [1]: https://www.kaggle.com/sinakhorami/titanic/titanic-best-working-classifier"
   ]
  },
  {
   "cell_type": "code",
   "execution_count": 62,
   "metadata": {
    "_cell_guid": "e85b2a80-88a4-928f-f2b2-24895dea38f3",
    "_execution_state": "idle",
    "_uuid": "b1c67249f91768ce8e5e2751364d32c87446cf55"
   },
   "outputs": [
    {
     "data": {
      "text/plain": [
       "float"
      ]
     },
     "execution_count": 62,
     "metadata": {},
     "output_type": "execute_result"
    }
   ],
   "source": [
    "full_data = [train, test]\n",
    "\n",
    "# Some features of my own that I have added in\n",
    "# Gives the length of the name\n",
    "train['Name_length'] = train['Name'].apply(len)\n",
    "test['Name_length'] = test['Name'].apply(len)\n",
    "# Feature that tells whether a passenger had a cabin on the Titanic\n",
    "train['Has_Cabin'] = train[\"Cabin\"].apply(lambda x: 0 if type(x) == float else 1)\n",
    "test['Has_Cabin'] = test[\"Cabin\"].apply(lambda x: 0 if type(x) == float else 1)\n",
    "type(np.nan)"
   ]
  },
  {
   "cell_type": "code",
   "execution_count": 63,
   "metadata": {
    "collapsed": true
   },
   "outputs": [],
   "source": [
    "# Feature engineering steps taken from Sina\n",
    "# Create new feature FamilySize as a combination of SibSp and Parch\n",
    "for dataset in full_data:\n",
    "    dataset['FamilySize'] = dataset['SibSp'] + dataset['Parch'] + 1\n",
    "# Create new feature IsAlone from FamilySize\n",
    "for dataset in full_data:\n",
    "    dataset['IsAlone'] = 0\n",
    "    dataset.loc[dataset['FamilySize'] == 1, 'IsAlone'] = 1\n",
    "# Remove all NULLS in the Embarked column\n",
    "for dataset in full_data:\n",
    "    dataset['Embarked'] = dataset['Embarked'].fillna('S')\n",
    "# Remove all NULLS in the Fare column and create a new feature CategoricalFare\n",
    "for dataset in full_data:\n",
    "    dataset['Fare'] = dataset['Fare'].fillna(train['Fare'].median())\n",
    "train['CategoricalFare'] = pd.qcut(train['Fare'], 4)\n",
    "# Create a New feature CategoricalAge\n",
    "for dataset in full_data:\n",
    "    age_avg = dataset['Age'].mean()\n",
    "    age_std = dataset['Age'].std()\n",
    "    age_null_count = dataset['Age'].isnull().sum()\n",
    "    age_null_random_list = np.random.randint(age_avg - age_std, age_avg + age_std, size=age_null_count)\n",
    "    dataset['Age'][np.isnan(dataset['Age'])] = age_null_random_list\n",
    "    dataset['Age'] = dataset['Age'].astype(int)\n",
    "train['CategoricalAge'] = pd.cut(train['Age'], 5)\n",
    "# Define function to extract titles from passenger names"
   ]
  },
  {
   "cell_type": "code",
   "execution_count": 64,
   "metadata": {},
   "outputs": [],
   "source": [
    "def get_title(name):\n",
    "    title_search = re.search(' ([A-Za-z]+)\\.', name)\n",
    "    #title_search.group() == title_search.group(0)\n",
    "    # If the title exists, extract and return it.\n",
    "    if title_search:\n",
    "        return title_search.group(1)\n",
    "    return \"\"\n",
    "# Create a new feature Title, containing the titles of passenger names\n",
    "for dataset in full_data:\n",
    "    dataset['Title'] = dataset['Name'].apply(get_title)\n",
    "# Group all non-common titles into one single grouping \"Rare\"\n",
    "for dataset in full_data:\n",
    "    dataset['Title'] = dataset['Title'].replace(['Lady', 'Countess','Capt', 'Col','Don', 'Dr', 'Major', 'Rev', 'Sir', 'Jonkheer', 'Dona'], 'Rare')\n",
    "\n",
    "    dataset['Title'] = dataset['Title'].replace('Mlle', 'Miss')\n",
    "    dataset['Title'] = dataset['Title'].replace('Ms', 'Miss')\n",
    "    dataset['Title'] = dataset['Title'].replace('Mme', 'Mrs')\n",
    "\n"
   ]
  },
  {
   "cell_type": "code",
   "execution_count": 65,
   "metadata": {
    "collapsed": true
   },
   "outputs": [],
   "source": [
    "for dataset in full_data:\n",
    "    # Mapping Sex\n",
    "    dataset['Sex'] = dataset['Sex'].map( {'female': 0, 'male': 1} ).astype(int)\n",
    "    \n",
    "    # Mapping titles\n",
    "    title_mapping = {\"Mr\": 1, \"Miss\": 2, \"Mrs\": 3, \"Master\": 4, \"Rare\": 5}\n",
    "    dataset['Title'] = dataset['Title'].map(title_mapping)\n",
    "    dataset['Title'] = dataset['Title'].fillna(0)\n",
    "    \n",
    "    # Mapping Embarked\n",
    "    dataset['Embarked'] = dataset['Embarked'].map( {'S': 0, 'C': 1, 'Q': 2} ).astype(int)\n",
    "    \n",
    "    # Mapping Fare\n",
    "    dataset.loc[ dataset['Fare'] <= 7.91, 'Fare'] \t\t\t\t\t\t        = 0\n",
    "    dataset.loc[(dataset['Fare'] > 7.91) & (dataset['Fare'] <= 14.454), 'Fare'] = 1\n",
    "    dataset.loc[(dataset['Fare'] > 14.454) & (dataset['Fare'] <= 31), 'Fare']   = 2\n",
    "    dataset.loc[ dataset['Fare'] > 31, 'Fare'] \t\t\t\t\t\t\t        = 3\n",
    "    dataset['Fare'] = dataset['Fare'].astype(int)\n",
    "    \n",
    "    # Mapping Age\n",
    "    dataset.loc[ dataset['Age'] <= 16, 'Age'] \t\t\t\t\t       = 0\n",
    "    dataset.loc[(dataset['Age'] > 16) & (dataset['Age'] <= 32), 'Age'] = 1\n",
    "    dataset.loc[(dataset['Age'] > 32) & (dataset['Age'] <= 48), 'Age'] = 2\n",
    "    dataset.loc[(dataset['Age'] > 48) & (dataset['Age'] <= 64), 'Age'] = 3\n",
    "    dataset.loc[ dataset['Age'] > 64, 'Age'] ;"
   ]
  },
  {
   "cell_type": "code",
   "execution_count": 66,
   "metadata": {
    "_cell_guid": "8fc645ba-4b38-cea7-17b3-02175cb103d9",
    "_execution_state": "idle",
    "_uuid": "ca2d48b03d45f914db2ee9ae3ee95aad8fb20431",
    "collapsed": true
   },
   "outputs": [],
   "source": [
    "# Feature selection\n",
    "drop_elements = ['PassengerId', 'Name', 'Ticket', 'Cabin', 'SibSp']\n",
    "train = train.drop(drop_elements, axis = 1)\n",
    "train = train.drop(['CategoricalAge', 'CategoricalFare'], axis = 1)\n",
    "test  = test.drop(drop_elements, axis = 1)"
   ]
  },
  {
   "cell_type": "markdown",
   "metadata": {
    "_cell_guid": "e9814168-b7cd-d4e4-1b1d-e21c6637a663",
    "_uuid": "dd288776321804d99e4e4a7e88594c1d631e4409"
   },
   "source": [
    "All right so now having cleaned the features and extracted relevant information and dropped the categorical columns our features should now all be numeric, a format suitable to feed into our Machine Learning models. However before we proceed let us generate some simple correlation and distribution plots of our transformed dataset to observe ho\n",
    "\n",
    "## Visualisations "
   ]
  },
  {
   "cell_type": "code",
   "execution_count": 67,
   "metadata": {
    "_cell_guid": "fc426b8f-873d-6f23-4299-99f174956cca",
    "_execution_state": "idle",
    "_uuid": "1f280a1c11dc35a93b57af494938998e6d0b4544"
   },
   "outputs": [
    {
     "data": {
      "text/html": [
       "<div>\n",
       "<style>\n",
       "    .dataframe thead tr:only-child th {\n",
       "        text-align: right;\n",
       "    }\n",
       "\n",
       "    .dataframe thead th {\n",
       "        text-align: left;\n",
       "    }\n",
       "\n",
       "    .dataframe tbody tr th {\n",
       "        vertical-align: top;\n",
       "    }\n",
       "</style>\n",
       "<table border=\"1\" class=\"dataframe\">\n",
       "  <thead>\n",
       "    <tr style=\"text-align: right;\">\n",
       "      <th></th>\n",
       "      <th>Survived</th>\n",
       "      <th>Pclass</th>\n",
       "      <th>Sex</th>\n",
       "      <th>Age</th>\n",
       "      <th>Parch</th>\n",
       "      <th>Fare</th>\n",
       "      <th>Embarked</th>\n",
       "      <th>Name_length</th>\n",
       "      <th>Has_Cabin</th>\n",
       "      <th>FamilySize</th>\n",
       "      <th>IsAlone</th>\n",
       "      <th>Title</th>\n",
       "    </tr>\n",
       "  </thead>\n",
       "  <tbody>\n",
       "    <tr>\n",
       "      <th>0</th>\n",
       "      <td>0</td>\n",
       "      <td>3</td>\n",
       "      <td>1</td>\n",
       "      <td>1</td>\n",
       "      <td>0</td>\n",
       "      <td>0</td>\n",
       "      <td>0</td>\n",
       "      <td>23</td>\n",
       "      <td>0</td>\n",
       "      <td>2</td>\n",
       "      <td>0</td>\n",
       "      <td>1</td>\n",
       "    </tr>\n",
       "    <tr>\n",
       "      <th>1</th>\n",
       "      <td>1</td>\n",
       "      <td>1</td>\n",
       "      <td>0</td>\n",
       "      <td>2</td>\n",
       "      <td>0</td>\n",
       "      <td>3</td>\n",
       "      <td>1</td>\n",
       "      <td>51</td>\n",
       "      <td>1</td>\n",
       "      <td>2</td>\n",
       "      <td>0</td>\n",
       "      <td>3</td>\n",
       "    </tr>\n",
       "    <tr>\n",
       "      <th>2</th>\n",
       "      <td>1</td>\n",
       "      <td>3</td>\n",
       "      <td>0</td>\n",
       "      <td>1</td>\n",
       "      <td>0</td>\n",
       "      <td>1</td>\n",
       "      <td>0</td>\n",
       "      <td>22</td>\n",
       "      <td>0</td>\n",
       "      <td>1</td>\n",
       "      <td>1</td>\n",
       "      <td>2</td>\n",
       "    </tr>\n",
       "  </tbody>\n",
       "</table>\n",
       "</div>"
      ],
      "text/plain": [
       "   Survived  Pclass  Sex  Age  Parch  Fare  Embarked  Name_length  Has_Cabin  \\\n",
       "0         0       3    1    1      0     0         0           23          0   \n",
       "1         1       1    0    2      0     3         1           51          1   \n",
       "2         1       3    0    1      0     1         0           22          0   \n",
       "\n",
       "   FamilySize  IsAlone  Title  \n",
       "0           2        0      1  \n",
       "1           2        0      3  \n",
       "2           1        1      2  "
      ]
     },
     "execution_count": 67,
     "metadata": {},
     "output_type": "execute_result"
    }
   ],
   "source": [
    "train.head(3)"
   ]
  },
  {
   "cell_type": "markdown",
   "metadata": {
    "_cell_guid": "41102927-8218-415a-0b73-5129c8f5dd0c",
    "_uuid": "3544b03040a1d691f6c48433c84d1e57f3c15e3d"
   },
   "source": [
    "**Pearson Correlation Heatmap**\n",
    "\n",
    "let us generate some correlation plots of the features to see how related one feature is to the next. To do so, we will utilise the Seaborn plotting package which allows us to plot heatmaps very conveniently as follows"
   ]
  },
  {
   "cell_type": "code",
   "execution_count": 68,
   "metadata": {
    "_cell_guid": "a17ea4cf-0529-3eb9-9de2-01993df8c359",
    "_execution_state": "idle",
    "_uuid": "d8b8a6eedb3c2e9a1534b7251c404ab67a5fd0e1"
   },
   "outputs": [
    {
     "data": {
      "text/plain": [
       "<matplotlib.axes._subplots.AxesSubplot at 0x7fa874881190>"
      ]
     },
     "execution_count": 68,
     "metadata": {},
     "output_type": "execute_result"
    },
    {
     "data": {
      "image/png": "[encoded data removed]",
      "text/plain": [
       "<matplotlib.figure.Figure at 0x7fa874a14950>"
      ]
     },
     "metadata": {},
     "output_type": "display_data"
    }
   ],
   "source": [
    "#colormap = plt.cm.viridis\n",
    "cmap = sns.diverging_palette( 220 , 10 , as_cmap = True )\n",
    "_ , ax = plt.subplots( figsize =( 12 , 10 ) )\n",
    "plt.title('Pearson Correlation of Features', y=1.05, size=15)\n",
    "#sns.heatmap(train.astype(float).corr(),linewidths=0.1,vmax=1.0, square=True, cmap=cmap, linecolor='white', annot=True)\n",
    "sns.heatmap(train.corr(),linewidths=0.1,vmax=1.0, square=True, linecolor='white',cmap=cmap, annot=True,ax=ax)"
   ]
  },
  {
   "cell_type": "markdown",
   "metadata": {
    "_cell_guid": "ccc92745-0680-df4d-d709-10003475d8e3",
    "_uuid": "b6c7a1ea3866d177016a1e13c5d9e7341c49c147"
   },
   "source": [
    "**Takeaway from the Plots**\n",
    "\n",
    "One thing that that the Pearson Correlation plot can tell us is that there are not too many features strongly correlated with one another. This is good from a point of view of feeding these features into your learning model because this means that there isn't much redundant or superfluous data in our training set and we are happy that each feature carries with it some unique information. Here are two most correlated features are that of Family size and Parch (Parents and Children). I'll still leave both features in for the purposes of this exercise.\n",
    "\n",
    "**Pairplots**\n",
    "\n",
    "Finally let us generate some pairplots to observe the distribution of data from one feature to the other. Once again we use Seaborn to help us."
   ]
  },
  {
   "cell_type": "code",
   "execution_count": 69,
   "metadata": {
    "_cell_guid": "ea6b0a8f-5a33-666f-8057-c0d689f370f5",
    "_execution_state": "idle",
    "_uuid": "624446543aafd518025fd3f5346d32ee1aab6f9a"
   },
   "outputs": [
    {
     "data": {
      "text/plain": [
       "<seaborn.axisgrid.PairGrid at 0x7fa874a471d0>"
      ]
     },
     "execution_count": 69,
     "metadata": {},
     "output_type": "execute_result"
    },
    {
     "data": {
      "image/png": "[encoded data removed]",
      "text/plain": [
       "<matplotlib.figure.Figure at 0x7fa874a47b50>"
      ]
     },
     "metadata": {},
     "output_type": "display_data"
    }
   ],
   "source": [
    "g = sns.pairplot(train[[u'Survived', u'Pclass', u'Sex', u'Age', u'Parch', u'Fare', u'Embarked',\n",
    "       u'FamilySize', u'Title']], hue='Survived', palette = 'seismic',size=1.2,diag_kind = 'kde',diag_kws=dict(shade=True),plot_kws=dict(s=10) )\n",
    "g.set(xticklabels=[])"
   ]
  },
  {
   "cell_type": "markdown",
   "metadata": {
    "_cell_guid": "32ac3ce1-42bc-9a7d-44f3-4b7c025a921c",
    "_uuid": "b74f445f5d9fb9622c4609c00679254abb3c91b1"
   },
   "source": [
    "# Ensembling & Stacking models\n",
    "\n",
    "Finally after that brief whirlwind detour with regards to feature engineering and formatting, we finally arrive at the meat and gist of the this notebook.\n",
    "\n",
    "Creating a Stacking ensemble "
   ]
  },
  {
   "cell_type": "markdown",
   "metadata": {
    "_cell_guid": "3e922821-5a10-040b-305a-c2d47d633c49",
    "_uuid": "4e5fda8c6c92fc3cdf8e906089494f80e7c37245"
   },
   "source": [
    "### Helpers via Python Classes\n",
    "\n",
    "Here we invoke the use of Python's classes to help make it more convenient for us. For any newcomers to programming, one normally hears Classes being used in conjunction with Object-Oriented Programming (OOP). In short, a class helps to extend some code/program for creating objects (variables for old-school peeps) as well as to implement functions and methods specific to that class.\n",
    "\n",
    "In the section of code below, we essentially write a class *SklearnHelper* that allows one to extend the inbuilt methods (such as train, predict and fit) common to all the Sklearn classifiers. Therefore this cuts out redundancy as  won't need to write the same methods five times if we wanted to invoke five different classifiers."
   ]
  },
  {
   "cell_type": "code",
   "execution_count": 70,
   "metadata": {
    "_cell_guid": "c017c078-172d-16e9-65f2-4a01c6e0626f",
    "_uuid": "04d921ea89a0560cf010e956e4065bb2eaf21619"
   },
   "outputs": [],
   "source": [
    "# Some useful parameters which will come in handy later on\n",
    "ntrain = train.shape[0]\n",
    "ntest = test.shape[0]\n",
    "SEED = 0 # for reproducibility\n",
    "NFOLDS = 5 # set folds for out-of-fold prediction\n",
    "kf = KFold(ntrain, n_folds= NFOLDS, random_state=SEED)\n",
    "# Class to extend the Sklearn classifier\n",
    "class SklearnHelper(object):\n",
    "    def __init__(self, clf, seed=0, params=None):\n",
    "        params['random_state'] = seed\n",
    "        self.clf = clf(**params)\n",
    "\n",
    "    def train(self, x_train, y_train):\n",
    "        self.clf.fit(x_train, y_train)\n",
    "\n",
    "    def predict(self, x):\n",
    "        return self.clf.predict(x)\n",
    "    \n",
    "    def fit(self,x,y):\n",
    "        return self.clf.fit(x,y)\n",
    "    \n",
    "    def feature_importances(self,x,y):\n",
    "        print(self.clf.fit(x,y).feature_importances_)\n",
    "    \n",
    "# Class to extend XGboost classifer"
   ]
  },
  {
   "cell_type": "markdown",
   "metadata": {
    "_cell_guid": "75f59fa7-65a4-e53e-95df-4c747a608408",
    "_uuid": "634199a5b36cba6b4d85db2c0401426a58b95279"
   },
   "source": [
    "Bear with me for those who already know this but for people who have not created classes or objects in Python before, let me explain what the code given above does. In creating my base classifiers, I will only use the models already present in the Sklearn library and therefore only extend the class for that.\n",
    "\n",
    "**def init** : Python standard for invoking the default constructor for the class. This means that when you want to create an object (classifier), you have to give it the parameters of clf (what sklearn classifier you want), seed (random seed) and params (parameters for the classifiers).\n",
    "\n",
    "The rest of the code are simply methods of the class which simply call the corresponding methods already existing within the sklearn classifiers. "
   ]
  },
  {
   "cell_type": "markdown",
   "metadata": {
    "_cell_guid": "6f67620d-b531-a2fa-c297-e951970c3c28",
    "_uuid": "4d193c581df258e823aff2796bf015cf906aac99"
   },
   "source": [
    "### Out-of-Fold Predictions\n",
    "\n",
    "Now as alluded to above in the introductory section, stacking uses predictions of base classifiers as input for training to a second-level model. However one cannot simply train the base models on the full training data, generate predictions on the full test set and then output these for the second-level training. This runs the risk of your base model predictions already having \"seen\" the test set and therefore overfitting when feeding these predictions."
   ]
  },
  {
   "cell_type": "code",
   "execution_count": 71,
   "metadata": {
    "_cell_guid": "406d0494-1d0c-3126-19d9-bc53127c4249",
    "_uuid": "46a93dc062e973832cecd50246d0d7581aafb02b",
    "collapsed": true
   },
   "outputs": [],
   "source": [
    "def get_oof(clf, x_train, y_train, x_test):\n",
    "    oof_train = np.zeros((ntrain,))\n",
    "    #ntest = test.shape[0]\n",
    "    oof_test = np.zeros((ntest,))\n",
    "    oof_test_skf = np.empty((NFOLDS, ntest))\n",
    "\n",
    "    for i, (train_index, test_index) in enumerate(kf):\n",
    "        x_tr = x_train[train_index]\n",
    "        y_tr = y_train[train_index]\n",
    "        x_te = x_train[test_index]\n",
    "\n",
    "        clf.train(x_tr, y_tr)\n",
    "\n",
    "        oof_train[test_index] = clf.predict(x_te)\n",
    "        oof_test_skf[i, :] = clf.predict(x_test)\n",
    "\n",
    "    oof_test[:] = oof_test_skf.mean(axis=0)\n",
    "    return oof_train.reshape(-1, 1), oof_test.reshape(-1, 1)"
   ]
  },
  {
   "cell_type": "markdown",
   "metadata": {
    "_cell_guid": "3cd92196-f7ba-4f14-0fc4-36520fbcb2ca",
    "_uuid": "7b1a7767ae61b6b217a3311e89190b05ab0a4891"
   },
   "source": [
    "# Generating our Base First-Level Models \n",
    "\n",
    "So now let us prepare five learning models as our first level classification. These models can all be conveniently invoked via the Sklearn library and are listed as follows:\n",
    "\n",
    " 1. Random Forest classifier\n",
    " 2. Extra Trees classifier\n",
    " 3. AdaBoost classifer\n",
    " 4. Gradient Boosting classifer\n",
    " 5. Support Vector Machine"
   ]
  },
  {
   "cell_type": "markdown",
   "metadata": {
    "_cell_guid": "0ef6862a-b5cc-6829-f040-d2b2b2c817f3",
    "_uuid": "12e3a5f76fb118ff6906431fc60e7010e33106ad"
   },
   "source": [
    "**Parameters**\n",
    "\n",
    "Just a quick summary of the parameters that we will be listing here for completeness,\n",
    "\n",
    "**n_jobs** : Number of cores used for the training process. If set to -1, all cores are used.\n",
    "\n",
    "**n_estimators** : Number of classification trees in your learning model ( set to 10 per default)\n",
    "\n",
    "**max_depth** : Maximum depth of tree, or how much a node should be expanded. Beware if set to too high  a number would run the risk of overfitting as one would be growing the tree too deep\n",
    "\n",
    "**verbose** : Controls whether you want to output any text during the learning process. A value of 0 suppresses all text while a value of 3 outputs the tree learning process at every iteration.\n",
    "\n",
    " Please check out the full description via the official Sklearn website. There you will find that there are a whole host of other useful parameters that you can play around with. "
   ]
  },
  {
   "cell_type": "code",
   "execution_count": 72,
   "metadata": {
    "_cell_guid": "6e634aba-90b6-0620-eceb-3e1a39fbfedc",
    "_uuid": "d77772886c0125e022d1fbb39cd484c95121d74d",
    "collapsed": true
   },
   "outputs": [],
   "source": [
    "# Put in our parameters for said classifiers\n",
    "# Random Forest parameters\n",
    "rf_params = {\n",
    "    'n_jobs': -1,\n",
    "    'n_estimators': 500,\n",
    "     'warm_start': True, \n",
    "     #'max_features': 0.2,\n",
    "    'max_depth': 6,\n",
    "    'min_samples_leaf': 2,\n",
    "    'max_features' : 'sqrt',\n",
    "    'verbose': 0\n",
    "}\n",
    "\n",
    "# Extra Trees Parameters\n",
    "et_params = {\n",
    "    'n_jobs': -1,\n",
    "    'n_estimators':500,\n",
    "    #'max_features': 0.5,\n",
    "    'max_depth': 8,\n",
    "    'min_samples_leaf': 2,\n",
    "    'verbose': 0\n",
    "}\n",
    "\n",
    "# AdaBoost parameters\n",
    "ada_params = {\n",
    "    'n_estimators': 500,\n",
    "    'learning_rate' : 0.75\n",
    "}\n",
    "\n",
    "# Gradient Boosting parameters\n",
    "gb_params = {\n",
    "    'n_estimators': 500,\n",
    "     #'max_features': 0.2,\n",
    "    'max_depth': 5,\n",
    "    'min_samples_leaf': 2,\n",
    "    'verbose': 0\n",
    "}\n",
    "\n",
    "# Support Vector Classifier parameters \n",
    "svc_params = {\n",
    "    'kernel' : 'linear',\n",
    "    'C' : 0.025\n",
    "    }"
   ]
  },
  {
   "cell_type": "markdown",
   "metadata": {
    "_cell_guid": "ee6325d7-a7c1-c767-fcba-4c59eaa83787",
    "_uuid": "4a49a6c0cbe7028035b6efb7f9374084f3fa152a"
   },
   "source": [
    "Furthermore, since having mentioned about Objects and classes within the OOP framework, let us now create 5 objects that represent our 5 learning models via our Helper Sklearn Class we defined earlier."
   ]
  },
  {
   "cell_type": "code",
   "execution_count": 73,
   "metadata": {
    "_cell_guid": "6798243f-5ff9-527b-01b1-09cfe62284bb",
    "_uuid": "3bd54b4dfbbedc86d6c415cf83936bb8cd6c0973",
    "collapsed": true
   },
   "outputs": [],
   "source": [
    "# Create 5 objects that represent our 4 models\n",
    "rf = SklearnHelper(clf=RandomForestClassifier, seed=SEED, params=rf_params)\n",
    "et = SklearnHelper(clf=ExtraTreesClassifier, seed=SEED, params=et_params)\n",
    "ada = SklearnHelper(clf=AdaBoostClassifier, seed=SEED, params=ada_params)\n",
    "gb = SklearnHelper(clf=GradientBoostingClassifier, seed=SEED, params=gb_params)\n",
    "svc = SklearnHelper(clf=SVC, seed=SEED, params=svc_params)"
   ]
  },
  {
   "cell_type": "markdown",
   "metadata": {
    "_cell_guid": "46e1e6fc-92e2-e7e2-1ab9-470e6c7039ce",
    "_uuid": "cd3f527543e61b3841f242b744c3c5d9af608941"
   },
   "source": [
    "**Creating NumPy arrays out of our train and test sets**\n",
    "\n",
    "Great. Having prepared our first layer base models as such, we can now ready the training and test test data for input into our classifiers by generating NumPy arrays out of their original dataframes as follows:"
   ]
  },
  {
   "cell_type": "code",
   "execution_count": 74,
   "metadata": {
    "_cell_guid": "968cbd7f-80b2-7f8d-2ad6-b68b3aeae671",
    "_uuid": "95fdd1e8cd9f23cfcef3bed92511da084a323c55"
   },
   "outputs": [
    {
     "name": "stdout",
     "output_type": "stream",
     "text": [
      "(891, 11)\n",
      "(891,)\n",
      "(418, 11)\n"
     ]
    }
   ],
   "source": [
    "# Create Numpy arrays of train, test and target ( Survived) dataframes to feed into our models\n",
    "y_train = train['Survived'].ravel()\n",
    "train = train.drop(['Survived'], axis=1)\n",
    "x_train = train.values # Creates an array of the train data\n",
    "x_test = test.values # Creats an array of the test data\n",
    "print x_train.shape\n",
    "print y_train.shape\n",
    "print x_test.shape"
   ]
  },
  {
   "cell_type": "markdown",
   "metadata": {
    "_cell_guid": "606b619c-2301-8aaa-a5de-781d981c4a6f",
    "_uuid": "d30ac9528b69cdaec565b647fee98a92391112c9"
   },
   "source": [
    "**Output of the First level Predictions** \n",
    "\n",
    "We now feed the training and test data into our 5 base classifiers and use the Out-of-Fold prediction function we defined earlier to generate our first level predictions. Allow a handful of minutes for the chunk of code below to run."
   ]
  },
  {
   "cell_type": "code",
   "execution_count": 36,
   "metadata": {
    "_cell_guid": "79bd2a86-82e2-648a-e816-9660e89794ad",
    "_uuid": "114750e2d5e4fdd234ccd8647fc349463a56fa09"
   },
   "outputs": [
    {
     "name": "stdout",
     "output_type": "stream",
     "text": [
      "Training is complete\n"
     ]
    }
   ],
   "source": [
    "# Create our OOF train and test predictions. These base results will be used as new features\n",
    "et_oof_train, et_oof_test = get_oof(et, x_train, y_train, x_test) # Extra Trees\n",
    "rf_oof_train, rf_oof_test = get_oof(rf,x_train, y_train, x_test) # Random Forest\n",
    "ada_oof_train, ada_oof_test = get_oof(ada, x_train, y_train, x_test) # AdaBoost \n",
    "gb_oof_train, gb_oof_test = get_oof(gb,x_train, y_train, x_test) # Gradient Boost\n",
    "svc_oof_train, svc_oof_test = get_oof(svc,x_train, y_train, x_test) # Support Vector Classifier\n",
    "\n",
    "print(\"Training is complete\")"
   ]
  },
  {
   "cell_type": "markdown",
   "metadata": {
    "_cell_guid": "3f292e65-fe8a-d662-6ace-41a19866d671",
    "_uuid": "4cf41b3d9a541c9d39b645a66c8f1116eaf76861"
   },
   "source": [
    "**Feature importances generated from the different classifiers**\n",
    "\n",
    "Now having learned our the first-level classifiers, we can utilise a very nifty feature of the Sklearn models and that is to output the importances of the various features in the training and test sets with one very simple line of code.\n",
    "\n",
    "As per the Sklearn documentation, most of the classifiers are built in with an attribute which returns feature importances by simply typing in **.feature_importances_**. Therefore we will invoke this very useful attribute via our function earliand plot the feature importances as such"
   ]
  },
  {
   "cell_type": "code",
   "execution_count": 37,
   "metadata": {
    "_cell_guid": "ed9cf8b5-95a4-d974-fb11-592214949d1f",
    "_uuid": "b3b0356c8bef0dceb5fcfa7fb7a11359010b2098"
   },
   "outputs": [
    {
     "name": "stdout",
     "output_type": "stream",
     "text": [
      "[ 0.12445554  0.20083112  0.03260738  0.02098833  0.07138707  0.02359255\n",
      "  0.1058293   0.06519523  0.06838161  0.01358858  0.2731433 ]\n",
      "[ 0.11914066  0.38008059  0.02154178  0.01768982  0.05588     0.02819713\n",
      "  0.04674327  0.0849213   0.04436592  0.02129705  0.18014249]\n",
      "[ 0.028  0.012  0.024  0.064  0.038  0.01   0.684  0.014  0.052  0.004\n",
      "  0.07 ]\n",
      "[ 0.07337192  0.04195315  0.09877564  0.02705383  0.07912829  0.0693742\n",
      "  0.41297561  0.02236114  0.06908596  0.02062222  0.08529805]\n"
     ]
    }
   ],
   "source": [
    "rf_feature = rf.feature_importances(x_train,y_train)\n",
    "et_feature = et.feature_importances(x_train, y_train)\n",
    "ada_feature = ada.feature_importances(x_train, y_train)\n",
    "gb_feature = gb.feature_importances(x_train,y_train)"
   ]
  },
  {
   "cell_type": "markdown",
   "metadata": {
    "_cell_guid": "f1be8fbb-34c0-3f92-c7d2-757fceced507",
    "_uuid": "b0c66aa58b45b917157f47c811e7d222513ddb0d"
   },
   "source": [
    "So I have not yet figured out how to assign and store the feature importances outright. Therefore I'll print out the values from the code above and then simply copy and paste into Python lists as below (sorry for the lousy hack)"
   ]
  },
  {
   "cell_type": "code",
   "execution_count": 39,
   "metadata": {
    "_cell_guid": "bde9b5fd-3100-8f21-053e-45015b99cf65",
    "_uuid": "527425374ec8cd66edc015842f352a95041821c6",
    "collapsed": true
   },
   "outputs": [],
   "source": [
    "rf_features = [0.10474135,  0.21837029,  0.04432652,  0.02249159,  0.05432591,  0.02854371\n",
    "  ,0.07570305,  0.01088129 , 0.24247496,  0.13685733 , 0.06128402]\n",
    "et_features = [ 0.12165657,  0.37098307  ,0.03129623 , 0.01591611 , 0.05525811 , 0.028157\n",
    "  ,0.04589793 , 0.02030357 , 0.17289562 , 0.04853517,  0.08910063]\n",
    "ada_features = [0.028 ,   0.008  ,      0.012   ,     0.05866667,   0.032 ,       0.008\n",
    "  ,0.04666667 ,  0.     ,      0.05733333,   0.73866667,   0.01066667]\n",
    "gb_features = [ 0.06796144 , 0.03889349 , 0.07237845 , 0.02628645 , 0.11194395,  0.04778854\n",
    "  ,0.05965792 , 0.02774745,  0.07462718,  0.4593142 ,  0.01340093]"
   ]
  },
  {
   "cell_type": "markdown",
   "metadata": {
    "_cell_guid": "2a03ad8f-0ea1-5afa-a6e8-56284482c646",
    "_uuid": "d59169f89c5541177f537200a90805420b449001"
   },
   "source": [
    "Create a dataframe from the lists containing the feature importance data for easy plotting via the Plotly package."
   ]
  },
  {
   "cell_type": "code",
   "execution_count": 40,
   "metadata": {
    "_cell_guid": "635a063f-281d-66d4-6572-587ebecd6b4b",
    "_uuid": "6f68b3033a8f185f61d83e80323c2486024f5d4d"
   },
   "outputs": [],
   "source": [
    "cols = train.columns.values\n",
    "# Create a dataframe with features\n",
    "feature_dataframe = pd.DataFrame( {'features': cols,\n",
    "     'Random Forest feature importances': rf_features,\n",
    "     'Extra Trees  feature importances': et_features,\n",
    "      'AdaBoost feature importances': ada_features,\n",
    "    'Gradient Boost feature importances': gb_features\n",
    "    })"
   ]
  },
  {
   "cell_type": "markdown",
   "metadata": {
    "_cell_guid": "06b9f410-f93e-0206-b029-24df035eea2b",
    "_uuid": "7e25675f239b0ab008e0264917abff497795681a"
   },
   "source": [
    "**Interactive feature importances via Plotly scatterplots**\n",
    "\n",
    "I'll use the interactive Plotly package at this juncture to visualise the feature importances values of the different classifiers "
   ]
  },
  {
   "cell_type": "code",
   "execution_count": 42,
   "metadata": {
    "_cell_guid": "1ac351c6-83c6-c35b-9d66-64f16b5d073f",
    "_uuid": "d8ee9114cd391433835f1272ef81d0a729c78b71"
   },
   "outputs": [
    {
     "data": {
      "application/vnd.plotly.v1+json": {
       "data": [
        {
         "marker": {
          "color": [
           0.10474135,
           0.21837029,
           0.04432652,
           0.02249159,
           0.05432591,
           0.02854371,
           0.07570305,
           0.01088129,
           0.24247496,
           0.13685733,
           0.06128402
          ],
          "colorscale": "Portland",
          "showscale": true,
          "size": 25,
          "sizemode": "diameter",
          "sizeref": 1
         },
         "mode": "markers",
         "text": [
          "Pclass",
          "Sex",
          "Age",
          "Parch",
          "Fare",
          "Embarked",
          "Name_length",
          "Has_Cabin",
          "FamilySize",
          "IsAlone",
          "Title"
         ],
         "type": "scatter",
         "x": [
          "Pclass",
          "Sex",
          "Age",
          "Parch",
          "Fare",
          "Embarked",
          "Name_length",
          "Has_Cabin",
          "FamilySize",
          "IsAlone",
          "Title"
         ],
         "y": [
          0.10474135,
          0.21837029,
          0.04432652,
          0.02249159,
          0.05432591,
          0.02854371,
          0.07570305,
          0.01088129,
          0.24247496,
          0.13685733,
          0.06128402
         ]
        }
       ],
       "layout": {
        "autosize": true,
        "hovermode": "closest",
        "showlegend": false,
        "title": "Random Forest Feature Importance",
        "yaxis": {
         "gridwidth": 2,
         "ticklen": 5,
         "title": "Feature Importance"
        }
       }
      },
      "text/html": [
       "<div id=\"6b8e80c4-b881-43a4-bd8b-aeee49f38960\" style=\"height: 525px; width: 100%;\" class=\"plotly-graph-div\"></div><script type=\"text/javascript\">require([\"plotly\"], function(Plotly) { window.PLOTLYENV=window.PLOTLYENV || {};window.PLOTLYENV.BASE_URL=\"https://plot.ly\";Plotly.newPlot(\"6b8e80c4-b881-43a4-bd8b-aeee49f38960\", [{\"text\": [\"Pclass\", \"Sex\", \"Age\", \"Parch\", \"Fare\", \"Embarked\", \"Name_length\", \"Has_Cabin\", \"FamilySize\", \"IsAlone\", \"Title\"], \"marker\": {\"sizeref\": 1, \"colorscale\": \"Portland\", \"color\": [0.10474135, 0.21837029, 0.04432652, 0.02249159, 0.05432591, 0.02854371, 0.07570305, 0.01088129, 0.24247496, 0.13685733, 0.06128402], \"sizemode\": \"diameter\", \"showscale\": true, \"size\": 25}, \"mode\": \"markers\", \"y\": [0.10474135, 0.21837029, 0.04432652, 0.02249159, 0.05432591, 0.02854371, 0.07570305, 0.01088129, 0.24247496, 0.13685733, 0.06128402], \"x\": [\"Pclass\", \"Sex\", \"Age\", \"Parch\", \"Fare\", \"Embarked\", \"Name_length\", \"Has_Cabin\", \"FamilySize\", \"IsAlone\", \"Title\"], \"type\": \"scatter\"}], {\"autosize\": true, \"title\": \"Random Forest Feature Importance\", \"showlegend\": false, \"hovermode\": \"closest\", \"yaxis\": {\"ticklen\": 5, \"gridwidth\": 2, \"title\": \"Feature Importance\"}}, {\"linkText\": \"Export to plot.ly\", \"showLink\": true})});</script>"
      ],
      "text/vnd.plotly.v1+html": [
       "<div id=\"6b8e80c4-b881-43a4-bd8b-aeee49f38960\" style=\"height: 525px; width: 100%;\" class=\"plotly-graph-div\"></div><script type=\"text/javascript\">require([\"plotly\"], function(Plotly) { window.PLOTLYENV=window.PLOTLYENV || {};window.PLOTLYENV.BASE_URL=\"https://plot.ly\";Plotly.newPlot(\"6b8e80c4-b881-43a4-bd8b-aeee49f38960\", [{\"text\": [\"Pclass\", \"Sex\", \"Age\", \"Parch\", \"Fare\", \"Embarked\", \"Name_length\", \"Has_Cabin\", \"FamilySize\", \"IsAlone\", \"Title\"], \"marker\": {\"sizeref\": 1, \"colorscale\": \"Portland\", \"color\": [0.10474135, 0.21837029, 0.04432652, 0.02249159, 0.05432591, 0.02854371, 0.07570305, 0.01088129, 0.24247496, 0.13685733, 0.06128402], \"sizemode\": \"diameter\", \"showscale\": true, \"size\": 25}, \"mode\": \"markers\", \"y\": [0.10474135, 0.21837029, 0.04432652, 0.02249159, 0.05432591, 0.02854371, 0.07570305, 0.01088129, 0.24247496, 0.13685733, 0.06128402], \"x\": [\"Pclass\", \"Sex\", \"Age\", \"Parch\", \"Fare\", \"Embarked\", \"Name_length\", \"Has_Cabin\", \"FamilySize\", \"IsAlone\", \"Title\"], \"type\": \"scatter\"}], {\"autosize\": true, \"title\": \"Random Forest Feature Importance\", \"showlegend\": false, \"hovermode\": \"closest\", \"yaxis\": {\"ticklen\": 5, \"gridwidth\": 2, \"title\": \"Feature Importance\"}}, {\"linkText\": \"Export to plot.ly\", \"showLink\": true})});</script>"
      ]
     },
     "metadata": {},
     "output_type": "display_data"
    }
   ],
   "source": [
    "# Scatter plot \n",
    "trace = go.Scatter(\n",
    "    y = feature_dataframe['Random Forest feature importances'].values,\n",
    "    x = feature_dataframe['features'].values,\n",
    "    mode='markers',\n",
    "    marker=dict(\n",
    "        sizemode = 'diameter',\n",
    "        sizeref = 1,\n",
    "        size = 25,\n",
    "        #size= feature_dataframe['AdaBoost feature importances'].values,\n",
    "        #color = np.random.randn(500), #set color equal to a variable\n",
    "        color = feature_dataframe['Random Forest feature importances'].values,\n",
    "        colorscale='Portland',\n",
    "        showscale=True\n",
    "    ),\n",
    "    text = feature_dataframe['features'].values\n",
    ")\n",
    "data = [trace]\n",
    "\n",
    "layout= go.Layout(\n",
    "    autosize= True,\n",
    "    title= 'Random Forest Feature Importance',\n",
    "    hovermode= 'closest',\n",
    "#     xaxis= dict(\n",
    "#         title= 'Pop',\n",
    "#         ticklen= 5,\n",
    "#         zeroline= False,\n",
    "#         gridwidth= 2,\n",
    "#     ),\n",
    "    yaxis=dict(\n",
    "        title= 'Feature Importance',\n",
    "        ticklen= 5,\n",
    "        gridwidth= 2\n",
    "    ),\n",
    "    showlegend= False\n",
    ")\n",
    "fig = go.Figure(data=data, layout=layout)\n",
    "py.iplot(fig,filename='scatter2010')"
   ]
  },
  {
   "cell_type": "code",
   "execution_count": 43,
   "metadata": {},
   "outputs": [
    {
     "data": {
      "application/vnd.plotly.v1+json": {
       "data": [
        {
         "marker": {
          "color": [
           0.12165657,
           0.37098307,
           0.03129623,
           0.01591611,
           0.05525811,
           0.028157,
           0.04589793,
           0.02030357,
           0.17289562,
           0.04853517,
           0.08910063
          ],
          "colorscale": "Portland",
          "showscale": true,
          "size": 25,
          "sizemode": "diameter",
          "sizeref": 1
         },
         "mode": "markers",
         "text": [
          "Pclass",
          "Sex",
          "Age",
          "Parch",
          "Fare",
          "Embarked",
          "Name_length",
          "Has_Cabin",
          "FamilySize",
          "IsAlone",
          "Title"
         ],
         "type": "scatter",
         "x": [
          "Pclass",
          "Sex",
          "Age",
          "Parch",
          "Fare",
          "Embarked",
          "Name_length",
          "Has_Cabin",
          "FamilySize",
          "IsAlone",
          "Title"
         ],
         "y": [
          0.12165657,
          0.37098307,
          0.03129623,
          0.01591611,
          0.05525811,
          0.028157,
          0.04589793,
          0.02030357,
          0.17289562,
          0.04853517,
          0.08910063
         ]
        }
       ],
       "layout": {
        "autosize": true,
        "hovermode": "closest",
        "showlegend": false,
        "title": "Extra Trees Feature Importance",
        "yaxis": {
         "gridwidth": 2,
         "ticklen": 5,
         "title": "Feature Importance"
        }
       }
      },
      "text/html": [
       "<div id=\"906bd126-36c8-4525-a86a-6de787c74ca7\" style=\"height: 525px; width: 100%;\" class=\"plotly-graph-div\"></div><script type=\"text/javascript\">require([\"plotly\"], function(Plotly) { window.PLOTLYENV=window.PLOTLYENV || {};window.PLOTLYENV.BASE_URL=\"https://plot.ly\";Plotly.newPlot(\"906bd126-36c8-4525-a86a-6de787c74ca7\", [{\"text\": [\"Pclass\", \"Sex\", \"Age\", \"Parch\", \"Fare\", \"Embarked\", \"Name_length\", \"Has_Cabin\", \"FamilySize\", \"IsAlone\", \"Title\"], \"marker\": {\"sizeref\": 1, \"colorscale\": \"Portland\", \"color\": [0.12165657, 0.37098307, 0.03129623, 0.01591611, 0.05525811, 0.028157, 0.04589793, 0.02030357, 0.17289562, 0.04853517, 0.08910063], \"sizemode\": \"diameter\", \"showscale\": true, \"size\": 25}, \"mode\": \"markers\", \"y\": [0.12165657, 0.37098307, 0.03129623, 0.01591611, 0.05525811, 0.028157, 0.04589793, 0.02030357, 0.17289562, 0.04853517, 0.08910063], \"x\": [\"Pclass\", \"Sex\", \"Age\", \"Parch\", \"Fare\", \"Embarked\", \"Name_length\", \"Has_Cabin\", \"FamilySize\", \"IsAlone\", \"Title\"], \"type\": \"scatter\"}], {\"autosize\": true, \"title\": \"Extra Trees Feature Importance\", \"showlegend\": false, \"hovermode\": \"closest\", \"yaxis\": {\"ticklen\": 5, \"gridwidth\": 2, \"title\": \"Feature Importance\"}}, {\"linkText\": \"Export to plot.ly\", \"showLink\": true})});</script>"
      ],
      "text/vnd.plotly.v1+html": [
       "<div id=\"906bd126-36c8-4525-a86a-6de787c74ca7\" style=\"height: 525px; width: 100%;\" class=\"plotly-graph-div\"></div><script type=\"text/javascript\">require([\"plotly\"], function(Plotly) { window.PLOTLYENV=window.PLOTLYENV || {};window.PLOTLYENV.BASE_URL=\"https://plot.ly\";Plotly.newPlot(\"906bd126-36c8-4525-a86a-6de787c74ca7\", [{\"text\": [\"Pclass\", \"Sex\", \"Age\", \"Parch\", \"Fare\", \"Embarked\", \"Name_length\", \"Has_Cabin\", \"FamilySize\", \"IsAlone\", \"Title\"], \"marker\": {\"sizeref\": 1, \"colorscale\": \"Portland\", \"color\": [0.12165657, 0.37098307, 0.03129623, 0.01591611, 0.05525811, 0.028157, 0.04589793, 0.02030357, 0.17289562, 0.04853517, 0.08910063], \"sizemode\": \"diameter\", \"showscale\": true, \"size\": 25}, \"mode\": \"markers\", \"y\": [0.12165657, 0.37098307, 0.03129623, 0.01591611, 0.05525811, 0.028157, 0.04589793, 0.02030357, 0.17289562, 0.04853517, 0.08910063], \"x\": [\"Pclass\", \"Sex\", \"Age\", \"Parch\", \"Fare\", \"Embarked\", \"Name_length\", \"Has_Cabin\", \"FamilySize\", \"IsAlone\", \"Title\"], \"type\": \"scatter\"}], {\"autosize\": true, \"title\": \"Extra Trees Feature Importance\", \"showlegend\": false, \"hovermode\": \"closest\", \"yaxis\": {\"ticklen\": 5, \"gridwidth\": 2, \"title\": \"Feature Importance\"}}, {\"linkText\": \"Export to plot.ly\", \"showLink\": true})});</script>"
      ]
     },
     "metadata": {},
     "output_type": "display_data"
    }
   ],
   "source": [
    "# Scatter plot \n",
    "trace = go.Scatter(\n",
    "    y = feature_dataframe['Extra Trees  feature importances'].values,\n",
    "    x = feature_dataframe['features'].values,\n",
    "    mode='markers',\n",
    "    marker=dict(\n",
    "        sizemode = 'diameter',\n",
    "        sizeref = 1,\n",
    "        size = 25,\n",
    "#       size= feature_dataframe['AdaBoost feature importances'].values,\n",
    "        #color = np.random.randn(500), #set color equal to a variable\n",
    "        color = feature_dataframe['Extra Trees  feature importances'].values,\n",
    "        colorscale='Portland',\n",
    "        showscale=True\n",
    "    ),\n",
    "    text = feature_dataframe['features'].values\n",
    ")\n",
    "data = [trace]\n",
    "\n",
    "layout= go.Layout(\n",
    "    autosize= True,\n",
    "    title= 'Extra Trees Feature Importance',\n",
    "    hovermode= 'closest',\n",
    "#     xaxis= dict(\n",
    "#         title= 'Pop',\n",
    "#         ticklen= 5,\n",
    "#         zeroline= False,\n",
    "#         gridwidth= 2,\n",
    "#     ),\n",
    "    yaxis=dict(\n",
    "        title= 'Feature Importance',\n",
    "        ticklen= 5,\n",
    "        gridwidth= 2\n",
    "    ),\n",
    "    showlegend= False\n",
    ")\n",
    "fig = go.Figure(data=data, layout=layout)\n",
    "py.iplot(fig,filename='scatter2010')\n",
    "\n"
   ]
  },
  {
   "cell_type": "code",
   "execution_count": 44,
   "metadata": {},
   "outputs": [
    {
     "data": {
      "application/vnd.plotly.v1+json": {
       "data": [
        {
         "marker": {
          "color": [
           0.028,
           0.008,
           0.012,
           0.05866667,
           0.032,
           0.008,
           0.04666667,
           0,
           0.05733333,
           0.73866667,
           0.01066667
          ],
          "colorscale": "Portland",
          "showscale": true,
          "size": 25,
          "sizemode": "diameter",
          "sizeref": 1
         },
         "mode": "markers",
         "text": [
          "Pclass",
          "Sex",
          "Age",
          "Parch",
          "Fare",
          "Embarked",
          "Name_length",
          "Has_Cabin",
          "FamilySize",
          "IsAlone",
          "Title"
         ],
         "type": "scatter",
         "x": [
          "Pclass",
          "Sex",
          "Age",
          "Parch",
          "Fare",
          "Embarked",
          "Name_length",
          "Has_Cabin",
          "FamilySize",
          "IsAlone",
          "Title"
         ],
         "y": [
          0.028,
          0.008,
          0.012,
          0.05866667,
          0.032,
          0.008,
          0.04666667,
          0,
          0.05733333,
          0.73866667,
          0.01066667
         ]
        }
       ],
       "layout": {
        "autosize": true,
        "hovermode": "closest",
        "showlegend": false,
        "title": "AdaBoost Feature Importance",
        "yaxis": {
         "gridwidth": 2,
         "ticklen": 5,
         "title": "Feature Importance"
        }
       }
      },
      "text/html": [
       "<div id=\"c78abe53-3d5b-4097-984c-94d693a4d50d\" style=\"height: 525px; width: 100%;\" class=\"plotly-graph-div\"></div><script type=\"text/javascript\">require([\"plotly\"], function(Plotly) { window.PLOTLYENV=window.PLOTLYENV || {};window.PLOTLYENV.BASE_URL=\"https://plot.ly\";Plotly.newPlot(\"c78abe53-3d5b-4097-984c-94d693a4d50d\", [{\"text\": [\"Pclass\", \"Sex\", \"Age\", \"Parch\", \"Fare\", \"Embarked\", \"Name_length\", \"Has_Cabin\", \"FamilySize\", \"IsAlone\", \"Title\"], \"marker\": {\"sizeref\": 1, \"colorscale\": \"Portland\", \"color\": [0.028, 0.008, 0.012, 0.05866667, 0.032, 0.008, 0.04666667, 0.0, 0.05733333, 0.73866667, 0.01066667], \"sizemode\": \"diameter\", \"showscale\": true, \"size\": 25}, \"mode\": \"markers\", \"y\": [0.028, 0.008, 0.012, 0.05866667, 0.032, 0.008, 0.04666667, 0.0, 0.05733333, 0.73866667, 0.01066667], \"x\": [\"Pclass\", \"Sex\", \"Age\", \"Parch\", \"Fare\", \"Embarked\", \"Name_length\", \"Has_Cabin\", \"FamilySize\", \"IsAlone\", \"Title\"], \"type\": \"scatter\"}], {\"autosize\": true, \"title\": \"AdaBoost Feature Importance\", \"showlegend\": false, \"hovermode\": \"closest\", \"yaxis\": {\"ticklen\": 5, \"gridwidth\": 2, \"title\": \"Feature Importance\"}}, {\"linkText\": \"Export to plot.ly\", \"showLink\": true})});</script>"
      ],
      "text/vnd.plotly.v1+html": [
       "<div id=\"c78abe53-3d5b-4097-984c-94d693a4d50d\" style=\"height: 525px; width: 100%;\" class=\"plotly-graph-div\"></div><script type=\"text/javascript\">require([\"plotly\"], function(Plotly) { window.PLOTLYENV=window.PLOTLYENV || {};window.PLOTLYENV.BASE_URL=\"https://plot.ly\";Plotly.newPlot(\"c78abe53-3d5b-4097-984c-94d693a4d50d\", [{\"text\": [\"Pclass\", \"Sex\", \"Age\", \"Parch\", \"Fare\", \"Embarked\", \"Name_length\", \"Has_Cabin\", \"FamilySize\", \"IsAlone\", \"Title\"], \"marker\": {\"sizeref\": 1, \"colorscale\": \"Portland\", \"color\": [0.028, 0.008, 0.012, 0.05866667, 0.032, 0.008, 0.04666667, 0.0, 0.05733333, 0.73866667, 0.01066667], \"sizemode\": \"diameter\", \"showscale\": true, \"size\": 25}, \"mode\": \"markers\", \"y\": [0.028, 0.008, 0.012, 0.05866667, 0.032, 0.008, 0.04666667, 0.0, 0.05733333, 0.73866667, 0.01066667], \"x\": [\"Pclass\", \"Sex\", \"Age\", \"Parch\", \"Fare\", \"Embarked\", \"Name_length\", \"Has_Cabin\", \"FamilySize\", \"IsAlone\", \"Title\"], \"type\": \"scatter\"}], {\"autosize\": true, \"title\": \"AdaBoost Feature Importance\", \"showlegend\": false, \"hovermode\": \"closest\", \"yaxis\": {\"ticklen\": 5, \"gridwidth\": 2, \"title\": \"Feature Importance\"}}, {\"linkText\": \"Export to plot.ly\", \"showLink\": true})});</script>"
      ]
     },
     "metadata": {},
     "output_type": "display_data"
    }
   ],
   "source": [
    "# Scatter plot \n",
    "trace = go.Scatter(\n",
    "    y = feature_dataframe['AdaBoost feature importances'].values,\n",
    "    x = feature_dataframe['features'].values,\n",
    "    mode='markers',\n",
    "    marker=dict(\n",
    "        sizemode = 'diameter',\n",
    "        sizeref = 1,\n",
    "        size = 25,\n",
    "#       size= feature_dataframe['AdaBoost feature importances'].values,\n",
    "        #color = np.random.randn(500), #set color equal to a variable\n",
    "        color = feature_dataframe['AdaBoost feature importances'].values,\n",
    "        colorscale='Portland',\n",
    "        showscale=True\n",
    "    ),\n",
    "    text = feature_dataframe['features'].values\n",
    ")\n",
    "data = [trace]\n",
    "\n",
    "layout= go.Layout(\n",
    "    autosize= True,\n",
    "    title= 'AdaBoost Feature Importance',\n",
    "    hovermode= 'closest',\n",
    "#     xaxis= dict(\n",
    "#         title= 'Pop',\n",
    "#         ticklen= 5,\n",
    "#         zeroline= False,\n",
    "#         gridwidth= 2,\n",
    "#     ),\n",
    "    yaxis=dict(\n",
    "        title= 'Feature Importance',\n",
    "        ticklen= 5,\n",
    "        gridwidth= 2\n",
    "    ),\n",
    "    showlegend= False\n",
    ")\n",
    "fig = go.Figure(data=data, layout=layout)\n",
    "py.iplot(fig,filename='scatter2010')"
   ]
  },
  {
   "cell_type": "code",
   "execution_count": 45,
   "metadata": {},
   "outputs": [
    {
     "data": {
      "application/vnd.plotly.v1+json": {
       "data": [
        {
         "marker": {
          "color": [
           0.06796144,
           0.03889349,
           0.07237845,
           0.02628645,
           0.11194395,
           0.04778854,
           0.05965792,
           0.02774745,
           0.07462718,
           0.4593142,
           0.01340093
          ],
          "colorscale": "Portland",
          "showscale": true,
          "size": 25,
          "sizemode": "diameter",
          "sizeref": 1
         },
         "mode": "markers",
         "text": [
          "Pclass",
          "Sex",
          "Age",
          "Parch",
          "Fare",
          "Embarked",
          "Name_length",
          "Has_Cabin",
          "FamilySize",
          "IsAlone",
          "Title"
         ],
         "type": "scatter",
         "x": [
          "Pclass",
          "Sex",
          "Age",
          "Parch",
          "Fare",
          "Embarked",
          "Name_length",
          "Has_Cabin",
          "FamilySize",
          "IsAlone",
          "Title"
         ],
         "y": [
          0.06796144,
          0.03889349,
          0.07237845,
          0.02628645,
          0.11194395,
          0.04778854,
          0.05965792,
          0.02774745,
          0.07462718,
          0.4593142,
          0.01340093
         ]
        }
       ],
       "layout": {
        "autosize": true,
        "hovermode": "closest",
        "showlegend": false,
        "title": "Gradient Boosting Feature Importance",
        "yaxis": {
         "gridwidth": 2,
         "ticklen": 5,
         "title": "Feature Importance"
        }
       }
      },
      "text/html": [
       "<div id=\"db049962-54ba-48d5-b04d-e7474a59d2e2\" style=\"height: 525px; width: 100%;\" class=\"plotly-graph-div\"></div><script type=\"text/javascript\">require([\"plotly\"], function(Plotly) { window.PLOTLYENV=window.PLOTLYENV || {};window.PLOTLYENV.BASE_URL=\"https://plot.ly\";Plotly.newPlot(\"db049962-54ba-48d5-b04d-e7474a59d2e2\", [{\"text\": [\"Pclass\", \"Sex\", \"Age\", \"Parch\", \"Fare\", \"Embarked\", \"Name_length\", \"Has_Cabin\", \"FamilySize\", \"IsAlone\", \"Title\"], \"marker\": {\"sizeref\": 1, \"colorscale\": \"Portland\", \"color\": [0.06796144, 0.03889349, 0.07237845, 0.02628645, 0.11194395, 0.04778854, 0.05965792, 0.02774745, 0.07462718, 0.4593142, 0.01340093], \"sizemode\": \"diameter\", \"showscale\": true, \"size\": 25}, \"mode\": \"markers\", \"y\": [0.06796144, 0.03889349, 0.07237845, 0.02628645, 0.11194395, 0.04778854, 0.05965792, 0.02774745, 0.07462718, 0.4593142, 0.01340093], \"x\": [\"Pclass\", \"Sex\", \"Age\", \"Parch\", \"Fare\", \"Embarked\", \"Name_length\", \"Has_Cabin\", \"FamilySize\", \"IsAlone\", \"Title\"], \"type\": \"scatter\"}], {\"autosize\": true, \"title\": \"Gradient Boosting Feature Importance\", \"showlegend\": false, \"hovermode\": \"closest\", \"yaxis\": {\"ticklen\": 5, \"gridwidth\": 2, \"title\": \"Feature Importance\"}}, {\"linkText\": \"Export to plot.ly\", \"showLink\": true})});</script>"
      ],
      "text/vnd.plotly.v1+html": [
       "<div id=\"db049962-54ba-48d5-b04d-e7474a59d2e2\" style=\"height: 525px; width: 100%;\" class=\"plotly-graph-div\"></div><script type=\"text/javascript\">require([\"plotly\"], function(Plotly) { window.PLOTLYENV=window.PLOTLYENV || {};window.PLOTLYENV.BASE_URL=\"https://plot.ly\";Plotly.newPlot(\"db049962-54ba-48d5-b04d-e7474a59d2e2\", [{\"text\": [\"Pclass\", \"Sex\", \"Age\", \"Parch\", \"Fare\", \"Embarked\", \"Name_length\", \"Has_Cabin\", \"FamilySize\", \"IsAlone\", \"Title\"], \"marker\": {\"sizeref\": 1, \"colorscale\": \"Portland\", \"color\": [0.06796144, 0.03889349, 0.07237845, 0.02628645, 0.11194395, 0.04778854, 0.05965792, 0.02774745, 0.07462718, 0.4593142, 0.01340093], \"sizemode\": \"diameter\", \"showscale\": true, \"size\": 25}, \"mode\": \"markers\", \"y\": [0.06796144, 0.03889349, 0.07237845, 0.02628645, 0.11194395, 0.04778854, 0.05965792, 0.02774745, 0.07462718, 0.4593142, 0.01340093], \"x\": [\"Pclass\", \"Sex\", \"Age\", \"Parch\", \"Fare\", \"Embarked\", \"Name_length\", \"Has_Cabin\", \"FamilySize\", \"IsAlone\", \"Title\"], \"type\": \"scatter\"}], {\"autosize\": true, \"title\": \"Gradient Boosting Feature Importance\", \"showlegend\": false, \"hovermode\": \"closest\", \"yaxis\": {\"ticklen\": 5, \"gridwidth\": 2, \"title\": \"Feature Importance\"}}, {\"linkText\": \"Export to plot.ly\", \"showLink\": true})});</script>"
      ]
     },
     "metadata": {},
     "output_type": "display_data"
    }
   ],
   "source": [
    "# Scatter plot \n",
    "trace = go.Scatter(\n",
    "    y = feature_dataframe['Gradient Boost feature importances'].values,\n",
    "    x = feature_dataframe['features'].values,\n",
    "    mode='markers',\n",
    "    marker=dict(\n",
    "        sizemode = 'diameter',\n",
    "        sizeref = 1,\n",
    "        size = 25,\n",
    "#       size= feature_dataframe['AdaBoost feature importances'].values,\n",
    "        #color = np.random.randn(500), #set color equal to a variable\n",
    "        color = feature_dataframe['Gradient Boost feature importances'].values,\n",
    "        colorscale='Portland',\n",
    "        showscale=True\n",
    "    ),\n",
    "    text = feature_dataframe['features'].values\n",
    ")\n",
    "data = [trace]\n",
    "\n",
    "layout= go.Layout(\n",
    "    autosize= True,\n",
    "    title= 'Gradient Boosting Feature Importance',\n",
    "    hovermode= 'closest',\n",
    "#     xaxis= dict(\n",
    "#         title= 'Pop',\n",
    "#         ticklen= 5,\n",
    "#         zeroline= False,\n",
    "#         gridwidth= 2,\n",
    "#     ),\n",
    "    yaxis=dict(\n",
    "        title= 'Feature Importance',\n",
    "        ticklen= 5,\n",
    "        gridwidth= 2\n",
    "    ),\n",
    "    showlegend= False\n",
    ")\n",
    "fig = go.Figure(data=data, layout=layout)\n",
    "py.iplot(fig,filename='scatter2010')"
   ]
  },
  {
   "cell_type": "markdown",
   "metadata": {
    "_cell_guid": "553828f0-c994-5ee1-695f-9373f11a1a7b",
    "_uuid": "9d7b8fdd0c3102d7e3ddcffaf26ce19b02e5ad74"
   },
   "source": [
    "Now let us calculate the mean of all the feature importances and store it as a new column in the feature importance dataframe"
   ]
  },
  {
   "cell_type": "code",
   "execution_count": 47,
   "metadata": {
    "_cell_guid": "06847850-a829-0858-b12c-7b66e53e030a",
    "_uuid": "f611812e2c9de3773df2264dfb2b13c0995807ac"
   },
   "outputs": [
    {
     "data": {
      "text/html": [
       "<div>\n",
       "<style>\n",
       "    .dataframe thead tr:only-child th {\n",
       "        text-align: right;\n",
       "    }\n",
       "\n",
       "    .dataframe thead th {\n",
       "        text-align: left;\n",
       "    }\n",
       "\n",
       "    .dataframe tbody tr th {\n",
       "        vertical-align: top;\n",
       "    }\n",
       "</style>\n",
       "<table border=\"1\" class=\"dataframe\">\n",
       "  <thead>\n",
       "    <tr style=\"text-align: right;\">\n",
       "      <th></th>\n",
       "      <th>AdaBoost feature importances</th>\n",
       "      <th>Extra Trees  feature importances</th>\n",
       "      <th>Gradient Boost feature importances</th>\n",
       "      <th>Random Forest feature importances</th>\n",
       "      <th>features</th>\n",
       "      <th>mean</th>\n",
       "    </tr>\n",
       "  </thead>\n",
       "  <tbody>\n",
       "    <tr>\n",
       "      <th>0</th>\n",
       "      <td>0.028</td>\n",
       "      <td>0.121657</td>\n",
       "      <td>0.067961</td>\n",
       "      <td>0.104741</td>\n",
       "      <td>Pclass</td>\n",
       "      <td>0.080590</td>\n",
       "    </tr>\n",
       "    <tr>\n",
       "      <th>1</th>\n",
       "      <td>0.008</td>\n",
       "      <td>0.370983</td>\n",
       "      <td>0.038893</td>\n",
       "      <td>0.218370</td>\n",
       "      <td>Sex</td>\n",
       "      <td>0.159062</td>\n",
       "    </tr>\n",
       "    <tr>\n",
       "      <th>2</th>\n",
       "      <td>0.012</td>\n",
       "      <td>0.031296</td>\n",
       "      <td>0.072378</td>\n",
       "      <td>0.044327</td>\n",
       "      <td>Age</td>\n",
       "      <td>0.040000</td>\n",
       "    </tr>\n",
       "  </tbody>\n",
       "</table>\n",
       "</div>"
      ],
      "text/plain": [
       "   AdaBoost feature importances  Extra Trees  feature importances  \\\n",
       "0                         0.028                          0.121657   \n",
       "1                         0.008                          0.370983   \n",
       "2                         0.012                          0.031296   \n",
       "\n",
       "   Gradient Boost feature importances  Random Forest feature importances  \\\n",
       "0                            0.067961                           0.104741   \n",
       "1                            0.038893                           0.218370   \n",
       "2                            0.072378                           0.044327   \n",
       "\n",
       "  features      mean  \n",
       "0   Pclass  0.080590  \n",
       "1      Sex  0.159062  \n",
       "2      Age  0.040000  "
      ]
     },
     "execution_count": 47,
     "metadata": {},
     "output_type": "execute_result"
    }
   ],
   "source": [
    "# Create the new column containing the average of values\n",
    "\n",
    "feature_dataframe['mean'] = feature_dataframe.mean(axis= 1) # axis = 1 computes the mean row-wise\n",
    "feature_dataframe.head(3)"
   ]
  },
  {
   "cell_type": "markdown",
   "metadata": {
    "_cell_guid": "5645e647-c517-7822-f881-b8d7e38ef5da",
    "_uuid": "1f0aff0896fef90b326fff7816393fef0e0cb992"
   },
   "source": [
    "**Plotly Barplot of Average Feature Importances**\n",
    "\n",
    "Having obtained the mean feature importance across all our classifiers, we can plot them into a Plotly bar plot as follows:"
   ]
  },
  {
   "cell_type": "code",
   "execution_count": 48,
   "metadata": {
    "_cell_guid": "63d86121-8c29-4b7f-b2ad-12b0a593f1d6",
    "_uuid": "0bd069388b419fe45306c01825aa3e6f5466ba2b"
   },
   "outputs": [
    {
     "data": {
      "application/vnd.plotly.v1+json": {
       "data": [
        {
         "marker": {
          "color": [
           0.08058984000000001,
           0.1590617125,
           0.0400003,
           0.030840205000000002,
           0.0633819925,
           0.0281223125,
           0.0569813925,
           0.0147330775,
           0.1368327725,
           0.3458433425,
           0.0436130625
          ],
          "colorscale": "Portland",
          "reversescale": false,
          "showscale": true
         },
         "opacity": 0.6,
         "type": "bar",
         "width": 0.5,
         "x": [
          "Pclass",
          "Sex",
          "Age",
          "Parch",
          "Fare",
          "Embarked",
          "Name_length",
          "Has_Cabin",
          "FamilySize",
          "IsAlone",
          "Title"
         ],
         "y": [
          0.08058984000000001,
          0.1590617125,
          0.0400003,
          0.030840205000000002,
          0.0633819925,
          0.0281223125,
          0.0569813925,
          0.0147330775,
          0.1368327725,
          0.3458433425,
          0.0436130625
         ]
        }
       ],
       "layout": {
        "autosize": true,
        "hovermode": "closest",
        "showlegend": false,
        "title": "Barplots of Mean Feature Importance",
        "yaxis": {
         "gridwidth": 2,
         "ticklen": 5,
         "title": "Feature Importance"
        }
       }
      },
      "text/html": [
       "<div id=\"fdc93fa5-3b98-4196-b6c8-f70d735fd1d1\" style=\"height: 525px; width: 100%;\" class=\"plotly-graph-div\"></div><script type=\"text/javascript\">require([\"plotly\"], function(Plotly) { window.PLOTLYENV=window.PLOTLYENV || {};window.PLOTLYENV.BASE_URL=\"https://plot.ly\";Plotly.newPlot(\"fdc93fa5-3b98-4196-b6c8-f70d735fd1d1\", [{\"opacity\": 0.6, \"width\": 0.5, \"y\": [0.08058984000000001, 0.1590617125, 0.0400003, 0.030840205000000002, 0.0633819925, 0.0281223125, 0.0569813925, 0.0147330775, 0.1368327725, 0.3458433425, 0.0436130625], \"x\": [\"Pclass\", \"Sex\", \"Age\", \"Parch\", \"Fare\", \"Embarked\", \"Name_length\", \"Has_Cabin\", \"FamilySize\", \"IsAlone\", \"Title\"], \"type\": \"bar\", \"marker\": {\"reversescale\": false, \"color\": [0.08058984000000001, 0.1590617125, 0.0400003, 0.030840205000000002, 0.0633819925, 0.0281223125, 0.0569813925, 0.0147330775, 0.1368327725, 0.3458433425, 0.0436130625], \"showscale\": true, \"colorscale\": \"Portland\"}}], {\"autosize\": true, \"title\": \"Barplots of Mean Feature Importance\", \"showlegend\": false, \"hovermode\": \"closest\", \"yaxis\": {\"ticklen\": 5, \"gridwidth\": 2, \"title\": \"Feature Importance\"}}, {\"linkText\": \"Export to plot.ly\", \"showLink\": true})});</script>"
      ],
      "text/vnd.plotly.v1+html": [
       "<div id=\"fdc93fa5-3b98-4196-b6c8-f70d735fd1d1\" style=\"height: 525px; width: 100%;\" class=\"plotly-graph-div\"></div><script type=\"text/javascript\">require([\"plotly\"], function(Plotly) { window.PLOTLYENV=window.PLOTLYENV || {};window.PLOTLYENV.BASE_URL=\"https://plot.ly\";Plotly.newPlot(\"fdc93fa5-3b98-4196-b6c8-f70d735fd1d1\", [{\"opacity\": 0.6, \"width\": 0.5, \"y\": [0.08058984000000001, 0.1590617125, 0.0400003, 0.030840205000000002, 0.0633819925, 0.0281223125, 0.0569813925, 0.0147330775, 0.1368327725, 0.3458433425, 0.0436130625], \"x\": [\"Pclass\", \"Sex\", \"Age\", \"Parch\", \"Fare\", \"Embarked\", \"Name_length\", \"Has_Cabin\", \"FamilySize\", \"IsAlone\", \"Title\"], \"type\": \"bar\", \"marker\": {\"reversescale\": false, \"color\": [0.08058984000000001, 0.1590617125, 0.0400003, 0.030840205000000002, 0.0633819925, 0.0281223125, 0.0569813925, 0.0147330775, 0.1368327725, 0.3458433425, 0.0436130625], \"showscale\": true, \"colorscale\": \"Portland\"}}], {\"autosize\": true, \"title\": \"Barplots of Mean Feature Importance\", \"showlegend\": false, \"hovermode\": \"closest\", \"yaxis\": {\"ticklen\": 5, \"gridwidth\": 2, \"title\": \"Feature Importance\"}}, {\"linkText\": \"Export to plot.ly\", \"showLink\": true})});</script>"
      ]
     },
     "metadata": {},
     "output_type": "display_data"
    }
   ],
   "source": [
    "y = feature_dataframe['mean'].values\n",
    "x = feature_dataframe['features'].values\n",
    "data = [go.Bar(\n",
    "            x= x,\n",
    "             y= y,\n",
    "            width = 0.5,\n",
    "            marker=dict(\n",
    "               color = feature_dataframe['mean'].values,\n",
    "            colorscale='Portland',\n",
    "            showscale=True,\n",
    "            reversescale = False\n",
    "            ),\n",
    "            opacity=0.6\n",
    "        )]\n",
    "\n",
    "layout= go.Layout(\n",
    "    autosize= True,\n",
    "    title= 'Barplots of Mean Feature Importance',\n",
    "    hovermode= 'closest',\n",
    "#     xaxis= dict(\n",
    "#         title= 'Pop',\n",
    "#         ticklen= 5,\n",
    "#         zeroline= False,\n",
    "#         gridwidth= 2,\n",
    "#     ),\n",
    "    yaxis=dict(\n",
    "        title= 'Feature Importance',\n",
    "        ticklen= 5,\n",
    "        gridwidth= 2\n",
    "    ),\n",
    "    showlegend= False\n",
    ")\n",
    "fig = go.Figure(data=data, layout=layout)\n",
    "py.iplot(fig, filename='bar-direct-labels')"
   ]
  },
  {
   "cell_type": "markdown",
   "metadata": {
    "_cell_guid": "c1201ecc-b07d-f8a1-0870-b8d78c89ebc0",
    "_uuid": "bbb76d189e8d03921caaacfa9545cef894348c7d"
   },
   "source": [
    "# Second-Level Predictions from the First-level Output"
   ]
  },
  {
   "cell_type": "markdown",
   "metadata": {
    "_cell_guid": "6b901750-ccdd-38ca-d8ea-1c361121ec4f",
    "_uuid": "fed132782b73dda8d265065867e7f57c0aed7f50"
   },
   "source": [
    "**First-level output as new features**\n",
    "\n",
    "Having now obtained our first-level predictions, one can think of it as essentially building a new set of features to be used as training data for the next classifier. As per the code below, we are therefore having as our new columns the first-level predictions from our earlier classifiers and we train the next classifier on this."
   ]
  },
  {
   "cell_type": "code",
   "execution_count": 53,
   "metadata": {
    "_cell_guid": "7330a71c-0b71-87c2-1f4d-dd0f6d6fa586",
    "_uuid": "a5945e93337b87a1a8ee5580856768bbb14c07cd"
   },
   "outputs": [
    {
     "data": {
      "text/html": [
       "<div>\n",
       "<style>\n",
       "    .dataframe thead tr:only-child th {\n",
       "        text-align: right;\n",
       "    }\n",
       "\n",
       "    .dataframe thead th {\n",
       "        text-align: left;\n",
       "    }\n",
       "\n",
       "    .dataframe tbody tr th {\n",
       "        vertical-align: top;\n",
       "    }\n",
       "</style>\n",
       "<table border=\"1\" class=\"dataframe\">\n",
       "  <thead>\n",
       "    <tr style=\"text-align: right;\">\n",
       "      <th></th>\n",
       "      <th>AdaBoost</th>\n",
       "      <th>ExtraTrees</th>\n",
       "      <th>GradientBoost</th>\n",
       "      <th>RandomForest</th>\n",
       "    </tr>\n",
       "  </thead>\n",
       "  <tbody>\n",
       "    <tr>\n",
       "      <th>0</th>\n",
       "      <td>0.0</td>\n",
       "      <td>0.0</td>\n",
       "      <td>0.0</td>\n",
       "      <td>0.0</td>\n",
       "    </tr>\n",
       "    <tr>\n",
       "      <th>1</th>\n",
       "      <td>1.0</td>\n",
       "      <td>1.0</td>\n",
       "      <td>1.0</td>\n",
       "      <td>1.0</td>\n",
       "    </tr>\n",
       "    <tr>\n",
       "      <th>2</th>\n",
       "      <td>1.0</td>\n",
       "      <td>0.0</td>\n",
       "      <td>1.0</td>\n",
       "      <td>0.0</td>\n",
       "    </tr>\n",
       "    <tr>\n",
       "      <th>3</th>\n",
       "      <td>1.0</td>\n",
       "      <td>1.0</td>\n",
       "      <td>1.0</td>\n",
       "      <td>1.0</td>\n",
       "    </tr>\n",
       "    <tr>\n",
       "      <th>4</th>\n",
       "      <td>0.0</td>\n",
       "      <td>0.0</td>\n",
       "      <td>0.0</td>\n",
       "      <td>0.0</td>\n",
       "    </tr>\n",
       "  </tbody>\n",
       "</table>\n",
       "</div>"
      ],
      "text/plain": [
       "   AdaBoost  ExtraTrees  GradientBoost  RandomForest\n",
       "0       0.0         0.0            0.0           0.0\n",
       "1       1.0         1.0            1.0           1.0\n",
       "2       1.0         0.0            1.0           0.0\n",
       "3       1.0         1.0            1.0           1.0\n",
       "4       0.0         0.0            0.0           0.0"
      ]
     },
     "execution_count": 53,
     "metadata": {},
     "output_type": "execute_result"
    }
   ],
   "source": [
    "base_predictions_train = pd.DataFrame( {'RandomForest': rf_oof_train.ravel(),\n",
    "     'ExtraTrees': et_oof_train.ravel(),\n",
    "     'AdaBoost': ada_oof_train.ravel(),\n",
    "      'GradientBoost': gb_oof_train.ravel()\n",
    "    })\n",
    "base_predictions_train.head()"
   ]
  },
  {
   "cell_type": "markdown",
   "metadata": {
    "_cell_guid": "f69c11db-d84e-8536-4c7e-382fbe67483e",
    "_uuid": "2a6f987bd9b8ffc32a72e21cb8c43a6bc43ba200"
   },
   "source": [
    "**Correlation Heatmap of the Second Level Training set**"
   ]
  },
  {
   "cell_type": "code",
   "execution_count": 54,
   "metadata": {
    "_cell_guid": "4cf590ee-133f-6487-cf5a-53f346893d1c",
    "_uuid": "9714ecaedf7385c5b8ad346ab909215eb9f2abc6"
   },
   "outputs": [
    {
     "data": {
      "application/vnd.plotly.v1+json": {
       "data": [
        {
         "colorscale": "Portland",
         "reversescale": true,
         "showscale": true,
         "type": "heatmap",
         "x": [
          "AdaBoost",
          "ExtraTrees",
          "GradientBoost",
          "RandomForest"
         ],
         "y": [
          "AdaBoost",
          "ExtraTrees",
          "GradientBoost",
          "RandomForest"
         ],
         "z": [
          [
           1,
           0.7904294019835848,
           0.6722470019575206,
           0.7832464041999728
          ],
          [
           0.7904294019835848,
           1,
           0.7216278060686787,
           0.8708146366206398
          ],
          [
           0.6722470019575206,
           0.7216278060686787,
           1,
           0.7373947974543993
          ],
          [
           0.7832464041999728,
           0.8708146366206398,
           0.7373947974543993,
           1
          ]
         ]
        }
       ],
       "layout": {}
      },
      "text/html": [
       "<div id=\"2cbcdc84-0047-4996-b78b-06cc4d6e05ce\" style=\"height: 525px; width: 100%;\" class=\"plotly-graph-div\"></div><script type=\"text/javascript\">require([\"plotly\"], function(Plotly) { window.PLOTLYENV=window.PLOTLYENV || {};window.PLOTLYENV.BASE_URL=\"https://plot.ly\";Plotly.newPlot(\"2cbcdc84-0047-4996-b78b-06cc4d6e05ce\", [{\"colorscale\": \"Portland\", \"reversescale\": true, \"showscale\": true, \"y\": [\"AdaBoost\", \"ExtraTrees\", \"GradientBoost\", \"RandomForest\"], \"x\": [\"AdaBoost\", \"ExtraTrees\", \"GradientBoost\", \"RandomForest\"], \"z\": [[1.0, 0.7904294019835848, 0.6722470019575206, 0.7832464041999728], [0.7904294019835848, 1.0, 0.7216278060686787, 0.8708146366206398], [0.6722470019575206, 0.7216278060686787, 1.0, 0.7373947974543993], [0.7832464041999728, 0.8708146366206398, 0.7373947974543993, 1.0]], \"type\": \"heatmap\"}], {}, {\"linkText\": \"Export to plot.ly\", \"showLink\": true})});</script>"
      ],
      "text/vnd.plotly.v1+html": [
       "<div id=\"2cbcdc84-0047-4996-b78b-06cc4d6e05ce\" style=\"height: 525px; width: 100%;\" class=\"plotly-graph-div\"></div><script type=\"text/javascript\">require([\"plotly\"], function(Plotly) { window.PLOTLYENV=window.PLOTLYENV || {};window.PLOTLYENV.BASE_URL=\"https://plot.ly\";Plotly.newPlot(\"2cbcdc84-0047-4996-b78b-06cc4d6e05ce\", [{\"colorscale\": \"Portland\", \"reversescale\": true, \"showscale\": true, \"y\": [\"AdaBoost\", \"ExtraTrees\", \"GradientBoost\", \"RandomForest\"], \"x\": [\"AdaBoost\", \"ExtraTrees\", \"GradientBoost\", \"RandomForest\"], \"z\": [[1.0, 0.7904294019835848, 0.6722470019575206, 0.7832464041999728], [0.7904294019835848, 1.0, 0.7216278060686787, 0.8708146366206398], [0.6722470019575206, 0.7216278060686787, 1.0, 0.7373947974543993], [0.7832464041999728, 0.8708146366206398, 0.7373947974543993, 1.0]], \"type\": \"heatmap\"}], {}, {\"linkText\": \"Export to plot.ly\", \"showLink\": true})});</script>"
      ]
     },
     "metadata": {},
     "output_type": "display_data"
    }
   ],
   "source": [
    "data = [\n",
    "    go.Heatmap(\n",
    "        z= base_predictions_train.astype(float).corr().values ,\n",
    "        x=base_predictions_train.columns.values,\n",
    "        y= base_predictions_train.columns.values,\n",
    "          colorscale='Portland',\n",
    "            showscale=True,\n",
    "            reversescale = True\n",
    "    )\n",
    "]\n",
    "py.iplot(data, filename='labelled-heatmap')"
   ]
  },
  {
   "cell_type": "markdown",
   "metadata": {
    "_cell_guid": "4d6b61c0-5d72-b02a-3b37-cbf6518d71b6",
    "_uuid": "4d9ef0298b568e43da6925f385403e0d77bd6e33"
   },
   "source": [
    "There have been quite a few articles and Kaggle competition winner stories about the merits of having trained models that are more uncorrelated with one another producing better scores."
   ]
  },
  {
   "cell_type": "code",
   "execution_count": 77,
   "metadata": {
    "_cell_guid": "6685fa11-497f-3fc2-ab1f-97f92d6eca61",
    "_uuid": "fef365199854ca3fff754399b4699d941b7e43b8"
   },
   "outputs": [
    {
     "name": "stdout",
     "output_type": "stream",
     "text": [
      "(891, 1)\n",
      "(891, 5)\n",
      "(891,)\n"
     ]
    }
   ],
   "source": [
    "print et_oof_train.shape\n",
    "x_train = np.concatenate(( et_oof_train, rf_oof_train, ada_oof_train, gb_oof_train, svc_oof_train), axis=1)\n",
    "print x_train.shape\n",
    "print y_train.shape\n",
    "x_test = np.concatenate(( et_oof_test, rf_oof_test, ada_oof_test, gb_oof_test, svc_oof_test), axis=1)"
   ]
  },
  {
   "cell_type": "markdown",
   "metadata": {
    "_cell_guid": "a02a94ab-3c9c-a824-7168-e964c5a0f5d5",
    "_uuid": "65727ae393d3f7118215fde76e4fd5a9d0e9dd6c"
   },
   "source": [
    "Having now concatenated and joined both the first-level train and test predictions as x_train and x_test, we can now fit a second-level learning model."
   ]
  },
  {
   "cell_type": "markdown",
   "metadata": {
    "_cell_guid": "628a03ea-933c-7075-a589-0ff7af237dfd",
    "_uuid": "dc4a32e9a8e7c9e611124cba676e5d28240b38be"
   },
   "source": [
    "### Second level learning model via XGBoost\n",
    "\n",
    "Here we choose the eXtremely famous library for boosted tree learning model, XGBoost. It was built to optimize large-scale boosted tree algorithms. For further information about the algorithm, check out the [official documentation][1].\n",
    "\n",
    "  [1]: https://xgboost.readthedocs.io/en/latest/\n",
    "\n",
    "Anyways, we call an XGBClassifier and fit it to the first-level train and target data and use the learned model to predict the test data as follows:"
   ]
  },
  {
   "cell_type": "code",
   "execution_count": 56,
   "metadata": {
    "_cell_guid": "3a7c7517-b9a3-3a21-3a7b-299ca37c6843",
    "_uuid": "5155d370069fe6de0fe5105309342ce55130dae8",
    "collapsed": true
   },
   "outputs": [],
   "source": [
    "gbm = xgb.XGBClassifier(\n",
    "    #learning_rate = 0.02,\n",
    " n_estimators= 2000,\n",
    " max_depth= 4,\n",
    " min_child_weight= 2,\n",
    " #gamma=1,\n",
    " gamma=0.9,                        \n",
    " subsample=0.8,\n",
    " colsample_bytree=0.8,\n",
    " objective= 'binary:logistic',\n",
    " nthread= -1,\n",
    " scale_pos_weight=1).fit(x_train, y_train)\n",
    "predictions = gbm.predict(x_test)"
   ]
  },
  {
   "cell_type": "markdown",
   "metadata": {
    "_cell_guid": "0a8152d8-6842-ed00-6bc5-47a511adce1c",
    "_uuid": "0101e6b843f6378838874ccfb844ed464b81d627"
   },
   "source": [
    "Just a quick run down of the XGBoost parameters used in the model:\n",
    "\n",
    "**max_depth** : How deep you want to grow your tree. Beware if set to too high a number might run the risk of overfitting.\n",
    "\n",
    "**gamma** : minimum loss reduction required to make a further partition on a leaf node of the tree. The larger, the more conservative the algorithm will be.\n",
    "\n",
    "**eta** : step size shrinkage used in each boosting step to prevent overfitting"
   ]
  },
  {
   "cell_type": "markdown",
   "metadata": {
    "_cell_guid": "6b4a5c81-e968-d41e-27e4-871481019867",
    "_uuid": "52ac0cd99cee0099d86a180127da42ff7fff960a"
   },
   "source": [
    "**Producing the Submission file**\n",
    "\n",
    "Finally having trained and fit all our first-level and second-level models, we can now output the predictions into the proper format for submission to the Titanic competition as follows:"
   ]
  },
  {
   "cell_type": "code",
   "execution_count": 57,
   "metadata": {
    "_cell_guid": "f5a31787-5fe1-a559-bee9-ad6b6d83ae14",
    "_uuid": "9d607d829dbadd6c72ee01c9735a642435eb53e6",
    "collapsed": true
   },
   "outputs": [],
   "source": [
    "# Generate Submission File \n",
    "StackingSubmission = pd.DataFrame({ 'PassengerId': PassengerId,\n",
    "                            'Survived': predictions })\n",
    "StackingSubmission.to_csv(\"StackingSubmission.csv\", index=False)"
   ]
  },
  {
   "cell_type": "markdown",
   "metadata": {
    "_cell_guid": "1e56c738-b8f3-95e4-d642-c483f9757ed8",
    "_uuid": "9db5fd7cbb0d406ab0ef9aa08cf56532c51ec8b5"
   },
   "source": [
    "**Steps for Further Improvement**\n",
    "\n",
    "As a closing remark it must be noted that the steps taken above just show a very simple way of producing an ensemble stacker. You hear of ensembles created at the highest level of Kaggle competitions which involves monstrous combinations of stacked classifiers as well as levels of stacking which go to more than 2 levels. \n",
    "\n",
    "Some additional steps that may be taken to improve one's score could be:\n",
    "\n",
    " 1. Implementing a good cross-validation strategy in training the models to find optimal parameter values\n",
    " 2. Introduce a greater variety of base models for learning. The more uncorrelated the results, the better the final score."
   ]
  },
  {
   "cell_type": "markdown",
   "metadata": {
    "_cell_guid": "9a8f83fd-d0e8-035a-cf7f-25c9012e9373",
    "_uuid": "c32d1d64e1a5f8fbe5f51a0a7afd952ccfdec57e"
   },
   "source": [
    "### Conclusion\n",
    "\n",
    "I have this notebook has been helpful somewhat in introducing a working script for stacking learning models. Again credit must be extended to Faron and Sina. \n",
    "\n",
    "For other excellent material on stacking or ensembling in general, refer to the de-facto Must read article on the website MLWave: [Kaggle Ensembling Guide][1]. \n",
    "\n",
    "Till next time, Peace Out\n",
    "\n",
    "  [1]: http://mlwave.com/kaggle-ensembling-guide/"
   ]
  }
 ],
 "metadata": {
  "_change_revision": 0,
  "_is_fork": false,
  "kernelspec": {
   "display_name": "Python 2",
   "language": "python",
   "name": "python2"
  },
  "language_info": {
   "codemirror_mode": {
    "name": "ipython",
    "version": 2
   },
   "file_extension": ".py",
   "mimetype": "text/x-python",
   "name": "python",
   "nbconvert_exporter": "python",
   "pygments_lexer": "ipython2",
   "version": "2.7.13"
  }
 },
 "nbformat": 4,
 "nbformat_minor": 1
}
