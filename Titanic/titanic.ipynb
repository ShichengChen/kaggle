{
 "cells": [
  {
   "cell_type": "code",
   "execution_count": 317,
   "metadata": {
    "_cell_guid": "14630296-b1aa-759e-bafa-b6a73f3896ed",
    "_execution_state": "idle",
    "_uuid": "2e37a274400cfeb472b6405d524325245588dd66"
   },
   "outputs": [],
   "source": [
    "# Load in our libraries\n",
    "import pandas as pd\n",
    "import numpy as np\n",
    "import re\n",
    "import sklearn\n",
    "import xgboost as xgb\n",
    "import seaborn as sns\n",
    "import matplotlib.pyplot as plt\n",
    "from sklearn.ensemble import VotingClassifier\n",
    "%matplotlib inline\n",
    "from sklearn.model_selection import StratifiedKFold\n",
    "from sklearn.model_selection import GridSearchCV\n",
    "from sklearn.model_selection import train_test_split\n",
    "from collections import Counter\n",
    "import warnings\n",
    "warnings.filterwarnings('ignore')\n",
    "\n",
    "# Going to use these 5 base models for the stacking\n",
    "from sklearn.ensemble import RandomForestClassifier, AdaBoostClassifier, GradientBoostingClassifier, ExtraTreesClassifier\n",
    "from sklearn.svm import SVC"
   ]
  },
  {
   "cell_type": "code",
   "execution_count": 318,
   "metadata": {
    "_cell_guid": "5937fd72-d1ad-f678-cc82-f08a96e4cad0",
    "_execution_state": "idle",
    "_uuid": "b2ad78041b69ce13d1f41bd9bc8c93cafaf7b8ac",
    "collapsed": true
   },
   "outputs": [],
   "source": [
    "# Load in the train and test datasets\n",
    "train = pd.read_csv('train.csv')\n",
    "test = pd.read_csv('test.csv')\n",
    "\n",
    "# Store our passenger ID for easy access\n",
    "PassengerId = test['PassengerId']"
   ]
  },
  {
   "cell_type": "code",
   "execution_count": 319,
   "metadata": {
    "_cell_guid": "fa97ecae-bcb4-cf7d-9675-d2d8998eaffa",
    "_execution_state": "idle",
    "_uuid": "5c4db06b1991bc9220b834a23bafd82f085e1fdc"
   },
   "outputs": [
    {
     "data": {
      "text/html": [
       "<div>\n",
       "<style>\n",
       "    .dataframe thead tr:only-child th {\n",
       "        text-align: right;\n",
       "    }\n",
       "\n",
       "    .dataframe thead th {\n",
       "        text-align: left;\n",
       "    }\n",
       "\n",
       "    .dataframe tbody tr th {\n",
       "        vertical-align: top;\n",
       "    }\n",
       "</style>\n",
       "<table border=\"1\" class=\"dataframe\">\n",
       "  <thead>\n",
       "    <tr style=\"text-align: right;\">\n",
       "      <th></th>\n",
       "      <th>PassengerId</th>\n",
       "      <th>Survived</th>\n",
       "      <th>Pclass</th>\n",
       "      <th>Name</th>\n",
       "      <th>Sex</th>\n",
       "      <th>Age</th>\n",
       "      <th>SibSp</th>\n",
       "      <th>Parch</th>\n",
       "      <th>Ticket</th>\n",
       "      <th>Fare</th>\n",
       "      <th>Cabin</th>\n",
       "      <th>Embarked</th>\n",
       "    </tr>\n",
       "  </thead>\n",
       "  <tbody>\n",
       "    <tr>\n",
       "      <th>0</th>\n",
       "      <td>1</td>\n",
       "      <td>0</td>\n",
       "      <td>3</td>\n",
       "      <td>Braund, Mr. Owen Harris</td>\n",
       "      <td>male</td>\n",
       "      <td>22.0</td>\n",
       "      <td>1</td>\n",
       "      <td>0</td>\n",
       "      <td>A/5 21171</td>\n",
       "      <td>7.2500</td>\n",
       "      <td>NaN</td>\n",
       "      <td>S</td>\n",
       "    </tr>\n",
       "    <tr>\n",
       "      <th>1</th>\n",
       "      <td>2</td>\n",
       "      <td>1</td>\n",
       "      <td>1</td>\n",
       "      <td>Cumings, Mrs. John Bradley (Florence Briggs Th...</td>\n",
       "      <td>female</td>\n",
       "      <td>38.0</td>\n",
       "      <td>1</td>\n",
       "      <td>0</td>\n",
       "      <td>PC 17599</td>\n",
       "      <td>71.2833</td>\n",
       "      <td>C85</td>\n",
       "      <td>C</td>\n",
       "    </tr>\n",
       "    <tr>\n",
       "      <th>2</th>\n",
       "      <td>3</td>\n",
       "      <td>1</td>\n",
       "      <td>3</td>\n",
       "      <td>Heikkinen, Miss. Laina</td>\n",
       "      <td>female</td>\n",
       "      <td>26.0</td>\n",
       "      <td>0</td>\n",
       "      <td>0</td>\n",
       "      <td>STON/O2. 3101282</td>\n",
       "      <td>7.9250</td>\n",
       "      <td>NaN</td>\n",
       "      <td>S</td>\n",
       "    </tr>\n",
       "  </tbody>\n",
       "</table>\n",
       "</div>"
      ],
      "text/plain": [
       "   PassengerId  Survived  Pclass  \\\n",
       "0            1         0       3   \n",
       "1            2         1       1   \n",
       "2            3         1       3   \n",
       "\n",
       "                                                Name     Sex   Age  SibSp  \\\n",
       "0                            Braund, Mr. Owen Harris    male  22.0      1   \n",
       "1  Cumings, Mrs. John Bradley (Florence Briggs Th...  female  38.0      1   \n",
       "2                             Heikkinen, Miss. Laina  female  26.0      0   \n",
       "\n",
       "   Parch            Ticket     Fare Cabin Embarked  \n",
       "0      0         A/5 21171   7.2500   NaN        S  \n",
       "1      0          PC 17599  71.2833   C85        C  \n",
       "2      0  STON/O2. 3101282   7.9250   NaN        S  "
      ]
     },
     "execution_count": 319,
     "metadata": {},
     "output_type": "execute_result"
    }
   ],
   "source": [
    "train.head(3)"
   ]
  },
  {
   "cell_type": "code",
   "execution_count": 320,
   "metadata": {},
   "outputs": [
    {
     "data": {
      "text/html": [
       "<div>\n",
       "<style>\n",
       "    .dataframe thead tr:only-child th {\n",
       "        text-align: right;\n",
       "    }\n",
       "\n",
       "    .dataframe thead th {\n",
       "        text-align: left;\n",
       "    }\n",
       "\n",
       "    .dataframe tbody tr th {\n",
       "        vertical-align: top;\n",
       "    }\n",
       "</style>\n",
       "<table border=\"1\" class=\"dataframe\">\n",
       "  <thead>\n",
       "    <tr style=\"text-align: right;\">\n",
       "      <th></th>\n",
       "      <th>PassengerId</th>\n",
       "      <th>Survived</th>\n",
       "      <th>Pclass</th>\n",
       "      <th>Name</th>\n",
       "      <th>Sex</th>\n",
       "      <th>Age</th>\n",
       "      <th>SibSp</th>\n",
       "      <th>Parch</th>\n",
       "      <th>Ticket</th>\n",
       "      <th>Fare</th>\n",
       "      <th>Cabin</th>\n",
       "      <th>Embarked</th>\n",
       "    </tr>\n",
       "  </thead>\n",
       "  <tbody>\n",
       "    <tr>\n",
       "      <th>27</th>\n",
       "      <td>28</td>\n",
       "      <td>0</td>\n",
       "      <td>1</td>\n",
       "      <td>Fortune, Mr. Charles Alexander</td>\n",
       "      <td>male</td>\n",
       "      <td>19.0</td>\n",
       "      <td>3</td>\n",
       "      <td>2</td>\n",
       "      <td>19950</td>\n",
       "      <td>263.00</td>\n",
       "      <td>C23 C25 C27</td>\n",
       "      <td>S</td>\n",
       "    </tr>\n",
       "    <tr>\n",
       "      <th>88</th>\n",
       "      <td>89</td>\n",
       "      <td>1</td>\n",
       "      <td>1</td>\n",
       "      <td>Fortune, Miss. Mabel Helen</td>\n",
       "      <td>female</td>\n",
       "      <td>23.0</td>\n",
       "      <td>3</td>\n",
       "      <td>2</td>\n",
       "      <td>19950</td>\n",
       "      <td>263.00</td>\n",
       "      <td>C23 C25 C27</td>\n",
       "      <td>S</td>\n",
       "    </tr>\n",
       "    <tr>\n",
       "      <th>159</th>\n",
       "      <td>160</td>\n",
       "      <td>0</td>\n",
       "      <td>3</td>\n",
       "      <td>Sage, Master. Thomas Henry</td>\n",
       "      <td>male</td>\n",
       "      <td>NaN</td>\n",
       "      <td>8</td>\n",
       "      <td>2</td>\n",
       "      <td>CA. 2343</td>\n",
       "      <td>69.55</td>\n",
       "      <td>NaN</td>\n",
       "      <td>S</td>\n",
       "    </tr>\n",
       "    <tr>\n",
       "      <th>180</th>\n",
       "      <td>181</td>\n",
       "      <td>0</td>\n",
       "      <td>3</td>\n",
       "      <td>Sage, Miss. Constance Gladys</td>\n",
       "      <td>female</td>\n",
       "      <td>NaN</td>\n",
       "      <td>8</td>\n",
       "      <td>2</td>\n",
       "      <td>CA. 2343</td>\n",
       "      <td>69.55</td>\n",
       "      <td>NaN</td>\n",
       "      <td>S</td>\n",
       "    </tr>\n",
       "    <tr>\n",
       "      <th>201</th>\n",
       "      <td>202</td>\n",
       "      <td>0</td>\n",
       "      <td>3</td>\n",
       "      <td>Sage, Mr. Frederick</td>\n",
       "      <td>male</td>\n",
       "      <td>NaN</td>\n",
       "      <td>8</td>\n",
       "      <td>2</td>\n",
       "      <td>CA. 2343</td>\n",
       "      <td>69.55</td>\n",
       "      <td>NaN</td>\n",
       "      <td>S</td>\n",
       "    </tr>\n",
       "    <tr>\n",
       "      <th>792</th>\n",
       "      <td>793</td>\n",
       "      <td>0</td>\n",
       "      <td>3</td>\n",
       "      <td>Sage, Miss. Stella Anna</td>\n",
       "      <td>female</td>\n",
       "      <td>NaN</td>\n",
       "      <td>8</td>\n",
       "      <td>2</td>\n",
       "      <td>CA. 2343</td>\n",
       "      <td>69.55</td>\n",
       "      <td>NaN</td>\n",
       "      <td>S</td>\n",
       "    </tr>\n",
       "    <tr>\n",
       "      <th>324</th>\n",
       "      <td>325</td>\n",
       "      <td>0</td>\n",
       "      <td>3</td>\n",
       "      <td>Sage, Mr. George John Jr</td>\n",
       "      <td>male</td>\n",
       "      <td>NaN</td>\n",
       "      <td>8</td>\n",
       "      <td>2</td>\n",
       "      <td>CA. 2343</td>\n",
       "      <td>69.55</td>\n",
       "      <td>NaN</td>\n",
       "      <td>S</td>\n",
       "    </tr>\n",
       "    <tr>\n",
       "      <th>846</th>\n",
       "      <td>847</td>\n",
       "      <td>0</td>\n",
       "      <td>3</td>\n",
       "      <td>Sage, Mr. Douglas Bullen</td>\n",
       "      <td>male</td>\n",
       "      <td>NaN</td>\n",
       "      <td>8</td>\n",
       "      <td>2</td>\n",
       "      <td>CA. 2343</td>\n",
       "      <td>69.55</td>\n",
       "      <td>NaN</td>\n",
       "      <td>S</td>\n",
       "    </tr>\n",
       "    <tr>\n",
       "      <th>341</th>\n",
       "      <td>342</td>\n",
       "      <td>1</td>\n",
       "      <td>1</td>\n",
       "      <td>Fortune, Miss. Alice Elizabeth</td>\n",
       "      <td>female</td>\n",
       "      <td>24.0</td>\n",
       "      <td>3</td>\n",
       "      <td>2</td>\n",
       "      <td>19950</td>\n",
       "      <td>263.00</td>\n",
       "      <td>C23 C25 C27</td>\n",
       "      <td>S</td>\n",
       "    </tr>\n",
       "    <tr>\n",
       "      <th>863</th>\n",
       "      <td>864</td>\n",
       "      <td>0</td>\n",
       "      <td>3</td>\n",
       "      <td>Sage, Miss. Dorothy Edith \"Dolly\"</td>\n",
       "      <td>female</td>\n",
       "      <td>NaN</td>\n",
       "      <td>8</td>\n",
       "      <td>2</td>\n",
       "      <td>CA. 2343</td>\n",
       "      <td>69.55</td>\n",
       "      <td>NaN</td>\n",
       "      <td>S</td>\n",
       "    </tr>\n",
       "  </tbody>\n",
       "</table>\n",
       "</div>"
      ],
      "text/plain": [
       "     PassengerId  Survived  Pclass                               Name     Sex  \\\n",
       "27            28         0       1     Fortune, Mr. Charles Alexander    male   \n",
       "88            89         1       1         Fortune, Miss. Mabel Helen  female   \n",
       "159          160         0       3         Sage, Master. Thomas Henry    male   \n",
       "180          181         0       3       Sage, Miss. Constance Gladys  female   \n",
       "201          202         0       3                Sage, Mr. Frederick    male   \n",
       "792          793         0       3            Sage, Miss. Stella Anna  female   \n",
       "324          325         0       3           Sage, Mr. George John Jr    male   \n",
       "846          847         0       3           Sage, Mr. Douglas Bullen    male   \n",
       "341          342         1       1     Fortune, Miss. Alice Elizabeth  female   \n",
       "863          864         0       3  Sage, Miss. Dorothy Edith \"Dolly\"  female   \n",
       "\n",
       "      Age  SibSp  Parch    Ticket    Fare        Cabin Embarked  \n",
       "27   19.0      3      2     19950  263.00  C23 C25 C27        S  \n",
       "88   23.0      3      2     19950  263.00  C23 C25 C27        S  \n",
       "159   NaN      8      2  CA. 2343   69.55          NaN        S  \n",
       "180   NaN      8      2  CA. 2343   69.55          NaN        S  \n",
       "201   NaN      8      2  CA. 2343   69.55          NaN        S  \n",
       "792   NaN      8      2  CA. 2343   69.55          NaN        S  \n",
       "324   NaN      8      2  CA. 2343   69.55          NaN        S  \n",
       "846   NaN      8      2  CA. 2343   69.55          NaN        S  \n",
       "341  24.0      3      2     19950  263.00  C23 C25 C27        S  \n",
       "863   NaN      8      2  CA. 2343   69.55          NaN        S  "
      ]
     },
     "execution_count": 320,
     "metadata": {},
     "output_type": "execute_result"
    }
   ],
   "source": [
    "# Outlier detection \n",
    "\n",
    "def detect_outliers(df,n,features):\n",
    "    \"\"\"\n",
    "    Takes a dataframe df of features and returns a list of the indices\n",
    "    corresponding to the observations containing more than n outliers according\n",
    "    to the Tukey method.\n",
    "    \"\"\"\n",
    "    outlier_indices = []\n",
    "    \n",
    "    # iterate over features(columns)\n",
    "    for col in features:\n",
    "        # 1st quartile (25%)\n",
    "        Q1 = np.percentile(df[col], 25)\n",
    "        # 3rd quartile (75%)\n",
    "        Q3 = np.percentile(df[col],75)\n",
    "        # Interquartile range (IQR)\n",
    "        IQR = Q3 - Q1\n",
    "        \n",
    "        # outlier step\n",
    "        outlier_step = 1.5 * IQR\n",
    "        \n",
    "        # Determine a list of indices of outliers for feature col\n",
    "        outlier_list_col = df[(df[col] < Q1 - outlier_step) | (df[col] > Q3 + outlier_step )].index\n",
    "        # append the found outlier indices for col to the list of outlier indices \n",
    "        outlier_indices.extend(outlier_list_col)\n",
    "        \n",
    "    # select observations containing more than 2 outliers\n",
    "    outlier_indices = Counter(outlier_indices) \n",
    "    #print outlier_indices\n",
    "    multiple_outliers = list( k for k, v in outlier_indices.items() if v > n )\n",
    "    \n",
    "    return multiple_outliers   \n",
    "\n",
    "# detect outliers from Age, SibSp , Parch and Fare\n",
    "Outliers_to_drop = detect_outliers(train,2,[\"Age\",\"SibSp\",\"Parch\",\"Fare\"])\n",
    "train.loc[Outliers_to_drop] # Show the outliers rows"
   ]
  },
  {
   "cell_type": "code",
   "execution_count": 321,
   "metadata": {
    "collapsed": true
   },
   "outputs": [],
   "source": [
    "train = train.drop(Outliers_to_drop, axis = 0).reset_index(drop=True)"
   ]
  },
  {
   "cell_type": "code",
   "execution_count": 322,
   "metadata": {
    "collapsed": true
   },
   "outputs": [],
   "source": [
    "train_len = len(train)\n",
    "dataset =  pd.concat(objs=[train, test], axis=0).reset_index(drop=True)"
   ]
  },
  {
   "cell_type": "code",
   "execution_count": 323,
   "metadata": {},
   "outputs": [
    {
     "data": {
      "text/plain": [
       "Age             256\n",
       "Cabin          1007\n",
       "Embarked          2\n",
       "Fare              1\n",
       "Name              0\n",
       "Parch             0\n",
       "PassengerId       0\n",
       "Pclass            0\n",
       "Sex               0\n",
       "SibSp             0\n",
       "Survived        418\n",
       "Ticket            0\n",
       "dtype: int64"
      ]
     },
     "execution_count": 323,
     "metadata": {},
     "output_type": "execute_result"
    }
   ],
   "source": [
    "# Fill empty and NaNs values with NaN\n",
    "dataset = dataset.fillna(np.nan)\n",
    "\n",
    "# Check for Null values\n",
    "dataset.isnull().sum()"
   ]
  },
  {
   "cell_type": "code",
   "execution_count": 324,
   "metadata": {},
   "outputs": [
    {
     "data": {
      "text/html": [
       "<div>\n",
       "<style>\n",
       "    .dataframe thead tr:only-child th {\n",
       "        text-align: right;\n",
       "    }\n",
       "\n",
       "    .dataframe thead th {\n",
       "        text-align: left;\n",
       "    }\n",
       "\n",
       "    .dataframe tbody tr th {\n",
       "        vertical-align: top;\n",
       "    }\n",
       "</style>\n",
       "<table border=\"1\" class=\"dataframe\">\n",
       "  <thead>\n",
       "    <tr style=\"text-align: right;\">\n",
       "      <th></th>\n",
       "      <th>PassengerId</th>\n",
       "      <th>Survived</th>\n",
       "      <th>Pclass</th>\n",
       "      <th>Age</th>\n",
       "      <th>SibSp</th>\n",
       "      <th>Parch</th>\n",
       "      <th>Fare</th>\n",
       "    </tr>\n",
       "  </thead>\n",
       "  <tbody>\n",
       "    <tr>\n",
       "      <th>count</th>\n",
       "      <td>881.000000</td>\n",
       "      <td>881.000000</td>\n",
       "      <td>881.000000</td>\n",
       "      <td>711.000000</td>\n",
       "      <td>881.000000</td>\n",
       "      <td>881.000000</td>\n",
       "      <td>881.000000</td>\n",
       "    </tr>\n",
       "    <tr>\n",
       "      <th>mean</th>\n",
       "      <td>446.713961</td>\n",
       "      <td>0.385925</td>\n",
       "      <td>2.307605</td>\n",
       "      <td>29.731603</td>\n",
       "      <td>0.455165</td>\n",
       "      <td>0.363224</td>\n",
       "      <td>31.121566</td>\n",
       "    </tr>\n",
       "    <tr>\n",
       "      <th>std</th>\n",
       "      <td>256.617021</td>\n",
       "      <td>0.487090</td>\n",
       "      <td>0.835055</td>\n",
       "      <td>14.547835</td>\n",
       "      <td>0.871571</td>\n",
       "      <td>0.791839</td>\n",
       "      <td>47.996249</td>\n",
       "    </tr>\n",
       "    <tr>\n",
       "      <th>min</th>\n",
       "      <td>1.000000</td>\n",
       "      <td>0.000000</td>\n",
       "      <td>1.000000</td>\n",
       "      <td>0.420000</td>\n",
       "      <td>0.000000</td>\n",
       "      <td>0.000000</td>\n",
       "      <td>0.000000</td>\n",
       "    </tr>\n",
       "    <tr>\n",
       "      <th>25%</th>\n",
       "      <td>226.000000</td>\n",
       "      <td>0.000000</td>\n",
       "      <td>2.000000</td>\n",
       "      <td>20.250000</td>\n",
       "      <td>0.000000</td>\n",
       "      <td>0.000000</td>\n",
       "      <td>7.895800</td>\n",
       "    </tr>\n",
       "    <tr>\n",
       "      <th>50%</th>\n",
       "      <td>448.000000</td>\n",
       "      <td>0.000000</td>\n",
       "      <td>3.000000</td>\n",
       "      <td>28.000000</td>\n",
       "      <td>0.000000</td>\n",
       "      <td>0.000000</td>\n",
       "      <td>14.454200</td>\n",
       "    </tr>\n",
       "    <tr>\n",
       "      <th>75%</th>\n",
       "      <td>668.000000</td>\n",
       "      <td>1.000000</td>\n",
       "      <td>3.000000</td>\n",
       "      <td>38.000000</td>\n",
       "      <td>1.000000</td>\n",
       "      <td>0.000000</td>\n",
       "      <td>30.500000</td>\n",
       "    </tr>\n",
       "    <tr>\n",
       "      <th>max</th>\n",
       "      <td>891.000000</td>\n",
       "      <td>1.000000</td>\n",
       "      <td>3.000000</td>\n",
       "      <td>80.000000</td>\n",
       "      <td>5.000000</td>\n",
       "      <td>6.000000</td>\n",
       "      <td>512.329200</td>\n",
       "    </tr>\n",
       "  </tbody>\n",
       "</table>\n",
       "</div>"
      ],
      "text/plain": [
       "       PassengerId    Survived      Pclass         Age       SibSp  \\\n",
       "count   881.000000  881.000000  881.000000  711.000000  881.000000   \n",
       "mean    446.713961    0.385925    2.307605   29.731603    0.455165   \n",
       "std     256.617021    0.487090    0.835055   14.547835    0.871571   \n",
       "min       1.000000    0.000000    1.000000    0.420000    0.000000   \n",
       "25%     226.000000    0.000000    2.000000   20.250000    0.000000   \n",
       "50%     448.000000    0.000000    3.000000   28.000000    0.000000   \n",
       "75%     668.000000    1.000000    3.000000   38.000000    1.000000   \n",
       "max     891.000000    1.000000    3.000000   80.000000    5.000000   \n",
       "\n",
       "            Parch        Fare  \n",
       "count  881.000000  881.000000  \n",
       "mean     0.363224   31.121566  \n",
       "std      0.791839   47.996249  \n",
       "min      0.000000    0.000000  \n",
       "25%      0.000000    7.895800  \n",
       "50%      0.000000   14.454200  \n",
       "75%      0.000000   30.500000  \n",
       "max      6.000000  512.329200  "
      ]
     },
     "execution_count": 324,
     "metadata": {},
     "output_type": "execute_result"
    }
   ],
   "source": [
    "train.describe()"
   ]
  },
  {
   "cell_type": "code",
   "execution_count": 325,
   "metadata": {},
   "outputs": [
    {
     "data": {
      "text/html": [
       "<div>\n",
       "<style>\n",
       "    .dataframe thead tr:only-child th {\n",
       "        text-align: right;\n",
       "    }\n",
       "\n",
       "    .dataframe thead th {\n",
       "        text-align: left;\n",
       "    }\n",
       "\n",
       "    .dataframe tbody tr th {\n",
       "        vertical-align: top;\n",
       "    }\n",
       "</style>\n",
       "<table border=\"1\" class=\"dataframe\">\n",
       "  <thead>\n",
       "    <tr style=\"text-align: right;\">\n",
       "      <th></th>\n",
       "      <th>Name</th>\n",
       "      <th>Sex</th>\n",
       "      <th>Ticket</th>\n",
       "      <th>Cabin</th>\n",
       "      <th>Embarked</th>\n",
       "    </tr>\n",
       "  </thead>\n",
       "  <tbody>\n",
       "    <tr>\n",
       "      <th>count</th>\n",
       "      <td>881</td>\n",
       "      <td>881</td>\n",
       "      <td>881</td>\n",
       "      <td>201</td>\n",
       "      <td>879</td>\n",
       "    </tr>\n",
       "    <tr>\n",
       "      <th>unique</th>\n",
       "      <td>881</td>\n",
       "      <td>2</td>\n",
       "      <td>680</td>\n",
       "      <td>147</td>\n",
       "      <td>3</td>\n",
       "    </tr>\n",
       "    <tr>\n",
       "      <th>top</th>\n",
       "      <td>Graham, Mr. George Edward</td>\n",
       "      <td>male</td>\n",
       "      <td>1601</td>\n",
       "      <td>G6</td>\n",
       "      <td>S</td>\n",
       "    </tr>\n",
       "    <tr>\n",
       "      <th>freq</th>\n",
       "      <td>1</td>\n",
       "      <td>572</td>\n",
       "      <td>7</td>\n",
       "      <td>4</td>\n",
       "      <td>634</td>\n",
       "    </tr>\n",
       "  </tbody>\n",
       "</table>\n",
       "</div>"
      ],
      "text/plain": [
       "                             Name   Sex Ticket Cabin Embarked\n",
       "count                         881   881    881   201      879\n",
       "unique                        881     2    680   147        3\n",
       "top     Graham, Mr. George Edward  male   1601    G6        S\n",
       "freq                            1   572      7     4      634"
      ]
     },
     "execution_count": 325,
     "metadata": {},
     "output_type": "execute_result"
    }
   ],
   "source": [
    "train.describe(include=['O', 'category'])"
   ]
  },
  {
   "cell_type": "code",
   "execution_count": 326,
   "metadata": {},
   "outputs": [
    {
     "data": {
      "image/png": "[encoded data removed]",
      "text/plain": [
       "<matplotlib.figure.Figure at 0x7ff6c37e2bd0>"
      ]
     },
     "metadata": {},
     "output_type": "display_data"
    }
   ],
   "source": [
    "g = sns.factorplot(x=\"SibSp\",y=\"Survived\",data=train,kind=\"bar\", size = 6 , \n",
    "palette = \"muted\")\n",
    "g.despine(left=True)\n",
    "g = g.set_ylabels(\"survival probability\")"
   ]
  },
  {
   "cell_type": "code",
   "execution_count": 327,
   "metadata": {},
   "outputs": [
    {
     "data": {
      "image/png": "[encoded data removed]",
      "text/plain": [
       "<matplotlib.figure.Figure at 0x7ff6e35e40d0>"
      ]
     },
     "metadata": {},
     "output_type": "display_data"
    }
   ],
   "source": [
    "g  = sns.factorplot(x=\"Parch\",y=\"Survived\",data=train,kind=\"bar\", size = 6 , \n",
    "palette = \"muted\")\n",
    "g.despine(left=True)\n",
    "g = g.set_ylabels(\"survival probability\")"
   ]
  },
  {
   "cell_type": "code",
   "execution_count": 328,
   "metadata": {},
   "outputs": [
    {
     "data": {
      "image/png": "[encoded data removed]",
      "text/plain": [
       "<matplotlib.figure.Figure at 0x7ff6e028dc90>"
      ]
     },
     "metadata": {},
     "output_type": "display_data"
    }
   ],
   "source": [
    "g = sns.FacetGrid(train, col='Survived')\n",
    "g = g.map(sns.distplot, \"Age\")"
   ]
  },
  {
   "cell_type": "code",
   "execution_count": 329,
   "metadata": {},
   "outputs": [
    {
     "data": {
      "image/png": "[encoded data removed]",
      "text/plain": [
       "<matplotlib.figure.Figure at 0x7ff6c2dd1250>"
      ]
     },
     "metadata": {},
     "output_type": "display_data"
    }
   ],
   "source": [
    "g = sns.kdeplot(train[\"Age\"][(train[\"Survived\"] == 0) & (train[\"Age\"].notnull())], color=\"Red\", shade = True)\n",
    "g = sns.kdeplot(train[\"Age\"][(train[\"Survived\"] == 1) & (train[\"Age\"].notnull())], ax =g, color=\"Blue\", shade= True)\n",
    "g.set_xlabel(\"Age\")\n",
    "g.set_ylabel(\"Frequency\")\n",
    "g = g.legend([\"Not Survived\",\"Survived\"])"
   ]
  },
  {
   "cell_type": "code",
   "execution_count": 330,
   "metadata": {},
   "outputs": [
    {
     "data": {
      "image/png": "[encoded data removed]",
      "text/plain": [
       "<matplotlib.figure.Figure at 0x7ff6c375c6d0>"
      ]
     },
     "metadata": {},
     "output_type": "display_data"
    },
    {
     "data": {
      "image/png": "[encoded data removed]",
      "text/plain": [
       "<matplotlib.figure.Figure at 0x7ff6e45e1c50>"
      ]
     },
     "metadata": {},
     "output_type": "display_data"
    }
   ],
   "source": [
    "g = sns.factorplot(x=\"Survived\", y = \"Age\",data = train, kind=\"box\")\n",
    "g = sns.factorplot(x=\"Survived\", y = \"Age\",data = train, kind=\"violin\")"
   ]
  },
  {
   "cell_type": "code",
   "execution_count": 331,
   "metadata": {},
   "outputs": [
    {
     "data": {
      "text/html": [
       "<div>\n",
       "<style>\n",
       "    .dataframe thead tr:only-child th {\n",
       "        text-align: right;\n",
       "    }\n",
       "\n",
       "    .dataframe thead th {\n",
       "        text-align: left;\n",
       "    }\n",
       "\n",
       "    .dataframe tbody tr th {\n",
       "        vertical-align: top;\n",
       "    }\n",
       "</style>\n",
       "<table border=\"1\" class=\"dataframe\">\n",
       "  <thead>\n",
       "    <tr style=\"text-align: right;\">\n",
       "      <th></th>\n",
       "      <th>Age</th>\n",
       "      <th>Cabin</th>\n",
       "      <th>Embarked</th>\n",
       "      <th>Fare</th>\n",
       "      <th>Name</th>\n",
       "      <th>Parch</th>\n",
       "      <th>PassengerId</th>\n",
       "      <th>Pclass</th>\n",
       "      <th>Sex</th>\n",
       "      <th>SibSp</th>\n",
       "      <th>Survived</th>\n",
       "      <th>Ticket</th>\n",
       "    </tr>\n",
       "  </thead>\n",
       "  <tbody>\n",
       "    <tr>\n",
       "      <th>1033</th>\n",
       "      <td>60.5</td>\n",
       "      <td>NaN</td>\n",
       "      <td>S</td>\n",
       "      <td>NaN</td>\n",
       "      <td>Storey, Mr. Thomas</td>\n",
       "      <td>0</td>\n",
       "      <td>1044</td>\n",
       "      <td>3</td>\n",
       "      <td>male</td>\n",
       "      <td>0</td>\n",
       "      <td>NaN</td>\n",
       "      <td>3701</td>\n",
       "    </tr>\n",
       "  </tbody>\n",
       "</table>\n",
       "</div>"
      ],
      "text/plain": [
       "       Age Cabin Embarked  Fare                Name  Parch  PassengerId  \\\n",
       "1033  60.5   NaN        S   NaN  Storey, Mr. Thomas      0         1044   \n",
       "\n",
       "      Pclass   Sex  SibSp  Survived Ticket  \n",
       "1033       3  male      0       NaN   3701  "
      ]
     },
     "execution_count": 331,
     "metadata": {},
     "output_type": "execute_result"
    }
   ],
   "source": [
    "dataset[dataset['Fare'].isnull()]"
   ]
  },
  {
   "cell_type": "code",
   "execution_count": 332,
   "metadata": {
    "collapsed": true
   },
   "outputs": [],
   "source": [
    "median = dataset[(dataset.Pclass==3)&(dataset.Embarked=='S')]['Fare'].median()\n",
    "dataset[\"Fare\"] = dataset[\"Fare\"].fillna(median)"
   ]
  },
  {
   "cell_type": "code",
   "execution_count": 333,
   "metadata": {},
   "outputs": [
    {
     "data": {
      "image/png": "[encoded data removed]",
      "text/plain": [
       "<matplotlib.figure.Figure at 0x7ff6c3247d50>"
      ]
     },
     "metadata": {},
     "output_type": "display_data"
    }
   ],
   "source": [
    "g = sns.distplot(dataset[\"Fare\"], color=\"m\", label=\"Skewness : %.2f\"%(dataset[\"Fare\"].skew()))\n",
    "g = g.legend(loc=\"best\")"
   ]
  },
  {
   "cell_type": "code",
   "execution_count": 334,
   "metadata": {
    "collapsed": true
   },
   "outputs": [],
   "source": [
    "dataset[\"Fare\"] = dataset[\"Fare\"].map(lambda i: np.log(i) if i > 0 else 0)"
   ]
  },
  {
   "cell_type": "code",
   "execution_count": 335,
   "metadata": {
    "scrolled": true
   },
   "outputs": [
    {
     "data": {
      "image/png": "[encoded data removed]",
      "text/plain": [
       "<matplotlib.figure.Figure at 0x7ff6c3247710>"
      ]
     },
     "metadata": {},
     "output_type": "display_data"
    }
   ],
   "source": [
    "g = sns.distplot(dataset[\"Fare\"], color=\"b\", label=\"Skewness : %.2f\"%(dataset[\"Fare\"].skew()))\n",
    "g = g.legend(loc=\"best\")"
   ]
  },
  {
   "cell_type": "code",
   "execution_count": 336,
   "metadata": {},
   "outputs": [
    {
     "data": {
      "image/png": "[encoded data removed]",
      "text/plain": [
       "<matplotlib.figure.Figure at 0x7ff6e34b0dd0>"
      ]
     },
     "metadata": {},
     "output_type": "display_data"
    }
   ],
   "source": [
    "g = sns.factorplot(x=\"Pclass\", y=\"Survived\", hue=\"Sex\", data=train,\n",
    "                   size=6, kind=\"bar\", palette=\"muted\")\n",
    "g.despine(left=True)\n",
    "g = g.set_ylabels(\"survival probability\")"
   ]
  },
  {
   "cell_type": "code",
   "execution_count": 337,
   "metadata": {},
   "outputs": [
    {
     "name": "stdout",
     "output_type": "stream",
     "text": [
      "      Age Cabin Embarked      Fare                                       Name  \\\n",
      "60   38.0   B28      NaN  4.382027                        Icard, Miss. Amelie   \n",
      "821  62.0   B28      NaN  4.382027  Stone, Mrs. George Nelson (Martha Evelyn)   \n",
      "\n",
      "     Parch  PassengerId  Pclass     Sex  SibSp  Survived  Ticket  \n",
      "60       0           62       1  female      0       1.0  113572  \n",
      "821      0          830       1  female      0       1.0  113572  \n"
     ]
    },
    {
     "data": {
      "image/png": "[encoded data removed]",
      "text/plain": [
       "<matplotlib.figure.Figure at 0x7ff6e1852d10>"
      ]
     },
     "metadata": {},
     "output_type": "display_data"
    }
   ],
   "source": [
    "sns.boxplot(x=\"Embarked\", y=\"Fare\", hue=\"Pclass\", data=dataset);\n",
    "print dataset[dataset['Embarked'].isnull()]\n",
    "dataset[\"Embarked\"] = dataset[\"Embarked\"].fillna('C')"
   ]
  },
  {
   "cell_type": "code",
   "execution_count": 338,
   "metadata": {},
   "outputs": [
    {
     "data": {
      "image/png": "[encoded data removed]",
      "text/plain": [
       "<matplotlib.figure.Figure at 0x7ff6e353a3d0>"
      ]
     },
     "metadata": {},
     "output_type": "display_data"
    }
   ],
   "source": [
    "g = sns.factorplot(x=\"Embarked\", y=\"Survived\",  data=train,\n",
    "                   size=6, kind=\"bar\", palette=\"muted\")\n",
    "g.despine(left=True)\n",
    "g = g.set_ylabels(\"survival probability\")"
   ]
  },
  {
   "cell_type": "code",
   "execution_count": 339,
   "metadata": {},
   "outputs": [
    {
     "data": {
      "image/png": "[encoded data removed]",
      "text/plain": [
       "<matplotlib.figure.Figure at 0x7ff6e479dc50>"
      ]
     },
     "metadata": {},
     "output_type": "display_data"
    }
   ],
   "source": [
    "g = sns.factorplot(\"Pclass\", col=\"Embarked\",  data=train,\n",
    "                   size=6, kind=\"count\", palette=\"muted\")\n",
    "g.despine(left=True)\n",
    "g = g.set_ylabels(\"Count\")"
   ]
  },
  {
   "cell_type": "code",
   "execution_count": 340,
   "metadata": {},
   "outputs": [
    {
     "data": {
      "image/png": "[encoded data removed]",
      "text/plain": [
       "<matplotlib.figure.Figure at 0x7ff6e3731b50>"
      ]
     },
     "metadata": {},
     "output_type": "display_data"
    },
    {
     "data": {
      "image/png": "[encoded data removed]",
      "text/plain": [
       "<matplotlib.figure.Figure at 0x7ff6e3524390>"
      ]
     },
     "metadata": {},
     "output_type": "display_data"
    },
    {
     "data": {
      "image/png": "[encoded data removed]",
      "text/plain": [
       "<matplotlib.figure.Figure at 0x7ff6c2f48bd0>"
      ]
     },
     "metadata": {},
     "output_type": "display_data"
    },
    {
     "data": {
      "image/png": "[encoded data removed]",
      "text/plain": [
       "<matplotlib.figure.Figure at 0x7ff6c2eb5290>"
      ]
     },
     "metadata": {},
     "output_type": "display_data"
    }
   ],
   "source": [
    "g = sns.factorplot(y=\"Age\",x=\"Sex\",data=dataset,kind=\"box\")\n",
    "#Age distribution seems to be the same in Male and Female subpopulations, \n",
    "#so Sex is not informative to predict Age.\n",
    "g = sns.factorplot(y=\"Age\",x=\"Sex\",hue=\"Pclass\", data=dataset,kind=\"box\")\n",
    "g = sns.factorplot(y=\"Age\",x=\"Parch\", data=dataset,kind=\"box\")\n",
    "g = sns.factorplot(y=\"Age\",x=\"SibSp\", data=dataset,kind=\"box\")"
   ]
  },
  {
   "cell_type": "code",
   "execution_count": 341,
   "metadata": {
    "collapsed": true
   },
   "outputs": [],
   "source": [
    "dataset[\"Sex\"] = dataset[\"Sex\"].map({\"male\": 0, \"female\":1})"
   ]
  },
  {
   "cell_type": "code",
   "execution_count": 342,
   "metadata": {},
   "outputs": [],
   "source": [
    "familyPclass = dataset.groupby(['Parch','SibSp','Pclass'])['Age']\n",
    "dataset['Age'] = familyPclass.transform(lambda x: x.fillna(x.median()))\n",
    "dataset['Age'] = dataset['Age'].fillna(dataset[\"Age\"].median())\n",
    "dataset[['Age']] = dataset[['Age']].astype(int)"
   ]
  },
  {
   "cell_type": "code",
   "execution_count": 343,
   "metadata": {},
   "outputs": [
    {
     "data": {
      "image/png": "[encoded data removed]",
      "text/plain": [
       "<matplotlib.figure.Figure at 0x7ff6e1963810>"
      ]
     },
     "metadata": {},
     "output_type": "display_data"
    }
   ],
   "source": [
    "_,ax = plt.subplots(1,1,figsize=(30,30))\n",
    "ax.hist([dataset[dataset['Survived']==1]['Age'], dataset[dataset['Survived']==0]['Age']],\n",
    "         bins=40,stacked=True)\n",
    "plt.xticks(range(100))\n",
    "plt.show()"
   ]
  },
  {
   "cell_type": "code",
   "execution_count": 344,
   "metadata": {},
   "outputs": [
    {
     "data": {
      "text/plain": [
       "0                              Braund, Mr. Owen Harris\n",
       "1    Cumings, Mrs. John Bradley (Florence Briggs Th...\n",
       "2                               Heikkinen, Miss. Laina\n",
       "3         Futrelle, Mrs. Jacques Heath (Lily May Peel)\n",
       "4                             Allen, Mr. William Henry\n",
       "Name: Name, dtype: object"
      ]
     },
     "execution_count": 344,
     "metadata": {},
     "output_type": "execute_result"
    }
   ],
   "source": [
    "dataset[\"Name\"].head()"
   ]
  },
  {
   "cell_type": "code",
   "execution_count": 345,
   "metadata": {},
   "outputs": [
    {
     "data": {
      "text/plain": [
       "0      Mr\n",
       "1     Mrs\n",
       "2    Miss\n",
       "3     Mrs\n",
       "4      Mr\n",
       "Name: Title, dtype: object"
      ]
     },
     "execution_count": 345,
     "metadata": {},
     "output_type": "execute_result"
    }
   ],
   "source": [
    "# Get Title from Name\n",
    "dataset_title = [i.split(\",\")[1].split(\".\")[0].strip() for i in dataset[\"Name\"]]\n",
    "dataset[\"Title\"] = pd.Series(dataset_title)\n",
    "dataset[\"Title\"].head()"
   ]
  },
  {
   "cell_type": "code",
   "execution_count": 346,
   "metadata": {},
   "outputs": [
    {
     "data": {
      "image/png": "[encoded data removed]",
      "text/plain": [
       "<matplotlib.figure.Figure at 0x7ff6e172b1d0>"
      ]
     },
     "metadata": {},
     "output_type": "display_data"
    }
   ],
   "source": [
    "g = sns.countplot(x=\"Title\",data=dataset)\n",
    "g = plt.setp(g.get_xticklabels(), rotation=45) "
   ]
  },
  {
   "cell_type": "code",
   "execution_count": 347,
   "metadata": {
    "collapsed": true
   },
   "outputs": [],
   "source": [
    "# Convert to categorical values Title \n",
    "dataset[\"Title\"] = dataset[\"Title\"].replace(['Lady', 'the Countess','Countess','Capt', 'Col','Don', 'Dr', 'Major', 'Rev', 'Sir', 'Jonkheer', 'Dona'], 'Rare')\n",
    "dataset[\"Title\"] = dataset[\"Title\"].map({\"Master\":1, \"Miss\":0, \"Ms\" : 0 , \"Mme\":0, \"Mlle\":0, \"Mrs\":0, \"Mr\":3, \"Rare\":2})\n",
    "dataset[\"Title\"] = dataset[\"Title\"].astype(int)"
   ]
  },
  {
   "cell_type": "code",
   "execution_count": 348,
   "metadata": {},
   "outputs": [
    {
     "data": {
      "image/png": "[encoded data removed]",
      "text/plain": [
       "<matplotlib.figure.Figure at 0x7ff6e1909510>"
      ]
     },
     "metadata": {},
     "output_type": "display_data"
    }
   ],
   "source": [
    "g = sns.countplot(dataset[\"Title\"])\n",
    "g = g.set_xticklabels([\"Miss/Ms/Mme/Mlle/Mrs\",\"Master\",'Rare',\"Mr\"])"
   ]
  },
  {
   "cell_type": "code",
   "execution_count": 349,
   "metadata": {
    "scrolled": true
   },
   "outputs": [
    {
     "data": {
      "image/png": "[encoded data removed]",
      "text/plain": [
       "<matplotlib.figure.Figure at 0x7ff6e1995210>"
      ]
     },
     "metadata": {},
     "output_type": "display_data"
    }
   ],
   "source": [
    "g = sns.factorplot(x=\"Title\",y=\"Survived\",data=dataset,kind=\"bar\")\n",
    "g = g.set_xticklabels([\"Miss/Ms/Mme/Mlle/Mrs\",\"Master\",'Rare',\"Mr\"])\n",
    "g = g.set_ylabels(\"survival probability\")"
   ]
  },
  {
   "cell_type": "code",
   "execution_count": 350,
   "metadata": {
    "_cell_guid": "e85b2a80-88a4-928f-f2b2-24895dea38f3",
    "_execution_state": "idle",
    "_uuid": "b1c67249f91768ce8e5e2751364d32c87446cf55"
   },
   "outputs": [
    {
     "name": "stdout",
     "output_type": "stream",
     "text": [
      "[1 3 0 2]\n"
     ]
    },
    {
     "data": {
      "image/png": "[encoded data removed]",
      "text/plain": [
       "<matplotlib.figure.Figure at 0x7ff6c2da6350>"
      ]
     },
     "metadata": {},
     "output_type": "display_data"
    }
   ],
   "source": [
    "dataset['Name_length'] = dataset['Name'].apply(len)\n",
    "dataset['NlengthD'] = pd.qcut(dataset['Name_length'], 4, labels=[0,1,2,3]).astype(int)\n",
    "sns.factorplot(x=\"NlengthD\", y=\"Survived\", data=dataset,order=[0,1,2,3])\n",
    "print(dataset[\"NlengthD\"].unique())"
   ]
  },
  {
   "cell_type": "code",
   "execution_count": 351,
   "metadata": {},
   "outputs": [
    {
     "data": {
      "image/png": "[encoded data removed]",
      "text/plain": [
       "<matplotlib.figure.Figure at 0x7ff6c3077710>"
      ]
     },
     "metadata": {},
     "output_type": "display_data"
    }
   ],
   "source": [
    "dataset[\"Fsize\"] = dataset[\"SibSp\"] + dataset[\"Parch\"] + 1\n",
    "g = sns.factorplot(x=\"Fsize\",y=\"Survived\",data = dataset)\n",
    "g = g.set_ylabels(\"Survival Probability\")"
   ]
  },
  {
   "cell_type": "code",
   "execution_count": 352,
   "metadata": {
    "collapsed": true
   },
   "outputs": [],
   "source": [
    "dataset['Single'] = dataset['Fsize'].map(lambda s: 1 if s == 1 else 0)\n",
    "dataset['SmallF'] = dataset['Fsize'].map(lambda s: 1 if  s == 2  else 0)\n",
    "dataset['MedF'] = dataset['Fsize'].map(lambda s: 1 if 3 <= s <= 4 else 0)\n",
    "dataset['LargeF'] = dataset['Fsize'].map(lambda s: 1 if s >= 5 else 0)"
   ]
  },
  {
   "cell_type": "code",
   "execution_count": 353,
   "metadata": {},
   "outputs": [
    {
     "data": {
      "image/png": "[encoded data removed]",
      "text/plain": [
       "<matplotlib.figure.Figure at 0x7ff6e48aced0>"
      ]
     },
     "metadata": {},
     "output_type": "display_data"
    },
    {
     "data": {
      "image/png": "[encoded data removed]",
      "text/plain": [
       "<matplotlib.figure.Figure at 0x7ff6c361b6d0>"
      ]
     },
     "metadata": {},
     "output_type": "display_data"
    },
    {
     "data": {
      "image/png": "[encoded data removed]",
      "text/plain": [
       "<matplotlib.figure.Figure at 0x7ff6c2cdb450>"
      ]
     },
     "metadata": {},
     "output_type": "display_data"
    },
    {
     "data": {
      "image/png": "[encoded data removed]",
      "text/plain": [
       "<matplotlib.figure.Figure at 0x7ff6e380bb90>"
      ]
     },
     "metadata": {},
     "output_type": "display_data"
    }
   ],
   "source": [
    "g = sns.factorplot(x=\"Single\",y=\"Survived\",data=dataset,kind=\"bar\")\n",
    "g = g.set_ylabels(\"Survival Probability\")\n",
    "g = sns.factorplot(x=\"SmallF\",y=\"Survived\",data=dataset,kind=\"bar\")\n",
    "g = g.set_ylabels(\"Survival Probability\")\n",
    "g = sns.factorplot(x=\"MedF\",y=\"Survived\",data=dataset,kind=\"bar\")\n",
    "g = g.set_ylabels(\"Survival Probability\")\n",
    "g = sns.factorplot(x=\"LargeF\",y=\"Survived\",data=dataset,kind=\"bar\")\n",
    "g = g.set_ylabels(\"Survival Probability\")"
   ]
  },
  {
   "cell_type": "code",
   "execution_count": 354,
   "metadata": {
    "collapsed": true
   },
   "outputs": [],
   "source": [
    "dataset = pd.get_dummies(dataset, columns = [\"Title\"])\n",
    "dataset = pd.get_dummies(dataset, columns = [\"Embarked\"], prefix=\"Em\")"
   ]
  },
  {
   "cell_type": "code",
   "execution_count": 355,
   "metadata": {
    "collapsed": true
   },
   "outputs": [],
   "source": [
    "dataset[\"Cabin\"].head()\n",
    "dataset[\"Cabin\"] = pd.Series([i[0] if not pd.isnull(i) else 'X' for i in dataset['Cabin'] ])"
   ]
  },
  {
   "cell_type": "code",
   "execution_count": 356,
   "metadata": {},
   "outputs": [
    {
     "data": {
      "image/png": "[encoded data removed]",
      "text/plain": [
       "<matplotlib.figure.Figure at 0x7ff6c3208050>"
      ]
     },
     "metadata": {},
     "output_type": "display_data"
    }
   ],
   "source": [
    "g = sns.countplot(dataset[\"Cabin\"],order=['A','B','C','D','E','F','G','T','X'])"
   ]
  },
  {
   "cell_type": "code",
   "execution_count": 357,
   "metadata": {},
   "outputs": [
    {
     "data": {
      "image/png": "[encoded data removed]",
      "text/plain": [
       "<matplotlib.figure.Figure at 0x7ff6e1844d10>"
      ]
     },
     "metadata": {},
     "output_type": "display_data"
    }
   ],
   "source": [
    "g = sns.factorplot(y=\"Survived\",x=\"Cabin\",data=dataset,kind=\"bar\",order=['A','B','C','D','E','F','G','T','X'])\n",
    "g = g.set_ylabels(\"Survival Probability\")"
   ]
  },
  {
   "cell_type": "code",
   "execution_count": 358,
   "metadata": {
    "collapsed": true
   },
   "outputs": [],
   "source": [
    "dataset = pd.get_dummies(dataset, columns = [\"Cabin\"],prefix=\"Cabin\")"
   ]
  },
  {
   "cell_type": "code",
   "execution_count": 359,
   "metadata": {},
   "outputs": [
    {
     "data": {
      "text/plain": [
       "0           A/5 21171\n",
       "1            PC 17599\n",
       "2    STON/O2. 3101282\n",
       "3              113803\n",
       "4              373450\n",
       "Name: Ticket, dtype: object"
      ]
     },
     "execution_count": 359,
     "metadata": {},
     "output_type": "execute_result"
    }
   ],
   "source": [
    "dataset[\"Ticket\"].head()"
   ]
  },
  {
   "cell_type": "code",
   "execution_count": 360,
   "metadata": {},
   "outputs": [
    {
     "data": {
      "text/plain": [
       "0        A5\n",
       "1        PC\n",
       "2    STONO2\n",
       "3         X\n",
       "4         X\n",
       "Name: Ticket, dtype: object"
      ]
     },
     "execution_count": 360,
     "metadata": {},
     "output_type": "execute_result"
    }
   ],
   "source": [
    "Ticket = []\n",
    "for i in list(dataset.Ticket):\n",
    "    if not i.isdigit() :\n",
    "        Ticket.append(i.replace(\".\",\"\").replace(\"/\",\"\").strip().split(' ')[0]) #Take prefix\n",
    "    else:\n",
    "        Ticket.append(\"X\")\n",
    "        \n",
    "dataset[\"Ticket\"] = Ticket\n",
    "dataset[\"Ticket\"].head()"
   ]
  },
  {
   "cell_type": "code",
   "execution_count": 361,
   "metadata": {
    "collapsed": true
   },
   "outputs": [],
   "source": [
    "def get_child(age):\n",
    "    return 1 if age.Age < 16 else 0\n",
    "def get_old(age):\n",
    "    return 1 if age.Age >= 70 else 0   \n",
    "dataset['children'] = dataset[['Age']].apply(get_child,axis=1)\n",
    "dataset['old']    = dataset[['Age']].apply(get_old,axis=1)"
   ]
  },
  {
   "cell_type": "code",
   "execution_count": 362,
   "metadata": {
    "collapsed": true
   },
   "outputs": [],
   "source": [
    "dataset = pd.get_dummies(dataset, columns = [\"Ticket\"], prefix=\"T\")"
   ]
  },
  {
   "cell_type": "code",
   "execution_count": 363,
   "metadata": {
    "collapsed": true
   },
   "outputs": [],
   "source": [
    "dataset[\"Pclass\"] = dataset[\"Pclass\"].astype(\"category\")\n",
    "dataset = pd.get_dummies(dataset, columns = [\"Pclass\"],prefix=\"Pc\")"
   ]
  },
  {
   "cell_type": "code",
   "execution_count": 364,
   "metadata": {
    "collapsed": true
   },
   "outputs": [],
   "source": [
    "dataset.drop(labels = [\"PassengerId\"], axis = 1, inplace = True)\n",
    "dataset.drop(labels = [\"Name\"], axis = 1, inplace = True)"
   ]
  },
  {
   "cell_type": "code",
   "execution_count": 365,
   "metadata": {},
   "outputs": [],
   "source": [
    "arr = ['Age','Fare']\n",
    "dataset[arr] = dataset[arr].astype(int)\n",
    "#dataset.loc[:,1:] = dataset[:,1:].astype(int)"
   ]
  },
  {
   "cell_type": "code",
   "execution_count": 366,
   "metadata": {},
   "outputs": [
    {
     "data": {
      "text/plain": [
       "RangeIndex(start=0, stop=1299, step=1)"
      ]
     },
     "execution_count": 366,
     "metadata": {},
     "output_type": "execute_result"
    }
   ],
   "source": [
    "dataset.index"
   ]
  },
  {
   "cell_type": "code",
   "execution_count": 367,
   "metadata": {
    "scrolled": true
   },
   "outputs": [
    {
     "data": {
      "text/html": [
       "<div>\n",
       "<style>\n",
       "    .dataframe thead tr:only-child th {\n",
       "        text-align: right;\n",
       "    }\n",
       "\n",
       "    .dataframe thead th {\n",
       "        text-align: left;\n",
       "    }\n",
       "\n",
       "    .dataframe tbody tr th {\n",
       "        vertical-align: top;\n",
       "    }\n",
       "</style>\n",
       "<table border=\"1\" class=\"dataframe\">\n",
       "  <thead>\n",
       "    <tr style=\"text-align: right;\">\n",
       "      <th></th>\n",
       "      <th>Age</th>\n",
       "      <th>Fare</th>\n",
       "      <th>Parch</th>\n",
       "      <th>Sex</th>\n",
       "      <th>SibSp</th>\n",
       "      <th>Survived</th>\n",
       "      <th>Name_length</th>\n",
       "      <th>NlengthD</th>\n",
       "      <th>Fsize</th>\n",
       "      <th>Single</th>\n",
       "      <th>...</th>\n",
       "      <th>T_STONO</th>\n",
       "      <th>T_STONO2</th>\n",
       "      <th>T_STONOQ</th>\n",
       "      <th>T_SWPP</th>\n",
       "      <th>T_WC</th>\n",
       "      <th>T_WEP</th>\n",
       "      <th>T_X</th>\n",
       "      <th>Pc_1</th>\n",
       "      <th>Pc_2</th>\n",
       "      <th>Pc_3</th>\n",
       "    </tr>\n",
       "  </thead>\n",
       "  <tbody>\n",
       "    <tr>\n",
       "      <th>0</th>\n",
       "      <td>22</td>\n",
       "      <td>1</td>\n",
       "      <td>0</td>\n",
       "      <td>0</td>\n",
       "      <td>1</td>\n",
       "      <td>0.0</td>\n",
       "      <td>23</td>\n",
       "      <td>1</td>\n",
       "      <td>2</td>\n",
       "      <td>0</td>\n",
       "      <td>...</td>\n",
       "      <td>0</td>\n",
       "      <td>0</td>\n",
       "      <td>0</td>\n",
       "      <td>0</td>\n",
       "      <td>0</td>\n",
       "      <td>0</td>\n",
       "      <td>0</td>\n",
       "      <td>0</td>\n",
       "      <td>0</td>\n",
       "      <td>1</td>\n",
       "    </tr>\n",
       "    <tr>\n",
       "      <th>1</th>\n",
       "      <td>38</td>\n",
       "      <td>4</td>\n",
       "      <td>0</td>\n",
       "      <td>1</td>\n",
       "      <td>1</td>\n",
       "      <td>1.0</td>\n",
       "      <td>51</td>\n",
       "      <td>3</td>\n",
       "      <td>2</td>\n",
       "      <td>0</td>\n",
       "      <td>...</td>\n",
       "      <td>0</td>\n",
       "      <td>0</td>\n",
       "      <td>0</td>\n",
       "      <td>0</td>\n",
       "      <td>0</td>\n",
       "      <td>0</td>\n",
       "      <td>0</td>\n",
       "      <td>1</td>\n",
       "      <td>0</td>\n",
       "      <td>0</td>\n",
       "    </tr>\n",
       "    <tr>\n",
       "      <th>2</th>\n",
       "      <td>26</td>\n",
       "      <td>2</td>\n",
       "      <td>0</td>\n",
       "      <td>1</td>\n",
       "      <td>0</td>\n",
       "      <td>1.0</td>\n",
       "      <td>22</td>\n",
       "      <td>1</td>\n",
       "      <td>1</td>\n",
       "      <td>1</td>\n",
       "      <td>...</td>\n",
       "      <td>0</td>\n",
       "      <td>1</td>\n",
       "      <td>0</td>\n",
       "      <td>0</td>\n",
       "      <td>0</td>\n",
       "      <td>0</td>\n",
       "      <td>0</td>\n",
       "      <td>0</td>\n",
       "      <td>0</td>\n",
       "      <td>1</td>\n",
       "    </tr>\n",
       "    <tr>\n",
       "      <th>3</th>\n",
       "      <td>35</td>\n",
       "      <td>3</td>\n",
       "      <td>0</td>\n",
       "      <td>1</td>\n",
       "      <td>1</td>\n",
       "      <td>1.0</td>\n",
       "      <td>44</td>\n",
       "      <td>3</td>\n",
       "      <td>2</td>\n",
       "      <td>0</td>\n",
       "      <td>...</td>\n",
       "      <td>0</td>\n",
       "      <td>0</td>\n",
       "      <td>0</td>\n",
       "      <td>0</td>\n",
       "      <td>0</td>\n",
       "      <td>0</td>\n",
       "      <td>1</td>\n",
       "      <td>1</td>\n",
       "      <td>0</td>\n",
       "      <td>0</td>\n",
       "    </tr>\n",
       "    <tr>\n",
       "      <th>4</th>\n",
       "      <td>35</td>\n",
       "      <td>2</td>\n",
       "      <td>0</td>\n",
       "      <td>0</td>\n",
       "      <td>0</td>\n",
       "      <td>0.0</td>\n",
       "      <td>24</td>\n",
       "      <td>1</td>\n",
       "      <td>1</td>\n",
       "      <td>1</td>\n",
       "      <td>...</td>\n",
       "      <td>0</td>\n",
       "      <td>0</td>\n",
       "      <td>0</td>\n",
       "      <td>0</td>\n",
       "      <td>0</td>\n",
       "      <td>0</td>\n",
       "      <td>1</td>\n",
       "      <td>0</td>\n",
       "      <td>0</td>\n",
       "      <td>1</td>\n",
       "    </tr>\n",
       "  </tbody>\n",
       "</table>\n",
       "<p>5 rows × 71 columns</p>\n",
       "</div>"
      ],
      "text/plain": [
       "   Age  Fare  Parch  Sex  SibSp  Survived  Name_length  NlengthD  Fsize  \\\n",
       "0   22     1      0    0      1       0.0           23         1      2   \n",
       "1   38     4      0    1      1       1.0           51         3      2   \n",
       "2   26     2      0    1      0       1.0           22         1      1   \n",
       "3   35     3      0    1      1       1.0           44         3      2   \n",
       "4   35     2      0    0      0       0.0           24         1      1   \n",
       "\n",
       "   Single  ...   T_STONO  T_STONO2  T_STONOQ  T_SWPP  T_WC  T_WEP  T_X  Pc_1  \\\n",
       "0       0  ...         0         0         0       0     0      0    0     0   \n",
       "1       0  ...         0         0         0       0     0      0    0     1   \n",
       "2       1  ...         0         1         0       0     0      0    0     0   \n",
       "3       0  ...         0         0         0       0     0      0    1     1   \n",
       "4       1  ...         0         0         0       0     0      0    1     0   \n",
       "\n",
       "   Pc_2  Pc_3  \n",
       "0     0     1  \n",
       "1     0     0  \n",
       "2     0     1  \n",
       "3     0     0  \n",
       "4     0     1  \n",
       "\n",
       "[5 rows x 71 columns]"
      ]
     },
     "execution_count": 367,
     "metadata": {},
     "output_type": "execute_result"
    }
   ],
   "source": [
    "dataset.head()"
   ]
  },
  {
   "cell_type": "code",
   "execution_count": 368,
   "metadata": {},
   "outputs": [
    {
     "data": {
      "text/plain": [
       "Index([u'Age', u'Fare', u'Parch', u'Sex', u'SibSp', u'Survived',\n",
       "       u'Name_length', u'NlengthD', u'Fsize', u'Single', u'SmallF', u'MedF',\n",
       "       u'LargeF', u'Title_0', u'Title_1', u'Title_2', u'Title_3', u'Em_C',\n",
       "       u'Em_Q', u'Em_S', u'Cabin_A', u'Cabin_B', u'Cabin_C', u'Cabin_D',\n",
       "       u'Cabin_E', u'Cabin_F', u'Cabin_G', u'Cabin_T', u'Cabin_X', u'children',\n",
       "       u'old', u'T_A', u'T_A4', u'T_A5', u'T_AQ3', u'T_AQ4', u'T_AS', u'T_C',\n",
       "       u'T_CA', u'T_CASOTON', u'T_FC', u'T_FCC', u'T_Fa', u'T_LINE', u'T_LP',\n",
       "       u'T_PC', u'T_PP', u'T_PPP', u'T_SC', u'T_SCA3', u'T_SCA4', u'T_SCAH',\n",
       "       u'T_SCOW', u'T_SCPARIS', u'T_SCParis', u'T_SOC', u'T_SOP', u'T_SOPP',\n",
       "       u'T_SOTONO2', u'T_SOTONOQ', u'T_SP', u'T_STONO', u'T_STONO2',\n",
       "       u'T_STONOQ', u'T_SWPP', u'T_WC', u'T_WEP', u'T_X', u'Pc_1', u'Pc_2',\n",
       "       u'Pc_3'],\n",
       "      dtype='object')"
      ]
     },
     "execution_count": 368,
     "metadata": {},
     "output_type": "execute_result"
    }
   ],
   "source": [
    "dataset.columns"
   ]
  },
  {
   "cell_type": "code",
   "execution_count": 392,
   "metadata": {
    "_cell_guid": "968cbd7f-80b2-7f8d-2ad6-b68b3aeae671",
    "_uuid": "95fdd1e8cd9f23cfcef3bed92511da084a323c55"
   },
   "outputs": [
    {
     "name": "stdout",
     "output_type": "stream",
     "text": [
      "(881, 20)\n",
      "(881,)\n",
      "(418, 20)\n",
      "(590, 20)\n",
      "(590,)\n",
      "(291, 20)\n",
      "(291,)\n"
     ]
    }
   ],
   "source": [
    "# Create Numpy arrays of train, test and target ( Survived) dataframes to feed into our models\n",
    "importantF = ['Survived','Age', 'Name_length', 'Title_3', 'Sex', 'Title_0', 'Fare', 'Pc_3',\n",
    "       'Fsize', 'NlengthD', 'Cabin_X', 'Pc_1', 'Em_S', 'SibSp', 'MedF',\n",
    "       'Single', 'LargeF', 'Title_1', 'Pc_2', 'T_STONO', 'Parch']\n",
    "'''importantF = ['Survived','Age', 'Name_length', 'Title_3', 'Sex', 'Title_0', 'Fare', 'Pc_3',\n",
    "       'Fsize', 'NlengthD', 'Cabin_X', 'Pc_1', 'Em_S', 'SibSp', 'MedF',\n",
    "       'Single']'''\n",
    "subdataset = dataset[importantF]\n",
    "test = subdataset[train_len:]\n",
    "test.drop(labels=[\"Survived\"],axis = 1,inplace=True)\n",
    "subdataset[:train_len][\"Survived\"] = subdataset[:train_len][\"Survived\"].astype(int)\n",
    "\n",
    "y_train = subdataset[:train_len][\"Survived\"].values.astype(int)\n",
    "x_train = subdataset[:train_len].drop(labels = [\"Survived\"],axis = 1).values\n",
    "\n",
    "xtrain, xtest, ytrain, ytest = train_test_split(x_train, y_train, test_size=0.33, random_state=42)\n",
    "print x_train.shape\n",
    "print y_train.shape\n",
    "print test.shape\n",
    "print xtrain.shape\n",
    "print ytrain.shape\n",
    "print xtest.shape\n",
    "print ytest.shape"
   ]
  },
  {
   "cell_type": "code",
   "execution_count": 398,
   "metadata": {},
   "outputs": [
    {
     "ename": "KeyboardInterrupt",
     "evalue": "",
     "output_type": "error",
     "traceback": [
      "\u001b[0;31m---------------------------------------------------------------------------\u001b[0m",
      "\u001b[0;31mKeyboardInterrupt\u001b[0m                         Traceback (most recent call last)",
      "\u001b[0;32m<ipython-input-398-b9c24f728195>\u001b[0m in \u001b[0;36m<module>\u001b[0;34m()\u001b[0m\n\u001b[1;32m      2\u001b[0m \u001b[0mcv\u001b[0m \u001b[0;34m=\u001b[0m \u001b[0mStratifiedKFold\u001b[0m\u001b[0;34m(\u001b[0m\u001b[0mn_splits\u001b[0m\u001b[0;34m=\u001b[0m\u001b[0;36m10\u001b[0m\u001b[0;34m,\u001b[0m\u001b[0mrandom_state\u001b[0m\u001b[0;34m=\u001b[0m\u001b[0;36m42\u001b[0m\u001b[0;34m)\u001b[0m\u001b[0;34m\u001b[0m\u001b[0m\n\u001b[1;32m      3\u001b[0m \u001b[0mgridsvc2\u001b[0m \u001b[0;34m=\u001b[0m \u001b[0mGridSearchCV\u001b[0m\u001b[0;34m(\u001b[0m\u001b[0mSVC\u001b[0m\u001b[0;34m(\u001b[0m\u001b[0;34m)\u001b[0m\u001b[0;34m,\u001b[0m \u001b[0mparam_grid\u001b[0m\u001b[0;34m=\u001b[0m\u001b[0mparam_grid\u001b[0m\u001b[0;34m,\u001b[0m \u001b[0mcv\u001b[0m\u001b[0;34m=\u001b[0m\u001b[0mcv\u001b[0m\u001b[0;34m,\u001b[0m\u001b[0mn_jobs\u001b[0m\u001b[0;34m=\u001b[0m\u001b[0;34m-\u001b[0m\u001b[0;36m1\u001b[0m\u001b[0;34m)\u001b[0m\u001b[0;34m\u001b[0m\u001b[0m\n\u001b[0;32m----> 4\u001b[0;31m \u001b[0mgridsvc2\u001b[0m\u001b[0;34m.\u001b[0m\u001b[0mfit\u001b[0m\u001b[0;34m(\u001b[0m\u001b[0mx_train\u001b[0m\u001b[0;34m,\u001b[0m \u001b[0my_train\u001b[0m\u001b[0;34m)\u001b[0m\u001b[0;34m\u001b[0m\u001b[0m\n\u001b[0m\u001b[1;32m      5\u001b[0m \u001b[0;32mprint\u001b[0m\u001b[0;34m(\u001b[0m\u001b[0;34m\"The best parameters are %s with a score of %0.8f\"\u001b[0m\u001b[0;34m%\u001b[0m       \u001b[0;34m(\u001b[0m\u001b[0mgridsvc2\u001b[0m\u001b[0;34m.\u001b[0m\u001b[0mbest_params_\u001b[0m\u001b[0;34m,\u001b[0m \u001b[0mgridsvc2\u001b[0m\u001b[0;34m.\u001b[0m\u001b[0mbest_score_\u001b[0m\u001b[0;34m)\u001b[0m\u001b[0;34m)\u001b[0m\u001b[0;34m\u001b[0m\u001b[0m\n\u001b[1;32m      6\u001b[0m \u001b[0;34m\u001b[0m\u001b[0m\n",
      "\u001b[0;32m/home/csc/anaconda2/lib/python2.7/site-packages/sklearn/model_selection/_search.pyc\u001b[0m in \u001b[0;36mfit\u001b[0;34m(self, X, y, groups)\u001b[0m\n\u001b[1;32m    943\u001b[0m             \u001b[0mtrain\u001b[0m\u001b[0;34m/\u001b[0m\u001b[0mtest\u001b[0m \u001b[0mset\u001b[0m\u001b[0;34m.\u001b[0m\u001b[0;34m\u001b[0m\u001b[0m\n\u001b[1;32m    944\u001b[0m         \"\"\"\n\u001b[0;32m--> 945\u001b[0;31m         \u001b[0;32mreturn\u001b[0m \u001b[0mself\u001b[0m\u001b[0;34m.\u001b[0m\u001b[0m_fit\u001b[0m\u001b[0;34m(\u001b[0m\u001b[0mX\u001b[0m\u001b[0;34m,\u001b[0m \u001b[0my\u001b[0m\u001b[0;34m,\u001b[0m \u001b[0mgroups\u001b[0m\u001b[0;34m,\u001b[0m \u001b[0mParameterGrid\u001b[0m\u001b[0;34m(\u001b[0m\u001b[0mself\u001b[0m\u001b[0;34m.\u001b[0m\u001b[0mparam_grid\u001b[0m\u001b[0;34m)\u001b[0m\u001b[0;34m)\u001b[0m\u001b[0;34m\u001b[0m\u001b[0m\n\u001b[0m\u001b[1;32m    946\u001b[0m \u001b[0;34m\u001b[0m\u001b[0m\n\u001b[1;32m    947\u001b[0m \u001b[0;34m\u001b[0m\u001b[0m\n",
      "\u001b[0;32m/home/csc/anaconda2/lib/python2.7/site-packages/sklearn/model_selection/_search.pyc\u001b[0m in \u001b[0;36m_fit\u001b[0;34m(self, X, y, groups, parameter_iterable)\u001b[0m\n\u001b[1;32m    562\u001b[0m                                   \u001b[0mreturn_times\u001b[0m\u001b[0;34m=\u001b[0m\u001b[0mTrue\u001b[0m\u001b[0;34m,\u001b[0m \u001b[0mreturn_parameters\u001b[0m\u001b[0;34m=\u001b[0m\u001b[0mTrue\u001b[0m\u001b[0;34m,\u001b[0m\u001b[0;34m\u001b[0m\u001b[0m\n\u001b[1;32m    563\u001b[0m                                   error_score=self.error_score)\n\u001b[0;32m--> 564\u001b[0;31m           \u001b[0;32mfor\u001b[0m \u001b[0mparameters\u001b[0m \u001b[0;32min\u001b[0m \u001b[0mparameter_iterable\u001b[0m\u001b[0;34m\u001b[0m\u001b[0m\n\u001b[0m\u001b[1;32m    565\u001b[0m           for train, test in cv_iter)\n\u001b[1;32m    566\u001b[0m \u001b[0;34m\u001b[0m\u001b[0m\n",
      "\u001b[0;32m/home/csc/anaconda2/lib/python2.7/site-packages/sklearn/externals/joblib/parallel.pyc\u001b[0m in \u001b[0;36m__call__\u001b[0;34m(self, iterable)\u001b[0m\n\u001b[1;32m    766\u001b[0m                 \u001b[0;31m# consumption.\u001b[0m\u001b[0;34m\u001b[0m\u001b[0;34m\u001b[0m\u001b[0m\n\u001b[1;32m    767\u001b[0m                 \u001b[0mself\u001b[0m\u001b[0;34m.\u001b[0m\u001b[0m_iterating\u001b[0m \u001b[0;34m=\u001b[0m \u001b[0mFalse\u001b[0m\u001b[0;34m\u001b[0m\u001b[0m\n\u001b[0;32m--> 768\u001b[0;31m             \u001b[0mself\u001b[0m\u001b[0;34m.\u001b[0m\u001b[0mretrieve\u001b[0m\u001b[0;34m(\u001b[0m\u001b[0;34m)\u001b[0m\u001b[0;34m\u001b[0m\u001b[0m\n\u001b[0m\u001b[1;32m    769\u001b[0m             \u001b[0;31m# Make sure that we get a last message telling us we are done\u001b[0m\u001b[0;34m\u001b[0m\u001b[0;34m\u001b[0m\u001b[0m\n\u001b[1;32m    770\u001b[0m             \u001b[0melapsed_time\u001b[0m \u001b[0;34m=\u001b[0m \u001b[0mtime\u001b[0m\u001b[0;34m.\u001b[0m\u001b[0mtime\u001b[0m\u001b[0;34m(\u001b[0m\u001b[0;34m)\u001b[0m \u001b[0;34m-\u001b[0m \u001b[0mself\u001b[0m\u001b[0;34m.\u001b[0m\u001b[0m_start_time\u001b[0m\u001b[0;34m\u001b[0m\u001b[0m\n",
      "\u001b[0;32m/home/csc/anaconda2/lib/python2.7/site-packages/sklearn/externals/joblib/parallel.pyc\u001b[0m in \u001b[0;36mretrieve\u001b[0;34m(self)\u001b[0m\n\u001b[1;32m    717\u001b[0m                     \u001b[0mensure_ready\u001b[0m \u001b[0;34m=\u001b[0m \u001b[0mself\u001b[0m\u001b[0;34m.\u001b[0m\u001b[0m_managed_backend\u001b[0m\u001b[0;34m\u001b[0m\u001b[0m\n\u001b[1;32m    718\u001b[0m                     \u001b[0mbackend\u001b[0m\u001b[0;34m.\u001b[0m\u001b[0mabort_everything\u001b[0m\u001b[0;34m(\u001b[0m\u001b[0mensure_ready\u001b[0m\u001b[0;34m=\u001b[0m\u001b[0mensure_ready\u001b[0m\u001b[0;34m)\u001b[0m\u001b[0;34m\u001b[0m\u001b[0m\n\u001b[0;32m--> 719\u001b[0;31m                 \u001b[0;32mraise\u001b[0m \u001b[0mexception\u001b[0m\u001b[0;34m\u001b[0m\u001b[0m\n\u001b[0m\u001b[1;32m    720\u001b[0m \u001b[0;34m\u001b[0m\u001b[0m\n\u001b[1;32m    721\u001b[0m     \u001b[0;32mdef\u001b[0m \u001b[0m__call__\u001b[0m\u001b[0;34m(\u001b[0m\u001b[0mself\u001b[0m\u001b[0;34m,\u001b[0m \u001b[0miterable\u001b[0m\u001b[0;34m)\u001b[0m\u001b[0;34m:\u001b[0m\u001b[0;34m\u001b[0m\u001b[0m\n",
      "\u001b[0;31mKeyboardInterrupt\u001b[0m: "
     ]
    }
   ],
   "source": [
    "param_grid = dict(gamma=np.logspace(-3, 3, 100), C=np.logspace(-3, 3, 100),kernel=['rbf'])\n",
    "cv = StratifiedKFold(n_splits=10,random_state=42)\n",
    "gridsvc2 = GridSearchCV(SVC(), param_grid=param_grid, cv=cv,n_jobs=-1)\n",
    "gridsvc2.fit(x_train, y_train)\n",
    "print(\"The best parameters are %s with a score of %0.8f\"% \\\n",
    "      (gridsvc2.best_params_, gridsvc2.best_score_))\n",
    "\n",
    "#print gridsvc2.cv_results_['param_C']\n",
    "#print gridsvc2.cv_results_['param_gamma']\n",
    "#print gridsvc2.cv_results_['mean_test_score']\n",
    "#sns.barplot(x='param_C',y='mean_test_score',hue='param_gamma',data=gridsvc2.cv_results_)"
   ]
  },
  {
   "cell_type": "code",
   "execution_count": 394,
   "metadata": {},
   "outputs": [
    {
     "name": "stdout",
     "output_type": "stream",
     "text": [
      "Fitting 5 folds for each of 150 candidates, totalling 750 fits\n"
     ]
    },
    {
     "name": "stderr",
     "output_type": "stream",
     "text": [
      "[Parallel(n_jobs=-1)]: Done  42 tasks      | elapsed:   43.1s\n",
      "[Parallel(n_jobs=-1)]: Done 192 tasks      | elapsed:  3.6min\n",
      "[Parallel(n_jobs=-1)]: Done 442 tasks      | elapsed:  8.5min\n",
      "[Parallel(n_jobs=-1)]: Done 750 out of 750 | elapsed: 14.6min finished\n"
     ]
    },
    {
     "name": "stdout",
     "output_type": "stream",
     "text": [
      "Best score: 0.837684449489\n",
      "Best parameters: {'min_samples_split': 10, 'n_estimators': 400, 'criterion': 'entropy', 'min_samples_leaf': 1}\n"
     ]
    }
   ],
   "source": [
    "parameter_grid = {\n",
    "             'max_depth' : [4, 5,6,7, 8,9,10],\n",
    "             'n_estimators': [1000],\n",
    "             'max_features' : ['sqrt', 'log2'],\n",
    "             'min_samples_split': [2, 3, 4,5,6,7,8,9,10],\n",
    "             'min_samples_leaf': [2, 3, 4,5,6,7,8,9,10],\n",
    "             'bootstrap': [True, False],\n",
    "             }\n",
    "rft = RandomForestClassifier(max_features='auto', oob_score=True, random_state=1, n_jobs=-1)\n",
    "parameter_grid = { \"criterion\" : [\"gini\", \"entropy\"], \"min_samples_leaf\" : [1, 5, 10], \n",
    "              \"min_samples_split\" : [2, 4, 10, 12, 16], \n",
    "              \"n_estimators\": [50, 100, 400, 700, 1000]}\n",
    "\n",
    "grid_search = GridSearchCV(estimator=rft,\n",
    "                           scoring='accuracy',\n",
    "                           param_grid=parameter_grid,n_jobs=-1,\n",
    "                           cv=StratifiedKFold(n_splits=5,random_state=42), verbose = 1)\n",
    "\n",
    "grid_search.fit(x_train, y_train)\n",
    "parameters = grid_search.best_params_\n",
    "\n",
    "print('Best score: {}'.format(grid_search.best_score_))\n",
    "print('Best parameters: {}'.format(grid_search.best_params_))"
   ]
  },
  {
   "cell_type": "code",
   "execution_count": 395,
   "metadata": {},
   "outputs": [
    {
     "name": "stdout",
     "output_type": "stream",
     "text": [
      "Fitting 5 folds for each of 56 candidates, totalling 280 fits\n"
     ]
    },
    {
     "name": "stderr",
     "output_type": "stream",
     "text": [
      "[Parallel(n_jobs=-1)]: Done  42 tasks      | elapsed:  1.4min\n",
      "[Parallel(n_jobs=-1)]: Done 192 tasks      | elapsed:  6.4min\n",
      "[Parallel(n_jobs=-1)]: Done 280 out of 280 | elapsed:  9.0min finished\n"
     ]
    },
    {
     "name": "stdout",
     "output_type": "stream",
     "text": [
      "0.805902383655\n",
      "{'n_estimators': 1000, 'base_estimator__criterion': 'entropy', 'learning_rate': 0.3, 'algorithm': 'SAMME.R', 'base_estimator__splitter': 'best'}\n"
     ]
    }
   ],
   "source": [
    "from sklearn.tree import DecisionTreeClassifier\n",
    "adaDTC = AdaBoostClassifier(DecisionTreeClassifier(), random_state=7)\n",
    "ada_param_grid = {\"base_estimator__criterion\" : [\"gini\", \"entropy\"],\n",
    "              \"base_estimator__splitter\" :   [\"best\", \"random\"],\n",
    "              \"algorithm\" : [\"SAMME\",\"SAMME.R\"],\n",
    "              \"n_estimators\" :[50, 100, 400, 700, 1000],\n",
    "              \"learning_rate\":  [0.0001,0.001, 0.01, 0.1, 0.2, 0.3,1.5]}\n",
    "\n",
    "gsadaDTC = GridSearchCV(adaDTC,param_grid = ada_param_grid, \n",
    "                        cv=StratifiedKFold(n_splits=5,random_state=42), \n",
    "                        scoring=\"accuracy\", n_jobs= -1, verbose = 1)\n",
    "\n",
    "gsadaDTC.fit(x_train,y_train)\n",
    "\n",
    "print gsadaDTC.best_score_\n",
    "print gsadaDTC.best_params_"
   ]
  },
  {
   "cell_type": "code",
   "execution_count": 396,
   "metadata": {},
   "outputs": [
    {
     "name": "stdout",
     "output_type": "stream",
     "text": [
      "Fitting 5 folds for each of 900 candidates, totalling 4500 fits\n"
     ]
    },
    {
     "name": "stderr",
     "output_type": "stream",
     "text": [
      "[Parallel(n_jobs=-1)]: Done  42 tasks      | elapsed:  1.5min\n",
      "[Parallel(n_jobs=-1)]: Done 192 tasks      | elapsed:  6.8min\n",
      "[Parallel(n_jobs=-1)]: Done 442 tasks      | elapsed: 15.4min\n",
      "[Parallel(n_jobs=-1)]: Done 792 tasks      | elapsed: 27.7min\n",
      "[Parallel(n_jobs=-1)]: Done 1242 tasks      | elapsed: 43.6min\n",
      "[Parallel(n_jobs=-1)]: Done 1792 tasks      | elapsed: 63.0min\n",
      "[Parallel(n_jobs=-1)]: Done 2442 tasks      | elapsed: 86.5min\n",
      "[Parallel(n_jobs=-1)]: Done 3192 tasks      | elapsed: 113.6min\n",
      "[Parallel(n_jobs=-1)]: Done 4042 tasks      | elapsed: 144.5min\n",
      "[Parallel(n_jobs=-1)]: Done 4500 out of 4500 | elapsed: 161.3min finished\n"
     ]
    },
    {
     "name": "stdout",
     "output_type": "stream",
     "text": [
      "0.83087400681\n",
      "{'bootstrap': False, 'min_samples_leaf': 1, 'n_estimators': 1000, 'min_samples_split': 7, 'criterion': 'gini', 'max_features': 1, 'max_depth': None}\n"
     ]
    }
   ],
   "source": [
    "ExtC = ExtraTreesClassifier()\n",
    "\n",
    "## Search grid for optimal parameters\n",
    "ex_param_grid = {\"max_depth\": [None],\n",
    "              \"max_features\": [1, 2,3,4,5,6,7,8,9, 10],\n",
    "              \"min_samples_split\": [2,3,4,5,6,7,8,9, 10],\n",
    "              \"min_samples_leaf\": [1, 2,3,4,5,6,7,8,9, 10],\n",
    "              \"bootstrap\": [False],\n",
    "              \"n_estimators\" :[50, 100, 400, 700, 1000],\n",
    "              \"criterion\": [\"gini\"]}\n",
    "\n",
    "\n",
    "gsExtC = GridSearchCV(ExtC,param_grid = ex_param_grid, \n",
    "                      cv=StratifiedKFold(n_splits=5,random_state=42), \n",
    "                      scoring=\"accuracy\", n_jobs= -1, verbose = 1)\n",
    "\n",
    "gsExtC.fit(x_train,y_train)\n",
    "\n",
    "\n",
    "# Best score\n",
    "print gsExtC.best_score_\n",
    "print gsExtC.best_params_"
   ]
  },
  {
   "cell_type": "code",
   "execution_count": 397,
   "metadata": {},
   "outputs": [
    {
     "name": "stdout",
     "output_type": "stream",
     "text": [
      "Fitting 5 folds for each of 630 candidates, totalling 3150 fits\n"
     ]
    },
    {
     "name": "stderr",
     "output_type": "stream",
     "text": [
      "[Parallel(n_jobs=-1)]: Done  42 tasks      | elapsed:    8.3s\n",
      "[Parallel(n_jobs=-1)]: Done 192 tasks      | elapsed:   33.8s\n",
      "[Parallel(n_jobs=-1)]: Done 442 tasks      | elapsed:  1.3min\n",
      "[Parallel(n_jobs=-1)]: Done 792 tasks      | elapsed:  2.3min\n",
      "[Parallel(n_jobs=-1)]: Done 1242 tasks      | elapsed:  3.6min\n",
      "[Parallel(n_jobs=-1)]: Done 1792 tasks      | elapsed:  5.2min\n",
      "[Parallel(n_jobs=-1)]: Done 2442 tasks      | elapsed:  7.1min\n",
      "[Parallel(n_jobs=-1)]: Done 3150 out of 3150 | elapsed:  9.2min finished\n"
     ]
    },
    {
     "name": "stdout",
     "output_type": "stream",
     "text": [
      "0.836549375709\n",
      "{'loss': 'deviance', 'learning_rate': 0.1, 'min_samples_leaf': 100, 'n_estimators': 1000, 'max_features': 0.1, 'max_depth': 7}\n"
     ]
    }
   ],
   "source": [
    "GBC = GradientBoostingClassifier()\n",
    "gb_param_grid = {'loss' : [\"deviance\"],\n",
    "              'n_estimators' : [50, 100, 400, 700, 1000],\n",
    "              'learning_rate': [0.0001,0.001, 0.01, 0.1, 0.2, 0.3,1.5],\n",
    "              'max_depth': [4, 5,6,7,8],\n",
    "              'min_samples_leaf': [100,125,150,200,250,300],\n",
    "              'max_features': [0.3, 0.2,0.1] \n",
    "              }\n",
    "\n",
    "gsGBC = GridSearchCV(GBC,param_grid = gb_param_grid, \n",
    "                     cv=StratifiedKFold(n_splits=5,random_state=42), \n",
    "                     scoring=\"accuracy\", n_jobs= -1, verbose = 1)\n",
    "\n",
    "gsGBC.fit(x_train,y_train)\n",
    "\n",
    "\n",
    "print gsGBC.best_score_\n",
    "print gsGBC.best_params_"
   ]
  },
  {
   "cell_type": "code",
   "execution_count": 71,
   "metadata": {},
   "outputs": [
    {
     "name": "stdout",
     "output_type": "stream",
     "text": [
      "[ 0.84180791  0.83615819  0.84180791 ...,  0.83050847  0.83615819\n",
      "  0.83050847]\n",
      "[ 0.81818182  0.81818182  0.81818182 ...,  0.8125      0.8125      0.8125    ]\n",
      "[ 0.8125  0.8125  0.8125 ...,  0.8125  0.8125  0.8125]\n",
      "[ 0.79545455  0.79545455  0.79545455 ...,  0.8125      0.8125      0.80681818]\n",
      "[ 0.83522727  0.84090909  0.84090909 ...,  0.84659091  0.84659091\n",
      "  0.84659091]\n"
     ]
    },
    {
     "data": {
      "text/plain": [
       "array([ 0.82065834,  0.82065834,  0.82179342, ...,  0.82292849,\n",
       "        0.82406356,  0.82179342])"
      ]
     },
     "execution_count": 71,
     "metadata": {},
     "output_type": "execute_result"
    }
   ],
   "source": [
    "for i in range(5):\n",
    "    print grid_search.cv_results_['split%d_test_score' % i]\n",
    "grid_search.cv_results_['mean_test_score']"
   ]
  },
  {
   "cell_type": "code",
   "execution_count": 424,
   "metadata": {
    "_cell_guid": "406d0494-1d0c-3126-19d9-bc53127c4249",
    "_uuid": "46a93dc062e973832cecd50246d0d7581aafb02b",
    "collapsed": true
   },
   "outputs": [],
   "source": [
    "from sklearn.metrics import accuracy_score\n",
    "SEED=42\n",
    "n_splits = 10\n",
    "def get_oof(clf, x_train, y_train, x_test):\n",
    "    oof_train = np.zeros((x_train.shape[0],))\n",
    "    skf = StratifiedKFold(n_splits=n_splits)\n",
    "    skf.get_n_splits(x_train,y_train)\n",
    "    oof_test = np.zeros((x_test.shape[0],))\n",
    "\n",
    "    for train_index, test_index in skf.split(x_train,y_train):\n",
    "        x_tr = x_train[train_index]\n",
    "        y_tr = y_train[train_index]\n",
    "        x_te = x_train[test_index]\n",
    "        clf.fit(x_tr, y_tr)\n",
    "        oof_train[test_index] = clf.predict(x_te)\n",
    "        oof_test += clf.predict(x_test)\n",
    "        \n",
    "\n",
    "    oof_test = oof_test / n_splits\n",
    "    print accuracy_score(y_train,oof_train.reshape(-1))\n",
    "    return oof_train.reshape(-1, 1), oof_test.reshape(-1, 1)"
   ]
  },
  {
   "cell_type": "code",
   "execution_count": 425,
   "metadata": {
    "_cell_guid": "79bd2a86-82e2-648a-e816-9660e89794ad",
    "_uuid": "114750e2d5e4fdd234ccd8647fc349463a56fa09"
   },
   "outputs": [
    {
     "name": "stdout",
     "output_type": "stream",
     "text": [
      "0.829738933031\n"
     ]
    }
   ],
   "source": [
    "et_params = {\n",
    "    'n_jobs': -1,\n",
    "    'n_estimators':500,\n",
    "    #'max_features': 0.5,\n",
    "    'max_depth': 8,\n",
    "    'min_samples_leaf': 2,\n",
    "    'verbose': 0\n",
    "}\n",
    "et_params = {'bootstrap': False, 'min_samples_leaf': 1, 'n_estimators': 1000, \n",
    "             'min_samples_split': 9, 'criterion': 'gini', 'max_features': 2, \n",
    "             'max_depth': None}\n",
    "#0.829738933031\n",
    "\n",
    "et_params = {'bootstrap': False, 'min_samples_leaf': 1, 'n_estimators': 500, \n",
    "             'min_samples_split': 7, 'criterion': 'gini', 'max_features': 1, \n",
    "             'max_depth': None}\n",
    "#0.83087400681\n",
    "et = ExtraTreesClassifier(**et_params)\n",
    "et_oof_train, et_oof_test = get_oof(et,x_train,y_train,test)"
   ]
  },
  {
   "cell_type": "code",
   "execution_count": 426,
   "metadata": {},
   "outputs": [
    {
     "name": "stdout",
     "output_type": "stream",
     "text": [
      "0.850170261067\n"
     ]
    }
   ],
   "source": [
    "rf_params = {'bootstrap': False, 'min_samples_leaf': 2, 'n_estimators': 700, \n",
    "             'min_samples_split': 2, 'max_features': 'sqrt', 'max_depth': 6}\n",
    "rf_params = {'bootstrap': False, 'min_samples_leaf': 2, 'n_estimators': 1000, 'min_samples_split': 2\n",
    "             ,'max_features': 'sqrt', 'max_depth': 6}\n",
    "#82\n",
    "rf_params = {\n",
    "    'n_jobs': -1,\n",
    "    'n_estimators': 500,\n",
    "     'warm_start': True, \n",
    "     #'max_features': 0.2,\n",
    "    'max_depth': 6,\n",
    "    'min_samples_leaf': 2,\n",
    "    'max_features' : 'sqrt',\n",
    "    'verbose': 0\n",
    "}\n",
    "#0.850170261067 \n",
    "rf = RandomForestClassifier(**rf_params)\n",
    "'''rf = RandomForestClassifier(criterion='gini', \n",
    "                             n_estimators=700,\n",
    "                             min_samples_split=16,\n",
    "                             min_samples_leaf=1,\n",
    "                             max_features='auto',\n",
    "                             oob_score=True,\n",
    "                             random_state=1,\n",
    "                             n_jobs=-1)'''\n",
    "rf_oof_train, rf_oof_test = get_oof(rf,x_train,y_train,test)"
   ]
  },
  {
   "cell_type": "code",
   "execution_count": 427,
   "metadata": {},
   "outputs": [
    {
     "name": "stdout",
     "output_type": "stream",
     "text": [
      "0.803632236095\n"
     ]
    }
   ],
   "source": [
    "ada_params = {\n",
    "    'n_estimators': 500,\n",
    "    'learning_rate' : 0.05\n",
    "}\n",
    "ada_params = {'n_estimators': 500, \n",
    "              'learning_rate': 0.3, 'algorithm': 'SAMME.R', \n",
    "              }\n",
    "ada = AdaBoostClassifier(base_estimator=DecisionTreeClassifier(),**ada_params)\n",
    "ada_oof_train, ada_oof_test = get_oof(ada,x_train,y_train,test)"
   ]
  },
  {
   "cell_type": "code",
   "execution_count": 428,
   "metadata": {},
   "outputs": [
    {
     "name": "stdout",
     "output_type": "stream",
     "text": [
      "0.820658342792\n"
     ]
    }
   ],
   "source": [
    "gb_params = {\n",
    "    'n_estimators': 500,\n",
    "     #'max_features': 0.2,\n",
    "    'max_depth': 5,\n",
    "    'min_samples_leaf': 2,\n",
    "    'verbose': 0\n",
    "}\n",
    "gb_params = {'loss': 'deviance', 'learning_rate': 0.1, 'min_samples_leaf': 100,\n",
    "             'n_estimators': 1000, 'max_features': 0.1, 'max_depth': 7}\n",
    "#0.83200908059\n",
    "gb_params = {'loss': 'deviance', 'learning_rate': 0.1, 'min_samples_leaf': 100, \n",
    "             'n_estimators': 500,'max_features': 0.1, 'max_depth': 7}\n",
    "#0.836549375709\n",
    "gb = GradientBoostingClassifier(**gb_params)\n",
    "gb_oof_train, gb_oof_test = get_oof(gb,x_train,y_train,test)"
   ]
  },
  {
   "cell_type": "code",
   "execution_count": 429,
   "metadata": {},
   "outputs": [
    {
     "name": "stdout",
     "output_type": "stream",
     "text": [
      "0.83087400681\n"
     ]
    }
   ],
   "source": [
    "svc_params = {'kernel': 'rbf', 'C': 46.415888336127821, 'gamma': 0.002009233002565048}\n",
    "svc_params = {'kernel': 'rbf', 'C': 13.219411484660288, 'gamma': 0.0030538555088334154}\n",
    "svc_oof_train, svc_oof_test = get_oof(SVC(**svc_params),x_train,y_train,test)"
   ]
  },
  {
   "cell_type": "markdown",
   "metadata": {
    "_cell_guid": "3f292e65-fe8a-d662-6ace-41a19866d671",
    "_uuid": "4cf41b3d9a541c9d39b645a66c8f1116eaf76861"
   },
   "source": [
    "**Feature importances generated from the different classifiers**\n",
    "\n",
    "Now having learned our the first-level classifiers, we can utilise a very nifty feature of the Sklearn models and that is to output the importances of the various features in the training and test sets with one very simple line of code.\n",
    "\n",
    "As per the Sklearn documentation, most of the classifiers are built in with an attribute which returns feature importances by simply typing in **.feature_importances_**. Therefore we will invoke this very useful attribute via our function earliand plot the feature importances as such"
   ]
  },
  {
   "cell_type": "code",
   "execution_count": 310,
   "metadata": {
    "_cell_guid": "ed9cf8b5-95a4-d974-fb11-592214949d1f",
    "_uuid": "b3b0356c8bef0dceb5fcfa7fb7a11359010b2098",
    "collapsed": true
   },
   "outputs": [],
   "source": [
    "rf_features = rf.feature_importances_\n",
    "et_features = et.feature_importances_\n",
    "ada_features = ada.feature_importances_\n",
    "gb_features = gb.feature_importances_"
   ]
  },
  {
   "cell_type": "markdown",
   "metadata": {
    "_cell_guid": "f1be8fbb-34c0-3f92-c7d2-757fceced507",
    "_uuid": "b0c66aa58b45b917157f47c811e7d222513ddb0d"
   },
   "source": [
    "So I have not yet figured out how to assign and store the feature importances outright. Therefore I'll print out the values from the code above and then simply copy and paste into Python lists as below (sorry for the lousy hack)"
   ]
  },
  {
   "cell_type": "markdown",
   "metadata": {
    "_cell_guid": "2a03ad8f-0ea1-5afa-a6e8-56284482c646",
    "_uuid": "d59169f89c5541177f537200a90805420b449001"
   },
   "source": [
    "Create a dataframe from the lists containing the feature importance data for easy plotting via the Plotly package."
   ]
  },
  {
   "cell_type": "code",
   "execution_count": 311,
   "metadata": {
    "_cell_guid": "635a063f-281d-66d4-6572-587ebecd6b4b",
    "_uuid": "6f68b3033a8f185f61d83e80323c2486024f5d4d"
   },
   "outputs": [
    {
     "data": {
      "text/html": [
       "<div>\n",
       "<style>\n",
       "    .dataframe thead tr:only-child th {\n",
       "        text-align: right;\n",
       "    }\n",
       "\n",
       "    .dataframe thead th {\n",
       "        text-align: left;\n",
       "    }\n",
       "\n",
       "    .dataframe tbody tr th {\n",
       "        vertical-align: top;\n",
       "    }\n",
       "</style>\n",
       "<table border=\"1\" class=\"dataframe\">\n",
       "  <thead>\n",
       "    <tr style=\"text-align: right;\">\n",
       "      <th></th>\n",
       "      <th>features</th>\n",
       "      <th>rf</th>\n",
       "      <th>et</th>\n",
       "      <th>ada</th>\n",
       "      <th>gb</th>\n",
       "    </tr>\n",
       "  </thead>\n",
       "  <tbody>\n",
       "    <tr>\n",
       "      <th>0</th>\n",
       "      <td>Age</td>\n",
       "      <td>0.044924</td>\n",
       "      <td>0.033309</td>\n",
       "      <td>0.191</td>\n",
       "      <td>0.159187</td>\n",
       "    </tr>\n",
       "    <tr>\n",
       "      <th>1</th>\n",
       "      <td>Fare</td>\n",
       "      <td>0.056457</td>\n",
       "      <td>0.048970</td>\n",
       "      <td>0.094</td>\n",
       "      <td>0.055692</td>\n",
       "    </tr>\n",
       "    <tr>\n",
       "      <th>2</th>\n",
       "      <td>Parch</td>\n",
       "      <td>0.014990</td>\n",
       "      <td>0.011792</td>\n",
       "      <td>0.000</td>\n",
       "      <td>0.020483</td>\n",
       "    </tr>\n",
       "    <tr>\n",
       "      <th>3</th>\n",
       "      <td>Sex</td>\n",
       "      <td>0.147411</td>\n",
       "      <td>0.136803</td>\n",
       "      <td>0.045</td>\n",
       "      <td>0.037793</td>\n",
       "    </tr>\n",
       "    <tr>\n",
       "      <th>4</th>\n",
       "      <td>SibSp</td>\n",
       "      <td>0.014003</td>\n",
       "      <td>0.013705</td>\n",
       "      <td>0.020</td>\n",
       "      <td>0.025585</td>\n",
       "    </tr>\n",
       "    <tr>\n",
       "      <th>5</th>\n",
       "      <td>Name_length</td>\n",
       "      <td>0.060561</td>\n",
       "      <td>0.050502</td>\n",
       "      <td>0.166</td>\n",
       "      <td>0.119041</td>\n",
       "    </tr>\n",
       "    <tr>\n",
       "      <th>6</th>\n",
       "      <td>NlengthD</td>\n",
       "      <td>0.031705</td>\n",
       "      <td>0.046984</td>\n",
       "      <td>0.003</td>\n",
       "      <td>0.056739</td>\n",
       "    </tr>\n",
       "    <tr>\n",
       "      <th>7</th>\n",
       "      <td>Fsize</td>\n",
       "      <td>0.032750</td>\n",
       "      <td>0.016939</td>\n",
       "      <td>0.063</td>\n",
       "      <td>0.061197</td>\n",
       "    </tr>\n",
       "    <tr>\n",
       "      <th>8</th>\n",
       "      <td>Single</td>\n",
       "      <td>0.013029</td>\n",
       "      <td>0.013214</td>\n",
       "      <td>0.010</td>\n",
       "      <td>0.027612</td>\n",
       "    </tr>\n",
       "    <tr>\n",
       "      <th>9</th>\n",
       "      <td>SmallF</td>\n",
       "      <td>0.007805</td>\n",
       "      <td>0.009493</td>\n",
       "      <td>0.005</td>\n",
       "      <td>0.016465</td>\n",
       "    </tr>\n",
       "    <tr>\n",
       "      <th>10</th>\n",
       "      <td>MedF</td>\n",
       "      <td>0.013394</td>\n",
       "      <td>0.018171</td>\n",
       "      <td>0.000</td>\n",
       "      <td>0.037888</td>\n",
       "    </tr>\n",
       "    <tr>\n",
       "      <th>11</th>\n",
       "      <td>LargeF</td>\n",
       "      <td>0.017382</td>\n",
       "      <td>0.017124</td>\n",
       "      <td>0.022</td>\n",
       "      <td>0.000000</td>\n",
       "    </tr>\n",
       "    <tr>\n",
       "      <th>12</th>\n",
       "      <td>Title_0</td>\n",
       "      <td>0.131544</td>\n",
       "      <td>0.133288</td>\n",
       "      <td>0.000</td>\n",
       "      <td>0.033632</td>\n",
       "    </tr>\n",
       "    <tr>\n",
       "      <th>13</th>\n",
       "      <td>Title_1</td>\n",
       "      <td>0.008575</td>\n",
       "      <td>0.007901</td>\n",
       "      <td>0.033</td>\n",
       "      <td>0.000000</td>\n",
       "    </tr>\n",
       "    <tr>\n",
       "      <th>14</th>\n",
       "      <td>Title_2</td>\n",
       "      <td>0.004598</td>\n",
       "      <td>0.005769</td>\n",
       "      <td>0.016</td>\n",
       "      <td>0.000000</td>\n",
       "    </tr>\n",
       "    <tr>\n",
       "      <th>15</th>\n",
       "      <td>Title_3</td>\n",
       "      <td>0.158246</td>\n",
       "      <td>0.138383</td>\n",
       "      <td>0.032</td>\n",
       "      <td>0.052822</td>\n",
       "    </tr>\n",
       "    <tr>\n",
       "      <th>16</th>\n",
       "      <td>Em_C</td>\n",
       "      <td>0.012937</td>\n",
       "      <td>0.014189</td>\n",
       "      <td>0.004</td>\n",
       "      <td>0.013760</td>\n",
       "    </tr>\n",
       "    <tr>\n",
       "      <th>17</th>\n",
       "      <td>Em_Q</td>\n",
       "      <td>0.002707</td>\n",
       "      <td>0.011350</td>\n",
       "      <td>0.000</td>\n",
       "      <td>0.000000</td>\n",
       "    </tr>\n",
       "    <tr>\n",
       "      <th>18</th>\n",
       "      <td>Em_S</td>\n",
       "      <td>0.010212</td>\n",
       "      <td>0.019456</td>\n",
       "      <td>0.027</td>\n",
       "      <td>0.035021</td>\n",
       "    </tr>\n",
       "    <tr>\n",
       "      <th>19</th>\n",
       "      <td>Cabin_A</td>\n",
       "      <td>0.001703</td>\n",
       "      <td>0.002333</td>\n",
       "      <td>0.000</td>\n",
       "      <td>0.000000</td>\n",
       "    </tr>\n",
       "    <tr>\n",
       "      <th>20</th>\n",
       "      <td>Cabin_B</td>\n",
       "      <td>0.007884</td>\n",
       "      <td>0.009433</td>\n",
       "      <td>0.021</td>\n",
       "      <td>0.000000</td>\n",
       "    </tr>\n",
       "    <tr>\n",
       "      <th>21</th>\n",
       "      <td>Cabin_C</td>\n",
       "      <td>0.005535</td>\n",
       "      <td>0.005323</td>\n",
       "      <td>0.000</td>\n",
       "      <td>0.000000</td>\n",
       "    </tr>\n",
       "    <tr>\n",
       "      <th>22</th>\n",
       "      <td>Cabin_D</td>\n",
       "      <td>0.004288</td>\n",
       "      <td>0.011099</td>\n",
       "      <td>0.022</td>\n",
       "      <td>0.000000</td>\n",
       "    </tr>\n",
       "    <tr>\n",
       "      <th>23</th>\n",
       "      <td>Cabin_E</td>\n",
       "      <td>0.011060</td>\n",
       "      <td>0.008223</td>\n",
       "      <td>0.027</td>\n",
       "      <td>0.000000</td>\n",
       "    </tr>\n",
       "    <tr>\n",
       "      <th>24</th>\n",
       "      <td>Cabin_F</td>\n",
       "      <td>0.000880</td>\n",
       "      <td>0.004207</td>\n",
       "      <td>0.000</td>\n",
       "      <td>0.000000</td>\n",
       "    </tr>\n",
       "    <tr>\n",
       "      <th>25</th>\n",
       "      <td>Cabin_G</td>\n",
       "      <td>0.000488</td>\n",
       "      <td>0.001368</td>\n",
       "      <td>0.014</td>\n",
       "      <td>0.000000</td>\n",
       "    </tr>\n",
       "    <tr>\n",
       "      <th>26</th>\n",
       "      <td>Cabin_T</td>\n",
       "      <td>0.000000</td>\n",
       "      <td>0.000598</td>\n",
       "      <td>0.000</td>\n",
       "      <td>0.000000</td>\n",
       "    </tr>\n",
       "    <tr>\n",
       "      <th>27</th>\n",
       "      <td>Cabin_X</td>\n",
       "      <td>0.042882</td>\n",
       "      <td>0.032224</td>\n",
       "      <td>0.013</td>\n",
       "      <td>0.027665</td>\n",
       "    </tr>\n",
       "    <tr>\n",
       "      <th>28</th>\n",
       "      <td>children</td>\n",
       "      <td>0.008737</td>\n",
       "      <td>0.014937</td>\n",
       "      <td>0.000</td>\n",
       "      <td>0.000000</td>\n",
       "    </tr>\n",
       "    <tr>\n",
       "      <th>29</th>\n",
       "      <td>old</td>\n",
       "      <td>0.000174</td>\n",
       "      <td>0.001802</td>\n",
       "      <td>0.000</td>\n",
       "      <td>0.000000</td>\n",
       "    </tr>\n",
       "    <tr>\n",
       "      <th>...</th>\n",
       "      <td>...</td>\n",
       "      <td>...</td>\n",
       "      <td>...</td>\n",
       "      <td>...</td>\n",
       "      <td>...</td>\n",
       "    </tr>\n",
       "    <tr>\n",
       "      <th>40</th>\n",
       "      <td>T_FCC</td>\n",
       "      <td>0.000601</td>\n",
       "      <td>0.002531</td>\n",
       "      <td>0.012</td>\n",
       "      <td>0.000000</td>\n",
       "    </tr>\n",
       "    <tr>\n",
       "      <th>41</th>\n",
       "      <td>T_Fa</td>\n",
       "      <td>0.000000</td>\n",
       "      <td>0.000218</td>\n",
       "      <td>0.000</td>\n",
       "      <td>0.000000</td>\n",
       "    </tr>\n",
       "    <tr>\n",
       "      <th>42</th>\n",
       "      <td>T_LINE</td>\n",
       "      <td>0.000363</td>\n",
       "      <td>0.000986</td>\n",
       "      <td>0.017</td>\n",
       "      <td>0.000000</td>\n",
       "    </tr>\n",
       "    <tr>\n",
       "      <th>43</th>\n",
       "      <td>T_LP</td>\n",
       "      <td>0.000000</td>\n",
       "      <td>0.000000</td>\n",
       "      <td>0.000</td>\n",
       "      <td>0.000000</td>\n",
       "    </tr>\n",
       "    <tr>\n",
       "      <th>44</th>\n",
       "      <td>T_PC</td>\n",
       "      <td>0.005629</td>\n",
       "      <td>0.008395</td>\n",
       "      <td>0.000</td>\n",
       "      <td>0.000000</td>\n",
       "    </tr>\n",
       "    <tr>\n",
       "      <th>45</th>\n",
       "      <td>T_PP</td>\n",
       "      <td>0.000012</td>\n",
       "      <td>0.000987</td>\n",
       "      <td>0.000</td>\n",
       "      <td>0.000000</td>\n",
       "    </tr>\n",
       "    <tr>\n",
       "      <th>46</th>\n",
       "      <td>T_PPP</td>\n",
       "      <td>0.000000</td>\n",
       "      <td>0.000339</td>\n",
       "      <td>0.000</td>\n",
       "      <td>0.000000</td>\n",
       "    </tr>\n",
       "    <tr>\n",
       "      <th>47</th>\n",
       "      <td>T_SC</td>\n",
       "      <td>0.000000</td>\n",
       "      <td>0.000743</td>\n",
       "      <td>0.000</td>\n",
       "      <td>0.000000</td>\n",
       "    </tr>\n",
       "    <tr>\n",
       "      <th>48</th>\n",
       "      <td>T_SCA3</td>\n",
       "      <td>0.000000</td>\n",
       "      <td>0.000000</td>\n",
       "      <td>0.000</td>\n",
       "      <td>0.000000</td>\n",
       "    </tr>\n",
       "    <tr>\n",
       "      <th>49</th>\n",
       "      <td>T_SCA4</td>\n",
       "      <td>0.000000</td>\n",
       "      <td>0.000263</td>\n",
       "      <td>0.000</td>\n",
       "      <td>0.000000</td>\n",
       "    </tr>\n",
       "    <tr>\n",
       "      <th>50</th>\n",
       "      <td>T_SCAH</td>\n",
       "      <td>0.000019</td>\n",
       "      <td>0.000648</td>\n",
       "      <td>0.000</td>\n",
       "      <td>0.000000</td>\n",
       "    </tr>\n",
       "    <tr>\n",
       "      <th>51</th>\n",
       "      <td>T_SCOW</td>\n",
       "      <td>0.000000</td>\n",
       "      <td>0.000315</td>\n",
       "      <td>0.000</td>\n",
       "      <td>0.000000</td>\n",
       "    </tr>\n",
       "    <tr>\n",
       "      <th>52</th>\n",
       "      <td>T_SCPARIS</td>\n",
       "      <td>0.000707</td>\n",
       "      <td>0.000923</td>\n",
       "      <td>0.000</td>\n",
       "      <td>0.000000</td>\n",
       "    </tr>\n",
       "    <tr>\n",
       "      <th>53</th>\n",
       "      <td>T_SCParis</td>\n",
       "      <td>0.000054</td>\n",
       "      <td>0.000589</td>\n",
       "      <td>0.000</td>\n",
       "      <td>0.000000</td>\n",
       "    </tr>\n",
       "    <tr>\n",
       "      <th>54</th>\n",
       "      <td>T_SOC</td>\n",
       "      <td>0.000270</td>\n",
       "      <td>0.001430</td>\n",
       "      <td>0.011</td>\n",
       "      <td>0.000000</td>\n",
       "    </tr>\n",
       "    <tr>\n",
       "      <th>55</th>\n",
       "      <td>T_SOP</td>\n",
       "      <td>0.000000</td>\n",
       "      <td>0.000403</td>\n",
       "      <td>0.000</td>\n",
       "      <td>0.000000</td>\n",
       "    </tr>\n",
       "    <tr>\n",
       "      <th>56</th>\n",
       "      <td>T_SOPP</td>\n",
       "      <td>0.000043</td>\n",
       "      <td>0.000203</td>\n",
       "      <td>0.000</td>\n",
       "      <td>0.000000</td>\n",
       "    </tr>\n",
       "    <tr>\n",
       "      <th>57</th>\n",
       "      <td>T_SOTONO2</td>\n",
       "      <td>0.000048</td>\n",
       "      <td>0.000000</td>\n",
       "      <td>0.000</td>\n",
       "      <td>0.000000</td>\n",
       "    </tr>\n",
       "    <tr>\n",
       "      <th>58</th>\n",
       "      <td>T_SOTONOQ</td>\n",
       "      <td>0.000387</td>\n",
       "      <td>0.003193</td>\n",
       "      <td>0.000</td>\n",
       "      <td>0.000000</td>\n",
       "    </tr>\n",
       "    <tr>\n",
       "      <th>59</th>\n",
       "      <td>T_SP</td>\n",
       "      <td>0.000000</td>\n",
       "      <td>0.000255</td>\n",
       "      <td>0.000</td>\n",
       "      <td>0.000000</td>\n",
       "    </tr>\n",
       "    <tr>\n",
       "      <th>60</th>\n",
       "      <td>T_STONO</td>\n",
       "      <td>0.004656</td>\n",
       "      <td>0.005446</td>\n",
       "      <td>0.038</td>\n",
       "      <td>0.000000</td>\n",
       "    </tr>\n",
       "    <tr>\n",
       "      <th>61</th>\n",
       "      <td>T_STONO2</td>\n",
       "      <td>0.000522</td>\n",
       "      <td>0.003533</td>\n",
       "      <td>0.008</td>\n",
       "      <td>0.000000</td>\n",
       "    </tr>\n",
       "    <tr>\n",
       "      <th>62</th>\n",
       "      <td>T_STONOQ</td>\n",
       "      <td>0.000000</td>\n",
       "      <td>0.000000</td>\n",
       "      <td>0.000</td>\n",
       "      <td>0.000000</td>\n",
       "    </tr>\n",
       "    <tr>\n",
       "      <th>63</th>\n",
       "      <td>T_SWPP</td>\n",
       "      <td>0.003603</td>\n",
       "      <td>0.007494</td>\n",
       "      <td>0.003</td>\n",
       "      <td>0.000000</td>\n",
       "    </tr>\n",
       "    <tr>\n",
       "      <th>64</th>\n",
       "      <td>T_WC</td>\n",
       "      <td>0.002005</td>\n",
       "      <td>0.002654</td>\n",
       "      <td>0.008</td>\n",
       "      <td>0.000000</td>\n",
       "    </tr>\n",
       "    <tr>\n",
       "      <th>65</th>\n",
       "      <td>T_WEP</td>\n",
       "      <td>0.000145</td>\n",
       "      <td>0.000591</td>\n",
       "      <td>0.000</td>\n",
       "      <td>0.000000</td>\n",
       "    </tr>\n",
       "    <tr>\n",
       "      <th>66</th>\n",
       "      <td>T_X</td>\n",
       "      <td>0.004840</td>\n",
       "      <td>0.011445</td>\n",
       "      <td>0.000</td>\n",
       "      <td>0.023955</td>\n",
       "    </tr>\n",
       "    <tr>\n",
       "      <th>67</th>\n",
       "      <td>Pc_1</td>\n",
       "      <td>0.037204</td>\n",
       "      <td>0.027659</td>\n",
       "      <td>0.017</td>\n",
       "      <td>0.032942</td>\n",
       "    </tr>\n",
       "    <tr>\n",
       "      <th>68</th>\n",
       "      <td>Pc_2</td>\n",
       "      <td>0.014835</td>\n",
       "      <td>0.020932</td>\n",
       "      <td>0.000</td>\n",
       "      <td>0.013408</td>\n",
       "    </tr>\n",
       "    <tr>\n",
       "      <th>69</th>\n",
       "      <td>Pc_3</td>\n",
       "      <td>0.055196</td>\n",
       "      <td>0.044725</td>\n",
       "      <td>0.033</td>\n",
       "      <td>0.053112</td>\n",
       "    </tr>\n",
       "  </tbody>\n",
       "</table>\n",
       "<p>70 rows × 5 columns</p>\n",
       "</div>"
      ],
      "text/plain": [
       "       features        rf        et    ada        gb\n",
       "0           Age  0.044924  0.033309  0.191  0.159187\n",
       "1          Fare  0.056457  0.048970  0.094  0.055692\n",
       "2         Parch  0.014990  0.011792  0.000  0.020483\n",
       "3           Sex  0.147411  0.136803  0.045  0.037793\n",
       "4         SibSp  0.014003  0.013705  0.020  0.025585\n",
       "5   Name_length  0.060561  0.050502  0.166  0.119041\n",
       "6      NlengthD  0.031705  0.046984  0.003  0.056739\n",
       "7         Fsize  0.032750  0.016939  0.063  0.061197\n",
       "8        Single  0.013029  0.013214  0.010  0.027612\n",
       "9        SmallF  0.007805  0.009493  0.005  0.016465\n",
       "10         MedF  0.013394  0.018171  0.000  0.037888\n",
       "11       LargeF  0.017382  0.017124  0.022  0.000000\n",
       "12      Title_0  0.131544  0.133288  0.000  0.033632\n",
       "13      Title_1  0.008575  0.007901  0.033  0.000000\n",
       "14      Title_2  0.004598  0.005769  0.016  0.000000\n",
       "15      Title_3  0.158246  0.138383  0.032  0.052822\n",
       "16         Em_C  0.012937  0.014189  0.004  0.013760\n",
       "17         Em_Q  0.002707  0.011350  0.000  0.000000\n",
       "18         Em_S  0.010212  0.019456  0.027  0.035021\n",
       "19      Cabin_A  0.001703  0.002333  0.000  0.000000\n",
       "20      Cabin_B  0.007884  0.009433  0.021  0.000000\n",
       "21      Cabin_C  0.005535  0.005323  0.000  0.000000\n",
       "22      Cabin_D  0.004288  0.011099  0.022  0.000000\n",
       "23      Cabin_E  0.011060  0.008223  0.027  0.000000\n",
       "24      Cabin_F  0.000880  0.004207  0.000  0.000000\n",
       "25      Cabin_G  0.000488  0.001368  0.014  0.000000\n",
       "26      Cabin_T  0.000000  0.000598  0.000  0.000000\n",
       "27      Cabin_X  0.042882  0.032224  0.013  0.027665\n",
       "28     children  0.008737  0.014937  0.000  0.000000\n",
       "29          old  0.000174  0.001802  0.000  0.000000\n",
       "..          ...       ...       ...    ...       ...\n",
       "40        T_FCC  0.000601  0.002531  0.012  0.000000\n",
       "41         T_Fa  0.000000  0.000218  0.000  0.000000\n",
       "42       T_LINE  0.000363  0.000986  0.017  0.000000\n",
       "43         T_LP  0.000000  0.000000  0.000  0.000000\n",
       "44         T_PC  0.005629  0.008395  0.000  0.000000\n",
       "45         T_PP  0.000012  0.000987  0.000  0.000000\n",
       "46        T_PPP  0.000000  0.000339  0.000  0.000000\n",
       "47         T_SC  0.000000  0.000743  0.000  0.000000\n",
       "48       T_SCA3  0.000000  0.000000  0.000  0.000000\n",
       "49       T_SCA4  0.000000  0.000263  0.000  0.000000\n",
       "50       T_SCAH  0.000019  0.000648  0.000  0.000000\n",
       "51       T_SCOW  0.000000  0.000315  0.000  0.000000\n",
       "52    T_SCPARIS  0.000707  0.000923  0.000  0.000000\n",
       "53    T_SCParis  0.000054  0.000589  0.000  0.000000\n",
       "54        T_SOC  0.000270  0.001430  0.011  0.000000\n",
       "55        T_SOP  0.000000  0.000403  0.000  0.000000\n",
       "56       T_SOPP  0.000043  0.000203  0.000  0.000000\n",
       "57    T_SOTONO2  0.000048  0.000000  0.000  0.000000\n",
       "58    T_SOTONOQ  0.000387  0.003193  0.000  0.000000\n",
       "59         T_SP  0.000000  0.000255  0.000  0.000000\n",
       "60      T_STONO  0.004656  0.005446  0.038  0.000000\n",
       "61     T_STONO2  0.000522  0.003533  0.008  0.000000\n",
       "62     T_STONOQ  0.000000  0.000000  0.000  0.000000\n",
       "63       T_SWPP  0.003603  0.007494  0.003  0.000000\n",
       "64         T_WC  0.002005  0.002654  0.008  0.000000\n",
       "65        T_WEP  0.000145  0.000591  0.000  0.000000\n",
       "66          T_X  0.004840  0.011445  0.000  0.023955\n",
       "67         Pc_1  0.037204  0.027659  0.017  0.032942\n",
       "68         Pc_2  0.014835  0.020932  0.000  0.013408\n",
       "69         Pc_3  0.055196  0.044725  0.033  0.053112\n",
       "\n",
       "[70 rows x 5 columns]"
      ]
     },
     "execution_count": 311,
     "metadata": {},
     "output_type": "execute_result"
    }
   ],
   "source": [
    "cols = dataset[:train_len].drop(labels = [\"Survived\"],axis = 1).columns.values\n",
    "# Create a dataframe with features\n",
    "feature_dataframe = pd.DataFrame( {'features': cols,\n",
    "     'rf': rf_features,\n",
    "     'et': et_features,\n",
    "      'ada': ada_features,\n",
    "    'gb': gb_features\n",
    "    })\n",
    "feature_dataframe = feature_dataframe[['features','rf','et','ada','gb']]\n",
    "feature_dataframe"
   ]
  },
  {
   "cell_type": "markdown",
   "metadata": {
    "_cell_guid": "06b9f410-f93e-0206-b029-24df035eea2b",
    "_uuid": "7e25675f239b0ab008e0264917abff497795681a"
   },
   "source": [
    "**Interactive feature importances via Plotly scatterplots**\n",
    "\n",
    "I'll use the interactive Plotly package at this juncture to visualise the feature importances values of the different classifiers "
   ]
  },
  {
   "cell_type": "markdown",
   "metadata": {
    "_cell_guid": "553828f0-c994-5ee1-695f-9373f11a1a7b",
    "_uuid": "9d7b8fdd0c3102d7e3ddcffaf26ce19b02e5ad74"
   },
   "source": [
    "Now let us calculate the mean of all the feature importances and store it as a new column in the feature importance dataframe"
   ]
  },
  {
   "cell_type": "code",
   "execution_count": 312,
   "metadata": {
    "_cell_guid": "06847850-a829-0858-b12c-7b66e53e030a",
    "_uuid": "f611812e2c9de3773df2264dfb2b13c0995807ac"
   },
   "outputs": [
    {
     "name": "stdout",
     "output_type": "stream",
     "text": [
      "       features        rf        et    ada        gb      mean\n",
      "0           Age  0.044924  0.033309  0.191  0.159187  0.107105\n",
      "5   Name_length  0.060561  0.050502  0.166  0.119041  0.099026\n",
      "15      Title_3  0.158246  0.138383  0.032  0.052822  0.095363\n",
      "3           Sex  0.147411  0.136803  0.045  0.037793  0.091752\n",
      "12      Title_0  0.131544  0.133288  0.000  0.033632  0.074616\n",
      "1          Fare  0.056457  0.048970  0.094  0.055692  0.063780\n",
      "69         Pc_3  0.055196  0.044725  0.033  0.053112  0.046508\n",
      "7         Fsize  0.032750  0.016939  0.063  0.061197  0.043471\n",
      "6      NlengthD  0.031705  0.046984  0.003  0.056739  0.034607\n",
      "27      Cabin_X  0.042882  0.032224  0.013  0.027665  0.028943\n",
      "67         Pc_1  0.037204  0.027659  0.017  0.032942  0.028701\n",
      "18         Em_S  0.010212  0.019456  0.027  0.035021  0.022922\n",
      "4         SibSp  0.014003  0.013705  0.020  0.025585  0.018323\n",
      "10         MedF  0.013394  0.018171  0.000  0.037888  0.017363\n",
      "8        Single  0.013029  0.013214  0.010  0.027612  0.015964\n",
      "11       LargeF  0.017382  0.017124  0.022  0.000000  0.014126\n",
      "13      Title_1  0.008575  0.007901  0.033  0.000000  0.012369\n",
      "68         Pc_2  0.014835  0.020932  0.000  0.013408  0.012294\n",
      "60      T_STONO  0.004656  0.005446  0.038  0.000000  0.012026\n",
      "2         Parch  0.014990  0.011792  0.000  0.020483  0.011816\n"
     ]
    },
    {
     "data": {
      "text/plain": [
       "array(['Age', 'Name_length', 'Title_3', 'Sex', 'Title_0', 'Fare', 'Pc_3',\n",
       "       'Fsize', 'NlengthD', 'Cabin_X', 'Pc_1', 'Em_S', 'SibSp', 'MedF',\n",
       "       'Single', 'LargeF', 'Title_1', 'Pc_2', 'T_STONO', 'Parch'], dtype=object)"
      ]
     },
     "execution_count": 312,
     "metadata": {},
     "output_type": "execute_result"
    }
   ],
   "source": [
    "# Create the new column containing the average of values\n",
    "\n",
    "feature_dataframe['mean'] = feature_dataframe.mean(axis= 1)\n",
    "feature_dataframe.sort_values('et',ascending=False)\n",
    "important = feature_dataframe.sort_values('mean',ascending=False)[:20]\n",
    "print important\n",
    "important['features'].values"
   ]
  },
  {
   "cell_type": "code",
   "execution_count": 313,
   "metadata": {},
   "outputs": [
    {
     "data": {
      "image/png": "[encoded data removed]",
      "text/plain": [
       "<matplotlib.figure.Figure at 0x7ff6c2f08a50>"
      ]
     },
     "metadata": {},
     "output_type": "display_data"
    }
   ],
   "source": [
    "_,ax=plt.subplots(4,1,figsize=(30,30))\n",
    "for i,classify in enumerate(important.columns.values[1:5:]):\n",
    "    sns.barplot(y='features',x=classify,data=important,ax=ax[i])"
   ]
  },
  {
   "cell_type": "markdown",
   "metadata": {
    "_cell_guid": "c1201ecc-b07d-f8a1-0870-b8d78c89ebc0",
    "_uuid": "bbb76d189e8d03921caaacfa9545cef894348c7d"
   },
   "source": [
    "# Second-Level Predictions from the First-level Output"
   ]
  },
  {
   "cell_type": "markdown",
   "metadata": {
    "_cell_guid": "6b901750-ccdd-38ca-d8ea-1c361121ec4f",
    "_uuid": "fed132782b73dda8d265065867e7f57c0aed7f50"
   },
   "source": [
    "**First-level output as new features**\n",
    "\n",
    "Having now obtained our first-level predictions, one can think of it as essentially building a new set of features to be used as training data for the next classifier. As per the code below, we are therefore having as our new columns the first-level predictions from our earlier classifiers and we train the next classifier on this."
   ]
  },
  {
   "cell_type": "code",
   "execution_count": 306,
   "metadata": {
    "_cell_guid": "7330a71c-0b71-87c2-1f4d-dd0f6d6fa586",
    "_uuid": "a5945e93337b87a1a8ee5580856768bbb14c07cd"
   },
   "outputs": [
    {
     "data": {
      "text/html": [
       "<div>\n",
       "<style>\n",
       "    .dataframe thead tr:only-child th {\n",
       "        text-align: right;\n",
       "    }\n",
       "\n",
       "    .dataframe thead th {\n",
       "        text-align: left;\n",
       "    }\n",
       "\n",
       "    .dataframe tbody tr th {\n",
       "        vertical-align: top;\n",
       "    }\n",
       "</style>\n",
       "<table border=\"1\" class=\"dataframe\">\n",
       "  <thead>\n",
       "    <tr style=\"text-align: right;\">\n",
       "      <th></th>\n",
       "      <th>AdaBoost</th>\n",
       "      <th>ExtraTrees</th>\n",
       "      <th>GradientBoost</th>\n",
       "      <th>RandomForest</th>\n",
       "    </tr>\n",
       "  </thead>\n",
       "  <tbody>\n",
       "    <tr>\n",
       "      <th>0</th>\n",
       "      <td>0.0</td>\n",
       "      <td>0.0</td>\n",
       "      <td>0.0</td>\n",
       "      <td>0.0</td>\n",
       "    </tr>\n",
       "    <tr>\n",
       "      <th>1</th>\n",
       "      <td>1.0</td>\n",
       "      <td>1.0</td>\n",
       "      <td>1.0</td>\n",
       "      <td>1.0</td>\n",
       "    </tr>\n",
       "    <tr>\n",
       "      <th>2</th>\n",
       "      <td>1.0</td>\n",
       "      <td>1.0</td>\n",
       "      <td>1.0</td>\n",
       "      <td>1.0</td>\n",
       "    </tr>\n",
       "    <tr>\n",
       "      <th>3</th>\n",
       "      <td>1.0</td>\n",
       "      <td>1.0</td>\n",
       "      <td>1.0</td>\n",
       "      <td>1.0</td>\n",
       "    </tr>\n",
       "    <tr>\n",
       "      <th>4</th>\n",
       "      <td>0.0</td>\n",
       "      <td>0.0</td>\n",
       "      <td>0.0</td>\n",
       "      <td>0.0</td>\n",
       "    </tr>\n",
       "  </tbody>\n",
       "</table>\n",
       "</div>"
      ],
      "text/plain": [
       "   AdaBoost  ExtraTrees  GradientBoost  RandomForest\n",
       "0       0.0         0.0            0.0           0.0\n",
       "1       1.0         1.0            1.0           1.0\n",
       "2       1.0         1.0            1.0           1.0\n",
       "3       1.0         1.0            1.0           1.0\n",
       "4       0.0         0.0            0.0           0.0"
      ]
     },
     "execution_count": 306,
     "metadata": {},
     "output_type": "execute_result"
    }
   ],
   "source": [
    "base_predictions_train = pd.DataFrame( {'RandomForest': rf_oof_train.ravel(),\n",
    "     'ExtraTrees': et_oof_train.ravel(),\n",
    "     'AdaBoost': ada_oof_train.ravel(),\n",
    "      'GradientBoost': gb_oof_train.ravel()\n",
    "    })\n",
    "base_predictions_train.head()"
   ]
  },
  {
   "cell_type": "markdown",
   "metadata": {
    "_cell_guid": "f69c11db-d84e-8536-4c7e-382fbe67483e",
    "_uuid": "2a6f987bd9b8ffc32a72e21cb8c43a6bc43ba200"
   },
   "source": [
    "**Correlation Heatmap of the Second Level Training set**"
   ]
  },
  {
   "cell_type": "markdown",
   "metadata": {
    "_cell_guid": "4d6b61c0-5d72-b02a-3b37-cbf6518d71b6",
    "_uuid": "4d9ef0298b568e43da6925f385403e0d77bd6e33"
   },
   "source": [
    "There have been quite a few articles and Kaggle competition winner stories about the merits of having trained models that are more uncorrelated with one another producing better scores."
   ]
  },
  {
   "cell_type": "code",
   "execution_count": 430,
   "metadata": {
    "_cell_guid": "6685fa11-497f-3fc2-ab1f-97f92d6eca61",
    "_uuid": "fef365199854ca3fff754399b4699d941b7e43b8"
   },
   "outputs": [
    {
     "name": "stdout",
     "output_type": "stream",
     "text": [
      "(881, 1)\n",
      "(881, 5)\n",
      "(418, 5)\n"
     ]
    }
   ],
   "source": [
    "print et_oof_train.shape\n",
    "x_train_stack = np.concatenate(( et_oof_train, rf_oof_train,gb_oof_train,ada_oof_train,svc_oof_train), axis=1)\n",
    "x_test_stack = np.concatenate(( et_oof_test, rf_oof_test, gb_oof_test,ada_oof_test,svc_oof_test), axis=1)\n",
    "print x_train_stack.shape\n",
    "print x_test_stack.shape"
   ]
  },
  {
   "cell_type": "markdown",
   "metadata": {
    "_cell_guid": "628a03ea-933c-7075-a589-0ff7af237dfd",
    "_uuid": "dc4a32e9a8e7c9e611124cba676e5d28240b38be"
   },
   "source": [
    "### Second level learning model via XGBoost\n",
    "\n",
    "Here we choose the eXtremely famous library for boosted tree learning model, XGBoost. It was built to optimize large-scale boosted tree algorithms. For further information about the algorithm, check out the [official documentation][1].\n",
    "\n",
    "  [1]: https://xgboost.readthedocs.io/en/latest/\n",
    "\n",
    "Anyways, we call an XGBClassifier and fit it to the first-level train and target data and use the learned model to predict the test data as follows:"
   ]
  },
  {
   "cell_type": "code",
   "execution_count": 432,
   "metadata": {
    "_cell_guid": "3a7c7517-b9a3-3a21-3a7b-299ca37c6843",
    "_uuid": "5155d370069fe6de0fe5105309342ce55130dae8"
   },
   "outputs": [
    {
     "name": "stdout",
     "output_type": "stream",
     "text": [
      "0.861520998865\n"
     ]
    }
   ],
   "source": [
    "gbm = xgb.XGBClassifier(\n",
    " learning_rate = 0.02,\n",
    " n_estimators= 2000,\n",
    " max_depth= 4,\n",
    " min_child_weight= 2,\n",
    " #gamma=1,\n",
    " gamma=0.9,                        \n",
    " subsample=0.8,\n",
    " colsample_bytree=0.8,\n",
    " objective= 'binary:logistic',\n",
    " nthread= -1,\n",
    " scale_pos_weight=1).fit(x_train_stack, y_train)\n",
    "print accuracy_score(gbm.predict(x_train_stack),y_train)\n",
    "predictions = gbm.predict(x_test_stack)"
   ]
  },
  {
   "cell_type": "code",
   "execution_count": null,
   "metadata": {},
   "outputs": [],
   "source": [
    "print accuracy_score(ytest,predictions)"
   ]
  },
  {
   "cell_type": "markdown",
   "metadata": {
    "_cell_guid": "0a8152d8-6842-ed00-6bc5-47a511adce1c",
    "_uuid": "0101e6b843f6378838874ccfb844ed464b81d627"
   },
   "source": [
    "Just a quick run down of the XGBoost parameters used in the model:\n",
    "\n",
    "**max_depth** : How deep you want to grow your tree. Beware if set to too high a number might run the risk of overfitting.\n",
    "\n",
    "**gamma** : minimum loss reduction required to make a further partition on a leaf node of the tree. The larger, the more conservative the algorithm will be.\n",
    "\n",
    "**eta** : step size shrinkage used in each boosting step to prevent overfitting"
   ]
  },
  {
   "cell_type": "markdown",
   "metadata": {
    "_cell_guid": "6b4a5c81-e968-d41e-27e4-871481019867",
    "_uuid": "52ac0cd99cee0099d86a180127da42ff7fff960a"
   },
   "source": [
    "**Producing the Submission file**\n",
    "\n",
    "Finally having trained and fit all our first-level and second-level models, we can now output the predictions into the proper format for submission to the Titanic competition as follows:"
   ]
  },
  {
   "cell_type": "code",
   "execution_count": 441,
   "metadata": {
    "_cell_guid": "f5a31787-5fe1-a559-bee9-ad6b6d83ae14",
    "_uuid": "9d607d829dbadd6c72ee01c9735a642435eb53e6"
   },
   "outputs": [],
   "source": [
    "# Generate Submission File \n",
    "'''StackingSubmission = pd.DataFrame({ 'PassengerId': PassengerId,\n",
    "                            'Survived': predictions })'''\n",
    "StackingSubmission = pd.DataFrame({ 'PassengerId': PassengerId,\n",
    "                            'Survived': rf_oof_test.reshape(-1).astype(int)})\n",
    "\n",
    "StackingSubmission.to_csv(\"titanic.csv\", index=False)"
   ]
  },
  {
   "cell_type": "markdown",
   "metadata": {
    "_cell_guid": "1e56c738-b8f3-95e4-d642-c483f9757ed8",
    "_uuid": "9db5fd7cbb0d406ab0ef9aa08cf56532c51ec8b5"
   },
   "source": [
    "**Steps for Further Improvement**\n",
    "\n",
    "As a closing remark it must be noted that the steps taken above just show a very simple way of producing an ensemble stacker. You hear of ensembles created at the highest level of Kaggle competitions which involves monstrous combinations of stacked classifiers as well as levels of stacking which go to more than 2 levels. \n",
    "\n",
    "Some additional steps that may be taken to improve one's score could be:\n",
    "\n",
    " 1. Implementing a good cross-validation strategy in training the models to find optimal parameter values\n",
    " 2. Introduce a greater variety of base models for learning. The more uncorrelated the results, the better the final score."
   ]
  }
 ],
 "metadata": {
  "_change_revision": 0,
  "_is_fork": false,
  "kernelspec": {
   "display_name": "Python 2",
   "language": "python",
   "name": "python2"
  },
  "language_info": {
   "codemirror_mode": {
    "name": "ipython",
    "version": 2
   },
   "file_extension": ".py",
   "mimetype": "text/x-python",
   "name": "python",
   "nbconvert_exporter": "python",
   "pygments_lexer": "ipython2",
   "version": "2.7.13"
  }
 },
 "nbformat": 4,
 "nbformat_minor": 1
}
