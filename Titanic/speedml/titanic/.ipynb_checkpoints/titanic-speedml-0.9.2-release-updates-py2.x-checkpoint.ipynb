{
 "cells": [
  {
   "cell_type": "code",
   "execution_count": 1,
   "metadata": {
    "ExecuteTime": {
     "end_time": "2017-05-12T15:02:30.080157",
     "start_time": "2017-05-12T15:02:19.455146"
    },
    "collapsed": false
   },
   "outputs": [],
   "source": [
    "from speedml import Speedml"
   ]
  },
  {
   "cell_type": "code",
   "execution_count": 2,
   "metadata": {
    "ExecuteTime": {
     "end_time": "2017-05-12T15:02:30.212847",
     "start_time": "2017-05-12T15:02:30.082684"
    },
    "collapsed": false
   },
   "outputs": [],
   "source": [
    "sml = Speedml('../input/titanic/train.csv', '../input/titanic/test.csv', \n",
    "              target='Survived', uid='PassengerId')"
   ]
  },
  {
   "cell_type": "code",
   "execution_count": 3,
   "metadata": {
    "ExecuteTime": {
     "end_time": "2017-05-12T15:02:30.258324",
     "start_time": "2017-05-12T15:02:30.214886"
    },
    "collapsed": false
   },
   "outputs": [
    {
     "data": {
      "text/html": [
       "<div>\n",
       "<table border=\"1\" class=\"dataframe\">\n",
       "  <thead>\n",
       "    <tr style=\"text-align: right;\">\n",
       "      <th></th>\n",
       "      <th>Results</th>\n",
       "      <th>Observations</th>\n",
       "    </tr>\n",
       "  </thead>\n",
       "  <tbody>\n",
       "    <tr>\n",
       "      <th>Speedml Release</th>\n",
       "      <td>v0.9.2</td>\n",
       "      <td>Visit https://speedml.com for release notes.</td>\n",
       "    </tr>\n",
       "    <tr>\n",
       "      <th>Null Values</th>\n",
       "      <td>1014</td>\n",
       "      <td>Aim for zero nulls.</td>\n",
       "    </tr>\n",
       "    <tr>\n",
       "      <th>#Samples Train</th>\n",
       "      <td>891</td>\n",
       "      <td>Much larger than #Features to avoid over-fitting.</td>\n",
       "    </tr>\n",
       "    <tr>\n",
       "      <th>#Samples Test</th>\n",
       "      <td>418</td>\n",
       "      <td>Cannot drop Test samples.</td>\n",
       "    </tr>\n",
       "    <tr>\n",
       "      <th>#Features</th>\n",
       "      <td>11</td>\n",
       "      <td>Compare with n=count during feature selection.</td>\n",
       "    </tr>\n",
       "    <tr>\n",
       "      <th>Numerical over Text</th>\n",
       "      <td>54%</td>\n",
       "      <td>Aim for 100% numerical.</td>\n",
       "    </tr>\n",
       "    <tr>\n",
       "      <th>Numerical High-cardinality</th>\n",
       "      <td>[(Age, 88), (Fare, 248)]</td>\n",
       "      <td>(&gt;10) categories. Engineer with density method.</td>\n",
       "    </tr>\n",
       "    <tr>\n",
       "      <th>Numerical Categorical</th>\n",
       "      <td>[(Survived, 2), (Pclass, 3), (SibSp, 7), (Parc...</td>\n",
       "      <td>Violin plots for outliers.</td>\n",
       "    </tr>\n",
       "    <tr>\n",
       "      <th>Numerical Continuous</th>\n",
       "      <td>[]</td>\n",
       "      <td>~90% unique. Scatter plots for outliers.</td>\n",
       "    </tr>\n",
       "    <tr>\n",
       "      <th>Text High-cardinality</th>\n",
       "      <td>[(Ticket, 681), (Cabin, 147)]</td>\n",
       "      <td>(&gt;10) categories. Labels to numeric.</td>\n",
       "    </tr>\n",
       "    <tr>\n",
       "      <th>Text Categorical</th>\n",
       "      <td>[(Sex, 2), (Embarked, 3)]</td>\n",
       "      <td>Mapping or Labels to numeric.</td>\n",
       "    </tr>\n",
       "    <tr>\n",
       "      <th>Text Unique</th>\n",
       "      <td>[(Name, 891)]</td>\n",
       "      <td>~90% unique. Extract or drop.</td>\n",
       "    </tr>\n",
       "    <tr>\n",
       "      <th>Target Analysis (Survived)</th>\n",
       "      <td>Model ready.</td>\n",
       "      <td>Use classification models.</td>\n",
       "    </tr>\n",
       "  </tbody>\n",
       "</table>\n",
       "</div>"
      ],
      "text/plain": [
       "                                                                      Results  \\\n",
       "Speedml Release                                                        v0.9.2   \n",
       "Null Values                                                              1014   \n",
       "#Samples Train                                                            891   \n",
       "#Samples Test                                                             418   \n",
       "#Features                                                                  11   \n",
       "Numerical over Text                                                       54%   \n",
       "Numerical High-cardinality                           [(Age, 88), (Fare, 248)]   \n",
       "Numerical Categorical       [(Survived, 2), (Pclass, 3), (SibSp, 7), (Parc...   \n",
       "Numerical Continuous                                                       []   \n",
       "Text High-cardinality                           [(Ticket, 681), (Cabin, 147)]   \n",
       "Text Categorical                                    [(Sex, 2), (Embarked, 3)]   \n",
       "Text Unique                                                     [(Name, 891)]   \n",
       "Target Analysis (Survived)                                       Model ready.   \n",
       "\n",
       "                                                                 Observations  \n",
       "Speedml Release                  Visit https://speedml.com for release notes.  \n",
       "Null Values                                               Aim for zero nulls.  \n",
       "#Samples Train              Much larger than #Features to avoid over-fitting.  \n",
       "#Samples Test                                       Cannot drop Test samples.  \n",
       "#Features                      Compare with n=count during feature selection.  \n",
       "Numerical over Text                                   Aim for 100% numerical.  \n",
       "Numerical High-cardinality    (>10) categories. Engineer with density method.  \n",
       "Numerical Categorical                              Violin plots for outliers.  \n",
       "Numerical Continuous                 ~90% unique. Scatter plots for outliers.  \n",
       "Text High-cardinality                    (>10) categories. Labels to numeric.  \n",
       "Text Categorical                                Mapping or Labels to numeric.  \n",
       "Text Unique                                     ~90% unique. Extract or drop.  \n",
       "Target Analysis (Survived)                         Use classification models.  "
      ]
     },
     "execution_count": 3,
     "metadata": {},
     "output_type": "execute_result"
    }
   ],
   "source": [
    "sml.eda()"
   ]
  },
  {
   "cell_type": "code",
   "execution_count": 4,
   "metadata": {
    "ExecuteTime": {
     "end_time": "2017-05-12T15:02:30.285072",
     "start_time": "2017-05-12T15:02:30.260227"
    },
    "collapsed": false
   },
   "outputs": [
    {
     "data": {
      "text/plain": [
       "[('Survived', 2), ('Pclass', 3), ('SibSp', 7), ('Parch', 7)]"
      ]
     },
     "execution_count": 4,
     "metadata": {},
     "output_type": "execute_result"
    }
   ],
   "source": [
    "sml.eda().get_value('Numerical Categorical', 'Results')"
   ]
  },
  {
   "cell_type": "code",
   "execution_count": 5,
   "metadata": {
    "ExecuteTime": {
     "end_time": "2017-05-12T15:02:30.293080",
     "start_time": "2017-05-12T15:02:30.287755"
    },
    "collapsed": false
   },
   "outputs": [
    {
     "name": "stdout",
     "output_type": "stream",
     "text": [
      "Shape: train (891, 11) test (418, 10)\n",
      "Numerical: train_n (6) test_n (5)\n"
     ]
    }
   ],
   "source": [
    "sml.shape()"
   ]
  },
  {
   "cell_type": "code",
   "execution_count": 6,
   "metadata": {
    "ExecuteTime": {
     "end_time": "2017-05-12T15:02:30.317952",
     "start_time": "2017-05-12T15:02:30.296234"
    },
    "collapsed": false
   },
   "outputs": [
    {
     "name": "stdout",
     "output_type": "stream",
     "text": [
      "<class 'pandas.core.frame.DataFrame'>\n",
      "RangeIndex: 891 entries, 0 to 890\n",
      "Data columns (total 11 columns):\n",
      "Survived    891 non-null int64\n",
      "Pclass      891 non-null int64\n",
      "Name        891 non-null object\n",
      "Sex         891 non-null object\n",
      "Age         714 non-null float64\n",
      "SibSp       891 non-null int64\n",
      "Parch       891 non-null int64\n",
      "Ticket      891 non-null object\n",
      "Fare        891 non-null float64\n",
      "Cabin       204 non-null object\n",
      "Embarked    889 non-null object\n",
      "dtypes: float64(2), int64(4), object(5)\n",
      "memory usage: 76.6+ KB\n",
      "----------------------------------------\n",
      "<class 'pandas.core.frame.DataFrame'>\n",
      "RangeIndex: 418 entries, 0 to 417\n",
      "Data columns (total 10 columns):\n",
      "Pclass      418 non-null int64\n",
      "Name        418 non-null object\n",
      "Sex         418 non-null object\n",
      "Age         332 non-null float64\n",
      "SibSp       418 non-null int64\n",
      "Parch       418 non-null int64\n",
      "Ticket      418 non-null object\n",
      "Fare        417 non-null float64\n",
      "Cabin       91 non-null object\n",
      "Embarked    418 non-null object\n",
      "dtypes: float64(2), int64(3), object(5)\n",
      "memory usage: 32.7+ KB\n"
     ]
    }
   ],
   "source": [
    "sml.info()"
   ]
  },
  {
   "cell_type": "code",
   "execution_count": 7,
   "metadata": {
    "ExecuteTime": {
     "end_time": "2017-05-12T15:02:30.810961",
     "start_time": "2017-05-12T15:02:30.320845"
    },
    "collapsed": false
   },
   "outputs": [
    {
     "data": {
      "image/png": "[encoded data removed]",
      "text/plain": [
       "<matplotlib.figure.Figure at 0x11020aad0>"
      ]
     },
     "metadata": {},
     "output_type": "display_data"
    },
    {
     "data": {
      "text/plain": [
       "u'Fixed 6 or 0.67% upper outliers. '"
      ]
     },
     "execution_count": 7,
     "metadata": {},
     "output_type": "execute_result"
    },
    {
     "data": {
      "image/png": "[encoded data removed]",
      "text/plain": [
       "<matplotlib.figure.Figure at 0x11aa129d0>"
      ]
     },
     "metadata": {},
     "output_type": "display_data"
    }
   ],
   "source": [
    "sml.plot.ordinal('Parch')\n",
    "sml.feature.outliers('Parch', upper=99)\n",
    "sml.plot.ordinal('Parch')"
   ]
  }
 ],
 "metadata": {
  "hide_input": false,
  "kernelspec": {
   "display_name": "Python 2",
   "language": "python",
   "name": "python2"
  },
  "language_info": {
   "codemirror_mode": {
    "name": "ipython",
    "version": 2
   },
   "file_extension": ".py",
   "mimetype": "text/x-python",
   "name": "python",
   "nbconvert_exporter": "python",
   "pygments_lexer": "ipython2",
   "version": "2.7.13"
  }
 },
 "nbformat": 4,
 "nbformat_minor": 2
}
